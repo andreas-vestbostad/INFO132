{
 "cells": [
  {
   "cell_type": "markdown",
   "metadata": {},
   "source": [
    "# Oppgavesett 2 | 02.09"
   ]
  },
  {
   "cell_type": "markdown",
   "metadata": {},
   "source": [
    "## Enkle"
   ]
  },
  {
   "cell_type": "markdown",
   "metadata": {},
   "source": [
    "**Oppgave 1**"
   ]
  },
  {
   "cell_type": "markdown",
   "metadata": {},
   "source": [
    "Lag et program som ber brukeren taste inn navnet sitt og så skriver en hilsen på skjermen"
   ]
  },
  {
   "cell_type": "code",
   "execution_count": 1,
   "metadata": {},
   "outputs": [
    {
     "name": "stdout",
     "output_type": "stream",
     "text": [
      "Hei Andreas\n"
     ]
    }
   ],
   "source": [
    "navn = input(\"Navn: \")\n",
    "print(\"Hei\", navn)"
   ]
  },
  {
   "cell_type": "markdown",
   "metadata": {},
   "source": [
    "**Oppgave 2**"
   ]
  },
  {
   "cell_type": "markdown",
   "metadata": {},
   "source": [
    "Lag et program som ber brukeren taste inn fornavn, etternavn og alder og så skriver ut disse opplysningene på skjermen på formen *etternavn*, *fornavn*, (*alder*)"
   ]
  },
  {
   "cell_type": "code",
   "execution_count": 2,
   "metadata": {},
   "outputs": [
    {
     "name": "stdout",
     "output_type": "stream",
     "text": [
      "vestbøstad, andreas, (20)\n"
     ]
    }
   ],
   "source": [
    "fornavn = input (\"Fornavn: \")\n",
    "etternavn = input(\"Etternavn: \")\n",
    "alder = int(input(\"Alder: \"))\n",
    "\n",
    "print(f\"{etternavn}, {fornavn} ({alder})\")"
   ]
  },
  {
   "cell_type": "markdown",
   "metadata": {},
   "source": [
    "**Oppgave 3**"
   ]
  },
  {
   "cell_type": "markdown",
   "metadata": {},
   "source": [
    "Lag et program som ber brukeren taste inn en timelønn og et antall arbeidstimer og skriver ut hvor mye hen har tjent på arbeidet."
   ]
  },
  {
   "cell_type": "code",
   "execution_count": null,
   "metadata": {},
   "outputs": [],
   "source": [
    "timelønn = float(input(\"Timelønn: \"))\n",
    "arbeidstimer = float(input(\"Arbeidstimer: \"))\n",
    "print(f\"Du har tjent {timelønn*arbeidstimer} kroner\")"
   ]
  },
  {
   "cell_type": "markdown",
   "metadata": {},
   "source": [
    "**Oppgave 9**"
   ]
  },
  {
   "cell_type": "markdown",
   "metadata": {},
   "source": [
    "Lag et program som ber brukeren om et tre-sifret tall. Programmet skal skrive ut alle permutasjoner av sifrene i dette tallet. Dvs alle tall man kan få ved å stokke om på sifrene i tallet.\n",
    "For et tre-sifret tall vil det være totalt 6 permutasjoner, inkludert det opprinnelige tallet."
   ]
  },
  {
   "cell_type": "code",
   "execution_count": 21,
   "metadata": {},
   "outputs": [
    {
     "name": "stdout",
     "output_type": "stream",
     "text": [
      "Permutasjoner: 123 132 213 231 312 321"
     ]
    }
   ],
   "source": [
    "# Be brukeren om å oppgi et tresifret tall\n",
    "tall = input(\"Oppgi et tresifret tall: \")\n",
    "\n",
    "# Sjekker om input er et tresifret tall\n",
    "if len(tall) == 3 and tall.isdigit():\n",
    "\n",
    "    # Gjør om til liste\n",
    "    b = list(tall)\n",
    "\n",
    "    # Printer ut permutasjonene\n",
    "    print(f\"Permutasjoner: {tall} \", end=\"\")\n",
    "    print(f\"{b[0]}{b[2]}{b[1]}\", end=\" \")\n",
    "    print(f\"{b[1]}{b[0]}{b[2]}\", end=\" \")\n",
    "    print(f\"{b[1]}{b[2]}{b[0]}\", end=\" \")\n",
    "    print(f\"{b[2]}{b[0]}{b[1]}\", end=\" \")\n",
    "    print(f\"{b[2]}{b[1]}{b[0]}\", end=\"\")\n",
    "else:\n",
    "    # Printer feilmelding om bruker ikke har tastet inn tresifret tall\n",
    "    print(\"Du må oppgi et tresifret tall\")"
   ]
  },
  {
   "cell_type": "markdown",
   "metadata": {},
   "source": [
    "**Oppgave 10**"
   ]
  },
  {
   "cell_type": "markdown",
   "metadata": {},
   "source": [
    "Lag et program der du spiller stein-saks-papir mot maskinen.\n",
    "\n",
    "• Du velger et tall, 1 (papir),2 (saks) eller 3(stein)\n",
    "\n",
    "• Maskinen velger tilsvarende tall, tilfeldig.\n",
    "\n",
    "• Bruk sannhetsverdiene True/False til å rapportere om utfallet ble seier, tap eller uavgjort"
   ]
  },
  {
   "cell_type": "code",
   "execution_count": 1,
   "metadata": {},
   "outputs": [
    {
     "name": "stdout",
     "output_type": "stream",
     "text": [
      "Du valgte saks og maskinen valgte saks\n",
      "\n",
      "Jeg vant: False\n",
      "Uavgjort: True\n",
      "Maskin: False\n"
     ]
    }
   ],
   "source": [
    "import random\n",
    "\n",
    "spiller = int(input(\"1=papir,2=saks eller 3=stein\"))\n",
    "maskin = random.randint(1,3)\n",
    "\n",
    "valg = [\"papir\",\"saks\",\"stein\"]\n",
    "\n",
    "spiller_seier = (spiller == 1 and maskin == 3) or (spiller == 2 and maskin == 1) or (spiller == 3 and maskin == 1)\n",
    "maskin_seier = (spiller == 1 and maskin == 2) or (spiller == 2 and maskin == 3) or (spiller == 3 and maskin == 1)\n",
    "\n",
    "print(f\"Du valgte {valg[spiller-1]} og maskinen valgte {valg[maskin-1]}\\n\")\n",
    "\n",
    "print(f\"Jeg vant: {spiller_seier}\")\n",
    "print(f\"Uavgjort: {spiller == maskin}\")\n",
    "print(f\"Maskin: {maskin_seier}\")"
   ]
  }
 ],
 "metadata": {
  "kernelspec": {
   "display_name": "Python 3",
   "language": "python",
   "name": "python3"
  },
  "language_info": {
   "codemirror_mode": {
    "name": "ipython",
    "version": 3
   },
   "file_extension": ".py",
   "mimetype": "text/x-python",
   "name": "python",
   "nbconvert_exporter": "python",
   "pygments_lexer": "ipython3",
   "version": "3.9.6"
  }
 },
 "nbformat": 4,
 "nbformat_minor": 2
}
