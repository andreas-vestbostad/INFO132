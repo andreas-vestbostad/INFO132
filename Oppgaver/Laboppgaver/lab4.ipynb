{
 "cells": [
  {
   "cell_type": "markdown",
   "metadata": {},
   "source": [
    "**Oppgåve 4**"
   ]
  },
  {
   "cell_type": "markdown",
   "metadata": {},
   "source": [
    "Skuddår forekommer når årstallet er delelig med 4. Unntaket er det første året i århundrer som ikke\n",
    "er delelig med 400 (for eksempel år 1800 og 1900).\n",
    "\n",
    "Lag en funksjon som gitt et årstall avgjør om det er et skuddår.\n",
    "(Hint: tallet N er delelig med tallet M dersom N%M==0)"
   ]
  },
  {
   "cell_type": "code",
   "execution_count": 4,
   "metadata": {},
   "outputs": [
    {
     "data": {
      "text/plain": [
       "False"
      ]
     },
     "execution_count": 4,
     "metadata": {},
     "output_type": "execute_result"
    }
   ],
   "source": [
    "def sjekkSkuddår(år):\n",
    "    if år % 400 == 0: return True\n",
    "    elif år % 100 == 0: return False\n",
    "    elif år % 4 == 0: return True\n",
    "    else: return False\n",
    "\n",
    "sjekkSkuddår(1900)"
   ]
  },
  {
   "cell_type": "markdown",
   "metadata": {},
   "source": [
    "**Oppgåve 7**"
   ]
  },
  {
   "cell_type": "markdown",
   "metadata": {},
   "source": [
    "I math-modulen finnes tallet p (math.pi) definert med et visst antall desimaler.\n",
    "\n",
    "Lag en funksjon pi(d) som returnerer p med d desimaler\n",
    "(Hvis det oppgitte antallet desimaler er større enn i math.pi skal det skrives ut en melding om\n",
    "dette på skjermen og så returneres math.pi)"
   ]
  },
  {
   "cell_type": "code",
   "execution_count": 40,
   "metadata": {},
   "outputs": [
    {
     "name": "stdout",
     "output_type": "stream",
     "text": [
      "3.14159\n",
      "\n",
      "math.pi er ikke definert med så mange desimaler (maks 15):\n",
      "3.141592653589793\n",
      "\n",
      "3.14\n"
     ]
    }
   ],
   "source": [
    "import math\n",
    "\n",
    "def pi(d=2):\n",
    "    maks_desimal = len(str(math.pi).split(\".\")[1])\n",
    "\n",
    "    if d >= maks_desimal:\n",
    "        return f\"math.pi er ikke definert med så mange desimaler (maks {maks_desimal}):\\n{math.pi}\"\n",
    "\n",
    "    else:\n",
    "        return round(math.pi, d)\n",
    "\n",
    "print(pi(5))\n",
    "print()\n",
    "print(pi(50))\n",
    "print()\n",
    "print(pi())\n",
    "\n"
   ]
  },
  {
   "cell_type": "markdown",
   "metadata": {},
   "source": [
    "**Oppgåve 8**"
   ]
  },
  {
   "cell_type": "markdown",
   "metadata": {},
   "source": [
    "Fullfør funksjonene nyObservasjon som gitt en observert verdi registrerer observasjoner samt\n",
    "snitt som returnerer snitt-verdien av observasjonene som er registrert"
   ]
  },
  {
   "cell_type": "code",
   "execution_count": null,
   "metadata": {},
   "outputs": [],
   "source": [
    "antallObservasjoner=0\n",
    "akkumulerteObservasjoner=0\n",
    "\n",
    "def nyObservasjon(obs):\n",
    "    \"--- skriv det som mangler her ---\"\n",
    "    \n",
    "def snitt():\n",
    "    \"--- skriv det som mangler her ---\"\n",
    "    return akkumulerteObservasjoner/antallObservasjoner"
   ]
  },
  {
   "cell_type": "code",
   "execution_count": 50,
   "metadata": {},
   "outputs": [
    {
     "data": {
      "text/plain": [
       "'Har ingen obersvasjoner'"
      ]
     },
     "execution_count": 50,
     "metadata": {},
     "output_type": "execute_result"
    }
   ],
   "source": [
    "antallObservasjoner=0\n",
    "akkumulerteObservasjoner=0\n",
    "\n",
    "def nyObservasjon(obs):\n",
    "    global akkumulerteObservasjoner, antallObservasjoner\n",
    "    akkumulerteObservasjoner += obs\n",
    "    antallObservasjoner += 1\n",
    "    \n",
    "def snitt():\n",
    "    if antallObservasjoner == 0:\n",
    "        return \"Har ingen obersvasjoner\"\n",
    "    return akkumulerteObservasjoner/antallObservasjoner\n",
    "\n",
    "nyObservasjon(10)\n",
    "nyObservasjon(15)\n",
    "nyObservasjon(12)\n",
    "\n",
    "snitt()"
   ]
  },
  {
   "cell_type": "markdown",
   "metadata": {},
   "source": [
    "**Oppgave 12**"
   ]
  },
  {
   "cell_type": "code",
   "execution_count": 1,
   "metadata": {},
   "outputs": [
    {
     "name": "stdout",
     "output_type": "stream",
     "text": [
      "B\n"
     ]
    }
   ],
   "source": [
    "import math\n",
    "karakterer = [\"F\", \"E\", \"D\", \"C\", \"B\", \"A\"]\n",
    "\n",
    "def semesterSnitt(*bokstav_karakterer):\n",
    "    sum = 0\n",
    "    for bokstav in bokstav_karakterer: sum += tilTall(bokstav)\n",
    "    snitt=sum/len(bokstav_karakterer)\n",
    "    return tilBokstav(snitt)\n",
    "\n",
    "def tilTall(bokstav):\n",
    "    return karakterer.index(bokstav.upper())\n",
    "\n",
    "def tilBokstav(tall):\n",
    "    tall = math.ceil(tall)\n",
    "    return karakterer[tall]\n",
    "\n",
    "print(semesterSnitt('a','b','c','d'))"
   ]
  },
  {
   "cell_type": "markdown",
   "metadata": {},
   "source": [
    "**Oppgave 15**"
   ]
  },
  {
   "cell_type": "code",
   "execution_count": 10,
   "metadata": {},
   "outputs": [
    {
     "data": {
      "text/plain": [
       "'1t, 31min, 40sek'"
      ]
     },
     "execution_count": 10,
     "metadata": {},
     "output_type": "execute_result"
    }
   ],
   "source": [
    "def sekundKonvertering(sek):\n",
    "    timer = sek // 3600\n",
    "    minutter = sek // 60 - timer * 60\n",
    "    sekunder = sek - minutter * 60 - timer * 3600\n",
    "\n",
    "    return f\"{timer}t, {minutter}min, {sekunder}sek\"\n",
    "\n",
    "sekundKonvertering(5500)"
   ]
  },
  {
   "cell_type": "markdown",
   "metadata": {},
   "source": [
    "**Oppgave 17**"
   ]
  },
  {
   "cell_type": "code",
   "execution_count": 15,
   "metadata": {},
   "outputs": [
    {
     "name": "stdout",
     "output_type": "stream",
     "text": [
      "169"
     ]
    }
   ],
   "source": [
    "import random\n",
    "\n",
    "def tilfeldig3():\n",
    "    def tilfeldig_tall(): return random.randint(1,9)\n",
    "\n",
    "    tilfeldig_liste = [tilfeldig_tall(), tilfeldig_tall(), tilfeldig_tall()]\n",
    "    tilfeldig_liste.sort()\n",
    "\n",
    "    for tall in tilfeldig_liste: print(tall, end=\"\")\n",
    "\n",
    "tilfeldig3()"
   ]
  }
 ],
 "metadata": {
  "kernelspec": {
   "display_name": "Python 3",
   "language": "python",
   "name": "python3"
  },
  "language_info": {
   "codemirror_mode": {
    "name": "ipython",
    "version": 3
   },
   "file_extension": ".py",
   "mimetype": "text/x-python",
   "name": "python",
   "nbconvert_exporter": "python",
   "pygments_lexer": "ipython3",
   "version": "3.12.6"
  }
 },
 "nbformat": 4,
 "nbformat_minor": 2
}
