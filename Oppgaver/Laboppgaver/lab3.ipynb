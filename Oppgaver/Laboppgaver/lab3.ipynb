{
 "cells": [
  {
   "cell_type": "markdown",
   "metadata": {},
   "source": [
    "**Oppgave 5**"
   ]
  },
  {
   "cell_type": "markdown",
   "metadata": {},
   "source": [
    "Skuddår forekommer når årstallet er delelig med 4. Unntaket er det første året i århundrer som ikke\n",
    "er delelig med 400 (for eksempel år 1800 og 1900).\n",
    "Lag et program som leser inn et årstall og avgjør om det er et skuddår. (Hint: tallet N er delelig med tallet M dersom N%M==0)"
   ]
  },
  {
   "cell_type": "code",
   "execution_count": 6,
   "metadata": {},
   "outputs": [
    {
     "name": "stdout",
     "output_type": "stream",
     "text": [
      "ikke skuddår\n"
     ]
    }
   ],
   "source": [
    "år = int(input(\"årstall: \"))\n",
    "\n",
    "if år%400 == 0:\n",
    "    print(\"skuddår\")\n",
    "\n",
    "elif år%100 == 0:\n",
    "    print(\"ikke skuddår\")\n",
    "\n",
    "elif år%4==0:\n",
    "    print(\"skuddår\")\n",
    "\n",
    "else:\n",
    "    print(\"ikke skuddår\")"
   ]
  },
  {
   "cell_type": "markdown",
   "metadata": {},
   "source": [
    "**Oppgave 6**"
   ]
  },
  {
   "cell_type": "markdown",
   "metadata": {},
   "source": [
    "Lag et program som ber brukeren taste inn en timelønn og et antall arbeidstimer og skriver ut hvor mye hen har tjent på arbeidet. Dersom arbeidstimene overstiger 40 skal man få 10% overtidsbetaling. Dersom brukeren taster inn negative tall, eller verdier som ikke er tall, skal programmet gi melding om feilen og gi brukeren en sjanse til å oppgi et gyldig tall i stedet."
   ]
  },
  {
   "cell_type": "code",
   "execution_count": 16,
   "metadata": {},
   "outputs": [
    {
     "name": "stdout",
     "output_type": "stream",
     "text": [
      "Ugyldig input: Timelønnen kan ikke være negativ.. Prøv igjen.\n",
      "Ugyldig input: could not convert string to float: ''. Prøv igjen.\n",
      "Ugyldig input: could not convert string to float: ''. Prøv igjen.\n",
      "Ugyldig input: could not convert string to float: ''. Prøv igjen.\n",
      "Du har tjent: 10.0 kr\n"
     ]
    }
   ],
   "source": [
    "def beregn_lonn():\n",
    "    while True:\n",
    "        try:\n",
    "            timelonn = float(input(\"Skriv inn timelønn: \"))\n",
    "            if timelonn < 0:\n",
    "                raise ValueError(\"Timelønnen kan ikke være negativ.\")\n",
    "            break\n",
    "        except ValueError as e:\n",
    "            print(f\"Ugyldig input: {e}. Prøv igjen.\")\n",
    "    \n",
    "    while True:\n",
    "        try:\n",
    "            arbeidstimer = float(input(\"Skriv inn antall arbeidstimer: \"))\n",
    "            if arbeidstimer < 0:\n",
    "                raise ValueError(\"Antall arbeidstimer kan ikke være negativt.\")\n",
    "            break\n",
    "        except ValueError as e:\n",
    "            print(f\"Ugyldig input: {e}. Prøv igjen.\")\n",
    "    \n",
    "    lonn = arbeidstimer * timelonn\n",
    "\n",
    "    if arbeidstimer > 40:\n",
    "        lonn += (arbeidstimer-40) * 0.1\n",
    "    \n",
    "    print(f\"Du har tjent: {lonn:.1f} kr\")\n",
    "\n",
    "# Kjør programmet\n",
    "beregn_lonn()"
   ]
  },
  {
   "cell_type": "markdown",
   "metadata": {},
   "source": [
    "**Oppgave 7**"
   ]
  },
  {
   "cell_type": "markdown",
   "metadata": {},
   "source": [
    "Lag et program som gitt en bokstav (a-h) og et tall (1-8) avgjør hvilken farge den tilsvarende ruten har på et sjakkbrett. (Hint: Legg merke til at for rekkene a, c, e og g er oddetallsrutene sorte. N er et oddetall dersom N%2==1)"
   ]
  },
  {
   "cell_type": "code",
   "execution_count": 25,
   "metadata": {},
   "outputs": [
    {
     "name": "stdout",
     "output_type": "stream",
     "text": [
      "ruten er sort\n"
     ]
    }
   ],
   "source": [
    "x = [\"a\", \"b\", \"c\", \"d\", \"e\", \"f\", \"g\" ,\"h\"]\n",
    "\n",
    "bokstav = input(\"bokstav: \")\n",
    "tall = int(input(\"tall: \"))\n",
    "\n",
    "if (x.index(bokstav)%2==0 and tall%2==1) or (x.index(bokstav)%2==1 and tall%2==0):\n",
    "    farge = \"sort\"\n",
    "else:\n",
    "    farge = \"hvit\"\n",
    "\n",
    "print(f\"ruten er {farge}\")"
   ]
  },
  {
   "cell_type": "markdown",
   "metadata": {},
   "source": [
    "**Oppgave 8**"
   ]
  },
  {
   "cell_type": "markdown",
   "metadata": {},
   "source": [
    "Hjemmets energiforbruk kan variere basert på forbruket og de apparatene som brukes. I denne oppgaven skal du hjelpe brukeren med å få innsikt i eget forbruk.\n",
    "\n",
    "Lag et program som spør brukeren om hvor mange kilowattimer (kWh) hen bruker i måneden. Basert på svaret, skal programmet gi en tilbakemelding om forbruket:<br>\n",
    "    • Dersom forbruket er under 200 kWh, skal brukeren få skryt over at hen bruker lite strøm.<br>\n",
    "    • Hvis forbruket er mellom 200 og 500 kWh, skal programmet i tillegg spørre om det brukes\n",
    "energisparende apparater og anbefale brukeren å bruke energisparende apparater dersom\n",
    "hen ikke gjør det.<br>\n",
    "    • Dersom forbruket er over 500 kWh skal brukeren få tilbakemelding om at forbruket er høyt"
   ]
  },
  {
   "cell_type": "code",
   "execution_count": 27,
   "metadata": {},
   "outputs": [
    {
     "name": "stdout",
     "output_type": "stream",
     "text": [
      "Vurder å bruk energisparende apparater for å få ned forbruket ditt.\n"
     ]
    }
   ],
   "source": [
    "forbruk = float(input(\"Hvor mange kilowattimer (kWh) bruker du i måneden: \"))\n",
    "\n",
    "if forbruk < 200:\n",
    "    print(\"Du har et lavt energiforbruk.\")\n",
    "\n",
    "elif forbruk>=200 and forbruk<=500:\n",
    "    energisparing = input(\"Bruker du energisparende apparater? (ja/nei): \").lower()\n",
    "    if energisparing == \"ja\":\n",
    "       print(\"Bra jobbet med å redusere energiforbruket!\")\n",
    "    else:\n",
    "        print(\"Vurder å bruk energisparende apparater for å få ned forbruket ditt.\")\n",
    "\n",
    "else:\n",
    "    print(\"Du har et høyt energiforbruk, vurder å sette inn tiltak for å redusere det.\")"
   ]
  },
  {
   "cell_type": "markdown",
   "metadata": {},
   "source": [
    "**Oppgave 9**"
   ]
  },
  {
   "cell_type": "markdown",
   "metadata": {},
   "source": [
    "Stemmealderen i mange land er 18 år. I tillegg kan man vanligvis bare stemme én gang. I denne oppgaven skal du lage et program som hjelper med å sjekke disse kriteriene.\n",
    "\n",
    "Programmet skal først spørre brukerne om alder. Hvis de er under 18, skal de informeres om at de er for unge til å stemme. Hvis de er 18 eller eldre, skal programmet spørre om de allerede har stemt. Hvis de ikke har stemt, kan de angi sitt partivalg og programmet skal skrive ut hvilket parti som ble stemt på. Hvis de allerede har stemt, skal de informeres om at de ikke kan stemme mer enn en gang."
   ]
  },
  {
   "cell_type": "code",
   "execution_count": 30,
   "metadata": {},
   "outputs": [
    {
     "name": "stdout",
     "output_type": "stream",
     "text": [
      "Du er for ung til å stemme.\n"
     ]
    }
   ],
   "source": [
    "alder = int(input(\"Hvor gammel er du? \"))\n",
    "stemt = 0\n",
    "\n",
    "if alder < 18:\n",
    "    print(\"Du er for ung til å stemme.\")\n",
    "else:\n",
    "    stemt = input(\"Har du allerede stemt (ja/nei): \")\n",
    "if stemt == \"nei\":\n",
    "    parti = input(\"Hvilket parti vil du stemme på: \")\n",
    "    print(f\"Du stemte på {parti}\")\n",
    "elif stemt == \"ja\": \n",
    "    print(\"Du kan ikke stemme mer enn en gang\")"
   ]
  },
  {
   "cell_type": "markdown",
   "metadata": {},
   "source": [
    "**Oppgave 10**"
   ]
  },
  {
   "cell_type": "markdown",
   "metadata": {},
   "source": [
    "FrueMafiaen er en kriminell organisasjon der kun kvinner kan være medlemmer. Mafiaen er strengt\n",
    "hierarkisk med Presidenten som øverste leder. På neste nivå finner vi Kommandanter, deretter Kapteiner så Sersjanter og nederst finner vi Soldatene. De som ikke er kvalifiserte til opptak, kan melde seg som Støttemedlem. Man kan stige i gradene, etter søknad, basert på ansiennitet og meritter. Vedtektene spesifiserer kvalifikasjonskravene til de ulike gradene:<br>\n",
    "• Minstekrav for alle grader, inkludert støttemedlem, er å være Kvinne, minst 20 år gammel og ha middels dårlig vandel.<br>\n",
    "• Soldater må være under 30 år og ikke ha barn<br>\n",
    "• Det samme gjelder for Sersjanter, som i tillegg må ha minst 4 års ansiennitet og ikke rent<br>\n",
    "rulleblad.<br>\n",
    "• Kapteiner må være yngre enn 40 år, ha minst 6 års ansiennitet og ha tiltale eller straffedom<br>\n",
    "på rullebladet.<br>\n",
    "• Kommandanter må også være yngre enn 40 år med minst 6 års ansiennitet, men må ha en<br>\n",
    "straffedom på rullebladet samt ha temmelig dårlig vandel.<br>\n",
    "• Presidenten må oppfylle samme krav som kommandanter, men i tillegg ha minst 8 års<br>\n",
    "ansiennitet. Dessuten kan ikke presidenten ha et fornavn som kan forveksles med et guttenavn. Dvs at kjønnsnøytrale navn som Kristen, Kim, Janne, og Tony må unngås.<br>"
   ]
  },
  {
   "cell_type": "code",
   "execution_count": null,
   "metadata": {},
   "outputs": [],
   "source": [
    "def sjekk_kvalifikasjoner():\n",
    "    try:\n",
    "        navn = input(\"Navn: \").strip()\n",
    "        alder = int(input(\"Alder: \").strip())\n",
    "        kjonn = input(\"Kjønn (m/k): \").strip().lower()\n",
    "        antall_barn = int(input(\"Antall barn: \").strip())\n",
    "        vandel = int(input(\"Vandel, på skala fra 1(dårlig) til 9(plettfri): \").strip())\n",
    "        rulleblad = input(\"Rulleblad (straffet/tiltalt/mistenkt/rent): \").strip().lower()\n",
    "        ansiennitet = int(input(\"Ansiennitet (år): \").strip())\n",
    "    except ValueError:\n",
    "        print(\"Feil i input. Vennligst oppgi gyldige verdier.\")\n",
    "        return\n",
    "\n",
    "    kjonnsnoytrale_navn = [\"Kristen\", \"Kim\", \"Janne\", \"Tony\"]\n",
    "\n",
    "    print(f\"{navn} er kvalifisert for:\")\n",
    "\n",
    "    # Sjekk om personen er kvalifisert som støttemedlem\n",
    "    if kjonn == \"k\" and alder >= 20 and vandel < 9:\n",
    "        kvalifiert_støttemedlem = True\n",
    "        print(\"Støttemedlem\")\n",
    "    else:\n",
    "        print(\"Du er ikke kvalifisert for noen stillinger i FrueMafiaen\")\n",
    "\n",
    "    # Sjekk om personen er kvalifisert som soldat eller sersjant\n",
    "    if kvalifiert_støttemedlem and alder < 30 and antall_barn == 0:\n",
    "        print(\"Soldat\")\n",
    "        if ansiennitet >= 4 and rulleblad != \"rent\":\n",
    "            print(\"Sersjant\")\n",
    "\n",
    "    # Sjekk om personen er kvalifisert som kaptein eller kommandant\n",
    "    if kvalifiert_støttemedlem and alder < 40 and ansiennitet >= 6:\n",
    "        if rulleblad in [\"tiltalt\", \"straffet\"]:\n",
    "            print(\"Kaptein\")\n",
    "        if rulleblad == \"straffet\" and vandel < 5:\n",
    "            kvalifisert_kommandant = True\n",
    "            print(\"Kommandant\")\n",
    "\n",
    "    # Sjekk om personen er kvalifisert som president\n",
    "    if kvalifisert_kommandant and ansiennitet >= 8 and navn not in kjonnsnoytrale_navn:\n",
    "        print(\"President\")\n",
    "\n",
    "# Kjør funksjonen\n",
    "sjekk_kvalifikasjoner()\n"
   ]
  }
 ],
 "metadata": {
  "kernelspec": {
   "display_name": "Python 3",
   "language": "python",
   "name": "python3"
  },
  "language_info": {
   "codemirror_mode": {
    "name": "ipython",
    "version": 3
   },
   "file_extension": ".py",
   "mimetype": "text/x-python",
   "name": "python",
   "nbconvert_exporter": "python",
   "pygments_lexer": "ipython3",
   "version": "3.9.6"
  }
 },
 "nbformat": 4,
 "nbformat_minor": 2
}
