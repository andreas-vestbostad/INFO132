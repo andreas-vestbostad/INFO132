{
 "cells": [
  {
   "cell_type": "markdown",
   "metadata": {},
   "source": [
    "# Oppgavesett 1 | 26.08"
   ]
  },
  {
   "cell_type": "markdown",
   "metadata": {},
   "source": [
    "## Enkle"
   ]
  },
  {
   "cell_type": "markdown",
   "metadata": {},
   "source": [
    "**Oppgave 1**"
   ]
  },
  {
   "cell_type": "code",
   "execution_count": 69,
   "metadata": {},
   "outputs": [
    {
     "name": "stdout",
     "output_type": "stream",
     "text": [
      "        *     \n",
      "        **    \n",
      "        * *   \n",
      "*********  *  \n",
      "*           * \n",
      "*             *\n",
      "*           * \n",
      "*********  *  \n",
      "        * *   \n",
      "        **    \n",
      "        *     \n"
     ]
    }
   ],
   "source": [
    "print(\"        *     \")\n",
    "print(\"        **    \")\n",
    "print(\"        * *   \")\n",
    "print(\"*********  *  \")\n",
    "print(\"*           * \")\n",
    "print(\"*             *\")\n",
    "print(\"*           * \")\n",
    "print(\"*********  *  \")\n",
    "print(\"        * *   \")\n",
    "print(\"        **    \")\n",
    "print(\"        *     \")"
   ]
  },
  {
   "cell_type": "markdown",
   "metadata": {},
   "source": [
    "**Oppgave 2**"
   ]
  },
  {
   "cell_type": "code",
   "execution_count": 1,
   "metadata": {},
   "outputs": [
    {
     "name": "stdout",
     "output_type": "stream",
     "text": [
      "Kari\n",
      "Anne\n",
      "Normann\n",
      "\n",
      "Kari\n",
      "Anne\n",
      "Normann\n"
     ]
    }
   ],
   "source": [
    "fornavn = \"Kari\"\n",
    "mellomnavn = \"Anne\"\n",
    "etternavn = \"Normann\"\n",
    "\n",
    "print(fornavn, mellomnavn, etternavn, sep=\"\\n\", end=\"\\n\\n\")\n",
    "\n",
    "print(fornavn)\n",
    "print(mellomnavn)\n",
    "print(etternavn)"
   ]
  },
  {
   "cell_type": "markdown",
   "metadata": {},
   "source": [
    "## Middels vanskelig"
   ]
  },
  {
   "cell_type": "markdown",
   "metadata": {},
   "source": [
    "**Oppgave 3**"
   ]
  },
  {
   "cell_type": "code",
   "execution_count": 3,
   "metadata": {},
   "outputs": [
    {
     "name": "stdout",
     "output_type": "stream",
     "text": [
      "Total antall studenter: 90, kvinneandel: 0.50\n"
     ]
    }
   ],
   "source": [
    "antallStudenter = 90\n",
    "antallKvinner = 45\n",
    "\n",
    "print(f\"Total antall studenter: {antallStudenter}, kvinneandel: {antallKvinner/antallStudenter:.2f}\")"
   ]
  },
  {
   "cell_type": "markdown",
   "metadata": {},
   "source": [
    "**Oppgave 4 a & b**"
   ]
  },
  {
   "cell_type": "code",
   "execution_count": 6,
   "metadata": {},
   "outputs": [
    {
     "name": "stdout",
     "output_type": "stream",
     "text": [
      "60 grader Fahrenheit tilsvarer 15.56 grader Celcius\n"
     ]
    }
   ],
   "source": [
    "fahrenheit = 60\n",
    "celsius = (fahrenheit - 32) * 5/9\n",
    "\n",
    "print(f\"{fahrenheit} grader Fahrenheit tilsvarer {celsius:.2f} grader Celcius\")"
   ]
  },
  {
   "cell_type": "markdown",
   "metadata": {},
   "source": [
    "## Vansklige"
   ]
  },
  {
   "cell_type": "markdown",
   "metadata": {},
   "source": [
    "**Oppgave 4c**"
   ]
  },
  {
   "cell_type": "code",
   "execution_count": 71,
   "metadata": {},
   "outputs": [
    {
     "name": "stdout",
     "output_type": "stream",
     "text": [
      "60℉ = 15.56℃\n",
      "15.56℃ = 60℉\n"
     ]
    }
   ],
   "source": [
    "fahrenheit = 60\n",
    "celsius = (fahrenheit - 32) * 5/9\n",
    "\n",
    "print(f\"{fahrenheit}\\N{degree fahrenheit} = {celsius:.2f}\\N{degree celsius}\")\n",
    "print(f\"{celsius:.2f}\\N{degree celsius} = {fahrenheit}\\N{degree fahrenheit}\")"
   ]
  },
  {
   "cell_type": "markdown",
   "metadata": {},
   "source": [
    "**Oppgave 5**"
   ]
  },
  {
   "cell_type": "code",
   "execution_count": 3,
   "metadata": {},
   "outputs": [
    {
     "name": "stdout",
     "output_type": "stream",
     "text": [
      "kolonnebredde 10\n",
      "Man       10.1        3.5        8.1\n",
      "Tir       12.1       10.5       12.9\n",
      "Ons         13        3.9       12.1\n",
      "Tor       12.9          0        5.4\n",
      "Fre       11.2        0.1        5.2\n"
     ]
    }
   ],
   "source": [
    "from Oppgaver.Laboppgaver.værdata import *\n",
    "\n",
    "værData = [\n",
    "    [\"Man\", ManTemp, ManNedbør, ManVind],\n",
    "    [\"Tir\", TirTemp, TirNedbør, TirVind],\n",
    "    [\"Ons\", OnsTemp, OnsNedbør, OnsVind],\n",
    "    [\"Tor\", TorTemp, TorNedbør, TorVind],\n",
    "    [\"Fre\", FreTemp, FreNedbør, FreVind]\n",
    "]\n",
    "\n",
    "bredde = 10\n",
    "print(f\"kolonnebredde {bredde}\")\n",
    "\n",
    "for row in værData:\n",
    "    print(f\"{{: >{0}}} {{: >{bredde}}} {{: >{bredde}}} {{: >{bredde}}}\".format(*row))"
   ]
  }
 ],
 "metadata": {
  "kernelspec": {
   "display_name": "Python 3",
   "language": "python",
   "name": "python3"
  },
  "language_info": {
   "codemirror_mode": {
    "name": "ipython",
    "version": 3
   },
   "file_extension": ".py",
   "mimetype": "text/x-python",
   "name": "python",
   "nbconvert_exporter": "python",
   "pygments_lexer": "ipython3",
   "version": "3.9.6"
  }
 },
 "nbformat": 4,
 "nbformat_minor": 2
}
