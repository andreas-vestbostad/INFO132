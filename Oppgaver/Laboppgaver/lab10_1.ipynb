{
 "cells": [
  {
   "cell_type": "markdown",
   "metadata": {},
   "source": [
    "**Oppgave 1**"
   ]
  },
  {
   "cell_type": "markdown",
   "metadata": {},
   "source": [
    "Lag en mengde med emnekodene for emner du tar dette semesteret"
   ]
  },
  {
   "cell_type": "code",
   "execution_count": 4,
   "metadata": {},
   "outputs": [
    {
     "name": "stdout",
     "output_type": "stream",
     "text": [
      "{'ITØK101', 'MAT111', 'INFO132'}\n"
     ]
    }
   ],
   "source": [
    "emner = {\"ITØK101\", \"INFO132\", \"MAT111\"}\n",
    "\n",
    "print(emner)"
   ]
  },
  {
   "cell_type": "markdown",
   "metadata": {},
   "source": [
    "**Oppgave 2**"
   ]
  },
  {
   "cell_type": "markdown",
   "metadata": {},
   "source": [
    "Lag funksjoner som returnerer resultatet av å legge til eller fjerne et element fra en mengde uten å\n",
    "endre originalen. (I motsetning til mengde.add og mengde.discard)"
   ]
  },
  {
   "cell_type": "code",
   "execution_count": 9,
   "metadata": {},
   "outputs": [
    {
     "name": "stdout",
     "output_type": "stream",
     "text": [
      "{'Kari', 'Dag', 'Liv', 'Ola', 'Gro'}\n",
      "{'Dag', 'Liv', 'Gro'}\n",
      "{'Gro', 'Dag', 'Ola', 'Liv'}\n"
     ]
    }
   ],
   "source": [
    "def leggTil(mengde, navn):\n",
    "    navn = {navn,}\n",
    "    return mengde | navn\n",
    "\n",
    "def fjern(mengde, navn):\n",
    "    navn = {navn,}\n",
    "    return mengde - navn\n",
    "\n",
    "folk={'Ola', 'Liv', 'Dag', 'Gro'}\n",
    "folk1=leggTil(folk, 'Kari')\n",
    "folk2=fjern(folk, 'Ola')\n",
    "\n",
    "print(folk1)\n",
    "print(folk2)\n",
    "print(folk)"
   ]
  },
  {
   "cell_type": "markdown",
   "metadata": {},
   "source": [
    "**Oppgave 3**"
   ]
  },
  {
   "cell_type": "markdown",
   "metadata": {},
   "source": [
    "En bedrift har registrert sine ansatte og hvilke kompetanser de har i følgende mengder"
   ]
  },
  {
   "cell_type": "code",
   "execution_count": 2,
   "metadata": {},
   "outputs": [
    {
     "name": "stdout",
     "output_type": "stream",
     "text": [
      "A) 4\n",
      "B) Tor Per Åse Ine Liv Jan\n",
      "C) Gro Jan\n",
      "D) Dag Ida Åse\n",
      "E) Tor Per Ole Liv\n",
      "F) Åse Ine Jan Dag\n",
      "G) False\n",
      "H) True\n"
     ]
    }
   ],
   "source": [
    "personer={'Liv','Jan','Ida','Gro','Per','Dag','Ole','Ine','Tor','Åse'}\n",
    "programmering={'Per','Åse','Gro','Ida','Dag','Tor'}\n",
    "matematikk={'Gro','Dag'}\n",
    "databaser={'Liv','Per','Dag','Ine'}\n",
    "KI={'Åse','Dag','Ida','Gro','Jan'}\n",
    "logikk={'Jan', 'Gro', 'Ine'}\n",
    "UX={'Ine','Tor','Liv'}\n",
    "systemutvikling={'Åse','Liv','Per','Jan'}\n",
    "filosofi={'Ole'}\n",
    "\n",
    "#A) hvor mange som har kompetanse i systemutvikling\n",
    "\n",
    "print(\"A)\", len(systemutvikling))\n",
    "\n",
    "#B) hvem som har kompetanse i UX eller systemutvikling\n",
    "\n",
    "print(\"B)\", *(systemutvikling | UX))\n",
    "\n",
    "#C) hvem som har kompetanse i KI og logikk\n",
    "\n",
    "print(\"C)\", *(KI & logikk))\n",
    "\n",
    "#D) hvem som har kompetanse i KI, men ikke i logikk\n",
    "\n",
    "print(\"D)\", *(KI - logikk))\n",
    "\n",
    "#E) hvem som har kompetanse i verken KI eller logikk\n",
    "\n",
    "print(\"E)\", *(personer - KI - logikk))\n",
    "\n",
    "#F) hvem som har kompetanse i databaser eller systemutvikling, men ikke i begge\n",
    "\n",
    "print(\"F)\", *(databaser ^ systemutvikling))\n",
    "\n",
    "#G) om alle som kan logikk også kan programmering (True eller False)\n",
    "\n",
    "print(\"G)\", logikk in programmering)\n",
    "\n",
    "#H) om noen kan både logikk og UX (True eller False)\n",
    "\n",
    "print(\"H)\", len(logikk & UX)>0)\n"
   ]
  },
  {
   "cell_type": "markdown",
   "metadata": {},
   "source": [
    "**Oppgave 4**"
   ]
  },
  {
   "cell_type": "markdown",
   "metadata": {},
   "source": [
    "Nå legges kompetanseområdene inn i en fortegnelse."
   ]
  },
  {
   "cell_type": "markdown",
   "metadata": {},
   "source": [
    "a) Lag en funksjon som gitt et personnavn returnerer mengden av kompetanser som personen har og\n",
    "bruk funksjonen til å skrive ut kompetansene til hver person"
   ]
  },
  {
   "cell_type": "code",
   "execution_count": 33,
   "metadata": {},
   "outputs": [
    {
     "name": "stdout",
     "output_type": "stream",
     "text": [
      "Åse, programmering, KI, systemutvikling\n"
     ]
    }
   ],
   "source": [
    "personer={'Liv','Jan','Ida','Gro','Per','Dag','Ole','Ine','Tor','Åse'}\n",
    "programmering={'Per','Åse','Gro','Ida','Dag','Tor'}\n",
    "matematikk={'Gro','Dag'}\n",
    "databaser={'Liv','Per','Dag','Ine'}\n",
    "KI={'Åse','Dag','Ida','Gro','Jan'}\n",
    "logikk={'Jan', 'Gro', 'Ine'}\n",
    "UX={'Ine','Tor','Liv'}\n",
    "systemutvikling={'Åse','Liv','Per','Jan'}\n",
    "filosofi={'Ole'}\n",
    "\n",
    "kompetanser = {'programmering':programmering,\n",
    "                'matematikk':matematikk,\n",
    "                'databaser':databaser,\n",
    "                'KI':KI,\n",
    "                'logikk':logikk,\n",
    "                'UX':UX,\n",
    "                'systemutvikling':systemutvikling,\n",
    "                'filosofi':filosofi\n",
    "                }\n",
    "\n",
    "def ferdigheter(ordbok, person):\n",
    "    skills = []\n",
    "    for ferdighet, ferdighet_personer in ordbok.items():\n",
    "        if person in ferdighet_personer:\n",
    "            skills.append(ferdighet)\n",
    "    print(f\"{person}, {\", \".join(skills)}\")\n",
    "            \n",
    "ferdigheter(kompetanser, \"Åse\")\n",
    "\n",
    "\n"
   ]
  },
  {
   "cell_type": "markdown",
   "metadata": {},
   "source": [
    "b) Lag en funksjon som gitt et team, i form av en mengde av personer, returnerer mengden av\n",
    "kompetanser som teamet mangler."
   ]
  },
  {
   "cell_type": "code",
   "execution_count": 39,
   "metadata": {},
   "outputs": [
    {
     "name": "stdout",
     "output_type": "stream",
     "text": [
      "{'matematikk', 'filosofi', 'programmering'}\n",
      "{'filosofi'}\n",
      "set()\n"
     ]
    }
   ],
   "source": [
    "personer={'Liv','Jan','Ida','Gro','Per','Dag','Ole','Ine','Tor','Åse'}\n",
    "programmering={'Per','Åse','Gro','Ida','Dag','Tor'}\n",
    "matematikk={'Gro','Dag'}\n",
    "databaser={'Liv','Per','Dag','Ine'}\n",
    "KI={'Åse','Dag','Ida','Gro','Jan'}\n",
    "logikk={'Jan', 'Gro', 'Ine'}\n",
    "UX={'Ine','Tor','Liv'}\n",
    "systemutvikling={'Åse','Liv','Per','Jan'}\n",
    "filosofi={'Ole'}\n",
    "\n",
    "kompetanser = {'programmering':programmering,\n",
    "                'matematikk':matematikk,\n",
    "                'databaser':databaser,\n",
    "                'KI':KI,\n",
    "                'logikk':logikk,\n",
    "                'UX':UX,\n",
    "                'systemutvikling':systemutvikling,\n",
    "                'filosofi':filosofi\n",
    "                }\n",
    "\n",
    "def manglerKompetanse(team):\n",
    "    manglendeKompetanse = set()\n",
    "    for ferdighet, ferdighet_personer in kompetanser.items():\n",
    "        if len(team & ferdighet_personer) == 0:\n",
    "            manglendeKompetanse.add(ferdighet)\n",
    "\n",
    "    return manglendeKompetanse\n",
    "\n",
    "print(manglerKompetanse({'Liv','Jan'}))\n",
    "print(manglerKompetanse({'Liv','Jan','Gro'}))\n",
    "print(manglerKompetanse({'Liv','Jan','Gro','Ole'}))"
   ]
  },
  {
   "cell_type": "markdown",
   "metadata": {},
   "source": [
    "**Oppgave 5**"
   ]
  },
  {
   "cell_type": "markdown",
   "metadata": {},
   "source": [
    "Lag en funksjon som kan koble to mengder med tupler. Det vil si at du har to mengder A og B der\n",
    "andre-komponentene A er av samme type som første-komponentene i B. \n",
    "\n",
    "Koblingen av slike mengder er en mengde C med tuplene på formen (x,y) der det finnes en z slik at\n",
    "(x,z) er et element i A og (z,x) er et element i B"
   ]
  },
  {
   "cell_type": "code",
   "execution_count": 44,
   "metadata": {},
   "outputs": [
    {
     "data": {
      "text/plain": [
       "{('ons', 'søn')}"
      ]
     },
     "execution_count": 44,
     "metadata": {},
     "output_type": "execute_result"
    }
   ],
   "source": [
    "dager = {\n",
    "    (1, 'man'),\n",
    "    (2, 'tir'),\n",
    "    (3, 'ons'),\n",
    "    (4, 'tor'),\n",
    "    (5, 'fre'),\n",
    "    (6, 'lør'),\n",
    "    (7, 'søn')\n",
    "}\n",
    "\n",
    "temperaturer = {\n",
    "    ('man', 11),\n",
    "    ('tir', 9),\n",
    "    ('ons', 7),\n",
    "    ('tor', 12),\n",
    "    ('fre', 11),\n",
    "    ('lør', 9),\n",
    "    ('søn', 8)\n",
    "}\n",
    "\n",
    "def koble(mengdeA, mengdeB):\n",
    "    return {(x1, y2) for x1, z1 in mengdeA for z2, y2 in mengdeB if z1 == z2}\n",
    "\n",
    "print(koble(dager, temperaturer))\n",
    "print(koble(temperaturer, dager))\n"
   ]
  }
 ],
 "metadata": {
  "kernelspec": {
   "display_name": "Python 3",
   "language": "python",
   "name": "python3"
  },
  "language_info": {
   "codemirror_mode": {
    "name": "ipython",
    "version": 3
   },
   "file_extension": ".py",
   "mimetype": "text/x-python",
   "name": "python",
   "nbconvert_exporter": "python",
   "pygments_lexer": "ipython3",
   "version": "3.12.7"
  }
 },
 "nbformat": 4,
 "nbformat_minor": 2
}
