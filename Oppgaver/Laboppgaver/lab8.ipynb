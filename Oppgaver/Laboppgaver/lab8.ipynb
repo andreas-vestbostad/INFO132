{
 "cells": [
  {
   "cell_type": "markdown",
   "metadata": {},
   "source": [
    "**Oppgave 1**"
   ]
  },
  {
   "cell_type": "markdown",
   "metadata": {},
   "source": [
    "Lag en funksjon som gitt et filnavn returnerer antallet linjer i filen\n",
    "Eksempel: Filen telefon.txt inneholder fornnavn og telefonnumre til personer."
   ]
  },
  {
   "cell_type": "code",
   "execution_count": 1,
   "metadata": {},
   "outputs": [
    {
     "data": {
      "text/plain": [
       "10"
      ]
     },
     "execution_count": 1,
     "metadata": {},
     "output_type": "execute_result"
    }
   ],
   "source": [
    "def tellLinjer(fil):\n",
    "    with open(fil, 'r') as input:\n",
    "        return len(input.readlines())\n",
    "\n",
    "tellLinjer('telefon.txt')"
   ]
  },
  {
   "cell_type": "markdown",
   "metadata": {},
   "source": [
    "**Oppgave 2**"
   ]
  },
  {
   "cell_type": "markdown",
   "metadata": {},
   "source": [
    "Lag en funksjon som gitt et filnavn og en bokstav returnerer en liste med alle ordene i filen som\n",
    "starter på bokstaven."
   ]
  },
  {
   "cell_type": "code",
   "execution_count": 14,
   "metadata": {},
   "outputs": [
    {
     "data": {
      "text/plain": [
       "['små', 'sto', 'spilte', 'så', 'spurte', 'små']"
      ]
     },
     "execution_count": 14,
     "metadata": {},
     "output_type": "execute_result"
    }
   ],
   "source": [
    "def finnOrd(fil, bokstav):\n",
    "    ord_som_starter_med_bokstav = []\n",
    "\n",
    "    with open(fil, 'r') as input:\n",
    "        for linje in input:\n",
    "            ord_liste = linje.split()\n",
    "\n",
    "            for ord in ord_liste:\n",
    "                if ord.startswith(bokstav):\n",
    "                    ord_som_starter_med_bokstav.append(ord)\n",
    "\n",
    "    return ord_som_starter_med_bokstav\n",
    "\n",
    "\n",
    "finnOrd('treSmåMusikanter.txt','s')"
   ]
  },
  {
   "cell_type": "markdown",
   "metadata": {},
   "source": [
    "**Oppgave 3**"
   ]
  },
  {
   "cell_type": "markdown",
   "metadata": {},
   "source": [
    "Last ned ordlistefilen 'ordliste.txt' fra kursets hjemmeside på MittUib og lagre den der du lagrer\n",
    "python-programmene dine. Lag et program som leser inn ordlisten og lar brukeren taste inn norske\n",
    "søkeord og svarer med den engelske oversettelsen. Prøv å finne alle oppslag i ordlisten som starter\n",
    "på brukerens søkeord."
   ]
  },
  {
   "cell_type": "code",
   "execution_count": 29,
   "metadata": {},
   "outputs": [
    {
     "name": "stdout",
     "output_type": "stream",
     "text": [
      "Oppgi søkeord (avslutt med 'slutt')\n",
      "tilkobling (filer) = file handle\n",
      "tekstsegment = slice\n",
      "tekstverdi = string\n",
      "tilordning = assignment\n",
      "tolk = interpreter\n",
      "tom funksjon = void function\n",
      "tom streng = empty string\n",
      "traversering = traversal\n",
      "tuppel = tuple\n"
     ]
    }
   ],
   "source": [
    "def søk_ordliste(filnavn):\n",
    "    print(\"Oppgi søkeord (avslutt med 'slutt')\")\n",
    "\n",
    "    while True:\n",
    "        søkeord = input(\"søkeord: utsnitt\") \n",
    "        if søkeord == \"slutt\": break\n",
    "\n",
    "        with open(filnavn, 'r') as fil:\n",
    "            for linje in fil:\n",
    "                if linje.startswith(søkeord):\n",
    "                    norsk_ord = linje[:linje.find(\",\")]\n",
    "                    engelsk_ord = linje[linje.find(\",\")+2:-1]\n",
    "                    print(f\"{norsk_ord} = {engelsk_ord}\")\n",
    "\n",
    "søk_ordliste(\"ordliste.txt\")"
   ]
  },
  {
   "cell_type": "markdown",
   "metadata": {},
   "source": [
    "**Oppgave 5**"
   ]
  },
  {
   "cell_type": "markdown",
   "metadata": {},
   "source": [
    "Vi har følgende to filer:\n",
    "- telefon.txt der personer er registrert med navn og telefonnummer, i tilfeldig rekkefølge.\n",
    "- adresse.txt der personer er registrert med navn og adresse. \n",
    "Denne filen er sortert alfabetisk\n",
    "\n",
    "Adresse- og telefonlistene inneholder ikke nødvendigvis de samme personene.\n",
    "Lag et program som tar utgangspunkt i personene i telefonlisten og lager en ny fil med\n",
    "kontaktinformasjon for disse. Alle skal være registrert med telefon samt adresse der den er kjent"
   ]
  },
  {
   "cell_type": "code",
   "execution_count": 39,
   "metadata": {},
   "outputs": [],
   "source": [
    "def lag_kontaktliste(filnavn1, filnavn2):\n",
    "    filnavn3 = \"kontaktinfo.txt\"\n",
    "    \n",
    "    telefonbok = {}\n",
    "\n",
    "    with open(filnavn1, 'r') as fil1:\n",
    "        for linje in fil1:\n",
    "            navn, telefon = linje.split(maxsplit=1)\n",
    "            telefonbok[navn] = telefon.strip()\n",
    "\n",
    "    adressebok = {}\n",
    "    with open(filnavn2, 'r') as fil2:\n",
    "        for linje in fil2:\n",
    "            navn, adresse = linje.split(maxsplit=1)\n",
    "            adressebok[navn] = adresse.strip()\n",
    "\n",
    "    with open(filnavn3, 'w') as fil3:\n",
    "        for navn, telefon in telefonbok.items():\n",
    "            if navn in adressebok:\n",
    "                fil3.write(f\"{navn}: {telefon}, {adressebok[navn]}\\n\")\n",
    "            else:\n",
    "                fil3.write(f\"{navn}: {telefon}, Adresse ikke tilgjengelig\\n\")\n",
    "\n",
    "lag_kontaktliste(\"telefon.txt\", \"adresse.txt\")"
   ]
  },
  {
   "cell_type": "markdown",
   "metadata": {},
   "source": [
    "**Oppgave 6**"
   ]
  },
  {
   "cell_type": "markdown",
   "metadata": {},
   "source": [
    "Vi ser videre på den sorterte adresselisten adresse.txt\n",
    "Lag en funksjon settinn(person, fil)som kan sette inn en ny person/adresse, på riktig sted i\n",
    "filen så den forblir sortert."
   ]
  },
  {
   "cell_type": "code",
   "execution_count": 54,
   "metadata": {},
   "outputs": [],
   "source": [
    "def settInn(person, filnavn):\n",
    "    funnet = False\n",
    "    ny_liste = \"\"\n",
    "\n",
    "    with open(filnavn, 'r') as fil:\n",
    "        for linje in fil:\n",
    "            if person < linje and not funnet:\n",
    "                ny_liste += person + \"\\n\"\n",
    "                funnet = True\n",
    "            ny_liste += linje\n",
    "\n",
    "    if not funnet: \n",
    "        ny_liste += person + \"\\n\"\n",
    "\n",
    "    with open(filnavn, 'w') as fil:\n",
    "        fil.writelines(ny_liste)\n",
    "\n",
    "settInn(\"Hans Kirkegata 3\", \"adresse.txt\")\n"
   ]
  },
  {
   "cell_type": "markdown",
   "metadata": {},
   "source": [
    "**Oppgave 4**"
   ]
  },
  {
   "cell_type": "markdown",
   "metadata": {},
   "source": [
    "Lag en funksjon erstattOrd(filnavn, gammeltOrd, nyttOrd) som erstatter alle forekomster\n",
    "av ordet gammeltOrd med nyttOrd i filen."
   ]
  },
  {
   "cell_type": "code",
   "execution_count": 59,
   "metadata": {},
   "outputs": [],
   "source": [
    "def erstattOrd(filnavn, gammeltOrd, nyttOrd):\n",
    "\n",
    "    tekst = \"\"\n",
    "\n",
    "    with open(filnavn, 'r') as fil:\n",
    "        for linje in fil:\n",
    "            ord_liste = linje.split()\n",
    "            for ord in ord_liste:\n",
    "                if ord == gammeltOrd: tekst += nyttOrd + \" \"\n",
    "                else: tekst += ord + \" \"\n",
    "\n",
    "            tekst += \"\\n\"\n",
    "\n",
    "    with open(filnavn, 'w') as fil:\n",
    "        fil.write(tekst)\n",
    "        \n",
    "erstattOrd('treSmåMusikanter.txt','høybro', 'danmarks')"
   ]
  },
  {
   "cell_type": "code",
   "execution_count": 60,
   "metadata": {},
   "outputs": [
    {
     "name": "stdout",
     "output_type": "stream",
     "text": [
      "1\n",
      "2\n",
      "3\n",
      "4\n",
      "5\n",
      "6\n",
      "7\n",
      "8\n",
      "9\n"
     ]
    }
   ],
   "source": [
    "liste = [1,2,3,4,5,6,7,8,9]\n",
    "print(*liste, sep=\"\\n\")"
   ]
  }
 ],
 "metadata": {
  "kernelspec": {
   "display_name": "Python 3",
   "language": "python",
   "name": "python3"
  },
  "language_info": {
   "codemirror_mode": {
    "name": "ipython",
    "version": 3
   },
   "file_extension": ".py",
   "mimetype": "text/x-python",
   "name": "python",
   "nbconvert_exporter": "python",
   "pygments_lexer": "ipython3",
   "version": "3.12.7"
  }
 },
 "nbformat": 4,
 "nbformat_minor": 2
}
