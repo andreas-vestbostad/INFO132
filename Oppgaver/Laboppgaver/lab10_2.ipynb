{
 "cells": [
  {
   "cell_type": "markdown",
   "metadata": {},
   "source": [
    "**Oppgave 1**"
   ]
  },
  {
   "cell_type": "markdown",
   "metadata": {},
   "source": [
    "Skriv en funksjon lag_fortegnelse(personer) som tar inn en liste av personer, representert\n",
    "som par med navn og alder. Funksjonen skal returnere en tilsvarende fortegnelse der hver person er\n",
    "representert med sitt navn som nøkkel og alderen som verdi."
   ]
  },
  {
   "cell_type": "code",
   "execution_count": 1,
   "metadata": {},
   "outputs": [
    {
     "data": {
      "text/plain": [
       "{'Alice': 25, 'Bob': 30, 'Charlie': 35}"
      ]
     },
     "execution_count": 1,
     "metadata": {},
     "output_type": "execute_result"
    }
   ],
   "source": [
    "def lag_fortegnelse(personer):\n",
    "    ordbok_personer = {}\n",
    "    for tuppel in personer:\n",
    "        ordbok_personer[tuppel[0]] = tuppel[1]\n",
    "    return ordbok_personer\n",
    "\n",
    "lag_fortegnelse([('Alice', 25), ('Bob', 30), ('Charlie', 35)])"
   ]
  },
  {
   "cell_type": "markdown",
   "metadata": {},
   "source": [
    "**Oppgave 2**"
   ]
  },
  {
   "cell_type": "markdown",
   "metadata": {},
   "source": [
    "Lag en funksjon som gitt tre like lange tupler, returnerer tuppelet som består av triplene med 1.\n",
    "elementene fra tuplene, 2. elementene fra tuplene og så videre."
   ]
  },
  {
   "cell_type": "code",
   "execution_count": 4,
   "metadata": {},
   "outputs": [
    {
     "data": {
      "text/plain": [
       "(1, 99, 'a')"
      ]
     },
     "execution_count": 4,
     "metadata": {},
     "output_type": "execute_result"
    }
   ],
   "source": [
    "tall=(1,2,3,4,5)\n",
    "storetall=(99,88,77,66,55)\n",
    "bokstaver=('a','b','c','d','e')\n",
    "\n",
    "def tripler(tuppel1, tuppel2, tuppel3):\n",
    "    trippel_tuppel = ((tuppel1[0], tuppel2[0], tuppel3[0]))\n",
    "\n",
    "    for i in range (1, len(tuppel1)-1):\n",
    "        trippel_tuppel + ((tuppel1[i], tuppel2[i], tuppel3[i]))\n",
    "\n",
    "    return trippel_tuppel\n",
    "\n",
    "tripler(tall,storetall,bokstaver)"
   ]
  },
  {
   "cell_type": "markdown",
   "metadata": {},
   "source": [
    "**Oppgave 3**"
   ]
  },
  {
   "cell_type": "markdown",
   "metadata": {},
   "source": [
    "Tenk deg en konkurranse der deltakerne oppnår poengsummer i hver runde. Lag en funksjon\n",
    "poengSnitt(deltakerListe) som tar inn en liste med deltakere. Hvert deltaker-element er et par\n",
    "med deltakerens navn og en liste med poengsummer som hen har oppnådd i konkurransen. For\n",
    "eksempel:\n",
    "\n",
    "deltakere=[('Liv',[5,9,5]),('Ola',[4,3,8]),\n",
    "('Gro',[2,6,9]),('Jon',[5,6,4])]\n",
    "\n",
    "Lag en funksjon som returnerer en tilsvarende liste der parene inneholder navn og gjennomsnittet av\n",
    "deltakerens poengsummer."
   ]
  },
  {
   "cell_type": "code",
   "execution_count": 6,
   "metadata": {},
   "outputs": [
    {
     "data": {
      "text/plain": [
       "[('Liv', 6.3), ('Ola', 5.0), ('Gro', 5.7), ('Jon', 5.0)]"
      ]
     },
     "execution_count": 6,
     "metadata": {},
     "output_type": "execute_result"
    }
   ],
   "source": [
    "def poengSnitt(deltakerListe):\n",
    "    deltakerListeSnitt = []\n",
    "    for deltaker in deltakerListe:\n",
    "        deltakerListeSnitt.append((deltaker[0],round(sum(deltaker[1])/len(deltaker[1]),2)))\n",
    "    return deltakerListeSnitt\n",
    "\n",
    "deltakere=[('Liv',[5,9,5]),('Ola',[4,3,8]),('Gro',[2,6,9]),('Jon',[5,6,4])]\n",
    "\n",
    "poengSnitt(deltakere)"
   ]
  },
  {
   "cell_type": "markdown",
   "metadata": {},
   "source": [
    "**Oppgave 4**"
   ]
  },
  {
   "cell_type": "markdown",
   "metadata": {},
   "source": [
    "Lag en funksjon som gitt en liste returnerer listen av alle par som kan dannes fra elementene i\n",
    "listen."
   ]
  },
  {
   "cell_type": "code",
   "execution_count": 8,
   "metadata": {},
   "outputs": [
    {
     "data": {
      "text/plain": [
       "[(1, 1),\n",
       " (1, 2),\n",
       " (1, 3),\n",
       " (1, 4),\n",
       " (2, 1),\n",
       " (2, 2),\n",
       " (2, 3),\n",
       " (2, 4),\n",
       " (3, 1),\n",
       " (3, 2),\n",
       " (3, 3),\n",
       " (3, 4),\n",
       " (4, 1),\n",
       " (4, 2),\n",
       " (4, 3),\n",
       " (4, 4)]"
      ]
     },
     "execution_count": 8,
     "metadata": {},
     "output_type": "execute_result"
    }
   ],
   "source": [
    "def alleKombinasjoner(liste):\n",
    "    alleKombListe = []\n",
    "\n",
    "    for tall1 in liste:\n",
    "        for tall2 in liste:\n",
    "            alleKombListe.append((tall1,tall2))\n",
    "\n",
    "    return alleKombListe\n",
    "\n",
    "alleKombinasjoner([1,2,3,4])"
   ]
  },
  {
   "cell_type": "markdown",
   "metadata": {},
   "source": [
    "**Oppgave 5**"
   ]
  },
  {
   "cell_type": "markdown",
   "metadata": {},
   "source": [
    "Gjensyn med kobling av data (jfr. oppgave 7 i lab-oppgavene om fortegnelser)\n",
    "\n",
    "Du har to lister av par, kalt A og B. Disse kan kobles til en ny liste av par C.\n",
    "Spesifikt: hvis (x,y) er i A og (y,z) er i B så skal (x,z) være i C.\n",
    "\n",
    "Lag en funksjon for å koble to lister av par."
   ]
  },
  {
   "cell_type": "code",
   "execution_count": 11,
   "metadata": {},
   "outputs": [
    {
     "name": "stdout",
     "output_type": "stream",
     "text": [
      "[(1, 11), (2, 9), (3, 7), (4, 12), (5, 11), (6, 9), (7, 8)]\n",
      "[('ons', 'søn')]\n"
     ]
    }
   ],
   "source": [
    "dager=[(1,'man'),(2,'tir'),(3,'ons'),(4,'tor'),(5,'fre'),(6,'lør'),(7,'søn')]\n",
    "temperaturer=[('man',11),('tir',9),('ons',7),('tor',12),('fre',11),('lør',9),('søn',8)]\n",
    "\n",
    "def koble(liste1,liste2):\n",
    "    liste3 = []\n",
    "    for par1 in liste1:\n",
    "        for par2 in liste2:\n",
    "            if par1[1] == par2[0]:\n",
    "                liste3.append((par1[0],par2[1]))\n",
    "                continue\n",
    "    return liste3\n",
    "\n",
    "print(koble(dager,temperaturer))\n",
    "print(koble(temperaturer, dager))"
   ]
  },
  {
   "cell_type": "markdown",
   "metadata": {},
   "source": [
    "**Oppgave 6**"
   ]
  },
  {
   "cell_type": "markdown",
   "metadata": {},
   "source": [
    "a) \n",
    "- Lag en funksjon som kan lese inn temperaturdata fra en fil og lagre dem som tripler (3-tupler)\n",
    "i en global liste tempData.\n",
    "- Lag en funksjon som lar en bruker taste inn temperaturdata\n",
    "- lag en funksjon som skriver ut snitt-temperaturen for hvert sted\n",
    "- lag en funksjon som skriver ut dataene i tempData på fil"
   ]
  },
  {
   "cell_type": "code",
   "execution_count": 41,
   "metadata": {},
   "outputs": [
    {
     "name": "stdout",
     "output_type": "stream",
     "text": [
      "Bergen: 8.67\n",
      "Bodø: 4.0\n",
      "Kristiansand: 14.67\n",
      "Oslo: 7.0\n",
      "Stavanger: 9.0\n",
      "Tromsø: 3.33\n",
      "Trondheim: 8.33\n"
     ]
    }
   ],
   "source": [
    "def lesFil(filnavn):\n",
    "    global tempData\n",
    "    tempData = []\n",
    "    with open(filnavn,'r') as fil:\n",
    "        for linje in fil.readlines():\n",
    "            sted, dag, temperatur = linje.split()\n",
    "            tempData.append((sted, dag, temperatur))\n",
    "\n",
    "lesFil('tempFil.txt')\n",
    "\n",
    "def settTemperatur():\n",
    "    sted = input(\"Sted: \")\n",
    "    dag = input(\"Dag: \")\n",
    "    temp = int(input(\"Temperatur: \"))\n",
    "\n",
    "    for data in tempData:\n",
    "        if data[0] == sted and data[1]== dag:\n",
    "            data[2] == temp\n",
    "\n",
    "settTemperatur()\n",
    "\n",
    "def snittSteder():\n",
    "    steder = {}\n",
    "\n",
    "    for data in tempData:\n",
    "        if data[0] not in steder:\n",
    "            steder[data[0]] = []\n",
    "        steder[data[0]].append(float(data[2]))\n",
    "        \n",
    "\n",
    "    for sted, temperaturer in steder.items():\n",
    "        snittTemp = sum(temperaturer)/len(temperaturer)\n",
    "        print(f\"{sted}: {round(snittTemp,2)}\")\n",
    "\n",
    "snittSteder()\n",
    "\n",
    "def skrivUt(tempData):\n",
    "    with open('tempFil1.txt', 'w') as fil:\n",
    "        for data in tempData:\n",
    "            fil.write(f\"{data[0]} {data[1]} {data[2]} \\n\")\n",
    "\n",
    "skrivUt(tempData)\n",
    "                   "
   ]
  },
  {
   "cell_type": "markdown",
   "metadata": {},
   "source": [
    "**Oppgave 9**"
   ]
  },
  {
   "cell_type": "markdown",
   "metadata": {},
   "source": [
    "Skriv en funksjon sorter_produkter(produkter) som tar inn en liste med produkter i form av\n",
    "par, der hvert parinneholder produktnavn og pris. \n",
    "\n",
    "Eksempel:\n",
    "produkter=[('Banan', 10), ('Eple', 8), ('Appelsin', 15),('Druer',8), ('Pære',10)]\n",
    "\n",
    "Funksjonen skal sortere produktene basert på pris, fra lavest til høyest, og returnere den sorterte\n",
    "listen. Hvis to varer har samme pris, skal de sorteres etter navn."
   ]
  },
  {
   "cell_type": "code",
   "execution_count": 48,
   "metadata": {},
   "outputs": [
    {
     "name": "stdout",
     "output_type": "stream",
     "text": [
      "[('Banan', 10), ('Eple', 8), ('Appelsin', 15), ('Druer', 8), ('Pære', 10)]\n",
      "[('Druer', 8), ('Eple', 8), ('Banan', 10), ('Pære', 10), ('Appelsin', 15)]\n"
     ]
    }
   ],
   "source": [
    "produkter=[('Banan', 10), ('Eple', 8), ('Appelsin', 15),('Druer',8), ('Pære',10)]\n",
    "\n",
    "def sorter_produkter(liste):\n",
    "    liste.sort(key=lambda x:x[0])\n",
    "    return sorted(liste, key=lambda x:x[1])\n",
    "\n",
    "print(produkter)\n",
    "print(sorter_produkter(produkter))"
   ]
  }
 ],
 "metadata": {
  "kernelspec": {
   "display_name": "Python 3",
   "language": "python",
   "name": "python3"
  },
  "language_info": {
   "codemirror_mode": {
    "name": "ipython",
    "version": 3
   },
   "file_extension": ".py",
   "mimetype": "text/x-python",
   "name": "python",
   "nbconvert_exporter": "python",
   "pygments_lexer": "ipython3",
   "version": "3.12.7"
  }
 },
 "nbformat": 4,
 "nbformat_minor": 2
}
