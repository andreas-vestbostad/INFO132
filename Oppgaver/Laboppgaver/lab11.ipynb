{
 "cells": [
  {
   "cell_type": "markdown",
   "metadata": {},
   "source": [
    "**Oppgave 1**"
   ]
  },
  {
   "cell_type": "markdown",
   "metadata": {},
   "source": [
    "Lag en applikasjon (et brukerorientert program) med et grafisk brukergrensesnitt (GUI).\n",
    "Brukergrensesnittet skal ha en knapp merket 'Farvel' ."
   ]
  },
  {
   "cell_type": "code",
   "execution_count": 1,
   "metadata": {},
   "outputs": [
    {
     "name": "stderr",
     "output_type": "stream",
     "text": [
      "2024-11-28 14:39:19.291 Python[35720:10186953] +[IMKClient subclass]: chose IMKClient_Modern\n",
      "2024-11-28 14:39:19.291 Python[35720:10186953] +[IMKInputSession subclass]: chose IMKInputSession_Modern\n"
     ]
    },
    {
     "ename": "",
     "evalue": "",
     "output_type": "error",
     "traceback": [
      "\u001b[1;31mThe Kernel crashed while executing code in the current cell or a previous cell. \n",
      "\u001b[1;31mPlease review the code in the cell(s) to identify a possible cause of the failure. \n",
      "\u001b[1;31mClick <a href='https://aka.ms/vscodeJupyterKernelCrash'>here</a> for more info. \n",
      "\u001b[1;31mView Jupyter <a href='command:jupyter.viewOutput'>log</a> for further details."
     ]
    }
   ],
   "source": [
    "from tkinter import *\n",
    "\n",
    "rotvindu = Tk()\n",
    "\n",
    "knapp = Button(rotvindu, text=\"farvel\", command=rotvindu.destroy)\n",
    "knapp.grid(column=0, row=0)\n",
    "\n",
    "rotvindu.mainloop()"
   ]
  },
  {
   "cell_type": "markdown",
   "metadata": {},
   "source": [
    "**Oppgave 2**"
   ]
  },
  {
   "cell_type": "markdown",
   "metadata": {},
   "source": [
    "Lag en applikasjon med et grafisk brukergrensesnitt (GUI) som har én enkelt knapp. Til å begynne\n",
    "med er knappen merket 0, men hver gang knappen trykkes skal verdien økes med 1."
   ]
  },
  {
   "cell_type": "code",
   "execution_count": 6,
   "metadata": {},
   "outputs": [],
   "source": [
    "from tkinter import *\n",
    "\n",
    "vindu = Tk()\n",
    "\n",
    "n = IntVar()\n",
    "n.set(0)\n",
    "\n",
    "def pluss():\n",
    "    n.set(n.get()+1)\n",
    "    knapp.config(text=str(n.get()))\n",
    "\n",
    "knapp = Button(vindu, text=str(n.get()), command=pluss, width=15)\n",
    "knapp.grid(column=0, row=0)\n",
    "\n",
    "vindu.mainloop()"
   ]
  },
  {
   "cell_type": "markdown",
   "metadata": {},
   "source": [
    "**Oppgave 3**"
   ]
  },
  {
   "cell_type": "markdown",
   "metadata": {},
   "source": [
    "Lag et GUI-program som har et tekstfelt og en knapp. Når brukeren skriver inn tekst i tekstfeltet og\n",
    "trykker på knappen, skal programmet vise teksten i et etikettfelt (Label)"
   ]
  },
  {
   "cell_type": "code",
   "execution_count": 1,
   "metadata": {},
   "outputs": [
    {
     "name": "stderr",
     "output_type": "stream",
     "text": [
      "2024-11-11 08:38:13.908 Python[33454:2012845] +[IMKClient subclass]: chose IMKClient_Modern\n",
      "2024-11-11 08:38:13.908 Python[33454:2012845] +[IMKInputSession subclass]: chose IMKInputSession_Modern\n"
     ]
    }
   ],
   "source": [
    "from tkinter import *\n",
    "\n",
    "vindu = Tk()\n",
    "\n",
    "def vis_tekst():\n",
    "    tekst = felt.get()\n",
    "    etikett.config(text=tekst)\n",
    "\n",
    "felt = Entry(vindu)\n",
    "knapp = Button(vindu, text=\"Vis tekst\", command=vis_tekst)\n",
    "etikett = Label(vindu)\n",
    "\n",
    "felt.grid(column=0, row=0)\n",
    "knapp.grid(column=0, row=1)\n",
    "etikett.grid(column=0, row=2)\n",
    "\n",
    "vindu.mainloop()"
   ]
  },
  {
   "cell_type": "markdown",
   "metadata": {},
   "source": [
    "Lag et GUI-program som teller antall avgitte stemmer en avstemning. Programmet skal ha en\n",
    "knapp for hvert alternativ, og en 'Resultat'\n",
    "-etikett som viser hvor mange stemmer hvert alternativ\n",
    "har. Programmet skal lagre antall stemmer for hvert alternativ i en liste."
   ]
  },
  {
   "cell_type": "code",
   "execution_count": 5,
   "metadata": {},
   "outputs": [
    {
     "ename": "",
     "evalue": "",
     "output_type": "error",
     "traceback": [
      "\u001b[1;31mThe Kernel crashed while executing code in the current cell or a previous cell. \n",
      "\u001b[1;31mPlease review the code in the cell(s) to identify a possible cause of the failure. \n",
      "\u001b[1;31mClick <a href='https://aka.ms/vscodeJupyterKernelCrash'>here</a> for more info. \n",
      "\u001b[1;31mView Jupyter <a href='command:jupyter.viewOutput'>log</a> for further details."
     ]
    }
   ],
   "source": [
    "from tkinter import *\n",
    "\n",
    "stemmer = [0,0,0]\n",
    "\n",
    "def stem(alt):\n",
    "    stemmer[alt] += 1\n",
    "    oppdater_resultat()\n",
    "\n",
    "def oppdater_resultat():\n",
    "    alt1 = stemmer[0]\n",
    "    alt2 = stemmer[1]\n",
    "    alt3 = stemmer[2]\n",
    "    etikett.config(text=\"Resultat: 1:\"+str(alt1)+\" 2:\"+str(alt2)+\" 3:\"+str(alt3))\n",
    "\n",
    "vindu = Tk()\n",
    "\n",
    "knapp1 = Button(vindu, text=\"Alternativ 1\", command=lambda: stem(0))\n",
    "knapp2 = Button(vindu, text=\"Alternativ 2\", command=lambda: stem(1))\n",
    "knapp3 = Button(vindu, text=\"Alternativ 3\",command=lambda: stem(2))\n",
    "\n",
    "etikett = Label(vindu, text=\"Resultat: 1:0, 2:0, 3:0\")\n",
    "\n",
    "knapp1.grid(column=0, row=0)\n",
    "knapp2.grid(column=0, row=1)\n",
    "knapp3.grid(column=0, row=2)\n",
    "\n",
    "etikett.grid(column=0, row=3)\n",
    "\n",
    "vindu.mainloop()"
   ]
  },
  {
   "cell_type": "code",
   "execution_count": null,
   "metadata": {},
   "outputs": [],
   "source": [
    "from tkinter import *\n",
    "\n",
    "stemmer = [0,0,0]\n",
    "\n",
    "def stem1():\n",
    "    stemmer[0] += 1\n",
    "    oppdater_resultat()\n",
    "\n",
    "def stem2():\n",
    "    stemmer[1] += 1\n",
    "    oppdater_resultat()\n",
    "\n",
    "def stem3():\n",
    "    stemmer[2] += 1\n",
    "    oppdater_resultat()\n",
    "\n",
    "\n",
    "def oppdater_resultat():\n",
    "    alt1 = stemmer[0]\n",
    "    alt2 = stemmer[1]\n",
    "    alt3 = stemmer[2]\n",
    "    etikett.config(text=\"Resultat: 1:\"+str(alt1)+\" 2:\"+str(alt2)+\" 3:\"+str(alt3))\n",
    "\n",
    "vindu = Tk()\n",
    "\n",
    "knapp1 = Button(vindu, text=\"Alternativ 1\", command=stem1)\n",
    "knapp2 = Button(vindu, text=\"Alternativ 2\", command=stem2)\n",
    "knapp3 = Button(vindu, text=\"Alternativ 3\", command=stem3)\n",
    "\n",
    "etikett = Label(vindu, text=\"Resultat: 1:0, 2:0, 3:0\")\n",
    "\n",
    "knapp1.grid(column=0, row=0)\n",
    "knapp2.grid(column=0, row=1)\n",
    "knapp3.grid(column=0, row=2)\n",
    "\n",
    "etikett.grid(column=0, row=3)\n",
    "\n",
    "vindu.mainloop()"
   ]
  },
  {
   "cell_type": "markdown",
   "metadata": {},
   "source": [
    "Lag en GUI for å skrive verset Tre Små Musikanter der alle vokaler er skiftet ut med en valgt vokal."
   ]
  },
  {
   "cell_type": "code",
   "execution_count": 1,
   "metadata": {},
   "outputs": [
    {
     "name": "stderr",
     "output_type": "stream",
     "text": [
      "2024-11-11 09:36:49.590 Python[34199:2062386] +[IMKClient subclass]: chose IMKClient_Modern\n",
      "2024-11-11 09:36:49.590 Python[34199:2062386] +[IMKInputSession subclass]: chose IMKInputSession_Modern\n"
     ]
    }
   ],
   "source": [
    "from tkinter import *\n",
    "\n",
    "vokaler = ['a','e','i','o','u','y','æ','ø','å']\n",
    "\n",
    "def sang(vokal=None):\n",
    "    sang_tekst = \"\"\n",
    "    with open('treSmåMusikanter.txt', 'r') as fil:\n",
    "        for linje in fil:\n",
    "            for v in vokaler:\n",
    "                if vokal:\n",
    "                    linje = linje.replace(v, vokal)\n",
    "            sang_tekst += linje\n",
    "    return sang_tekst\n",
    "\n",
    "def bytt():\n",
    "    if vokal.get() == 'n': \n",
    "        sang_tekst.set(sang())\n",
    "    else:\n",
    "        sang_tekst.set(sang(vokal.get()))\n",
    "\n",
    "vindu = Tk()\n",
    "\n",
    "vokal_ramme = Frame(vindu)\n",
    "vokal_ramme.grid(column=0, row=0)\n",
    "\n",
    "vokal = StringVar()\n",
    "vokal.set('n')\n",
    "\n",
    "sang_tekst = StringVar()\n",
    "sang_tekst.set(sang())\n",
    "\n",
    "normal = Radiobutton(vokal_ramme, text='normal', value='n', variable=vokal, command=bytt)\n",
    "normal.grid(column=0, row=0)\n",
    "\n",
    "for i in range(len(vokaler)):\n",
    "    Radiobutton(vokal_ramme, text=vokaler[i], value=vokaler[i], variable=vokal, command=bytt).grid(column=i+1, row=0)\n",
    "\n",
    "utskrift = Label(vindu, textvariable=sang_tekst)\n",
    "utskrift.grid(column=0, row=1)\n",
    "\n",
    "avslutt = Button(vindu, text=\"Avslutt\", command=vindu.destroy)\n",
    "avslutt.grid(column=0, row=3)\n",
    "\n",
    "vindu.mainloop()\n"
   ]
  },
  {
   "cell_type": "markdown",
   "metadata": {},
   "source": [
    "Lag en GUI med en etikett (Label) som inneholder teksten Juba repetert et antall ganger.\n",
    "Bruk en Scale-skyveknapp til å kontrollere antallet repetisjoner:"
   ]
  },
  {
   "cell_type": "code",
   "execution_count": 4,
   "metadata": {},
   "outputs": [
    {
     "ename": "",
     "evalue": "",
     "output_type": "error",
     "traceback": [
      "\u001b[1;31mThe Kernel crashed while executing code in the current cell or a previous cell. \n",
      "\u001b[1;31mPlease review the code in the cell(s) to identify a possible cause of the failure. \n",
      "\u001b[1;31mClick <a href='https://aka.ms/vscodeJupyterKernelCrash'>here</a> for more info. \n",
      "\u001b[1;31mView Jupyter <a href='command:jupyter.viewOutput'>log</a> for further details."
     ]
    }
   ],
   "source": [
    "from tkinter import *\n",
    "\n",
    "vindu = Tk()\n",
    "vindu.title('Jubalong')\n",
    "\n",
    "skrift = StringVar()\n",
    "skrift.set('Juba')\n",
    "\n",
    "skrift_antall = IntVar()\n",
    "skrift_antall.set(1)\n",
    "\n",
    "def endreSkrift(N):\n",
    "    skrift.set('Juba ' * int(N))\n",
    "\n",
    "bar = Scale(vindu, orient=HORIZONTAL, variable=skrift_antall, from_=1, to=5, command=endreSkrift)\n",
    "tekst = Label(vindu, textvariable=skrift)\n",
    "\n",
    "bar.grid(column=0, row=0)\n",
    "tekst.grid(column=0, row=1)\n",
    "\n",
    "vindu.mainloop()\n"
   ]
  },
  {
   "cell_type": "markdown",
   "metadata": {},
   "source": [
    "TEST"
   ]
  },
  {
   "cell_type": "code",
   "execution_count": 1,
   "metadata": {},
   "outputs": [
    {
     "name": "stderr",
     "output_type": "stream",
     "text": [
      "2024-11-12 18:39:57.904 Python[45489:2858780] +[IMKClient subclass]: chose IMKClient_Modern\n",
      "2024-11-12 18:39:57.904 Python[45489:2858780] +[IMKInputSession subclass]: chose IMKInputSession_Modern\n"
     ]
    }
   ],
   "source": [
    "import tkinter as tk\n",
    "\n",
    "def increase():\n",
    "    value = int(lbl_value[\"text\"])\n",
    "    lbl_value[\"text\"] = f\"{value + 1}\"\n",
    "\n",
    "def decrease():\n",
    "    value = int(lbl_value[\"text\"])\n",
    "    lbl_value[\"text\"] = f\"{value - 1}\"\n",
    "\n",
    "window = tk.Tk()\n",
    "\n",
    "window.rowconfigure(0, minsize=50, weight=1)\n",
    "window.columnconfigure([0, 1, 2], minsize=50, weight=1)\n",
    "\n",
    "btn_decrease = tk.Button(master=window, text=\"-\", command=decrease)\n",
    "btn_decrease.grid(row=0, column=0, sticky=\"nsew\")\n",
    "\n",
    "lbl_value = tk.Label(master=window, text=\"0\")\n",
    "lbl_value.grid(row=0, column=1)\n",
    "\n",
    "btn_increase = tk.Button(master=window, text=\"+\", command=increase)\n",
    "btn_increase.grid(row=0, column=2, sticky=\"nsew\")\n",
    "\n",
    "window.mainloop()"
   ]
  },
  {
   "cell_type": "code",
   "execution_count": 2,
   "metadata": {},
   "outputs": [
    {
     "ename": "KeyboardInterrupt",
     "evalue": "",
     "output_type": "error",
     "traceback": [
      "\u001b[0;31m---------------------------------------------------------------------------\u001b[0m",
      "\u001b[0;31mKeyboardInterrupt\u001b[0m                         Traceback (most recent call last)",
      "Cell \u001b[0;32mIn[2], line 41\u001b[0m\n\u001b[1;32m     38\u001b[0m lbl_result\u001b[38;5;241m.\u001b[39mgrid(row\u001b[38;5;241m=\u001b[39m\u001b[38;5;241m0\u001b[39m, column\u001b[38;5;241m=\u001b[39m\u001b[38;5;241m2\u001b[39m, padx\u001b[38;5;241m=\u001b[39m\u001b[38;5;241m10\u001b[39m)\n\u001b[1;32m     40\u001b[0m \u001b[38;5;66;03m# Run the application\u001b[39;00m\n\u001b[0;32m---> 41\u001b[0m \u001b[43mwindow\u001b[49m\u001b[38;5;241;43m.\u001b[39;49m\u001b[43mmainloop\u001b[49m\u001b[43m(\u001b[49m\u001b[43m)\u001b[49m\n",
      "File \u001b[0;32m/opt/homebrew/Cellar/python@3.12/3.12.7_1/Frameworks/Python.framework/Versions/3.12/lib/python3.12/tkinter/__init__.py:1505\u001b[0m, in \u001b[0;36mMisc.mainloop\u001b[0;34m(self, n)\u001b[0m\n\u001b[1;32m   1503\u001b[0m \u001b[38;5;28;01mdef\u001b[39;00m \u001b[38;5;21mmainloop\u001b[39m(\u001b[38;5;28mself\u001b[39m, n\u001b[38;5;241m=\u001b[39m\u001b[38;5;241m0\u001b[39m):\n\u001b[1;32m   1504\u001b[0m \u001b[38;5;250m    \u001b[39m\u001b[38;5;124;03m\"\"\"Call the mainloop of Tk.\"\"\"\u001b[39;00m\n\u001b[0;32m-> 1505\u001b[0m     \u001b[38;5;28;43mself\u001b[39;49m\u001b[38;5;241;43m.\u001b[39;49m\u001b[43mtk\u001b[49m\u001b[38;5;241;43m.\u001b[39;49m\u001b[43mmainloop\u001b[49m\u001b[43m(\u001b[49m\u001b[43mn\u001b[49m\u001b[43m)\u001b[49m\n",
      "\u001b[0;31mKeyboardInterrupt\u001b[0m: "
     ]
    }
   ],
   "source": [
    "import tkinter as tk\n",
    "\n",
    "def fahrenheit_to_celsius():\n",
    "    \"\"\"Convert the value for Fahrenheit to Celsius and insert the\n",
    "    result into lbl_result.\n",
    "    \"\"\"\n",
    "    fahrenheit = ent_temperature.get()\n",
    "    celsius = (5 / 9) * (float(fahrenheit) - 32)\n",
    "    lbl_result[\"text\"] = f\"{round(celsius, 2)} \\N{DEGREE CELSIUS}\"\n",
    "\n",
    "# Set up the window\n",
    "window = tk.Tk()\n",
    "window.title(\"Temperature Converter\")\n",
    "window.resizable(width=False, height=False)\n",
    "\n",
    "# Create the Fahrenheit entry frame with an Entry\n",
    "# widget and label in it\n",
    "frm_entry = tk.Frame(master=window)\n",
    "ent_temperature = tk.Entry(master=frm_entry, width=10)\n",
    "lbl_temp = tk.Label(master=frm_entry, text=\"\\N{DEGREE FAHRENHEIT}\")\n",
    "\n",
    "# Layout the temperature Entry and Label in frm_entry\n",
    "# using the .grid() geometry manager\n",
    "ent_temperature.grid(row=0, column=0, sticky=\"e\")\n",
    "lbl_temp.grid(row=0, column=1, sticky=\"w\")\n",
    "\n",
    "# Create the conversion Button and result display Label\n",
    "btn_convert = tk.Button(\n",
    "    master=window,\n",
    "    text=\"\\N{RIGHTWARDS BLACK ARROW}\",\n",
    "    command=fahrenheit_to_celsius\n",
    ")\n",
    "lbl_result = tk.Label(master=window, text=\"\\N{DEGREE CELSIUS}\")\n",
    "\n",
    "# Set up the layout using the .grid() geometry manager\n",
    "frm_entry.grid(row=0, column=0, padx=10)\n",
    "btn_convert.grid(row=0, column=1, pady=10)\n",
    "lbl_result.grid(row=0, column=2, padx=10)\n",
    "\n",
    "# Run the application\n",
    "window.mainloop()"
   ]
  },
  {
   "cell_type": "code",
   "execution_count": 3,
   "metadata": {},
   "outputs": [],
   "source": [
    "import tkinter as tk\n",
    "\n",
    "# Create the main window\n",
    "root = tk.Tk()\n",
    "root.title(\"Norwegian Flag\")\n",
    "\n",
    "# Set the window size\n",
    "canvas = tk.Canvas(root, width=300, height=200)\n",
    "canvas.pack()\n",
    "\n",
    "# Draw the blue rectangle\n",
    "canvas.create_rectangle(0, 0, 300, 100, fill=\"blue\")\n",
    "\n",
    "# Draw the white cross\n",
    "canvas.create_rectangle(120, 0, 180, 200, fill=\"white\")\n",
    "canvas.create_rectangle(0, 70, 300, 130, fill=\"white\")\n",
    "\n",
    "# Draw the red borders of the cross\n",
    "canvas.create_rectangle(120, 40, 180, 60, fill=\"red\")\n",
    "canvas.create_rectangle(120, 140, 180, 160, fill=\"red\")\n",
    "canvas.create_rectangle(100, 70, 120, 130, fill=\"red\")\n",
    "canvas.create_rectangle(180, 70, 200, 130, fill=\"red\")\n",
    "\n",
    "# Start the main event loop\n",
    "root.mainloop()"
   ]
  },
  {
   "cell_type": "markdown",
   "metadata": {},
   "source": [
    "**Oppgave 7**"
   ]
  },
  {
   "cell_type": "markdown",
   "metadata": {},
   "source": [
    "Lag en GUI med karakterknapper, der du kan trykke på karakterer, en etter en, så lenge du vil.\n",
    "Snittet av karakterene du har gitt skal til enhver tid stå under karakterene."
   ]
  },
  {
   "cell_type": "code",
   "execution_count": 1,
   "metadata": {},
   "outputs": [
    {
     "name": "stderr",
     "output_type": "stream",
     "text": [
      "2024-11-14 14:15:08.800 Python[21343:3697052] +[IMKClient subclass]: chose IMKClient_Modern\n",
      "2024-11-14 14:15:08.800 Python[21343:3697052] +[IMKInputSession subclass]: chose IMKInputSession_Modern\n"
     ]
    }
   ],
   "source": [
    "from tkinter import *\n",
    "\n",
    "karakter_skala = [\"A\", \"B\", \"C\", \"D\", \"E\", \"F\"]\n",
    "karakterer = []\n",
    "\n",
    "window = Tk()\n",
    "frame = Frame(window)\n",
    "frame.grid(row=0, column=0)\n",
    "\n",
    "def juster_verdi(verdi):\n",
    "    karakterer.append(verdi)\n",
    "    tall_snitt = round(sum(karakterer)/len(karakterer),2)\n",
    "    karakter_snitt = karakter_skala[-int(tall_snitt)]\n",
    "    karakter_lbl[\"text\"] = f\"Akkumulert snitt: {karakter_snitt} ({tall_snitt})\"\n",
    "\n",
    "for i in range(len(karakter_skala)):\n",
    "    verdi = len(karakter_skala) - i\n",
    "    Button(frame, text=karakter_skala[i], command=lambda v=verdi: juster_verdi(v)).grid(row=0, column=i)\n",
    "\n",
    "avslutt_btn = Button(window, text=\"slutt\", command=window.destroy)\n",
    "avslutt_btn.grid(row=0, column=1)\n",
    "karakter_lbl = Label(window, text=\"Akkumulert snitt: 0\")\n",
    "karakter_lbl.grid(row=1, column=0)\n",
    "\n",
    "window.mainloop()\n"
   ]
  },
  {
   "cell_type": "code",
   "execution_count": 21,
   "metadata": {},
   "outputs": [
    {
     "ename": "ValueError",
     "evalue": "invalid literal for int() with base 10: '2.2'",
     "output_type": "error",
     "traceback": [
      "\u001b[0;31m---------------------------------------------------------------------------\u001b[0m",
      "\u001b[0;31mValueError\u001b[0m                                Traceback (most recent call last)",
      "Cell \u001b[0;32mIn[21], line 3\u001b[0m\n\u001b[1;32m      1\u001b[0m a \u001b[38;5;241m=\u001b[39m \u001b[38;5;28mfloat\u001b[39m(\u001b[38;5;124m\"\u001b[39m\u001b[38;5;124m2.7\u001b[39m\u001b[38;5;124m\"\u001b[39m)\n\u001b[1;32m      2\u001b[0m b \u001b[38;5;241m=\u001b[39m \u001b[38;5;28mint\u001b[39m(a)\n\u001b[0;32m----> 3\u001b[0m c \u001b[38;5;241m=\u001b[39m \u001b[38;5;28;43mint\u001b[39;49m\u001b[43m(\u001b[49m\u001b[38;5;124;43m\"\u001b[39;49m\u001b[38;5;124;43m2.2\u001b[39;49m\u001b[38;5;124;43m\"\u001b[39;49m\u001b[43m)\u001b[49m\n\u001b[1;32m      4\u001b[0m \u001b[38;5;28mprint\u001b[39m(b)\n\u001b[1;32m      5\u001b[0m \u001b[38;5;28mprint\u001b[39m(c)\n",
      "\u001b[0;31mValueError\u001b[0m: invalid literal for int() with base 10: '2.2'"
     ]
    }
   ],
   "source": [
    "a = float(\"2.7\")\n",
    "b = int(a)\n",
    "c = int(\"2.2\")\n",
    "print(b)\n",
    "print(c)"
   ]
  },
  {
   "cell_type": "code",
   "execution_count": 22,
   "metadata": {},
   "outputs": [
    {
     "name": "stdout",
     "output_type": "stream",
     "text": [
      "5\n"
     ]
    }
   ],
   "source": [
    "def prosedyre1():\n",
    "    tall = 10\n",
    "    if tall > 10:\n",
    "        inn = input()\n",
    "        print(inn)\n",
    "    else:\n",
    "        tall = tall - 4\n",
    "\n",
    "def prosedyre2():\n",
    "    tall = 2\n",
    "\n",
    "tall = 5\n",
    "prosedyre2()\n",
    "prosedyre1()\n",
    "\n",
    "print(tall)"
   ]
  },
  {
   "cell_type": "code",
   "execution_count": null,
   "metadata": {},
   "outputs": [],
   "source": [
    "liste = []\n",
    "\n",
    "while len(liste) < 5:\n",
    "    indreliste = [len(liste)] * len(liste)\n",
    "    liste.append(indreliste)\n",
    "\n"
   ]
  },
  {
   "cell_type": "code",
   "execution_count": 24,
   "metadata": {},
   "outputs": [
    {
     "name": "stdout",
     "output_type": "stream",
     "text": [
      "[1, 1]\n"
     ]
    }
   ],
   "source": [
    "print([1]*2)"
   ]
  },
  {
   "cell_type": "code",
   "execution_count": 28,
   "metadata": {},
   "outputs": [
    {
     "name": "stdout",
     "output_type": "stream",
     "text": [
      "4\n",
      "1\n",
      "2\n",
      "2\n",
      "4\n"
     ]
    }
   ],
   "source": [
    "liste = [2,1,4,0,2]\n",
    "\n",
    "sum = 0\n",
    "\n",
    "for i in liste:\n",
    "    \n",
    "    print(liste[i])\n"
   ]
  },
  {
   "cell_type": "code",
   "execution_count": 31,
   "metadata": {},
   "outputs": [
    {
     "name": "stdout",
     "output_type": "stream",
     "text": [
      "a + b = 3\n"
     ]
    },
    {
     "ename": "",
     "evalue": "",
     "output_type": "error",
     "traceback": [
      "\u001b[1;31mThe Kernel crashed while executing code in the current cell or a previous cell. \n",
      "\u001b[1;31mPlease review the code in the cell(s) to identify a possible cause of the failure. \n",
      "\u001b[1;31mClick <a href='https://aka.ms/vscodeJupyterKernelCrash'>here</a> for more info. \n",
      "\u001b[1;31mView Jupyter <a href='command:jupyter.viewOutput'>log</a> for further details."
     ]
    }
   ],
   "source": [
    "a = 1\n",
    "b = 2\n",
    "\n",
    "print(f\"{a + b = }\")"
   ]
  },
  {
   "cell_type": "code",
   "execution_count": null,
   "metadata": {},
   "outputs": [],
   "source": [
    "class Kopp:\n",
    "    def __init__(self, navn):\n",
    "        self._navn = navn\n",
    "        \n",
    "sioGrå = Kopp(\"SIO Kaffeavtale\")\n",
    "sioRosa = sioGrå\n",
    "termokopp = Kopp(\"Bodum Termokopp\")\n",
    "tekopp = Kopp(\"Stor kopp med hank\")\n",
    "kaffekopp = Kopp(\"Kopp med hank\")\n",
    "tekopp = kaffekopp"
   ]
  },
  {
   "cell_type": "code",
   "execution_count": 3,
   "metadata": {},
   "outputs": [
    {
     "name": "stdout",
     "output_type": "stream",
     "text": [
      "1 1 2\n"
     ]
    }
   ],
   "source": [
    "sekunder = 3662\n",
    "timer = sekunder // 3600\n",
    "minutter = (sekunder % 3600) // 60\n",
    "sekunder = sekunder % 60\n",
    "\n",
    "print(timer, minutter, sekunder)"
   ]
  },
  {
   "cell_type": "code",
   "execution_count": 4,
   "metadata": {},
   "outputs": [
    {
     "name": "stdout",
     "output_type": "stream",
     "text": [
      "100.0\n"
     ]
    }
   ],
   "source": [
    "print(1E2)"
   ]
  }
 ],
 "metadata": {
  "kernelspec": {
   "display_name": "Python 3",
   "language": "python",
   "name": "python3"
  },
  "language_info": {
   "codemirror_mode": {
    "name": "ipython",
    "version": 3
   },
   "file_extension": ".py",
   "mimetype": "text/x-python",
   "name": "python",
   "nbconvert_exporter": "python",
   "pygments_lexer": "ipython3",
   "version": "3.12.7"
  }
 },
 "nbformat": 4,
 "nbformat_minor": 2
}
