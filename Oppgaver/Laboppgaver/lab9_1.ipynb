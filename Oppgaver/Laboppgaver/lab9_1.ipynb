{
 "cells": [
  {
   "cell_type": "markdown",
   "metadata": {},
   "source": [
    "**Oppgave 1**"
   ]
  },
  {
   "cell_type": "markdown",
   "metadata": {},
   "source": [
    "a) Lag en fortegnelse over hvor mange dager det er i hver måned (se bort fra skuddår)"
   ]
  },
  {
   "cell_type": "code",
   "execution_count": 1,
   "metadata": {},
   "outputs": [
    {
     "data": {
      "text/plain": [
       "31"
      ]
     },
     "execution_count": 1,
     "metadata": {},
     "output_type": "execute_result"
    }
   ],
   "source": [
    "antallDager = {  \n",
    "    \"Januar\": 31,  \n",
    "    \"Februar\": 28,\n",
    "    \"Mars\": 31,  \n",
    "    \"April\": 30,  \n",
    "    \"Mai\": 31,  \n",
    "    \"Juni\": 30,  \n",
    "    \"Juli\": 31,  \n",
    "    \"August\": 31,  \n",
    "    \"September\": 30,  \n",
    "    \"Oktober\": 31,  \n",
    "    \"November\": 30,  \n",
    "    \"Desember\": 31  \n",
    "}\n",
    "\n",
    "antallDager[\"Mai\"]\n"
   ]
  },
  {
   "cell_type": "markdown",
   "metadata": {},
   "source": [
    "b) Skriv en funksjon som lar en bruker taste inn nedbørsmengden for et gitt antall dager og lager en\n",
    "fortegnelse over nedbørsdataene for perioden. "
   ]
  },
  {
   "cell_type": "code",
   "execution_count": 8,
   "metadata": {},
   "outputs": [
    {
     "name": "stdout",
     "output_type": "stream",
     "text": [
      "{1: 5, 2: 2, 3: 3}\n"
     ]
    }
   ],
   "source": [
    "antallDager = {  \n",
    "    \"Januar\": 31,  \n",
    "    \"Februar\": 28,\n",
    "    \"Mars\": 31,  \n",
    "    \"April\": 30,  \n",
    "    \"Mai\": 31,  \n",
    "    \"Juni\": 30,  \n",
    "    \"Juli\": 31,  \n",
    "    \"August\": 31,  \n",
    "    \"September\": 30,  \n",
    "    \"Oktober\": 31,  \n",
    "    \"November\": 30,  \n",
    "    \"Desember\": 31  \n",
    "}\n",
    "\n",
    "def lagNedbørsFortegnelse(antall):\n",
    "    nedbør_dict = {}\n",
    "    dag = \"\"\n",
    "\n",
    "    for i in range(1, antall+1):\n",
    "        dag = int(input(f\"dag {i}, nedbør: \"))\n",
    "        nedbør_dict[i] = dag\n",
    "    return nedbør_dict\n",
    "\n",
    "treSisteDager=lagNedbørsFortegnelse(3)\n",
    "print(treSisteDager)\n"
   ]
  },
  {
   "cell_type": "markdown",
   "metadata": {},
   "source": [
    "**Oppgave 2**"
   ]
  },
  {
   "cell_type": "markdown",
   "metadata": {},
   "source": [
    "Du har fortegnelser med nedbørsdata for hver dag i en måned."
   ]
  },
  {
   "cell_type": "code",
   "execution_count": 13,
   "metadata": {},
   "outputs": [
    {
     "data": {
      "text/plain": [
       "2.71"
      ]
     },
     "execution_count": 13,
     "metadata": {},
     "output_type": "execute_result"
    }
   ],
   "source": [
    "nedbør_mai = {\n",
    "    1: 2, 2: 5, 3: 6, 4: 4, 5: 2, 6: 0, 7: 0, 8: 1, 9: 2, 10: 9,\n",
    "    11: 5, 12: 5, 13: 0, 14: 0, 15: 3, 16: 3, 17: 0, 18: 4,\n",
    "    19: 5, 20: 9, 21: 1, 22: 4, 23: 0, 24: 0, 25: 0, 26: 2,\n",
    "    27: 5, 28: 4, 29: 0, 30: 2, 31: 1\n",
    "}\n",
    "\n",
    "def snitt_nedbør(fortegnelse):\n",
    "    total_nedbør = sum(fortegnelse.values())\n",
    "    antall_dager = len(fortegnelse)\n",
    "    return round(total_nedbør / antall_dager, 2)\n",
    "\n",
    "print(snitt_nedbør(nedbør_mai))\n"
   ]
  },
  {
   "cell_type": "markdown",
   "metadata": {},
   "source": [
    "**Oppgave 3**"
   ]
  },
  {
   "cell_type": "markdown",
   "metadata": {},
   "source": [
    "Lag en funksjon som tar inn en fortegnelse med navn på personer og deres alder. Den skal\n",
    "returnere en liste med navnene på personene som er over en viss alder. Alderen som skal sjekkes\n",
    "skal også være en parameter for funksjonen."
   ]
  },
  {
   "cell_type": "code",
   "execution_count": 20,
   "metadata": {},
   "outputs": [
    {
     "data": {
      "text/plain": [
       "['Lise', 'Mona']"
      ]
     },
     "execution_count": 20,
     "metadata": {},
     "output_type": "execute_result"
    }
   ],
   "source": [
    "alderfortegnelse = {'Jonas': 25, 'Lise': 30, 'Per': 20, 'Mona': 35}\n",
    "\n",
    "def person_over_alder(fortegnelse, alder):\n",
    "    return [person for person in fortegnelse if fortegnelse.get(person) >= alder]\n",
    "\n",
    "person_over_alder(alderfortegnelse, 30)"
   ]
  },
  {
   "cell_type": "markdown",
   "metadata": {},
   "source": [
    "**Oppgave 6**"
   ]
  },
  {
   "cell_type": "markdown",
   "metadata": {},
   "source": [
    "Lag en funksjon FibonacciFortegnelse(n) som returnerer fortegnelsen med de n første\n",
    "Fibonacci-tallene. (Husk: Fibonacci-serien starter slik: 1, 1, 2, 3, 5, 8…. og generelt er hvert tall\n",
    "summen av de to foregående)"
   ]
  },
  {
   "cell_type": "code",
   "execution_count": 25,
   "metadata": {},
   "outputs": [
    {
     "name": "stdout",
     "output_type": "stream",
     "text": [
      "1\n",
      "1\n",
      "2\n",
      "3\n",
      "5\n",
      "8\n",
      "13\n",
      "21\n"
     ]
    }
   ],
   "source": [
    "def FibonacciFortegnelse(antall):\n",
    "    Fibonacci = {0: 1, 1: 1}\n",
    "    for i in range(2, antall):\n",
    "        Fibonacci[i] = Fibonacci[i-1] + Fibonacci[i-2]\n",
    "    return Fibonacci\n",
    "\n",
    "FibonacciFortegnelse(5)\n",
    "\n",
    "for x in FibonacciFortegnelse(8).values():print(x)"
   ]
  },
  {
   "cell_type": "markdown",
   "metadata": {},
   "source": [
    "**Oppgave 7**"
   ]
  },
  {
   "cell_type": "markdown",
   "metadata": {},
   "source": [
    "Du har to fortegnelser A og B der verdiene i A er av samme type som nøklene i B.\n",
    "\n",
    "Da kan disse dataene kobles til en ny fortegnelse C, der nøkler fra A er assosiert med verdier fra B.\n",
    "Spesifikt: hvis x:y er i A og y:z er i B så skal x:z være i C. Med andre ord, hver gang en verdi i A\n",
    "matcher en nøkkel i B så skal C assosiere A-nøkkelen med B-verdien.\n",
    "Lag en funksjon for å koble to fortegnelser"
   ]
  },
  {
   "cell_type": "code",
   "execution_count": 28,
   "metadata": {},
   "outputs": [
    {
     "data": {
      "text/plain": [
       "{'ons': 'søn'}"
      ]
     },
     "execution_count": 28,
     "metadata": {},
     "output_type": "execute_result"
    }
   ],
   "source": [
    "dager={1:'man',2:'tir', 3:'ons', 4:'tor',\n",
    "5:'fre',6:'lør', 7:'søn'}\n",
    "\n",
    "temperaturer={'man':11, 'tir':9, 'ons':7, 'tor':12,\n",
    "'fre':11, 'lør':9, 'søn':8}\n",
    "\n",
    "def koble(fortegnelse1, fortegnelse2):\n",
    "    fortegnelse3 = {}\n",
    "    for x, y in fortegnelse1.items():\n",
    "        if y in fortegnelse2:\n",
    "            fortegnelse3[x] = fortegnelse2.get(y)\n",
    "\n",
    "    return fortegnelse3\n",
    "\n",
    "koble(dager,temperaturer)\n",
    "koble(temperaturer, dager)"
   ]
  },
  {
   "cell_type": "markdown",
   "metadata": {},
   "source": [
    "**Oppgave 8**"
   ]
  },
  {
   "cell_type": "markdown",
   "metadata": {},
   "source": [
    "I et sosialt nettverk kan en person følge andre personer. Dette er ikke nødvendigvis gjensidig.\n",
    "En følge-fortegnelse har personers navn som nøkler knyttet til lister av navn på personene de følger.\n",
    "\n",
    "Lag en funksjon gjensidige_følgere(følgefortegnelse,navn) som gitt en følge-fortegnelse og\n",
    "en person skal returnere listen med personer som følger hen gjensidig."
   ]
  },
  {
   "cell_type": "code",
   "execution_count": 35,
   "metadata": {},
   "outputs": [
    {
     "data": {
      "text/plain": [
       "'ukjent person: Jens'"
      ]
     },
     "execution_count": 35,
     "metadata": {},
     "output_type": "execute_result"
    }
   ],
   "source": [
    "følgere = {'Anne':['Berit','Karl','Dag'], 'Berit':['Karl','Ina'],\n",
    "'Karl':['Anne'], 'Dag':['Anne', 'Ina','Berit'],\n",
    "'Ina':['Karl','Berit','Dag']}\n",
    "\n",
    "def gjensidige_følgere(fortegnelse, navn):\n",
    "\n",
    "    if navn not in fortegnelse:\n",
    "        return f'ukjent person: {navn}'\n",
    "    \n",
    "    gjensidigFølger = []\n",
    "    for person in fortegnelse.get(navn):\n",
    "        if navn in fortegnelse.get(person):\n",
    "            gjensidigFølger.append(person)\n",
    "    return gjensidigFølger\n",
    "\n",
    "gjensidige_følgere(følgere, 'Jens')\n",
    "\n"
   ]
  },
  {
   "cell_type": "markdown",
   "metadata": {},
   "source": [
    "**Oppgave 9**"
   ]
  },
  {
   "cell_type": "markdown",
   "metadata": {},
   "source": [
    "Filen vær.txt inneholder vær-data for en uke"
   ]
  },
  {
   "cell_type": "markdown",
   "metadata": {},
   "source": [
    "a) Lag en funksjon som leser en slik fil og returnerer en nestet fortegnelse"
   ]
  },
  {
   "cell_type": "code",
   "execution_count": 42,
   "metadata": {},
   "outputs": [
    {
     "name": "stdout",
     "output_type": "stream",
     "text": [
      "{'Man': {'Temp': '10.1', 'Nedbør': '3.5', 'Vind': '8.1'}, 'Tir': {'Temp': '12.1', 'Nedbør': '10.5', 'Vind': '12.9'}, 'Ons': {'Temp': '13', 'Nedbør': '3.9', 'Vind': '12.1'}, 'Tor': {'Temp': '12.9', 'Nedbør': '0', 'Vind': '5.4'}, 'Fre': {'Temp': '11.2', 'Nedbør': '0.1', 'Vind': '5.2'}, 'Lør': {'Temp': '13.4', 'Nedbør': '0.1', 'Vind': '4.2'}, 'Søn': {'Temp': '13.2', 'Nedbør': '0.4', 'Vind': '4.3'}}\n"
     ]
    }
   ],
   "source": [
    "def lesVær(fil):\n",
    "    vær = {}\n",
    "    with open(fil, 'r') as input:\n",
    "        overskrift = input.readline()\n",
    "        overskrift_liste = overskrift.split()\n",
    "        data = input.readlines()\n",
    "\n",
    "        for linje in data:\n",
    "            data_liste = linje.split()\n",
    "            vær[data_liste[0].strip()] = {\n",
    "                overskrift_liste[1]:data_liste[1].strip(), \n",
    "                overskrift_liste[2]:data_liste[2].strip(),\n",
    "                overskrift_liste[3]:data_liste[3].strip()\n",
    "            }\n",
    "        \n",
    "    return vær\n",
    "\n",
    "vær=lesVær('vær.txt')\n",
    "print(vær)"
   ]
  },
  {
   "cell_type": "markdown",
   "metadata": {},
   "source": [
    "b) Bruk fortegnelsen til å finne temperaturen på tirsdag og vindstyrken på fredag."
   ]
  },
  {
   "cell_type": "code",
   "execution_count": 52,
   "metadata": {},
   "outputs": [
    {
     "name": "stdout",
     "output_type": "stream",
     "text": [
      "12.1\n",
      "5.2\n"
     ]
    }
   ],
   "source": [
    "vær = {'Man': {'Temp': '10.1', 'Nedbør': '3.5', 'Vind': '8.1'}, 'Tir': {'Temp': '12.1', 'Nedbør': '10.5', 'Vind': '12.9'}, 'Ons': {'Temp': '13', 'Nedbør': '3.9', 'Vind': '12.1'}, 'Tor': {'Temp': '12.9', 'Nedbør': '0', 'Vind': '5.4'}, 'Fre': {'Temp': '11.2', 'Nedbør': '0.1', 'Vind': '5.2'}, 'Lør': {'Temp': '13.4', 'Nedbør': '0.1', 'Vind': '4.2'}, 'Søn': {'Temp': '13.2', 'Nedbør': '0.4', 'Vind': '4.3'}}\n",
    "\n",
    "def søk_fortegnelse(fortegnelse, søk_dag, søk_kategori):\n",
    "    return fortegnelse.get(søk_dag,).get(søk_kategori)\n",
    "\n",
    "#søk_dag = \"Man\", \"Tir\",...\"Søn\"\n",
    "#søk_kategori = \"Temp\", \"Nedbør\", \"Vind\"\n",
    "\n",
    "print(søk_fortegnelse(vær,\"Tir\",\"Temp\"))\n",
    "print(søk_fortegnelse(vær,\"Fre\",\"Vind\"))"
   ]
  },
  {
   "cell_type": "markdown",
   "metadata": {},
   "source": [
    "c) Skriv ut dagene der nedbørsmengden er mindre enn 0.3 mm"
   ]
  },
  {
   "cell_type": "code",
   "execution_count": 57,
   "metadata": {},
   "outputs": [
    {
     "name": "stdout",
     "output_type": "stream",
     "text": [
      "Tor\n",
      "Fre\n",
      "Lør\n"
     ]
    }
   ],
   "source": [
    "vær = {'Man': {'Temp': '10.1', 'Nedbør': '3.5', 'Vind': '8.1'}, 'Tir': {'Temp': '12.1', 'Nedbør': '10.5', 'Vind': '12.9'}, 'Ons': {'Temp': '13', 'Nedbør': '3.9', 'Vind': '12.1'}, 'Tor': {'Temp': '12.9', 'Nedbør': '0', 'Vind': '5.4'}, 'Fre': {'Temp': '11.2', 'Nedbør': '0.1', 'Vind': '5.2'}, 'Lør': {'Temp': '13.4', 'Nedbør': '0.1', 'Vind': '4.2'}, 'Søn': {'Temp': '13.2', 'Nedbør': '0.4', 'Vind': '4.3'}}\n",
    "\n",
    "def nedbør_under_verdi(fortegnelse, verdi):\n",
    "    for dag in fortegnelse:\n",
    "        if fortegnelse.get(dag).get(\"Nedbør\") < verdi:\n",
    "            print(dag)\n",
    "\n",
    "nedbør_under_verdi(vær, \"0.3\")"
   ]
  },
  {
   "cell_type": "markdown",
   "metadata": {},
   "source": [
    "**Oppgave 10**"
   ]
  },
  {
   "cell_type": "markdown",
   "metadata": {},
   "source": [
    "Tenk deg nå en nestet fortegnelse der ulike sosiale nettverk er knyttet til sine respektive følge-\n",
    "fortegnelser som beskrevet i oppgave 8"
   ]
  },
  {
   "cell_type": "code",
   "execution_count": 59,
   "metadata": {},
   "outputs": [
    {
     "data": {
      "text/plain": [
       "['Ina', 'Eva', 'Dag']"
      ]
     },
     "execution_count": 59,
     "metadata": {},
     "output_type": "execute_result"
    }
   ],
   "source": [
    "nettverk=\\\n",
    "{'Facebook':{'Anne':['Berit','Karl','Dag'],'Berit':['Karl','Ina'],'Karl':['Anne'],\n",
    "'Dag':['Anne', 'Ina','Berit'], 'Ina':['Karl','Berit','Dag']},\n",
    "'Instagram':{'Anne':['Ina','Eva','Dag'], 'Berit':['Dag'], 'Gro':['Ina'],\n",
    "'Eva':['Anne','Dag'], 'Dag':['Anne', 'Ina','Berit'],\n",
    "'Ina':['Anne','Berit','Dag']},\n",
    "'Threads':{'Jon':['Berit','Karl','Dag'], 'Berit':['Karl','Ina'],\n",
    "'Åse':['Dag','Jon'],'Karl':['Anne'], 'Dag':['Jon', 'Ina','Berit'],\n",
    "'Ina':['Karl','Berit','Dag']} }\n",
    "\n",
    "def gjensidige_følgere(fortegnelse, navn):\n",
    "\n",
    "    if navn not in fortegnelse:\n",
    "        return f'ukjent person: {navn}'\n",
    "    \n",
    "    gjensidigFølger = []\n",
    "    for person in fortegnelse.get(navn):\n",
    "        if navn in fortegnelse.get(person):\n",
    "            gjensidigFølger.append(person)\n",
    "    return gjensidigFølger\n",
    "\n",
    "gjensidige_følgere(nettverk['Instagram'],'Anne')\n"
   ]
  },
  {
   "cell_type": "markdown",
   "metadata": {},
   "source": [
    "a) Lag en funksjon følgere(nettverksfortegnelse, sosialt_nettverk,person)som returnerer listen\n",
    "med de som personen følger i det gitte sosiale nettverket. Ta høyde for at ikke alle personer deltar i\n",
    "alle sosiale nettverk. Ta høyde for at ikke alle personer deltar i alle sosiale nettverk."
   ]
  },
  {
   "cell_type": "code",
   "execution_count": 60,
   "metadata": {},
   "outputs": [
    {
     "data": {
      "text/plain": [
       "['Anne', 'Ina', 'Berit']"
      ]
     },
     "execution_count": 60,
     "metadata": {},
     "output_type": "execute_result"
    }
   ],
   "source": [
    "nettverk=\\\n",
    "{'Facebook':{'Anne':['Berit','Karl','Dag'],'Berit':['Karl','Ina'],'Karl':['Anne'],\n",
    "'Dag':['Anne', 'Ina','Berit'], 'Ina':['Karl','Berit','Dag']},\n",
    "'Instagram':{'Anne':['Ina','Eva','Dag'], 'Berit':['Dag'], 'Gro':['Ina'],\n",
    "'Eva':['Anne','Dag'], 'Dag':['Anne', 'Ina','Berit'],\n",
    "'Ina':['Anne','Berit','Dag']},\n",
    "'Threads':{'Jon':['Berit','Karl','Dag'], 'Berit':['Karl','Ina'],\n",
    "'Åse':['Dag','Jon'],'Karl':['Anne'], 'Dag':['Jon', 'Ina','Berit'],\n",
    "'Ina':['Karl','Berit','Dag']} }\n",
    "\n",
    "def følgere(nettverksfortegnelse, sosialt_nettverk,person):\n",
    "    return nettverksfortegnelse.get(sosialt_nettverk).get(person)\n",
    "\n",
    "følgere(nettverk,'Facebook','Dag')"
   ]
  },
  {
   "cell_type": "markdown",
   "metadata": {},
   "source": [
    "b) Lag en funksjon alle_fulgte(nettverksfortegnelse, person) som skriver ut navn på alle\n",
    "sosiale nettverk som personen er på, samt navn på alle hen følger på minst ett av nettverkene.\n",
    "Unngå duplikater."
   ]
  },
  {
   "cell_type": "code",
   "execution_count": 77,
   "metadata": {},
   "outputs": [
    {
     "data": {
      "text/plain": [
       "'Jon er på disse nettverkene: Threads og følger disse personene: Berit, Dag, Karl'"
      ]
     },
     "execution_count": 77,
     "metadata": {},
     "output_type": "execute_result"
    }
   ],
   "source": [
    "def alle_fulgte(nettverksfortegnelse, person):\n",
    "    nettverk = []\n",
    "    fulgte = []\n",
    "    \n",
    "    for medie in nettverksfortegnelse:\n",
    "        if nettverksfortegnelse.get(medie).get(person):\n",
    "            nettverk.append(medie)\n",
    "            fulgte += nettverksfortegnelse.get(medie).get(person)\n",
    "\n",
    "    fulgte = list(set(fulgte))\n",
    "    return (f\"{person} er på disse nettverkene: {', '.join(nettverk)} og følger disse personene: {', '.join(fulgte)}\")\n",
    "\n",
    "\n",
    "alle_fulgte(nettverk, 'Anne')\n",
    "alle_fulgte(nettverk, 'Jon')"
   ]
  }
 ],
 "metadata": {
  "kernelspec": {
   "display_name": "Python 3",
   "language": "python",
   "name": "python3"
  },
  "language_info": {
   "codemirror_mode": {
    "name": "ipython",
    "version": 3
   },
   "file_extension": ".py",
   "mimetype": "text/x-python",
   "name": "python",
   "nbconvert_exporter": "python",
   "pygments_lexer": "ipython3",
   "version": "3.12.7"
  }
 },
 "nbformat": 4,
 "nbformat_minor": 2
}
