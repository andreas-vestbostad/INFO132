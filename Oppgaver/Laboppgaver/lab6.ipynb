{
 "cells": [
  {
   "cell_type": "markdown",
   "metadata": {},
   "source": [
    "**Oppgave 3**"
   ]
  },
  {
   "cell_type": "code",
   "execution_count": 15,
   "metadata": {},
   "outputs": [
    {
     "name": "stdout",
     "output_type": "stream",
     "text": [
      "EXPHIL    (10) Examen philosophicum\n",
      "ECON100   (10) Innføring i samfunnsøkonomi\n",
      "DATA110   (10) Innføring i programmering\n",
      "DATA150   (5) Datasett\n",
      "INFO135   (10) Viderekommande programmering\n",
      "STAT110   (10) Grunnkurs i statistikk\n"
     ]
    }
   ],
   "source": [
    "class Emne:\n",
    "    def __init__(self, emnekode, tittel, studiepoeng):\n",
    "        self.emnekode = emnekode\n",
    "        self.tittel = tittel\n",
    "        self.studiepoeng = studiepoeng\n",
    "\n",
    "    def skriv(self):\n",
    "        print(f\"{self.emnekode:<9} ({self.studiepoeng}) {self.tittel}\")\n",
    "    \n",
    "exphil = Emne('EXPHIL', 'Examen philosophicum', 10)\n",
    "econ100 = Emne('ECON100', 'Innføring i samfunnsøkonomi', 10)\n",
    "data100 = Emne('DATA110', 'Innføring i programmering', 10)\n",
    "data150 = Emne('DATA150', 'Datasett', 5)\n",
    "info135 = Emne('INFO135', 'Viderekommande programmering', 10)\n",
    "stat110 = Emne('STAT110', 'Grunnkurs i statistikk', 10)\n",
    "\n",
    "liste = [exphil, econ100, data100, data150, info135, stat110]\n",
    "\n",
    "for fag in liste:\n",
    "    fag.skriv()"
   ]
  },
  {
   "cell_type": "markdown",
   "metadata": {},
   "source": [
    "**Oppgave 12**"
   ]
  },
  {
   "cell_type": "code",
   "execution_count": 18,
   "metadata": {},
   "outputs": [
    {
     "name": "stdout",
     "output_type": "stream",
     "text": [
      "Kari\n",
      "Petter\n",
      "Kjell\n"
     ]
    },
    {
     "data": {
      "text/plain": [
       "'kjeden er for lang'"
      ]
     },
     "execution_count": 18,
     "metadata": {},
     "output_type": "execute_result"
    }
   ],
   "source": [
    "class Person:\n",
    "    def __init__(self, navn, far=None, mor=None):\n",
    "        self.navn = navn\n",
    "        self.far = far\n",
    "        self.mor = mor\n",
    "\n",
    "    def forgjengere(self, sekvens):\n",
    "        person = self\n",
    "        for bokstav in sekvens:\n",
    "            if bokstav == 'F':\n",
    "                if person.far: \n",
    "                    person = person.far\n",
    "                    print(person.navn)\n",
    "                else: return \"kjeden er for lang\"\n",
    "            elif bokstav == 'M':\n",
    "                if person.mor: \n",
    "                    person = person.mor\n",
    "                    print(person.navn)\n",
    "                else: return \"kjeden er for lang\"\n",
    "        return person.navn\n",
    "\n",
    "\n",
    "anders = Person(\"Anders\")\n",
    "anna = Person(\"Anna\")\n",
    "tor = Person(\"Tor\")\n",
    "guri = Person(\"Guri\")\n",
    "kjell = Person(\"Kjell\")\n",
    "olaug = Person(\"Olaug\")\n",
    "arne = Person(\"Arne\")\n",
    "solveig = Person(\"Solveig\")\n",
    "\n",
    "jens = Person(\"Jens\", far=anders, mor=anna)\n",
    "liv = Person(\"Liv\", far=tor, mor=guri)\n",
    "petter = Person(\"Petter\", far=kjell, mor=olaug)\n",
    "sara = Person(\"Sara\", far=arne, mor=solveig)\n",
    "\n",
    "ola = Person(\"Ola\", far=jens, mor=liv)\n",
    "kari = Person(\"Kari\", far=petter, mor=sara)\n",
    "\n",
    "per = Person(\"Per\", far=ola, mor=kari)\n",
    "\n",
    "\n",
    "per.forgjengere('MFFF')"
   ]
  }
 ],
 "metadata": {
  "kernelspec": {
   "display_name": "Python 3",
   "language": "python",
   "name": "python3"
  },
  "language_info": {
   "codemirror_mode": {
    "name": "ipython",
    "version": 3
   },
   "file_extension": ".py",
   "mimetype": "text/x-python",
   "name": "python",
   "nbconvert_exporter": "python",
   "pygments_lexer": "ipython3",
   "version": "3.12.6"
  }
 },
 "nbformat": 4,
 "nbformat_minor": 2
}
