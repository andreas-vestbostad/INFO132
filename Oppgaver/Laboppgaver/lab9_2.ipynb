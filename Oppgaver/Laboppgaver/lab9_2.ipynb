{
 "cells": [
  {
   "cell_type": "markdown",
   "metadata": {},
   "source": [
    "**Oppgave 8**"
   ]
  },
  {
   "cell_type": "markdown",
   "metadata": {},
   "source": [
    "L1 er en sub-liste av L2 dersom L1 er et segment i L2. Dvs at elementene fra L1 forekommer i L2,\n",
    "uavbrutt og i samme rekkefølge.\n",
    "\n",
    "a) Lag en funksjon som sjekker om en liste er subliste av en annen liste"
   ]
  },
  {
   "cell_type": "code",
   "execution_count": 24,
   "metadata": {},
   "outputs": [
    {
     "name": "stdout",
     "output_type": "stream",
     "text": [
      "True\n",
      "False\n"
     ]
    }
   ],
   "source": [
    "def subliste(liste1,liste2):\n",
    "    for i in range(0,len(liste2)-1):\n",
    "        if liste2[i:i+len(liste1)] == liste1:\n",
    "            return True\n",
    "    return False\n",
    "\n",
    "print(subliste([3,4,5], [1,2,3,4,5,6,7]))\n",
    "print(subliste([3,4,5], [7,6,5,4,3,2,1]))"
   ]
  },
  {
   "cell_type": "markdown",
   "metadata": {},
   "source": [
    "b) Lag en funksjon som finner alle posisjonene til en subliste i en større liste"
   ]
  },
  {
   "cell_type": "code",
   "execution_count": 25,
   "metadata": {},
   "outputs": [
    {
     "name": "stdout",
     "output_type": "stream",
     "text": [
      "[3, 9, 11, 15]\n"
     ]
    }
   ],
   "source": [
    "def sublistePos(liste1,liste2):\n",
    "    pos = []\n",
    "    for i in range(0,len(liste2)-1):\n",
    "        if liste2[i:i+len(liste1)] == liste1:\n",
    "            pos.append(i)\n",
    "    return pos\n",
    "\n",
    "print(sublistePos([4,5], [1,2,3,4,5,6,5,4,3,4,5,4,5,6,3,4,5,6,7]))"
   ]
  },
  {
   "cell_type": "markdown",
   "metadata": {},
   "source": [
    "**Oppgave 9**"
   ]
  },
  {
   "cell_type": "markdown",
   "metadata": {},
   "source": [
    "Lag funksjoner for å håndtere 2-dimensjonale tabeller med tall, representert som lister\n",
    "\n",
    "Liste-representasjon: [[1,2,3], [4,5,6], [7,8,9], [10,11,12]]"
   ]
  },
  {
   "cell_type": "markdown",
   "metadata": {},
   "source": [
    "a) Funksjonen lagTabell(antallKolonner, antallRader) skal opprette en tabell med de gitte\n",
    "dimensjonene. Initielt kan alle celler inneholde verdien 0."
   ]
  },
  {
   "cell_type": "code",
   "execution_count": 32,
   "metadata": {},
   "outputs": [
    {
     "data": {
      "text/plain": [
       "[[0, 0, 0], [0, 0, 0], [0, 0, 0], [0, 0, 0]]"
      ]
     },
     "execution_count": 32,
     "metadata": {},
     "output_type": "execute_result"
    }
   ],
   "source": [
    "def lagTabell(antallKolonner, antallRader):\n",
    "    tabell = []\n",
    "\n",
    "    while len(tabell) < antallRader:\n",
    "        tabell.append([])\n",
    "\n",
    "    for rad in tabell:\n",
    "        while len(rad) < antallKolonner:\n",
    "            rad.append(0)\n",
    "    \n",
    "    return tabell\n",
    "\n",
    "lagTabell(3, 4)"
   ]
  },
  {
   "cell_type": "markdown",
   "metadata": {},
   "source": [
    "b) Funksjonen skrivTabell(tabell) skriver ut tabellen på en passende måte"
   ]
  },
  {
   "cell_type": "code",
   "execution_count": 35,
   "metadata": {},
   "outputs": [
    {
     "name": "stdout",
     "output_type": "stream",
     "text": [
      "0 0 0\n",
      "0 0 0\n",
      "0 0 0\n",
      "0 0 0\n"
     ]
    }
   ],
   "source": [
    "def lagTabell(antallKolonner, antallRader):\n",
    "    tabell = []\n",
    "\n",
    "    while len(tabell) < antallRader:\n",
    "        tabell.append([])\n",
    "\n",
    "    for rad in tabell:\n",
    "        while len(rad) < antallKolonner:\n",
    "            rad.append(0)\n",
    "    \n",
    "    return tabell\n",
    "\n",
    "def skrivTabell(tabell):\n",
    "    for rad in tabell:\n",
    "        print(*rad)\n",
    "\n",
    "tabell = lagTabell(3, 4)\n",
    "skrivTabell(tabell)"
   ]
  },
  {
   "cell_type": "markdown",
   "metadata": {},
   "source": [
    "c) Funksjonen fyllTabell(tabell, verdiListe) skal legge inn verdiene i liste fra venstre, mot høyre\n",
    "og ovenfra og ned. For tabellen over ville vi brukt verdi-listen [1,2,3,4,5,6,7,8,9,10,11,12]"
   ]
  },
  {
   "cell_type": "code",
   "execution_count": 40,
   "metadata": {},
   "outputs": [
    {
     "name": "stdout",
     "output_type": "stream",
     "text": [
      "1 2 3\n",
      "4 5 6\n",
      "7 8 9\n",
      "10 11 12\n"
     ]
    }
   ],
   "source": [
    "def fyllTabell(tabell, verdiListe):\n",
    "    indeks = 0\n",
    "    for rad in range(len(tabell)):\n",
    "        for kolonne in range(len(tabell[rad])):\n",
    "            if indeks < len(verdiListe):\n",
    "                tabell[rad][kolonne] = verdiListe[indeks]\n",
    "                indeks += 1\n",
    "            else:\n",
    "                break\n",
    "    return tabell\n",
    "\n",
    "def lagTabell(antallKolonner, antallRader):\n",
    "    tabell = []\n",
    "    while len(tabell) < antallRader:\n",
    "        tabell.append([])\n",
    "\n",
    "    for rad in tabell:\n",
    "        while len(rad) < antallKolonner:\n",
    "            rad.append(0)\n",
    "    \n",
    "    return tabell\n",
    "\n",
    "def skrivTabell(tabell):\n",
    "    for rad in tabell:\n",
    "        print(*rad)\n",
    "\n",
    "tabell = lagTabell(3, 4)\n",
    "tabell = fyllTabell(tabell, [1,2,3,4,5,6,7,8,9,10,11,12])\n",
    "skrivTabell(tabell)\n"
   ]
  },
  {
   "cell_type": "markdown",
   "metadata": {},
   "source": [
    "d) Funksjonen hentVerdi(tabell, rad, kolonne) skal returnere verdien som ligger i det gitte cellen."
   ]
  },
  {
   "cell_type": "code",
   "execution_count": 45,
   "metadata": {},
   "outputs": [
    {
     "name": "stdout",
     "output_type": "stream",
     "text": [
      "1 2 3\n",
      "4 5 6\n",
      "7 8 9\n",
      "10 11 12\n",
      "6\n"
     ]
    }
   ],
   "source": [
    "def fyllTabell(tabell, verdiListe):\n",
    "    indeks = 0\n",
    "    for rad in range(len(tabell)):\n",
    "        for kolonne in range(len(tabell[rad])):\n",
    "            if indeks < len(verdiListe):\n",
    "                tabell[rad][kolonne] = verdiListe[indeks]\n",
    "                indeks += 1\n",
    "            else:\n",
    "                break\n",
    "    return tabell\n",
    "\n",
    "def lagTabell(antallKolonner, antallRader):\n",
    "    tabell = []\n",
    "    while len(tabell) < antallRader:\n",
    "        tabell.append([])\n",
    "\n",
    "    for rad in tabell:\n",
    "        while len(rad) < antallKolonner:\n",
    "            rad.append(0)\n",
    "    \n",
    "    return tabell\n",
    "\n",
    "def skrivTabell(tabell):\n",
    "    for rad in tabell:\n",
    "        print(*rad)\n",
    "\n",
    "def hentVerdi(tabell, rad, kolonne):\n",
    "    return tabell[rad-1][kolonne-1]\n",
    "\n",
    "tabell = lagTabell(3, 4)\n",
    "tabell = fyllTabell(tabell, [1,2,3,4,5,6,7,8,9,10,11,12])\n",
    "skrivTabell(tabell)\n",
    "print(hentVerdi(tabell, 2, 3))\n"
   ]
  },
  {
   "cell_type": "markdown",
   "metadata": {},
   "source": [
    "e) Funksjonen settVerdi(tabell, rad, kolonne, verdi) skal legge inn den gitte verdien i cellen."
   ]
  },
  {
   "cell_type": "code",
   "execution_count": 48,
   "metadata": {},
   "outputs": [
    {
     "name": "stdout",
     "output_type": "stream",
     "text": [
      "11 12 13\n",
      "21 22 23\n",
      "31 32 33\n",
      "41 42 43\n",
      "32\n",
      "11 12 13\n",
      "21 22 23\n",
      "31 32 33\n",
      "0 42 43\n"
     ]
    }
   ],
   "source": [
    "def fyllTabell(tabell, verdiListe):\n",
    "    indeks = 0\n",
    "    for rad in range(len(tabell)):\n",
    "        for kolonne in range(len(tabell[rad])):\n",
    "            if indeks < len(verdiListe):\n",
    "                tabell[rad][kolonne] = verdiListe[indeks]\n",
    "                indeks += 1\n",
    "            else:\n",
    "                break\n",
    "    return tabell\n",
    "\n",
    "def lagTabell(antallKolonner, antallRader):\n",
    "    tabell = []\n",
    "    while len(tabell) < antallRader:\n",
    "        tabell.append([])\n",
    "\n",
    "    for rad in tabell:\n",
    "        while len(rad) < antallKolonner:\n",
    "            rad.append(0)\n",
    "    \n",
    "    return tabell\n",
    "\n",
    "def skrivTabell(tabell):\n",
    "    for rad in tabell:\n",
    "        print(*rad)\n",
    "\n",
    "def hentVerdi(tabell, kolonne, rad):\n",
    "    return tabell[rad-1][kolonne-1]\n",
    "\n",
    "def settVerdi(tabell, kolonne, rad, verdi):\n",
    "    tabell[rad-1][kolonne-1] = verdi\n",
    "\n",
    "t=lagTabell(3,4)\n",
    "fyllTabell(t, [11,12,13,21,22,23,31,32,33,41,42,43])\n",
    "skrivTabell(t)\n",
    "print(hentVerdi(t,2,3))\n",
    "settVerdi(t,1,4,0)\n",
    "skrivTabell(t)"
   ]
  }
 ],
 "metadata": {
  "kernelspec": {
   "display_name": "Python 3",
   "language": "python",
   "name": "python3"
  },
  "language_info": {
   "codemirror_mode": {
    "name": "ipython",
    "version": 3
   },
   "file_extension": ".py",
   "mimetype": "text/x-python",
   "name": "python",
   "nbconvert_exporter": "python",
   "pygments_lexer": "ipython3",
   "version": "3.12.7"
  }
 },
 "nbformat": 4,
 "nbformat_minor": 2
}
