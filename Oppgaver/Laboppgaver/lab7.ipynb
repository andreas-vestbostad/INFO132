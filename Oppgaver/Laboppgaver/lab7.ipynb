{
 "cells": [
  {
   "cell_type": "markdown",
   "metadata": {},
   "source": [
    "**Oppgave 1**"
   ]
  },
  {
   "cell_type": "markdown",
   "metadata": {},
   "source": [
    "Lag en funksjon som teller antall ord i en tekst"
   ]
  },
  {
   "cell_type": "code",
   "execution_count": 2,
   "metadata": {},
   "outputs": [
    {
     "data": {
      "text/plain": [
       "6"
      ]
     },
     "execution_count": 2,
     "metadata": {},
     "output_type": "execute_result"
    }
   ],
   "source": [
    "def antallOrd(tekst):\n",
    "    return len(tekst.split())\n",
    "\n",
    "antallOrd('Vått og kaldt og breiflabb overalt')"
   ]
  },
  {
   "cell_type": "markdown",
   "metadata": {},
   "source": [
    "**Oppgave 2**"
   ]
  },
  {
   "cell_type": "markdown",
   "metadata": {},
   "source": [
    "Lag en funksjon som skriver ut en tekst der ordene skrives vekselsvis med store og små\n",
    "bokstaver"
   ]
  },
  {
   "cell_type": "code",
   "execution_count": 15,
   "metadata": {},
   "outputs": [
    {
     "data": {
      "text/plain": [
       "'VÅTT og KALDT og BREIFLABB overalt '"
      ]
     },
     "execution_count": 15,
     "metadata": {},
     "output_type": "execute_result"
    }
   ],
   "source": [
    "def skrivStoreSmå(tekst):\n",
    "    tekst_liste = tekst.split()\n",
    "    ny_tekst = \"\"\n",
    "\n",
    "    for ord in tekst_liste:\n",
    "        if tekst_liste.index(ord)%2 == 0:\n",
    "            ny_tekst += ord.upper() + \" \"\n",
    "        else: ny_tekst += ord.lower() + \" \"\n",
    "    \n",
    "    return ny_tekst\n",
    "\n",
    "skrivStoreSmå('Vått og kaldt og breiflabb overalt')"
   ]
  },
  {
   "cell_type": "markdown",
   "metadata": {},
   "source": [
    "**Oppgave 17**"
   ]
  },
  {
   "cell_type": "markdown",
   "metadata": {},
   "source": [
    "Bytt tekstverdier i to variable uten å innføre en ekstra helpevariabel."
   ]
  },
  {
   "cell_type": "code",
   "execution_count": 16,
   "metadata": {},
   "outputs": [
    {
     "name": "stdout",
     "output_type": "stream",
     "text": [
      "hei hopp\n",
      "hopp hei\n"
     ]
    }
   ],
   "source": [
    "a='hei'\n",
    "b='hopp'\n",
    "print(a,b)\n",
    "\n",
    "a, b = b, a\n",
    "print(a,b)"
   ]
  },
  {
   "cell_type": "code",
   "execution_count": 19,
   "metadata": {},
   "outputs": [
    {
     "name": "stdout",
     "output_type": "stream",
     "text": [
      "hei hopp\n",
      "hopp hei\n"
     ]
    }
   ],
   "source": [
    "a='hei'\n",
    "b='hopp'\n",
    "print(a,b)\n",
    "\n",
    "a = ['hei','hopp']\n",
    "b= a[0]\n",
    "a= a[1]\n",
    "print(a,b)"
   ]
  },
  {
   "cell_type": "markdown",
   "metadata": {},
   "source": [
    "**Oppgave 16**"
   ]
  },
  {
   "cell_type": "markdown",
   "metadata": {},
   "source": [
    "Cæsar skift er en enkel form for kryptering av ord der hver bokstav erstattes av bokstaven\n",
    "som ligger N plasser lengre ut i alfabetet. Hvis det ikke er nok bokstaver lengre utover\n",
    "fortsetter man fra begynnelsen av alfabetet.\n",
    "Nå skal du lage funksjoner for kryptering med N=1, altså at hver bokstav erstattes med den\n",
    "neste i alfabetet, og at 'å' erstattes med 'a'.\n",
    "Du kan ta for gitt at input-ordet ikke inneholder tall, mellomrom eller andre tegn enn de\n",
    "norske bokstavene fra a-å."
   ]
  },
  {
   "cell_type": "code",
   "execution_count": 78,
   "metadata": {},
   "outputs": [
    {
     "data": {
      "text/plain": [
       "'programmering'"
      ]
     },
     "execution_count": 78,
     "metadata": {},
     "output_type": "execute_result"
    }
   ],
   "source": [
    "alfabet = list(map(chr, range(97, 123))) + ['æ',\"ø\",\"å\"] #funnet på stackoverflow\n",
    "n = 1\n",
    "\n",
    "def krypter(tekst):\n",
    "    kryptert_tekst = \"\"\n",
    "    for bokstav in tekst:\n",
    "        if alfabet.index(bokstav)+n > len(alfabet)-1:\n",
    "            plassering_alfabet = alfabet.index(bokstav)+n - len(alfabet)\n",
    "        else: plassering_alfabet = alfabet.index(bokstav)+n\n",
    "        kryptert_tekst += alfabet[plassering_alfabet]\n",
    "    return kryptert_tekst\n",
    "\n",
    "def dekrypter(tekst):\n",
    "    dekryptert_tekst = \"\"\n",
    "    for bokstav in tekst:\n",
    "        if alfabet.index(bokstav)-n > len(alfabet)-1:\n",
    "            plassering_alfabet = alfabet.index(bokstav)-n + len(alfabet)\n",
    "        else: plassering_alfabet = alfabet.index(bokstav)-n\n",
    "        dekryptert_tekst += alfabet[plassering_alfabet]\n",
    "    return dekryptert_tekst\n",
    "\n",
    "krypter('programmering')\n",
    "dekrypter('qsphsbnnfsjoh')\n"
   ]
  },
  {
   "cell_type": "markdown",
   "metadata": {},
   "source": [
    "**Oppgave 15**"
   ]
  },
  {
   "cell_type": "markdown",
   "metadata": {},
   "source": [
    "Lag en funksjon flett(t1,t2) som fletter tekstene t1 og t2 sammen til 1 tekst\n",
    "Dvs den skal returnere en tekst som starter med det 1.tegnet i t1 etterfulgt av 1. tegnet i t2.\n",
    "Så kommer 2.tegn i t1, så 2. tegn i t2 og så videre. Dersom t1 og t2 ikke er like lange skal\n",
    "resten fra den lengste legges til slutt i resultatet"
   ]
  },
  {
   "cell_type": "code",
   "execution_count": 90,
   "metadata": {},
   "outputs": [
    {
     "data": {
      "text/plain": [
       "'a1b2c3d4e5fgh'"
      ]
     },
     "execution_count": 90,
     "metadata": {},
     "output_type": "execute_result"
    }
   ],
   "source": [
    "def flett(t1,t2):\n",
    "    flettet_tekst = \"\"\n",
    "\n",
    "    for bokstav in range(0,max(len(t1),len(t2))):\n",
    "        if bokstav < len(t1): flettet_tekst += t1[bokstav]\n",
    "        if bokstav < len(t2): flettet_tekst += t2[bokstav]\n",
    "\n",
    "    return flettet_tekst\n",
    "\n",
    "flett('abcdefgh', '12345')"
   ]
  },
  {
   "cell_type": "markdown",
   "metadata": {},
   "source": [
    "**Oppgave 14**"
   ]
  },
  {
   "cell_type": "markdown",
   "metadata": {},
   "source": [
    "Lag en funksjon som gitt en person returnerer antallet verv personen har."
   ]
  },
  {
   "cell_type": "code",
   "execution_count": 44,
   "metadata": {},
   "outputs": [
    {
     "name": "stdout",
     "output_type": "stream",
     "text": [
      "\n",
      "\n",
      "Tulleveien Velforening\n",
      "Tulleveien Velforening\n",
      "leder: Kari\n",
      "leder: Kari\n",
      "kasserer: Per \n",
      "kasserer: Ole\n",
      "IT-ansvarlig: Liv\n",
      "IT-ansvarlig: Liv\n",
      "parkeringsansvarlig: Kari\n",
      "parkeringsansvarlig: Kari\n",
      "arrangementsansvarlig: Liv\n",
      "arrangementsansvarlig: Liv\n",
      "hagekonsulent: Kari\n",
      "hagekonsulent: Per \n",
      "brannansvarlig: Kari\n",
      "brannansvarlig: Kari\n",
      "\n",
      "\n",
      "\n"
     ]
    }
   ],
   "source": [
    "TV= \\\n",
    "'''\n",
    "Tulleveien Velforening\n",
    "leder: Kari\n",
    "kasserer: Ole\n",
    "IT-ansvarlig: Liv\n",
    "parkeringsansvarlig: Kari\n",
    "arrangementsansvarlig: Liv\n",
    "hagekonsulent: Kari\n",
    "brannansvarlig: Kari\n",
    "'''\n",
    "\n",
    "def verv(navn):\n",
    "    tekst_liste = TV.split(\"\\n\")\n",
    "    antall_verv = 0\n",
    "    for element in tekst_liste:\n",
    "        if navn in element:\n",
    "            antall_verv += 1\n",
    "    return antall_verv\n",
    "\n",
    "def personer():\n",
    "    tekst_liste = TV.split(\"\\n\")\n",
    "    personer_verv = []\n",
    "    for element in tekst_liste:\n",
    "        if element.find(\": \")>0:\n",
    "            personer_verv.append(element[element.find(\": \")+2:])\n",
    "    personer_verv = list(set(personer_verv))\n",
    "    return personer_verv\n",
    "\n",
    "def innsett(navn, verv):\n",
    "    tekst_liste = TV.split(\"\\n\")\n",
    "    tekst = \"\"\n",
    "    for element in tekst_liste:\n",
    "        lagt_til = False\n",
    "        for v in verv:\n",
    "            if v in element:\n",
    "                tekst += f\"{element[0:element.find(':') + 1]} {navn}\\n\"\n",
    "                lagt_til = True\n",
    "                break\n",
    "        if not lagt_til:\n",
    "            tekst += element + \"\\n\"\n",
    "    return tekst\n",
    "\n",
    "\n",
    "verv(\"Liv\")\n",
    "personer()\n",
    "TV = innsett('Per',['kasserer','hagekonsulent'])\n",
    "print(TV)"
   ]
  },
  {
   "cell_type": "markdown",
   "metadata": {},
   "source": [
    "**Oppgave 12**"
   ]
  },
  {
   "cell_type": "markdown",
   "metadata": {},
   "source": [
    "Lag en funksjon mest_brukte_ord som tar en setning/streng og returnerer det mest\n",
    "brukte ordet i den setningen. Hvis det er flere ord som forekommer flest ganger er det\n",
    "vilkårlig hvilket som blir returnert."
   ]
  },
  {
   "cell_type": "code",
   "execution_count": 53,
   "metadata": {},
   "outputs": [
    {
     "data": {
      "text/plain": [
       "('er', 2)"
      ]
     },
     "execution_count": 53,
     "metadata": {},
     "output_type": "execute_result"
    }
   ],
   "source": [
    "def mest_brukte_ord(tekst):\n",
    "    ord_liste = tekst.split()\n",
    "    maks, antall = ord_liste[0], 1\n",
    "\n",
    "    for ord in ord_liste:\n",
    "        if ord_liste.count(ord) > antall:\n",
    "            maks = ord\n",
    "            antall = ord_liste.count(ord)\n",
    "\n",
    "    return maks, antall\n",
    "\n",
    "mest_brukte_ord('Dette er en test som er enkel og grei')"
   ]
  },
  {
   "cell_type": "markdown",
   "metadata": {},
   "source": [
    "**Oppgave 11**"
   ]
  },
  {
   "cell_type": "markdown",
   "metadata": {},
   "source": [
    "Lag en funksjon som tar inn en tekststreng og sjekker hvor mange ganger hvert tegn\n",
    "forekommer i strengen. For hvert tegn skal funksjonen skrive ut antallet ganger det\n",
    "forekommer i teksten."
   ]
  },
  {
   "cell_type": "code",
   "execution_count": 61,
   "metadata": {},
   "outputs": [
    {
     "name": "stdout",
     "output_type": "stream",
     "text": [
      "g : 2\n",
      "a : 1\n",
      "i : 1\n",
      "e : 1\n",
      "p : 1\n",
      "r : 3\n",
      "n : 1\n",
      "o : 1\n",
      "m : 2\n"
     ]
    }
   ],
   "source": [
    "def tell_tegn(ord):\n",
    "    unike_tegn = list(set(ord))\n",
    "    for tegn in unike_tegn: print(f\"{tegn} : {ord.count(tegn)}\")\n",
    "tell_tegn('programmering')\n"
   ]
  },
  {
   "cell_type": "markdown",
   "metadata": {},
   "source": [
    "**Oppgave 10**"
   ]
  },
  {
   "cell_type": "markdown",
   "metadata": {},
   "source": [
    "Lag en funksjon som sjekker om et ord er et palindrom. Dvs at det leses likt forlengs og\n",
    "baklengs"
   ]
  },
  {
   "cell_type": "code",
   "execution_count": 66,
   "metadata": {},
   "outputs": [
    {
     "data": {
      "text/plain": [
       "True"
      ]
     },
     "execution_count": 66,
     "metadata": {},
     "output_type": "execute_result"
    }
   ],
   "source": [
    "def palindrom(ord):\n",
    "    ord_reversert = ord[::-1]\n",
    "    if ord == ord_reversert: return True\n",
    "    else: return False\n",
    "palindrom('')"
   ]
  },
  {
   "cell_type": "markdown",
   "metadata": {},
   "source": [
    "**Oppgave 9**"
   ]
  },
  {
   "cell_type": "markdown",
   "metadata": {},
   "source": [
    "Lag en funksjon som gitt en tekst returnerer teksten reversert"
   ]
  },
  {
   "cell_type": "code",
   "execution_count": 68,
   "metadata": {},
   "outputs": [
    {
     "data": {
      "text/plain": [
       "'nohtyP'"
      ]
     },
     "execution_count": 68,
     "metadata": {},
     "output_type": "execute_result"
    }
   ],
   "source": [
    "def snu(ord): return ord[::-1]\n",
    "snu('Python')"
   ]
  }
 ],
 "metadata": {
  "kernelspec": {
   "display_name": "Python 3",
   "language": "python",
   "name": "python3"
  },
  "language_info": {
   "codemirror_mode": {
    "name": "ipython",
    "version": 3
   },
   "file_extension": ".py",
   "mimetype": "text/x-python",
   "name": "python",
   "nbconvert_exporter": "python",
   "pygments_lexer": "ipython3",
   "version": "3.12.7"
  }
 },
 "nbformat": 4,
 "nbformat_minor": 2
}
