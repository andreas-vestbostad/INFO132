{
 "cells": [
  {
   "cell_type": "markdown",
   "metadata": {},
   "source": [
    "**Oppgave 1**"
   ]
  },
  {
   "cell_type": "markdown",
   "metadata": {},
   "source": [
    "Filen representanter.json (vedlagt) inneholder opplysninger om stortingsrepresentanter\n",
    "(2021), komiteer på stortinget og hvilke representanter som er medlemmer i komiteene."
   ]
  },
  {
   "cell_type": "markdown",
   "metadata": {},
   "source": [
    "**a)**  Lag en funksjon som skriver ut navn og parti for representantene fra et gitt fylke."
   ]
  },
  {
   "cell_type": "code",
   "execution_count": 40,
   "metadata": {},
   "outputs": [
    {
     "name": "stdout",
     "output_type": "stream",
     "text": [
      "Cecilie Myrseth, (Arbeiderpartiet)\n",
      "Kent Gudmundsen, (Høyre)\n",
      "Per-Willy Amundsen, (Fremskrittspartiet)\n",
      "Sandra Borch, (Senterpartiet)\n",
      "Martin Henriksen, (Arbeiderpartiet)\n",
      "Torgeir Knag Fylkesnes, (Sosialistisk Venstreparti)\n"
     ]
    }
   ],
   "source": [
    "import json\n",
    "\n",
    "def representanter(fylke_søk):\n",
    "    with open('representanter.json', 'r') as fil:\n",
    "        data = json.load(fil)\n",
    "\n",
    "    for representant in data[\"representanter\"].values():\n",
    "        if representant[\"fylke\"] == fylke_søk:\n",
    "            print(f\"{representant['fornavn']} {representant['etternavn']}, ({representant['parti']})\")\n",
    "\n",
    "representanter(\"Troms\")\n"
   ]
  },
  {
   "cell_type": "markdown",
   "metadata": {},
   "source": [
    "**b)** Lag en funksjon som gitt et komite-navn skriver ut medlemmenes navn og parti"
   ]
  },
  {
   "cell_type": "code",
   "execution_count": 39,
   "metadata": {},
   "outputs": [
    {
     "name": "stdout",
     "output_type": "stream",
     "text": [
      "Ingunn Foss ( Høyre )\n",
      "Peter Frølich ( Høyre )\n",
      "Jenny Klinge ( Senterpartiet )\n",
      "Kjell-Børge Freiberg ( Fremskrittspartiet )\n",
      "Jan Bøhler ( Senterpartiet )\n",
      "Petter Eide ( Sosialistisk Venstreparti )\n",
      "Frida Melvær ( Høyre )\n",
      "Lene Vågslid ( Arbeiderpartiet )\n",
      "Per-Willy Amundsen ( Fremskrittspartiet )\n",
      "Martin Henriksen ( Arbeiderpartiet )\n",
      "Maria Aasen-Svensrud ( Arbeiderpartiet )\n"
     ]
    }
   ],
   "source": [
    "import json\n",
    "\n",
    "def komiteRepresentanter(komite_navn):\n",
    "    with open('representanter.json', 'r') as fil:\n",
    "        data = json.load(fil)\n",
    "\n",
    "    for komite in data[\"komiteer\"].values():\n",
    "        if komite[\"navn\"] == komite_navn:\n",
    "            medlemmer = komite[\"medlemmer\"]\n",
    "\n",
    "    for person, person_data in data[\"representanter\"].items():\n",
    "        if person in medlemmer:\n",
    "            print(f\"{person_data['fornavn']} {person_data['etternavn']} ( {person_data['parti']} )\")\n",
    "    \n",
    "komiteRepresentanter('Justiskomiteen')"
   ]
  },
  {
   "cell_type": "markdown",
   "metadata": {},
   "source": [
    "**Oppgave 2**"
   ]
  },
  {
   "cell_type": "markdown",
   "metadata": {},
   "source": [
    "http://universities.hipolabs.com/search er en API med opplysninger universitetene i ulike\n",
    "land. Data leveres i JSON-format.\n",
    "Eksempler på endepunkter:\n",
    "'http://universities.hipolabs.com/search?country=Norway'\n",
    "'http://universities.hipolabs.com/search?country=Iceland'\n",
    "Lag en funksjon som skriver navn og nettadresse til universitetene i et gitt land"
   ]
  },
  {
   "cell_type": "code",
   "execution_count": 50,
   "metadata": {},
   "outputs": [
    {
     "name": "stdout",
     "output_type": "stream",
     "text": [
      "Bifrost School of Business, http://www.bifrost.is/\n",
      "University of Iceland, http://www.hi.is/\n",
      "Holar University College, http://www.holar.is/\n",
      "University Centre of the Westfjords, http://www.hsvest.is/\n",
      "Hvanneyri Agricultural University, http://www.hvanneyri.is/\n",
      "Technological University of Iceland, http://www.iti.is/\n",
      "Iceland University of Education, http://www.khi.is/\n",
      "Iceland Academy of the Arts, http://www.lhi.is/\n",
      "Reykjavík University, http://www.ru.is/\n",
      "University of Akureyri, http://www.unak.is/\n"
     ]
    }
   ],
   "source": [
    "import requests\n",
    "\n",
    "url = 'http://universities.hipolabs.com/search'\n",
    "\n",
    "def universiteter(land):\n",
    "    parameter = {'country' : land}\n",
    "    data = requests.get(url, params=parameter)\n",
    "    resultat = data.json()\n",
    "\n",
    "    for uni in resultat:\n",
    "        print(f'{uni[\"name\"]}, {\" \".join(uni[\"web_pages\"])}')\n",
    "\n",
    "universiteter('Iceland')"
   ]
  },
  {
   "cell_type": "markdown",
   "metadata": {},
   "source": [
    "**Oppgave 3**"
   ]
  },
  {
   "cell_type": "markdown",
   "metadata": {},
   "source": [
    "Endepunktet 'https://data.ssb.no/api/v0/dataset/list.json?lang=no' har en oversikt i\n",
    "JSON-format over Statistisk Sentralbyrås åpne datasett. For hvert datasett er tittel,\n",
    "nøkkelord og endepunkt-adresse er registrert, med mer. Lag en funksjon som finner\n",
    "datasett med nøkkelord som inneholder et gitt søkeord. Funksjonene skal skrive ut tittel,\n",
    "endepunkt samt listen av alle nøkkelordene for settet."
   ]
  },
  {
   "cell_type": "code",
   "execution_count": 60,
   "metadata": {},
   "outputs": [
    {
     "name": "stdout",
     "output_type": "stream",
     "text": [
      "--- SSB Åpne datasett om økonomi ----\n",
      "1 nøkkelord-treff: ['økonomi']\n",
      "    tittel: Konjunkturtendensene. Makroøkonomiske hovedstørrelser, 1991 - 3 år fram\n",
      "    emner: ['12880', 'kt', 'prognoser', 'tidsserier', 'økonomi', 'konjunkturtendensene']\n",
      "    endepunkt: https://data.ssb.no/api/v0/dataset/934513/?lang=no\n",
      "---------------------------------------\n",
      "2 nøkkelord-treff: ['økonomi']\n",
      "    tittel: Konjunkturtendensene. Utvalgte Prognoser 4 år\n",
      "    emner: ['12880', 'kt', 'prognoser', 'økonomi', 'konjunkturtendensene', 'lite_datasett']\n",
      "    endepunkt: https://data.ssb.no/api/v0/dataset/934516/?lang=no\n",
      "---------------------------------------\n",
      "3 nøkkelord-treff: ['økonomi']\n",
      "    tittel: Nasjonalregnskap, makroøkonomiske hovedstørrelser, siste 2 kvartaler\n",
      "    emner: ['09190', 'knr', 'gdp', 'bnp', 'makroøkonomi', 'lite_datasett']\n",
      "    endepunkt: https://data.ssb.no/api/v0/dataset/372144/?lang=no\n",
      "---------------------------------------\n"
     ]
    }
   ],
   "source": [
    "import requests\n",
    "\n",
    "url = 'https://data.ssb.no/api/v0/dataset/list.json?lang=no'\n",
    "\n",
    "def ssbSøk(søkeord):\n",
    "    \n",
    "    data = requests.get(url)\n",
    "    resultater = data.json()\n",
    "    i = 1\n",
    "\n",
    "    print(f\"--- SSB Åpne datasett om {søkeord} ----\")\n",
    "    for resultat in resultater['datasets']:\n",
    "        relevante_emner = [tag for tag in resultat['tags'] if søkeord in tag]\n",
    "        if relevante_emner:\n",
    "            print(f\"{i} nøkkelord-treff: ['{søkeord}']\")\n",
    "            print(f\"    tittel: {resultat['title']}\")\n",
    "            print(f\"    emner: {resultat['tags']}\")\n",
    "            print(f\"    endepunkt: {resultat['datasettURI']}\")\n",
    "            print(\"---------------------------------------\")\n",
    "            i += 1\n",
    "\n",
    "    if i == 1: print(\"Ingen funn\")\n",
    "\n",
    "ssbSøk('økonomi')"
   ]
  },
  {
   "cell_type": "markdown",
   "metadata": {},
   "source": [
    "**Oppgave 4**"
   ]
  },
  {
   "cell_type": "markdown",
   "metadata": {},
   "source": [
    "breddegrad=60.3918 og lengdegrad=5.3435 (Bergen sentrum)\n",
    "\n",
    "info = {'user-agent': 'www.uib.no Liv.Hansen@uib.no'}\n",
    "respons=requests.get(endepunkt, headers=info)"
   ]
  },
  {
   "cell_type": "markdown",
   "metadata": {},
   "source": [
    "Lag et program som henter data fra API'en nowcast\n",
    "Dokumentasjon: https://api.met.no/weatherapi/nowcast/2.0/documentation\n",
    "Programmet skal skrive ut varslet temperatur, nedbørsrate, luftfuktighet og vindstyrke i\n",
    "øyeblikket for en lokasjon, samt forventet nedbørsmengde for den kommende timen."
   ]
  },
  {
   "cell_type": "code",
   "execution_count": 30,
   "metadata": {},
   "outputs": [
    {
     "name": "stdout",
     "output_type": "stream",
     "text": [
      "Thu Nov 21 14:35:00 2024\n",
      "Temperatur -2.3 °C\n",
      "Nedbørsrate 0.0 mm/t\n",
      "Nedbørsmengde neste time: 0.0 mm\n",
      "Luftfuktighet 61.5 %\n",
      "Vind 0.7 m/s\n"
     ]
    }
   ],
   "source": [
    "import requests\n",
    "from datetime import datetime\n",
    "\n",
    "endepunkt = 'https://api.met.no/weatherapi/nowcast/2.0/complete'\n",
    "parameter = {'lat':'60.3918','lon':'5.3435'}\n",
    "info = {'user-agent': 'www.uib.no Liv.Hansen@uib.no'}\n",
    "\n",
    "værmelding = requests.get(endepunkt, params=parameter, headers=info)\n",
    "data = værmelding.json()\n",
    "\n",
    "x = data[\"properties\"][\"timeseries\"][0]\n",
    "\n",
    "tid = datetime.strptime(x[\"time\"], \"%Y-%m-%dT%H:%M:%SZ\")\n",
    "tid_formatert = tid.strftime(\"%c\")\n",
    "detaljer = x[\"data\"][\"instant\"][\"details\"]\n",
    "temperatur = detaljer[\"air_temperature\"]\n",
    "nedbør = detaljer[\"precipitation_rate\"]\n",
    "luftfuktighet = detaljer[\"relative_humidity\"]\n",
    "vindstyrke = detaljer[\"wind_speed\"]\n",
    "forventet_nedbørsmengde = x[\"data\"]['next_1_hours'][\"details\"][\"precipitation_amount\"]\n",
    "\n",
    "print(f\"{tid_formatert}\\n\"\n",
    "      f\"Temperatur {temperatur} \\N{DEGREE SIGN}C\\n\"\n",
    "      f\"Nedbørsrate {nedbør} mm/t\\n\"\n",
    "      f\"Nedbørsmengde neste time: {forventet_nedbørsmengde} mm\\n\"\n",
    "      f\"Luftfuktighet {luftfuktighet} %\\n\"\n",
    "      f\"Vind {vindstyrke} m/s\"\n",
    "      )"
   ]
  },
  {
   "cell_type": "markdown",
   "metadata": {},
   "source": [
    "Lag et program som henter data fra API'en locationforecast for en lokasjon gitt ved\n",
    "lengdegrad og breddegrad."
   ]
  },
  {
   "cell_type": "code",
   "execution_count": null,
   "metadata": {},
   "outputs": [],
   "source": []
  }
 ],
 "metadata": {
  "kernelspec": {
   "display_name": "Python 3",
   "language": "python",
   "name": "python3"
  },
  "language_info": {
   "codemirror_mode": {
    "name": "ipython",
    "version": 3
   },
   "file_extension": ".py",
   "mimetype": "text/x-python",
   "name": "python",
   "nbconvert_exporter": "python",
   "pygments_lexer": "ipython3",
   "version": "3.9.6"
  }
 },
 "nbformat": 4,
 "nbformat_minor": 2
}
