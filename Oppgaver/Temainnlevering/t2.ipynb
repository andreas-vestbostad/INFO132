{
 "cells": [
  {
   "cell_type": "markdown",
   "metadata": {},
   "source": [
    "# Temainnlevering 2 | 05.02"
   ]
  },
  {
   "cell_type": "markdown",
   "metadata": {},
   "source": [
    "## Oppgave 1"
   ]
  },
  {
   "cell_type": "markdown",
   "metadata": {},
   "source": [
    "Uttrykket 3+2*8/4-3 evalueres til 4.0 i henhold til PEMDAS-reglene. Sett inn parenteser slik at det evalueres til 40.0 i stedet."
   ]
  },
  {
   "cell_type": "code",
   "execution_count": 1,
   "metadata": {},
   "outputs": [
    {
     "name": "stdout",
     "output_type": "stream",
     "text": [
      "4.0\n",
      "40.0\n"
     ]
    }
   ],
   "source": [
    "# originalt uttrykk\n",
    "print(3+2*8/4-3)\n",
    "\n",
    "# satt inn paranteser for å få nytt, ønsket, resultat\n",
    "print((3+2)*8/(4-3))"
   ]
  },
  {
   "cell_type": "markdown",
   "metadata": {},
   "source": [
    "## Oppgave 2"
   ]
  },
  {
   "cell_type": "markdown",
   "metadata": {},
   "source": [
    "Lag et program som først ber om fornavnet ditt, så etternavnet og til slutt skriver ut hvor mange bokstaver du har i navnet."
   ]
  },
  {
   "cell_type": "code",
   "execution_count": 4,
   "metadata": {},
   "outputs": [
    {
     "name": "stdout",
     "output_type": "stream",
     "text": [
      "Det er 17 bokstaver i navnet ditt\n"
     ]
    }
   ],
   "source": [
    "# ber brukeren om å skrive inn fornavn og etternavn\n",
    "fornavn = input(\"fornavn: \")\n",
    "etternavn = input(\"etternavn: \")\n",
    "\n",
    "# rekner ut lengden av fornavn og etternavn tilsammen\n",
    "lengde_navn = len(fornavn+etternavn)\n",
    "\n",
    "# printer ut resultat\n",
    "print(f\"Det er {lengde_navn} bokstaver i navnet ditt\")"
   ]
  },
  {
   "cell_type": "markdown",
   "metadata": {},
   "source": [
    "## Oppgave 3"
   ]
  },
  {
   "cell_type": "markdown",
   "metadata": {},
   "source": [
    "Tenk deg at du skal hente et antall personer i bil. Lag et program der du oppgir hvor mange du skal hente og hvor mange passasjerer det er plass til i bilen. Programmet skal skrive ut hvor mange turer du må kjøre for å hente alle personene."
   ]
  },
  {
   "cell_type": "code",
   "execution_count": 15,
   "metadata": {},
   "outputs": [
    {
     "name": "stdout",
     "output_type": "stream",
     "text": [
      "Du må kjøre 4 turer for å hente alle sammen.\n"
     ]
    }
   ],
   "source": [
    "# importerer biblioteket math\n",
    "import math\n",
    "\n",
    "# spør brukeren om å sette inn verdier for kapasitet og passasjerer\n",
    "passasjerer = int(input(\"Hvor mange personer skal du hente?\"))\n",
    "bil_kapasitet = int(input(\"Hvor mange passasjerer har du plass til i bilen?\"))\n",
    "\n",
    "# rekner ut antall turer ved å runde opp passasjerer delt på kapasitet\n",
    "ant_turer = math.ceil(passasjerer/bil_kapasitet)\n",
    "\n",
    "#printer ut resultatet\n",
    "print(f\"Du må kjøre {ant_turer} turer for å hente alle sammen.\")"
   ]
  },
  {
   "cell_type": "markdown",
   "metadata": {},
   "source": [
    "## Oppgave 4"
   ]
  },
  {
   "cell_type": "markdown",
   "metadata": {},
   "source": [
    "Lag et program som først leser inn et tall fra tastaturet, deretter utvider tallet med et tilfeldig siffer bakerst og til slutt deler det nye tallet på det gamle. Skriv ut resultatet med 2 desimaler"
   ]
  },
  {
   "cell_type": "code",
   "execution_count": 6,
   "metadata": {},
   "outputs": [
    {
     "name": "stdout",
     "output_type": "stream",
     "text": [
      "122/12 = 10.17\n"
     ]
    }
   ],
   "source": [
    "# importerer biblioteket random for å få tilgang til randint\n",
    "import random\n",
    "\n",
    "# ber bruker om et tall\n",
    "orginal_tall = input(\"Gi meg et tall: \")\n",
    "\n",
    "# utvider det orginale tallet med et siffer og lagrer som ny variabel\n",
    "nytt_tall = orginal_tall+str(random.randint(0,9))\n",
    "\n",
    "# gjør om tallene til integers\n",
    "orginal_tall, nytt_tall = int(orginal_tall), int(nytt_tall)\n",
    "\n",
    "# printer ut avrundet resultatet\n",
    "print(f\"{nytt_tall}/{orginal_tall} = {round(nytt_tall/orginal_tall,2)}\")"
   ]
  }
 ],
 "metadata": {
  "kernelspec": {
   "display_name": "Python 3",
   "language": "python",
   "name": "python3"
  },
  "language_info": {
   "codemirror_mode": {
    "name": "ipython",
    "version": 3
   },
   "file_extension": ".py",
   "mimetype": "text/x-python",
   "name": "python",
   "nbconvert_exporter": "python",
   "pygments_lexer": "ipython3",
   "version": "3.9.6"
  }
 },
 "nbformat": 4,
 "nbformat_minor": 2
}
