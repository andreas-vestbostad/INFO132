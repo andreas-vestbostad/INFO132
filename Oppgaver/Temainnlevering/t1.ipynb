{
 "cells": [
  {
   "cell_type": "markdown",
   "metadata": {},
   "source": [
    "# Temainnlevering 1 | 29.08"
   ]
  },
  {
   "cell_type": "markdown",
   "metadata": {},
   "source": [
    "## Oppgave 1"
   ]
  },
  {
   "cell_type": "markdown",
   "metadata": {},
   "source": [
    "Tegner først opp på rutenett i Excel for så å kopiere inn linje for linje<br>\n",
    "Bruker print() funksjonen til å få utskrift på skjermen"
   ]
  },
  {
   "cell_type": "code",
   "execution_count": 4,
   "metadata": {},
   "outputs": [
    {
     "name": "stdout",
     "output_type": "stream",
     "text": [
      "  *   *    * ****  ***  ****   *    ***\n",
      " * *  **   * *   * *  * *     * *  *   \n",
      "*   * **   * *   * *  * *    *   * *   \n",
      "***** * ** * *   * ***  **** *****  ** \n",
      "*   * *   ** *   * * *  *    *   *    *\n",
      "*   * *   ** *   * *  * *    *   *    *\n",
      "*   * *    * ****  *  * **** *   * *** \n"
     ]
    }
   ],
   "source": [
    "print(\"  *   *    * ****  ***  ****   *    ***\")\n",
    "print(\" * *  **   * *   * *  * *     * *  *   \")\n",
    "print(\"*   * **   * *   * *  * *    *   * *   \")\n",
    "print(\"***** * ** * *   * ***  **** *****  ** \")\n",
    "print(\"*   * *   ** *   * * *  *    *   *    *\")\n",
    "print(\"*   * *   ** *   * *  * *    *   *    *\")\n",
    "print(\"*   * *    * ****  *  * **** *   * *** \")"
   ]
  },
  {
   "cell_type": "markdown",
   "metadata": {},
   "source": [
    "## Oppgave 2"
   ]
  },
  {
   "cell_type": "markdown",
   "metadata": {},
   "source": [
    "Program som skal skriver navnet mitt i to format"
   ]
  },
  {
   "cell_type": "code",
   "execution_count": 14,
   "metadata": {},
   "outputs": [
    {
     "name": "stdout",
     "output_type": "stream",
     "text": [
      "Andreas Vestbøstad\n",
      "Vestbøstad, Andreas\n"
     ]
    }
   ],
   "source": [
    "#variabler for for- og etternavn\n",
    "fornavn = 'Andreas'\n",
    "etternavn = 'Vestbøstad'\n",
    "\n",
    "#printer ut i ønsket format\n",
    "print(fornavn, etternavn)\n",
    "print(etternavn, fornavn, sep=', ')"
   ]
  },
  {
   "cell_type": "markdown",
   "metadata": {},
   "source": [
    "## Oppgave 3a"
   ]
  },
  {
   "cell_type": "markdown",
   "metadata": {},
   "source": [
    "Valutakalkulator som omgjør fra NOK til EUR og USD.\n",
    "NOK beløp er satt som variabel 'nokBelop'. \n",
    "\n",
    "Man kunne også hatt en *float(input(\"\"))* for å gjøre programmet mer intuitiv og importert valuta kurser direkte fra internett."
   ]
  },
  {
   "cell_type": "code",
   "execution_count": 5,
   "metadata": {},
   "outputs": [
    {
     "name": "stdout",
     "output_type": "stream",
     "text": [
      "250 kroner tilsvarer 21.18 Euro og 23.56 Dollar\n"
     ]
    }
   ],
   "source": [
    "nokBelop = 250\n",
    "\n",
    "eurKurs = 11.8020 #23.08 Norges Bank; https://www.norges-bank.no/tema/Statistikk/Valutakurser/?tab=currency&id=EUR\n",
    "usdKurs = 10.6124 #23.08 Norges Bank; https://www.norges-bank.no/tema/Statistikk/Valutakurser/?tab=currency&id=USD\n",
    "\n",
    "eurBelop = nokBelop / eurKurs\n",
    "usdBelop = nokBelop / usdKurs\n",
    "\n",
    "print(f\"{nokBelop} kroner tilsvarer {eurBelop:.2f} Euro og {round(usdBelop,2)} Dollar\")"
   ]
  },
  {
   "cell_type": "markdown",
   "metadata": {},
   "source": [
    "# Oppgave 3b ekstra"
   ]
  },
  {
   "cell_type": "markdown",
   "metadata": {},
   "source": [
    "Kode er tilsvarende *oppgave 3a*, men med **€** og **$** tegn"
   ]
  },
  {
   "cell_type": "code",
   "execution_count": 1,
   "metadata": {},
   "outputs": [
    {
     "name": "stdout",
     "output_type": "stream",
     "text": [
      "250 kroner tilsvarer 21.40€ og 23.79$\n"
     ]
    }
   ],
   "source": [
    "nokBelop = 250\n",
    "\n",
    "eurKurs = 11.683 #21.08 Norges Bank\n",
    "usdKurs = 10.5101 #21.08 Norges Bank\n",
    "\n",
    "eurBelop = nokBelop / eurKurs\n",
    "usdBelop = nokBelop / usdKurs\n",
    "\n",
    "print(f\"{nokBelop} kroner tilsvarer {eurBelop:.2f}\\N{euro sign} og {round(usdBelop,2)}\\N{dollar sign}\")\n"
   ]
  }
 ],
 "metadata": {
  "kernelspec": {
   "display_name": "Python 3",
   "language": "python",
   "name": "python3"
  },
  "language_info": {
   "codemirror_mode": {
    "name": "ipython",
    "version": 3
   },
   "file_extension": ".py",
   "mimetype": "text/x-python",
   "name": "python",
   "nbconvert_exporter": "python",
   "pygments_lexer": "ipython3",
   "version": "3.9.6"
  }
 },
 "nbformat": 4,
 "nbformat_minor": 2
}
