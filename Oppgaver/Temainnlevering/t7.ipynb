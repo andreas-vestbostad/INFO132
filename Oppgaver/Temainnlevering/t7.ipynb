{
 "cells": [
  {
   "cell_type": "markdown",
   "metadata": {},
   "source": [
    "# Temainnlevering 7 | 31.10"
   ]
  },
  {
   "cell_type": "markdown",
   "metadata": {},
   "source": [
    "**Oppgåve 1**"
   ]
  },
  {
   "cell_type": "markdown",
   "metadata": {},
   "source": [
    "a) Lag en funksjon som gitt en telefon-liste og et navn returnerer telefonnummeret. Dersom\n",
    "personen ikke finnes i listen skal funksjonen returnere 'ukjent person'."
   ]
  },
  {
   "cell_type": "code",
   "execution_count": 16,
   "metadata": {},
   "outputs": [
    {
     "data": {
      "text/plain": [
       "'ukjent person'"
      ]
     },
     "execution_count": 16,
     "metadata": {},
     "output_type": "execute_result"
    }
   ],
   "source": [
    "def finnTelefon(navn, liste):\n",
    "    for person in liste:\n",
    "        if person[0] == navn:\n",
    "            return person[1]\n",
    "    return \"ukjent person\"\n",
    "\n",
    "venner=[['Ole',99887766],['Liv',99778899],['Gro',99556644], ['Tom',98675601],['Eva',98987665],['Jan',88997766]]\n",
    "\n",
    "finnTelefon('Jens',venner)"
   ]
  },
  {
   "cell_type": "markdown",
   "metadata": {},
   "source": [
    "b) Lag en funksjon fjernTelefon(person,liste) som gitt et navn fjerner vedkommende fra listen"
   ]
  },
  {
   "cell_type": "code",
   "execution_count": 4,
   "metadata": {},
   "outputs": [
    {
     "name": "stdout",
     "output_type": "stream",
     "text": [
      "[['Ole', 99887766], ['Liv', 99778899], ['Tom', 98675601], ['Eva', 98987665], ['Jan', 88997766]]\n"
     ]
    },
    {
     "data": {
      "text/plain": [
       "'ukjent person'"
      ]
     },
     "execution_count": 4,
     "metadata": {},
     "output_type": "execute_result"
    }
   ],
   "source": [
    "def fjernTelefon(navn, liste):\n",
    "    for person in liste:\n",
    "        if person[0] == navn:\n",
    "            liste.remove(person)\n",
    "            break\n",
    "    return \"ukjent person\"\n",
    "\n",
    "venner=[['Ole',99887766],['Liv',99778899],['Gro',99556644], ['Tom',98675601],['Eva',98987665],['Jan',88997766]]\n",
    "\n",
    "fjernTelefon('Gro',venner)\n",
    "print(venner)\n",
    "fjernTelefon('Jens',venner)\n"
   ]
  },
  {
   "cell_type": "markdown",
   "metadata": {},
   "source": [
    "**Oppgave 2**"
   ]
  },
  {
   "cell_type": "markdown",
   "metadata": {},
   "source": [
    "a) Skriv en funksjon som lager en fortegnelse over karakter-frekvenser, dvs hvor mange ganger de\n",
    "enkelte karakterene forekommer."
   ]
  },
  {
   "cell_type": "code",
   "execution_count": 5,
   "metadata": {},
   "outputs": [
    {
     "name": "stdout",
     "output_type": "stream",
     "text": [
      "{'C': 4, 'B': 3, 'E': 1, 'A': 2, 'F': 2, 'D': 1}\n"
     ]
    }
   ],
   "source": [
    "def karakterfrekvenser(liste):\n",
    "    karakterer = list(liste.values())\n",
    "    karakterer_dict = {}\n",
    "\n",
    "    for karakter in karakterer:\n",
    "        if karakter in karakterer_dict:\n",
    "            karakterer_dict[karakter] += 1\n",
    "        else:\n",
    "            karakterer_dict[karakter] = 1\n",
    "    return karakterer_dict\n",
    "\n",
    "Eksamen = {\n",
    "    'INFO100':'C', 'INFO104':'B', 'INFO116':'E',\n",
    "    'INFO180':'A', 'INFO201':'F','INFO280':'C',\n",
    "    'GEO101':'D', 'GEO110':'B','ADM101':'A',\n",
    "    'ECON100':'B', 'ECON201':'C','GEO210':'C',\n",
    "    'FAIL101':'F'\n",
    "}\n",
    "\n",
    "f = karakterfrekvenser(Eksamen)\n",
    "print(f)\n"
   ]
  },
  {
   "cell_type": "markdown",
   "metadata": {},
   "source": [
    "b) Lag en funksjon som gitt frekvens-fortegnelsen skriver ut et histogram for karakterene."
   ]
  },
  {
   "cell_type": "code",
   "execution_count": 33,
   "metadata": {},
   "outputs": [
    {
     "name": "stdout",
     "output_type": "stream",
     "text": [
      "A **\n",
      "B ***\n",
      "C ****\n",
      "D *\n",
      "E *\n",
      "F **\n"
     ]
    }
   ],
   "source": [
    "def karakterfrekvenser(liste):\n",
    "    karakterer = list(liste.values())\n",
    "    karakterer_dict = {}\n",
    "\n",
    "    for karakter in karakterer:\n",
    "        if karakter in karakterer_dict:\n",
    "            karakterer_dict[karakter] += 1\n",
    "        else:\n",
    "            karakterer_dict[karakter] = 1\n",
    "    return karakterer_dict\n",
    "\n",
    "def histogram(fortegnelse):\n",
    "    for karakter, antall in sorted(fortegnelse.items()):\n",
    "        print(karakter, \"*\"*antall)\n",
    "\n",
    "Eksamen = {\n",
    "    'INFO100':'C', 'INFO104':'B', 'INFO116':'E',\n",
    "    'INFO180':'A', 'INFO201':'F','INFO280':'C',\n",
    "    'GEO101':'D', 'GEO110':'B','ADM101':'A',\n",
    "    'ECON100':'B', 'ECON201':'C','GEO210':'C',\n",
    "    'FAIL101':'F'\n",
    "}\n",
    "\n",
    "f = karakterfrekvenser(Eksamen)\n",
    "histogram(f)"
   ]
  }
 ],
 "metadata": {
  "kernelspec": {
   "display_name": "Python 3",
   "language": "python",
   "name": "python3"
  },
  "language_info": {
   "codemirror_mode": {
    "name": "ipython",
    "version": 3
   },
   "file_extension": ".py",
   "mimetype": "text/x-python",
   "name": "python",
   "nbconvert_exporter": "python",
   "pygments_lexer": "ipython3",
   "version": "3.12.7"
  }
 },
 "nbformat": 4,
 "nbformat_minor": 2
}
