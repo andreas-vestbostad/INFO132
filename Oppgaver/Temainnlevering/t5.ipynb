{
 "cells": [
  {
   "cell_type": "markdown",
   "metadata": {},
   "source": [
    "# Temainnlevering 5 | 17.10"
   ]
  },
  {
   "cell_type": "markdown",
   "metadata": {},
   "source": [
    "**Oppgave 1**"
   ]
  },
  {
   "cell_type": "markdown",
   "metadata": {},
   "source": [
    "Lag en funksjon som teller antall vokaler i en tekst"
   ]
  },
  {
   "cell_type": "code",
   "execution_count": 2,
   "metadata": {},
   "outputs": [
    {
     "data": {
      "text/plain": [
       "11"
      ]
     },
     "execution_count": 2,
     "metadata": {},
     "output_type": "execute_result"
    }
   ],
   "source": [
    "vokaler = [\"a\",\"e\",\"i\",\"o\",\"u\",\"y\",\"æ\",\"ø\",\"å\"]\n",
    "\n",
    "def antallVokaler(tekst):\n",
    "    antall = 0\n",
    "    for bokstav in tekst:\n",
    "        if bokstav in vokaler:\n",
    "            antall += 1\n",
    "    return antall\n",
    "\n",
    "antallVokaler('Tre små musikanter på Høybro plass')"
   ]
  },
  {
   "cell_type": "markdown",
   "metadata": {},
   "source": [
    "**Oppgave 2**"
   ]
  },
  {
   "cell_type": "markdown",
   "metadata": {},
   "source": [
    "Tulleveien Velforening registrerer hvem som holder ulike verv i en tekstvariabel kalt TV\n",
    "Lag en funksjon som returnerer listen av verv en gitt person har."
   ]
  },
  {
   "cell_type": "code",
   "execution_count": 27,
   "metadata": {},
   "outputs": [
    {
     "data": {
      "text/plain": [
       "'Du må angi et navn for å finne verv'"
      ]
     },
     "execution_count": 27,
     "metadata": {},
     "output_type": "execute_result"
    }
   ],
   "source": [
    "TV= \\\n",
    "'''\n",
    "Tulleveien Velforening\n",
    "leder: Kari\n",
    "kasserer: Ole\n",
    "IT-ansvarlig: Liv\n",
    "parkeringsansvarlig: Kari\n",
    "arrangementsansvarlig: Liv\n",
    "hagekonsulent: Kari\n",
    "brannansvarlig: Kari\n",
    "'''\n",
    "\n",
    "def verv(navn):\n",
    "    tekst_liste = TV.split(\"\\n\")\n",
    "    verv = []\n",
    "    for element in tekst_liste:\n",
    "        if navn in element:\n",
    "            verv.append(element[0: element.find(\":\")])\n",
    "    return verv\n",
    "verv(\"\")\n",
    "\n"
   ]
  }
 ],
 "metadata": {
  "kernelspec": {
   "display_name": "Python 3",
   "language": "python",
   "name": "python3"
  },
  "language_info": {
   "codemirror_mode": {
    "name": "ipython",
    "version": 3
   },
   "file_extension": ".py",
   "mimetype": "text/x-python",
   "name": "python",
   "nbconvert_exporter": "python",
   "pygments_lexer": "ipython3",
   "version": "3.9.6"
  }
 },
 "nbformat": 4,
 "nbformat_minor": 2
}
