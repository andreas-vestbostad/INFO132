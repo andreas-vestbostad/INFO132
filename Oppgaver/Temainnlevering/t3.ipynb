{
 "cells": [
  {
   "cell_type": "markdown",
   "metadata": {},
   "source": [
    "# Temainnlevering 3 | 12.09"
   ]
  },
  {
   "cell_type": "markdown",
   "metadata": {},
   "source": [
    "**Oppgave 1**"
   ]
  },
  {
   "cell_type": "markdown",
   "metadata": {},
   "source": [
    "Her er to boole'ske uttrykk:\n",
    "\n",
    "    x!=7 and y<=50\n",
    "    (x>7 or 50<y) and (x>y or y<100)\n",
    "\n",
    "a) Hva evalueres uttrykkene til når x=9 og y=66? \n",
    "\n",
    "1. utrykk: False\n",
    "2. utrykk: True\n",
    "\n",
    "b) Finn et ekvivalent uttrykk for det første.\n",
    "\n",
    "not(x==7) and not(y>50)\n",
    "\n"
   ]
  },
  {
   "cell_type": "markdown",
   "metadata": {},
   "source": [
    "**Oppgave 2**"
   ]
  },
  {
   "cell_type": "markdown",
   "metadata": {},
   "source": [
    "For å bli ordfører i Tulleby må du være minst 30 år og ha bodd i byen i minst 9 år\n",
    "For å sitte i bystyret er de tilsvarende tallene 25 år og 5 år.\n",
    "Lag et program som leser inn alder og antall år man har vært bosatt i byen og så skriver ut om man kvalifiserer til ordfører og/eller bystyremedlem evt når man kan bli kvalifisert."
   ]
  },
  {
   "cell_type": "code",
   "execution_count": 3,
   "metadata": {},
   "outputs": [
    {
     "name": "stdout",
     "output_type": "stream",
     "text": [
      "Du er ikke kvalifisert enda. Du kan bli bystyremedlem om 5 år.\n"
     ]
    }
   ],
   "source": [
    "# lager variabler for dei ulike årskravene\n",
    "aldersgrense_bystyret = 25\n",
    "aldersgrense_ordfører = 30\n",
    "år_for_ordfører = 9\n",
    "år_for_byråd = 5\n",
    "\n",
    "# ber brukeren om input\n",
    "alder = int(input(\"Oppgi alder: \"))\n",
    "årITulleby = int(input(\"Hvor lenge har du bodd i Tulleby? \"))\n",
    "\n",
    "# skjekker om bruker møter krav til å bli ordfører\n",
    "if alder >= aldersgrense_ordfører and årITulleby >= år_for_ordfører:\n",
    "    print(\"Du kan bli ordfører og sitte i bystyret.\")\n",
    "\n",
    "# sjekker om bruker møter krav for bystyret, \n",
    "# kalkulerer år til bruker møter krav for å bli ordfører\n",
    "elif alder >= aldersgrense_bystyret and årITulleby >= år_for_byråd:\n",
    "    print(\"Du kan sitte i bystyret.\")\n",
    "    år_til_ordfører = max(30 - alder, år_for_ordfører - årITulleby)\n",
    "    print(f\"Du kan bli ordfører om {år_til_ordfører} år.\")\n",
    "\n",
    "# kalkulerer år til bruker når krav for bystyret\n",
    "else:\n",
    "    år_til_bystyret = max(aldersgrense_bystyret - alder, år_for_byråd - årITulleby)\n",
    "    print(f\"Du er ikke kvalifisert enda. Du kan bli bystyremedlem om {år_til_bystyret} år.\")"
   ]
  },
  {
   "cell_type": "markdown",
   "metadata": {},
   "source": [
    "**Oppgave 3**"
   ]
  },
  {
   "cell_type": "markdown",
   "metadata": {},
   "source": [
    "Skriv om følgende program slik at den ikke har nestede if-setninger.\n",
    "\n",
    "    x=int(input('tall:'))\n",
    "    if x>5 :\n",
    "        if x<10 :\n",
    "            print('6,7,8 eller 9')\n",
    "        if x>=10:\n",
    "            print('minst 10')\n",
    "    if x<=5 :\n",
    "        print('max 5')"
   ]
  },
  {
   "cell_type": "code",
   "execution_count": 25,
   "metadata": {},
   "outputs": [
    {
     "name": "stdout",
     "output_type": "stream",
     "text": [
      "6,7,8 eller 9\n"
     ]
    }
   ],
   "source": [
    "# ber bruker om tall\n",
    "x=int(input(\"Tall: \"))\n",
    "\n",
    "# sjekker om tall er mindre eller lik 5\n",
    "if x<=5:\n",
    "    print('max 5')\n",
    "\n",
    "# sjekker om tall er <10 (betyr mellom 6 og 9 siden vi har sjekker for <=5)\n",
    "elif (x<10):\n",
    "    print('6,7,8 eller 9')\n",
    "\n",
    "# printer 'minst 10' da vi har sjekket for alt under\n",
    "else:\n",
    "    print('minst 10')"
   ]
  }
 ],
 "metadata": {
  "kernelspec": {
   "display_name": "Python 3",
   "language": "python",
   "name": "python3"
  },
  "language_info": {
   "codemirror_mode": {
    "name": "ipython",
    "version": 3
   },
   "file_extension": ".py",
   "mimetype": "text/x-python",
   "name": "python",
   "nbconvert_exporter": "python",
   "pygments_lexer": "ipython3",
   "version": "3.9.6"
  }
 },
 "nbformat": 4,
 "nbformat_minor": 2
}
