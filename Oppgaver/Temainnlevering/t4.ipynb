{
 "cells": [
  {
   "cell_type": "markdown",
   "metadata": {},
   "source": [
    "# Temainnlevering 4 | 10.10"
   ]
  },
  {
   "cell_type": "markdown",
   "metadata": {},
   "source": [
    "**Oppgave 1**"
   ]
  },
  {
   "cell_type": "markdown",
   "metadata": {},
   "source": [
    "Du skal lage en funksjon som gitt et heltall n (>0) returnerer produktet 1*2*...*n\n",
    "(Denne funksjonen kalles ofte fakultets-funksjonen og skrives ‘n!’)"
   ]
  },
  {
   "cell_type": "code",
   "execution_count": 14,
   "metadata": {},
   "outputs": [
    {
     "data": {
      "text/plain": [
       "24"
      ]
     },
     "execution_count": 14,
     "metadata": {},
     "output_type": "execute_result"
    }
   ],
   "source": [
    "def fakultet(n):\n",
    "    sum = 1\n",
    "    for i in range(1,n+1): sum *= i\n",
    "    return sum\n",
    "\n",
    "fakultet(4)"
   ]
  },
  {
   "cell_type": "code",
   "execution_count": 26,
   "metadata": {},
   "outputs": [
    {
     "data": {
      "text/plain": [
       "24"
      ]
     },
     "execution_count": 26,
     "metadata": {},
     "output_type": "execute_result"
    }
   ],
   "source": [
    "def fakultet(n):\n",
    "    i = 1\n",
    "    sum = 1\n",
    "    while i <= n:\n",
    "        sum *= i\n",
    "        i += 1\n",
    "    return sum\n",
    "\n",
    "fakultet(4)"
   ]
  },
  {
   "cell_type": "markdown",
   "metadata": {},
   "source": [
    "**Oppgave 2a**"
   ]
  },
  {
   "cell_type": "markdown",
   "metadata": {},
   "source": [
    "Lag en klasse Monark med tre attributter: monarkens navn, nasjon og år for tiltredelse.\n",
    "Klassen skal ha en metode skriv() som skriver ut opplysningene på en linje som i eksempelet.\n",
    "Den skal også ha metoden __init___(…) slik at du kan opprette en Monark-instans med navn,\n",
    "nasjon og tiltredelsesår som argumenter. \n",
    "\n",
    "Eksempel: haakon = Monark('Norge','Kong Haakon VII', 1905)\n",
    "\n",
    "Her vil variabelen haakon tilordnes Monark-objektet for Kong Haakon VII.\n",
    "Nå kan kongerekken representeres i en variabel kongerekke som inneholder en liste med de tre\n",
    "monarkene, i riktig rekkefølge. Til slutt skal programmet skrive ut kongerekken som vist over."
   ]
  },
  {
   "cell_type": "code",
   "execution_count": 29,
   "metadata": {},
   "outputs": [
    {
     "name": "stdout",
     "output_type": "stream",
     "text": [
      "Norge av Kong Haakon VII, tiltrådt 1905\n",
      "Norge av Kong Olav V, tiltrådt 1957\n",
      "Norge av Kong Harald V, tiltrådt 1991\n"
     ]
    }
   ],
   "source": [
    "class Monark:\n",
    "    def __init__(self, navn, nasjon, tiltredelsesår):\n",
    "        self.navn = navn\n",
    "        self.nasjon = nasjon\n",
    "        self.tiltredelsesår = tiltredelsesår\n",
    "\n",
    "    def skriv(self): \n",
    "        print(f\"{self.navn} av {self.nasjon}, tiltrådt {self.tiltredelsesår}\")\n",
    "\n",
    "haakon = Monark('Norge','Kong Haakon VII', 1905)\n",
    "olav = Monark('Norge','Kong Olav V', 1957)\n",
    "harald = Monark('Norge','Kong Harald V', 1991)\n",
    "\n",
    "kongerekke = [haakon, olav, harald]\n",
    "\n",
    "for konge in kongerekke:\n",
    "    konge.skriv()"
   ]
  },
  {
   "cell_type": "markdown",
   "metadata": {},
   "source": [
    "**Oppgave 2b**"
   ]
  },
  {
   "cell_type": "code",
   "execution_count": 35,
   "metadata": {},
   "outputs": [
    {
     "name": "stdout",
     "output_type": "stream",
     "text": [
      "Norge av Kong Haakon VII, tiltrådt 1905\n",
      "Norge av Kong Olav V, tiltrådt 1957\n",
      "Norge av Kong Harald V, tiltrådt 1991\n"
     ]
    }
   ],
   "source": [
    "class Monark:\n",
    "    def __init__(self, navn, nasjon, tiltredelsesår):\n",
    "        self.navn = navn\n",
    "        self.nasjon = nasjon\n",
    "        self.tiltredelsesår = tiltredelsesår\n",
    "        self.etterfølger = None\n",
    "\n",
    "    def settEtterfølger(self, neste):\n",
    "        self.etterfølger = neste\n",
    "\n",
    "    def __repr__(self):\n",
    "        return f\"{self.navn} av {self.nasjon}, tiltrådt {self.tiltredelsesår}\"\n",
    "\n",
    "haakon = Monark('Norge','Kong Haakon VII', 1905)\n",
    "olav = Monark('Norge','Kong Olav V', 1957)\n",
    "harald = Monark('Norge','Kong Harald V', 1991)\n",
    "\n",
    "kongerekke = [haakon, olav, harald]\n",
    "\n",
    "haakon.settEtterfølger(olav)\n",
    "olav.settEtterfølger(harald)\n",
    "\n",
    "monark = haakon\n",
    "\n",
    "while monark is not None:\n",
    "    print(monark)\n",
    "    monark = monark.etterfølger"
   ]
  }
 ],
 "metadata": {
  "kernelspec": {
   "display_name": "Python 3",
   "language": "python",
   "name": "python3"
  },
  "language_info": {
   "codemirror_mode": {
    "name": "ipython",
    "version": 3
   },
   "file_extension": ".py",
   "mimetype": "text/x-python",
   "name": "python",
   "nbconvert_exporter": "python",
   "pygments_lexer": "ipython3",
   "version": "3.9.6"
  }
 },
 "nbformat": 4,
 "nbformat_minor": 2
}
