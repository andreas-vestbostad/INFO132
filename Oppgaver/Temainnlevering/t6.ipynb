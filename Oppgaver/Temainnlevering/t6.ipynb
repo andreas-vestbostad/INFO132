{
 "cells": [
  {
   "cell_type": "markdown",
   "metadata": {},
   "source": [
    "# Temainnlevering 5 | 24.10"
   ]
  },
  {
   "cell_type": "markdown",
   "metadata": {},
   "source": [
    "**Oppgåve 1**"
   ]
  },
  {
   "cell_type": "markdown",
   "metadata": {},
   "source": [
    "Lag et program som lar brukeren legge til nye personer i filen telefon.txt"
   ]
  },
  {
   "cell_type": "code",
   "execution_count": 1,
   "metadata": {},
   "outputs": [
    {
     "name": "stdout",
     "output_type": "stream",
     "text": [
      "telefon.txt er oppdatert\n"
     ]
    }
   ],
   "source": [
    "def legg_til_telefonkatalog(filnavn):\n",
    "    try:\n",
    "        with open(filnavn, \"a\") as fil:\n",
    "            while True:\n",
    "                input_data = input(\"Legg til navn og nummer, avslutt med <enter>\")\n",
    "                if input_data == \"\": break\n",
    "                fil.write(f\"\\n{input_data}\")\n",
    "        print(f\"{filnavn} er oppdatert\")\n",
    "\n",
    "    except Exception as feil: print(f\"Feil har oppstått: {feil}\")\n",
    "\n",
    "legg_til_telefonkatalog(\"telefon.txt\")"
   ]
  },
  {
   "cell_type": "markdown",
   "metadata": {},
   "source": [
    "**Oppgåve 2**"
   ]
  },
  {
   "cell_type": "markdown",
   "metadata": {},
   "source": [
    "Lag et program som kan endre telefonnummeret til en person i telefon.txt\n",
    "(Hint: det er nok enklest å lage en ny versjon av filen, og deretter slette den gamle før den nye\n",
    "omnavnes til telefon.txt )"
   ]
  },
  {
   "cell_type": "code",
   "execution_count": 2,
   "metadata": {},
   "outputs": [
    {
     "name": "stdout",
     "output_type": "stream",
     "text": [
      "Gammelt telefonnummer: 98654321\n"
     ]
    }
   ],
   "source": [
    "import os\n",
    "\n",
    "def endre_telefonnummer(filnavn, navn):\n",
    "    midlertidig_filnavn = 'midlertidig.txt'\n",
    "\n",
    "    try:\n",
    "        with open(filnavn, 'r') as gammel_fil, open(midlertidig_filnavn, 'w') as ny_fil:\n",
    "            linjer_gammel_fil = gammel_fil.readlines()\n",
    "            endret = False\n",
    "            \n",
    "            for linje in linjer_gammel_fil:\n",
    "                if linje.startswith(navn):\n",
    "                    print(f\"Gammelt telefonnummer: {linje[linje.find(' '):].strip()}\")\n",
    "                    nytt_telefonnummer = input(\"Nytt nummer: \")\n",
    "                    ny_fil.write(f\"{navn} {nytt_telefonnummer}\\n\")\n",
    "                    endret = True\n",
    "                else:\n",
    "                    ny_fil.write(linje)\n",
    "            \n",
    "            if not endret: \n",
    "                print(f\"{navn} ble ikke funnet i filen.\")\n",
    "        \n",
    "        os.replace(midlertidig_filnavn, filnavn)\n",
    "\n",
    "    except Exception as feil: \n",
    "        print(f\"Feil har oppstått: {feil}\")\n",
    "\n",
    "filnavn = 'telefon.txt'\n",
    "navn = ''\n",
    "while navn == '': navn = input(\"Navn: \")\n",
    "\n",
    "endre_telefonnummer(filnavn, navn)\n"
   ]
  },
  {
   "cell_type": "markdown",
   "metadata": {},
   "source": [
    "**Oppgåve 3**"
   ]
  },
  {
   "cell_type": "markdown",
   "metadata": {},
   "source": [
    "Lag en funksjon som gitt en fil, lager en ny fil der alle vokalene er fjernet"
   ]
  },
  {
   "cell_type": "code",
   "execution_count": 2,
   "metadata": {},
   "outputs": [
    {
     "name": "stdout",
     "output_type": "stream",
     "text": [
      "Vokaler er fjernet fra treSmåMusikanter.txt\n"
     ]
    }
   ],
   "source": [
    "import os\n",
    "\n",
    "def fjernVokaler(fil):\n",
    "    midlertidig_filnavn = \"midlertidig.txt\"\n",
    "    vokaler = set(\"aeiouyæøåAEIOUYÆØÅ\")\n",
    "\n",
    "    with open(fil, 'r') as gammel_fil, open(midlertidig_filnavn, 'w') as ny_fil:\n",
    "        linjer_gammel_fil = gammel_fil.readlines()\n",
    "\n",
    "        for linje in linjer_gammel_fil:\n",
    "            ny_fil.write(''.join(tegn for tegn in linje if tegn not in vokaler))\n",
    "    \n",
    "    os.replace(midlertidig_filnavn, fil)\n",
    "    print(\"Vokaler er fjernet fra\", fil)\n",
    "\n",
    "fil = \"treSmåMusikanter.txt\"\n",
    "fjernVokaler(fil)"
   ]
  }
 ],
 "metadata": {
  "kernelspec": {
   "display_name": "Python 3",
   "language": "python",
   "name": "python3"
  },
  "language_info": {
   "codemirror_mode": {
    "name": "ipython",
    "version": 3
   },
   "file_extension": ".py",
   "mimetype": "text/x-python",
   "name": "python",
   "nbconvert_exporter": "python",
   "pygments_lexer": "ipython3",
   "version": "3.9.6"
  }
 },
 "nbformat": 4,
 "nbformat_minor": 2
}
