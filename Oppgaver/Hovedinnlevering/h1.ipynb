{
 "cells": [
  {
   "cell_type": "markdown",
   "metadata": {},
   "source": [
    "# Hovedinnlevering 1 | 03.10"
   ]
  },
  {
   "cell_type": "markdown",
   "metadata": {},
   "source": [
    "**Oppgåve 1 a)**"
   ]
  },
  {
   "cell_type": "markdown",
   "metadata": {},
   "source": [
    "Lag en funksjon størstMinusMinst(tall1, tall2) som gitt to tall subtraherer det minste av dem fra det største og returnerer resultatet."
   ]
  },
  {
   "cell_type": "code",
   "execution_count": 25,
   "metadata": {},
   "outputs": [
    {
     "data": {
      "text/plain": [
       "12"
      ]
     },
     "execution_count": 25,
     "metadata": {},
     "output_type": "execute_result"
    }
   ],
   "source": [
    "def størstMinusMinst(tall1, tall2): # definerer ein funksjon som tar inn 2 tal\n",
    "    return max(tall1, tall2) - min(tall1, tall2) # subtraherer det minste tallet fra det største, retunerer resultatet\n",
    "\n",
    "størstMinusMinst(-3,9)"
   ]
  },
  {
   "cell_type": "markdown",
   "metadata": {},
   "source": [
    "**oppg1 b)**"
   ]
  },
  {
   "cell_type": "markdown",
   "metadata": {},
   "source": [
    "Lag en funksjon som gitt to stedsnavn som argumenter, ber brukeren taste inn temperauren for hvert av stedene og så skriver ut temperaturforskjellen mellom stedene."
   ]
  },
  {
   "cell_type": "code",
   "execution_count": 1,
   "metadata": {},
   "outputs": [
    {
     "name": "stdout",
     "output_type": "stream",
     "text": [
      "Temperaturforskjellen mellom London og Paris er 2.6 grader\n"
     ]
    }
   ],
   "source": [
    "def temperaturForskjell(sted_A, sted_B): # definerer funksjon\n",
    "\n",
    "    # spør brukeren om temperatur på de ulike stedene\n",
    "    temp_A = float(input(f\"Temperatur {sted_A}: \"))\n",
    "    temp_B = float(input(f\"Temperatur {sted_B}: \"))\n",
    "\n",
    "    tempForskjell = max(temp_A, temp_B) - min(temp_A, temp_B) # rekner ut temperaturforskjell, lik formel som i deloppg a)\n",
    "\n",
    "    print(f\"Temperaturforskjellen mellom {sted_A} og {sted_B} er {round(tempForskjell,1)} grader\") # printer ut resultatet\n",
    "\n",
    "temperaturForskjell('London','Paris')"
   ]
  },
  {
   "cell_type": "markdown",
   "metadata": {},
   "source": [
    "**oppg1 c)**"
   ]
  },
  {
   "cell_type": "markdown",
   "metadata": {},
   "source": [
    "Lag en funksjon som returnerer absoluttverdien til et gitt tall. (Absoluttverdien av et tall får du ved å fjerne et eventuelt negativt fortegn. "
   ]
  },
  {
   "cell_type": "markdown",
   "metadata": {},
   "source": [
    "Ignorerer at det finnes ein innebygd funksjon i Python for dette."
   ]
  },
  {
   "cell_type": "code",
   "execution_count": 9,
   "metadata": {},
   "outputs": [
    {
     "data": {
      "text/plain": [
       "6"
      ]
     },
     "execution_count": 9,
     "metadata": {},
     "output_type": "execute_result"
    }
   ],
   "source": [
    "def absoluttverdi(tall): # definerer ein funksjon som tar inn eit tal\n",
    "    \n",
    "    # multipliserer med -1 om tallet er under 0 (negativt)\n",
    "    if tall < 0:\n",
    "        tall *= -1\n",
    "    \n",
    "    return tall\n",
    "\n",
    "absoluttverdi(-6)"
   ]
  },
  {
   "cell_type": "markdown",
   "metadata": {},
   "source": [
    "**Oppgåve 2 a)**"
   ]
  },
  {
   "cell_type": "markdown",
   "metadata": {},
   "source": [
    "Lag en funksjon som konverterer mellom Celsius og Fahrenheit. Argumentene skal være en temperatur og dens skala (‘C’ eller ‘F’). Funksjonene skal returnere den konverterte temperaturen. Dersom det ikke oppgis noen skala skal det konverteres fra Celsius til Fahrenheit"
   ]
  },
  {
   "cell_type": "code",
   "execution_count": 28,
   "metadata": {},
   "outputs": [
    {
     "data": {
      "text/plain": [
       "93.2"
      ]
     },
     "execution_count": 28,
     "metadata": {},
     "output_type": "execute_result"
    }
   ],
   "source": [
    "def temperaturKonvertering(temperatur, enhet=\"C\"): #definerer funksjon med to inputs of setter enhet til C om ikkje annet er angitt\n",
    "\n",
    "    enhet = enhet.upper()  # Gjer enheten om til store bokstaver, for sikkerhets skyld\n",
    "\n",
    "    if enhet == \"C\": # dersom enhet er celsius (\"C\")\n",
    "        return round((temperatur * 9/5) + 32, 1) # Fahrenheit til Celsius, runder av til 1 desimal\n",
    "    \n",
    "    elif enhet == \"F\": # dersom enhet er fahenheit (\"F\")\n",
    "        return round((temperatur - 32) * 5/9, 1) # Celsius til Fahrenheit, runder av til 1 desimal\n",
    "    \n",
    "    else:\n",
    "        return \"Ugyldig enhet, bruk enten 'C' eller 'F'.\" # Ugyldig om annen enhet brukt\n",
    "\n",
    "temperaturKonvertering(34.0)"
   ]
  },
  {
   "cell_type": "markdown",
   "metadata": {},
   "source": [
    "**Oppgave 3**"
   ]
  },
  {
   "cell_type": "markdown",
   "metadata": {},
   "source": [
    "Du er den eneste kunden i banken din og saldoen din (innledningsvis kr 500,-) er registrert i\n",
    "variabelen saldo. Rentesatsen er registrert i variabelen rentesats. I utgangspunktet er\n",
    "rentesatsen 0.01, men øker til 0.02 dersom saldoen overstiger 1 million kroner."
   ]
  },
  {
   "cell_type": "markdown",
   "metadata": {},
   "source": [
    "**oppg 3a**"
   ]
  },
  {
   "cell_type": "markdown",
   "metadata": {},
   "source": [
    "Skriv funksjoner for innskudd, uttak, for å beregne renten for gjeldende saldo, og for det årlige\n",
    "renteoppgjøret, dvs der renten legges til saldoen."
   ]
  },
  {
   "cell_type": "code",
   "execution_count": 25,
   "metadata": {},
   "outputs": [
    {
     "name": "stdout",
     "output_type": "stream",
     "text": [
      "Startsaldo: 500\n",
      "Rentesats: 0.01\n",
      "Etter innskudd på 300: 800\n",
      "Etter uttak på 100: 700\n",
      "Opptjent rente: 7.0\n",
      "Etter årlig renteoppgjør: 707.0\n",
      "gratulerer, du får bonusrente\n",
      "Etter innskudd på 1 000 000: 1000707.0\n",
      "Rentesats: 0.01\n",
      "du har nå ordinær rente\n",
      "Etter uttak på 500 000: 500707.0\n",
      "Rentesats: 0.01\n",
      "Etter uttak på 1 000 000: 500707.0\n",
      "Saldo: 500707.0\n"
     ]
    }
   ],
   "source": [
    "# Startsaldo\n",
    "saldo = 500\n",
    "\n",
    "# Start rentesats\n",
    "rentesats = 0.01\n",
    "\n",
    "# Funksjon for innskudd\n",
    "def innskudd(belop):\n",
    "    global saldo\n",
    "    saldo += belop\n",
    "    if saldo >= 1E6 and (saldo - belop) <= 1E6: print(\"gratulerer, du får bonusrente\")\n",
    "    return saldo\n",
    "\n",
    "# Funksjon for uttak\n",
    "def uttak(belop):\n",
    "    global saldo\n",
    "    if belop > saldo: return \"overtrekk\"\n",
    "    saldo -= belop\n",
    "    if (saldo + belop) >= 1E6: print(\"du har nå ordinær rente\") and saldo <= 1E6\n",
    "    return saldo\n",
    "\n",
    "# Funksjon for å beregne gjeldende rentesats\n",
    "def beregn_rente():\n",
    "    global saldo\n",
    "    if saldo > 1E6: rentesats = 0.02\n",
    "    else: rentesats = 0.01\n",
    "    return rentesats * saldo\n",
    "\n",
    "# Funksjon for årlig renteoppgjør\n",
    "def renteoppgjor():\n",
    "    global saldo\n",
    "    rente = beregn_rente()\n",
    "    saldo += rente\n",
    "    return saldo\n",
    "\n",
    "# Eksempel på bruk\n",
    "print(\"Startsaldo:\", saldo)\n",
    "print(\"Rentesats:\", rentesats)\n",
    "\n",
    "innskudd(300)\n",
    "print(\"Etter innskudd på 300:\", saldo)\n",
    "\n",
    "uttak(100)\n",
    "print(\"Etter uttak på 100:\", saldo)\n",
    "\n",
    "beregn_rente()\n",
    "print(\"Opptjent rente:\", beregn_rente())\n",
    "\n",
    "renteoppgjor()\n",
    "print(\"Etter årlig renteoppgjør:\", saldo)\n",
    "\n",
    "innskudd(1_000_000)\n",
    "print(\"Etter innskudd på 1 000 000:\", saldo)\n",
    "\n",
    "print(\"Rentesats:\", rentesats)\n",
    "\n",
    "uttak(500_000)\n",
    "print(\"Etter uttak på 500 000:\", saldo)\n",
    "\n",
    "print(\"Rentesats:\", rentesats)\n",
    "\n",
    "uttak(1_000_000)\n",
    "print(\"Etter uttak på 1 000 000:\", saldo)\n",
    "\n",
    "print(\"Saldo:\", saldo)"
   ]
  },
  {
   "cell_type": "markdown",
   "metadata": {},
   "source": [
    "**Oppg 3b**"
   ]
  },
  {
   "cell_type": "markdown",
   "metadata": {},
   "source": [
    "Lag et enkelt grensesnitt for banken, i form av en funksjon velg() som lar brukeren velge en\n",
    "handling som skal utføres, samt eventuelle input-verdier til handlingen. Valgbare handlinger skal\n",
    "være å skrive ut saldoen, innskudd, uttak og utføre renteoppgjøret. For eksempel kan dialogen se\n",
    "slik ut:"
   ]
  },
  {
   "cell_type": "code",
   "execution_count": 2,
   "metadata": {},
   "outputs": [
    {
     "name": "stdout",
     "output_type": "stream",
     "text": [
      "------------------\n",
      "1 - Vis saldo\n",
      "2 - Innskudd\n",
      "3 - Uttak\n",
      "4 - Renteoppgjør\n",
      "9 - Exit\n",
      "------------------\n",
      "Velkommen tilbake!\n"
     ]
    }
   ],
   "source": [
    "# Startsaldo\n",
    "saldo = 500\n",
    "\n",
    "# Start rentesats\n",
    "rentesats = 0.01\n",
    "\n",
    "# Funksjon for innskudd\n",
    "def innskudd(belop):\n",
    "    global saldo\n",
    "    saldo += belop\n",
    "    if saldo >= 1E6 and (saldo - belop) <= 1E6: print(\"gratulerer, du får bonusrente\")\n",
    "    return saldo\n",
    "\n",
    "# Funksjon for uttak\n",
    "def uttak(belop):\n",
    "    global saldo\n",
    "    if belop > saldo: print(\"Ikke dekning\\nSaldo:\", saldo)\n",
    "    else:\n",
    "        saldo -= belop\n",
    "        if saldo <= 1E6 and (saldo + belop) >= 1E6: print(\"du har nå ordinær rente\")\n",
    "        return saldo\n",
    "\n",
    "# Funksjon for å beregne gjeldende rentesats\n",
    "def beregn_rente():\n",
    "    global saldo\n",
    "    if saldo > 1E6:rentesats = 0.02\n",
    "    else: rentesats = 0.01\n",
    "    return rentesats*saldo\n",
    "\n",
    "# Funksjon for årlig renteoppgjør\n",
    "def renteoppgjor():\n",
    "    global saldo\n",
    "    rente = beregn_rente()\n",
    "    saldo += rente\n",
    "    return saldo\n",
    "\n",
    "# Funksjon for meny\n",
    "def meny():\n",
    "    print(\"------------------\")\n",
    "    print(\"1 - Vis saldo\")\n",
    "    print(\"2 - Innskudd\")\n",
    "    print(\"3 - Uttak\")\n",
    "    print(\"4 - Renteoppgjør\")\n",
    "    print(\"9 - Exit\")\n",
    "    print(\"------------------\")\n",
    "\n",
    "# Funksjon for å velge handling\n",
    "def velg():\n",
    "    meny() # Viser meny / valg brukeren har\n",
    "    handling = int(input(\"Velg handling\")) # Ber bruker velge en handling\n",
    "\n",
    "    # Utfører handlinger basert på valg\n",
    "    if handling == 1: print(\"Saldo:\", saldo)\n",
    "\n",
    "    elif handling == 2: \n",
    "        belop = float(input(\"Beløp:\"))\n",
    "        innskudd(belop)\n",
    "\n",
    "    elif handling == 3: \n",
    "        belop = float(input(\"Beløp:\"))\n",
    "        uttak(belop)\n",
    "\n",
    "    elif handling == 4: renteoppgjor()\n",
    "\n",
    "    elif handling == 9: return \"Exit\"\n",
    "\n",
    "# Løkke som kjører til brukeren velger å gå ut\n",
    "while True: \n",
    "    if velg() == \"Exit\":\n",
    "        print(\"Velkommen tilbake!\")\n",
    "        break"
   ]
  },
  {
   "cell_type": "markdown",
   "metadata": {},
   "source": [
    "**Oppg 3c**"
   ]
  },
  {
   "cell_type": "markdown",
   "metadata": {},
   "source": [
    "Legg til et valg i grensesnittet som viser de tre siste endringene i saldoen."
   ]
  },
  {
   "cell_type": "code",
   "execution_count": 3,
   "metadata": {},
   "outputs": [
    {
     "name": "stdout",
     "output_type": "stream",
     "text": [
      "------------------\n",
      "1 - Vis saldo\n",
      "2 - Innskudd\n",
      "3 - Uttak\n",
      "4 - Renteoppgjør\n",
      "5 - Siste endringer\n",
      "9 - Exit\n",
      "------------------\n",
      "Ugyldig valg, prøv igjen.\n",
      "------------------\n",
      "1 - Vis saldo\n",
      "2 - Innskudd\n",
      "3 - Uttak\n",
      "4 - Renteoppgjør\n",
      "5 - Siste endringer\n",
      "9 - Exit\n",
      "------------------\n",
      "Ugyldig valg, prøv igjen.\n",
      "------------------\n",
      "1 - Vis saldo\n",
      "2 - Innskudd\n",
      "3 - Uttak\n",
      "4 - Renteoppgjør\n",
      "5 - Siste endringer\n",
      "9 - Exit\n",
      "------------------\n",
      "Saldo: 500.00 kr\n",
      "------------------\n",
      "1 - Vis saldo\n",
      "2 - Innskudd\n",
      "3 - Uttak\n",
      "4 - Renteoppgjør\n",
      "5 - Siste endringer\n",
      "9 - Exit\n",
      "------------------\n",
      "Beløpet må være positivt.\n",
      "------------------\n",
      "1 - Vis saldo\n",
      "2 - Innskudd\n",
      "3 - Uttak\n",
      "4 - Renteoppgjør\n",
      "5 - Siste endringer\n",
      "9 - Exit\n",
      "------------------\n",
      "Takk for besøket!\n"
     ]
    }
   ],
   "source": [
    "saldo = 500 # Startsaldo\n",
    "\n",
    "rentesats = 0.01 # Start rentesats\n",
    "\n",
    "endringer = [] # Liste for å lagre endringer\n",
    "\n",
    "# Funksjon for innskudd\n",
    "def innskudd(belop):\n",
    "    global saldo  # Tillater endring av den globale variabelen: saldo\n",
    "    global endringer  # Tillater endring av den globale lista: endringer\n",
    "    if belop <= 0:\n",
    "        print(\"Beløpet må være positivt.\")  # Sikrer at beløpet er positivt\n",
    "        return saldo\n",
    "    saldo += belop  # Legger til innskuddsbeløpet til saldoen\n",
    "    print(f\"Innskudd: {belop:.2f} kr\")  # Viser innskuddsbeløpet\n",
    "    endringer.append(f\"+{belop:.2f}\")  # Registrerer innskudd i endringer\n",
    "    if saldo >= 1E6 and (saldo - belop) <= 1E6:\n",
    "        print(\"Gratulerer, du får bonusrente.\")  # Informerer om bonusrente dersom saldo overstiger 1 million etter innskudd\n",
    "    return saldo\n",
    "\n",
    "# Funksjon for uttak\n",
    "def uttak(belop):\n",
    "    global saldo, endringer\n",
    "    if belop <= 0:\n",
    "        print(\"Beløpet må være positivt.\")  # Sikrer at beløpet er positivt\n",
    "        return saldo\n",
    "    if belop > saldo:\n",
    "        print(f\"Ikke dekning.\\nSaldo: {saldo:.2f} kr\")  # Melding ved manglende dekning\n",
    "    else:\n",
    "        saldo -= belop  # Trekker uttaksbeløpet fra saldoen\n",
    "        print(f\"Uttak: {belop:.2f} kr\")  # Viser uttaksbeløpet\n",
    "\n",
    "        if saldo <= 1E6 and (saldo + belop) >= 1E6:\n",
    "            print(\"Du har nå ordinær rente.\")  # Informerer brukeren om saldo faller under 1 million\n",
    "        endringer.append(f\"-{belop:.2f}\")  # Registrerer uttak i endringer\n",
    "    return saldo\n",
    "\n",
    "# Funksjon for å beregne gjeldende rente\n",
    "def beregn_rente():\n",
    "    if saldo > 1E6: return 0.02 * saldo  # Bruker 2% rente for saldo over 1 million\n",
    "    else: return 0.01 * saldo  # Bruker 1% rente for saldo under eller lik 1 million\n",
    "\n",
    "# Funksjon for årlig renteoppgjør\n",
    "def renteoppgjor():\n",
    "    global saldo\n",
    "    rente = beregn_rente()  # Beregner gjeldende rente basert på saldo\n",
    "    saldo += rente  # Legger til renter i saldoen\n",
    "    endringer.append(f\"+{rente:.2f} (rente)\")  # Registrerer renter i endringer\n",
    "    print(f\"Renteoppgjør la til: {rente:.2f} kr\")  # Viser renter lagt til \n",
    "    return saldo\n",
    "\n",
    "# Funksjon for å vise siste endringer\n",
    "def siste_endringer():\n",
    "    print(\"Siste endringer:\")\n",
    "    for endring in endringer[-3:]:  # Begrenset til de siste 3 transaksjonene\n",
    "        print(endring)\n",
    "\n",
    "# Funksjon for menyvalg\n",
    "def meny():\n",
    "    print(\"------------------\")\n",
    "    print(\"1 - Vis saldo\")\n",
    "    print(\"2 - Innskudd\")\n",
    "    print(\"3 - Uttak\")\n",
    "    print(\"4 - Renteoppgjør\")\n",
    "    print(\"5 - Siste endringer\")\n",
    "    print(\"9 - Exit\")\n",
    "    print(\"------------------\")\n",
    "\n",
    "# Funksjon for å håndtere menyvalg\n",
    "def velg():\n",
    "    meny() # Viser menyen\n",
    "    try:\n",
    "        handling = int(input(\"Velg handling: \")) # Ber brukeren velge en handling\n",
    "    except ValueError: # Håndterer ugyldige valg\n",
    "        print(\"Ugyldig valg, prøv igjen.\")\n",
    "        return\n",
    "\n",
    "    match handling:\n",
    "        case 1:\n",
    "            print(f\"Saldo: {saldo:.2f} kr\") # Viser nåværende saldo\n",
    "\n",
    "        case 2:\n",
    "            belop = float(input(\"Beløp:\")) # Ber om innskuddsbeløp\n",
    "            innskudd(belop) # Kaller funksjonen for innskudd\n",
    "\n",
    "        case 3:\n",
    "            belop = float(input(\"Beløp:\")) # Ber om uttaksbeløp\n",
    "            uttak(belop) # Kaller funksjonen for uttak\n",
    "\n",
    "        case 4: renteoppgjor()\n",
    "\n",
    "        case 5: siste_endringer()\n",
    "\n",
    "        case 9: return \"Exit\"\n",
    "\n",
    "# Hovedløkke\n",
    "while True: \n",
    "    if velg() == \"Exit\": # Avslutter hvis brukeren velger exit\n",
    "        print(\"Takk for besøket!\")\n",
    "        break   "
   ]
  }
 ],
 "metadata": {
  "kernelspec": {
   "display_name": "Python 3",
   "language": "python",
   "name": "python3"
  },
  "language_info": {
   "codemirror_mode": {
    "name": "ipython",
    "version": 3
   },
   "file_extension": ".py",
   "mimetype": "text/x-python",
   "name": "python",
   "nbconvert_exporter": "python",
   "pygments_lexer": "ipython3",
   "version": "3.12.6"
  }
 },
 "nbformat": 4,
 "nbformat_minor": 2
}
