{
 "cells": [
  {
   "cell_type": "code",
   "execution_count": 4,
   "metadata": {},
   "outputs": [
    {
     "name": "stdout",
     "output_type": "stream",
     "text": [
      "15\n",
      "5\n",
      "50\n",
      "2.0\n"
     ]
    }
   ],
   "source": [
    "x = 10\n",
    "y= 5\n",
    "operatorer = [lambda x,y: x+y, lambda x,y: x-y, lambda x,y: x*y, lambda x,y: x/y]\n",
    "\n",
    "for o in operatorer:\n",
    "    print(o(x,y))\n",
    "\n"
   ]
  },
  {
   "cell_type": "code",
   "execution_count": 15,
   "metadata": {},
   "outputs": [
    {
     "name": "stdout",
     "output_type": "stream",
     "text": [
      "[2, 4, 6, 8, 10]\n"
     ]
    }
   ],
   "source": [
    "def doble(x):\n",
    "    return 2*x\n",
    "\n",
    "liste = [1,2,3,4,5]\n",
    "\n",
    "print(list(map(doble, liste)))"
   ]
  },
  {
   "cell_type": "code",
   "execution_count": 42,
   "metadata": {},
   "outputs": [
    {
     "data": {
      "text/plain": [
       "'1 * 4 = 4'"
      ]
     },
     "execution_count": 42,
     "metadata": {},
     "output_type": "execute_result"
    }
   ],
   "source": [
    "f\"{1 * 4 = }\""
   ]
  },
  {
   "cell_type": "code",
   "execution_count": 25,
   "metadata": {},
   "outputs": [
    {
     "name": "stdout",
     "output_type": "stream",
     "text": [
      "{'INFO132': 'Informasjonsteknologi', 'MAT111': 'Grunnkurs matematikk', 'ITØK101': 'Mikroøkonomi'}\n"
     ]
    }
   ],
   "source": [
    "fortegnelse1 = {}\n",
    "fortegnelse2 = {\"INFO132\": \"Informasjonsteknologi\", \"MAT111\": \"Grunnkurs matematikk\", \"ITØK101\": \"Mikroøkonomi\"}\n",
    "\n",
    "print(fortegnelse1 | fortegnelse2)"
   ]
  },
  {
   "cell_type": "code",
   "execution_count": 35,
   "metadata": {},
   "outputs": [
    {
     "name": "stdout",
     "output_type": "stream",
     "text": [
      "15.000"
     ]
    }
   ],
   "source": [
    "print('1'+'%5.3f' % 5, sep=\"\", end=\"\")"
   ]
  },
  {
   "cell_type": "code",
   "execution_count": 40,
   "metadata": {},
   "outputs": [
    {
     "name": "stdout",
     "output_type": "stream",
     "text": [
      "<class 'float'>\n"
     ]
    }
   ],
   "source": [
    "print(type(2.1))"
   ]
  },
  {
   "cell_type": "code",
   "execution_count": 46,
   "metadata": {},
   "outputs": [
    {
     "name": "stdout",
     "output_type": "stream",
     "text": [
      "61 0 61\n"
     ]
    }
   ],
   "source": [
    "sekunder = 3661\n",
    "\n",
    "\n",
    "timer = sekunder // 60\n",
    "minutter = (sekunder - timer * 60) / 3600\n",
    "\n",
    "print(timer,minutter,sekunder)"
   ]
  },
  {
   "cell_type": "code",
   "execution_count": 1,
   "metadata": {},
   "outputs": [
    {
     "name": "stdout",
     "output_type": "stream",
     "text": [
      "333\n"
     ]
    }
   ],
   "source": [
    "def f(x):\n",
    "    return lambda y: x*y\n",
    "print(f('3')(3))"
   ]
  },
  {
   "cell_type": "code",
   "execution_count": 6,
   "metadata": {},
   "outputs": [
    {
     "name": "stdout",
     "output_type": "stream",
     "text": [
      "5 2\n",
      "2 5\n"
     ]
    }
   ],
   "source": [
    "def bytt_om(x, y):\n",
    "    x, y = y, x\n",
    "    return x, y\n",
    "\n",
    "x, y = 5, 2\n",
    "x, y = bytt_om(x, y)"
   ]
  },
  {
   "cell_type": "code",
   "execution_count": 7,
   "metadata": {},
   "outputs": [
    {
     "data": {
      "text/plain": [
       "'fem'"
      ]
     },
     "execution_count": 7,
     "metadata": {},
     "output_type": "execute_result"
    }
   ],
   "source": [
    "norsk={1:'en', 2:'to', 3:'tre', 4:'fire', 5:'fem', 6:'seks', 7:'sju', 8:'åtte', 9:'ni', 10:'ti'}\n",
    "engelsk={1:'one', 2:'two', 3:'three', 4:'four', 5:'five', 6:'six', 7:'seven', 8:'eight', 9:'nine', 10:'ten'}\n",
    "tysk={1:'eins', 2:'zwei', 3:'drei', 4:'vier', 5:'funf', 6:'sechs', 7:'sieben', 8:'acht', 9:'neun', 10:'zehn'}\n",
    "\n",
    "#Definerer en funksjon 'oversett' med parametrene: input, fra_språk, til_språk\n",
    "def oversett(input, fra_språk, til_språk):\n",
    "    # itererer gjennom alle nøkkel:verdi par i fortegnelsen til språket man vil oversette fra-\n",
    "    for nøkkel, verdi in fra_språk.items():\n",
    "        #dersom verdien er lik input-verdien vi søker etter\n",
    "        if verdi == input:\n",
    "            #retuner verdien til nøkkelen i språket man vil oversette til med samme verdi\n",
    "            return til_språk[nøkkel]\n",
    "\n",
    "oversett('funf',tysk, norsk)"
   ]
  },
  {
   "cell_type": "code",
   "execution_count": 11,
   "metadata": {},
   "outputs": [
    {
     "name": "stdout",
     "output_type": "stream",
     "text": [
      "1 en one eins\n",
      "2 to two zwei\n",
      "3 tre three drei\n",
      "4 fire four vier\n",
      "5 fem five funf\n",
      "6 seks six sechs\n",
      "7 sju seven sieben\n",
      "8 åtte eight acht\n",
      "9 ni nine neun\n",
      "10 ti ten zehn\n"
     ]
    }
   ],
   "source": [
    "norsk={1:'en', 2:'to', 3:'tre', 4:'fire', 5:'fem', 6:'seks', 7:'sju', 8:'åtte', 9:'ni', 10:'ti'}\n",
    "engelsk={1:'one', 2:'two', 3:'three', 4:'four', 5:'five', 6:'six', 7:'seven', 8:'eight', 9:'nine', 10:'ten'}\n",
    "tysk={1:'eins', 2:'zwei', 3:'drei', 4:'vier', 5:'funf', 6:'sechs', 7:'sieben', 8:'acht', 9:'neun', 10:'zehn'}\n",
    "\n",
    "#definerer ein funksjon som tar inn liste av fortegnelser\n",
    "def tallgloser(liste):\n",
    "    #for-løkke som kjører 10 ganger (fra 0 til 9)\n",
    "    for i in range(10):\n",
    "        #printer ut verdiene linje for linje\n",
    "        #første del printer ut tallet i+1, +1 pga vil printe ut 1 til 10 ikkje 0 til 9)\n",
    "        #listebygger som lager liste av verdiene med index i+1 i alle listene (pga verdiene i listene er fra 1 til 10). \n",
    "        # * for at listen skal bli printet ut som elementene i listen og ikke selve listen.\n",
    "        #sep=\" \" for å få mellomrom mellom verdiene.\n",
    "        print(i+1, *[x[i+1] for x in liste], sep=\" \")\n",
    "\n",
    "tallgloser([norsk, engelsk, tysk])"
   ]
  },
  {
   "cell_type": "code",
   "execution_count": 21,
   "metadata": {},
   "outputs": [
    {
     "name": "stdout",
     "output_type": "stream",
     "text": [
      "0: Jon, Pål\n",
      "1: Ola, Gro\n",
      "2: Liv, Per\n",
      "3: Kari\n"
     ]
    }
   ],
   "source": [
    "antallBarn={'Kari':3, 'Liv':2, 'Per':2, 'Ola':1, 'Jon':0, 'Gro':1, 'Pål':0}\n",
    "\n",
    "# definerer ein funksjon oversikt med parameter fortegnelse\n",
    "def oversikt(fortegnelse):\n",
    "\n",
    "    # for alle verdier i listen av verdier (her: antall barn)\n",
    "    for antall in sorted(list(set(fortegnelse.values()))):\n",
    "        # oppretter tom liste for å lagre navn på personer med gitt antall barn\n",
    "        # listen opprettes på nytt (som å tømme listen) hver iterasjon\n",
    "        personer = []\n",
    "        # for kvar person, antall barn, i fortegnelsen\n",
    "        for person, barn in fortegnelse.items():\n",
    "            # dersom antall barn er det samme som antallet i den øvre loopen\n",
    "            if barn == antall:\n",
    "                # legg til navn i liste\n",
    "                personer.append(person)\n",
    "        \n",
    "        # print ut antall barn:\n",
    "        print(str(antall), ':', sep='', end=' ')\n",
    "        # print ut liste med personer, \n",
    "        # ikke helt fornøyd med å ha to print setninger her, men ønsker ikke risikere noe nåke man ikke kan kjøre kode\n",
    "        print(*personer, sep=\", \")\n",
    "\n",
    "oversikt(antallBarn)"
   ]
  },
  {
   "cell_type": "code",
   "execution_count": 28,
   "metadata": {},
   "outputs": [],
   "source": [
    "# definerer en funksjon lagTabell med filnavn som parameter\n",
    "def lagTabell(filnavn):\n",
    "    # åpner filen i 'lesemodus' og lagrer i variabelen fil.\n",
    "    with open(filnavn, 'r') as fil:\n",
    "        # opprettar ein tom tabell\n",
    "        tabell = []\n",
    "        # går igjennom kvar linje i fila\n",
    "        for linje in fil:\n",
    "            # .split retunerer ei liste, som eg ynskjer. Denne inneholder verdiene til linja,\n",
    "            # men kvar komma gir nytt element og utelater komma\n",
    "            tabell.append(linje.strip().split(','))\n",
    "    # retunerer tabellen\n",
    "    return tabell\n",
    "\n",
    "tabell = lagTabell('nyansatte.txt')"
   ]
  },
  {
   "cell_type": "code",
   "execution_count": 32,
   "metadata": {},
   "outputs": [
    {
     "name": "stdout",
     "output_type": "stream",
     "text": [
      "Kari Personalavdeling    55667788\n",
      "Ola  Salgsavdeling       55434332\n",
      "Liv  Produksjonsavdeling 99231415\n",
      "Jens Salgsavdeling       55887777\n"
     ]
    }
   ],
   "source": [
    "#definerer funksjon skrivTabell som tar inn ein tabell.\n",
    "def skrivTabell(tabell):\n",
    "    #liste for å lagre lengde på lengste element per rad\n",
    "    kolonne_bredde = []\n",
    "    #siden alle rader er like lange sjekker eg kun første\n",
    "    antall_elementer_rad = len(tabell[0])\n",
    "\n",
    "    #for-løkke for å kunne gå igjennom alle elementer på ei rad\n",
    "    for i in range(antall_elementer_rad):\n",
    "       #går igjennom kvar rad og finner lengde til kvart element.\n",
    "       #første runde er i=0 så lengden til første element i kvar rad blir til ny liste.\n",
    "       #finner max-verdien til den nye lista (altså lengste verdien i kolonna) og legger denne til i kolonne_bredde lista. \n",
    "       kolonne_bredde.append(max([len(x[i]) for x in tabell]))\n",
    "\n",
    "    #itererer igjennom alle rader i tabellen\n",
    "    for tr in tabell:\n",
    "        # oppretter ein indeks variabel\n",
    "        i = 0\n",
    "        #itererer igjennom alle elementer i raden\n",
    "        for td in tr:\n",
    "            #om elementet er det siste i raden\n",
    "            if i == len(tr)-1:\n",
    "                #print verdien\n",
    "                print(td)\n",
    "            else:\n",
    "                #print verdien med bredde til lengste verdi på kolonne.\n",
    "                print(f\"{td:<{kolonne_bredde[i]}}\", end=\" \")\n",
    "            #øker inteksvariabelen\n",
    "            i += 1\n",
    "\n",
    "skrivTabell(tabell)"
   ]
  },
  {
   "cell_type": "code",
   "execution_count": 1,
   "metadata": {},
   "outputs": [
    {
     "name": "stdout",
     "output_type": "stream",
     "text": [
      "['åtte']\n"
     ]
    }
   ],
   "source": [
    "s='en to tre fire fem seks sju åtte ni ti'\n",
    "\n",
    "def f(t,b):\n",
    "    r=[]\n",
    "    for o in t.split():\n",
    "        if o.find(b)>0: r.append(o)\n",
    "    return r\n",
    "\n",
    "print(f(s,'t'))"
   ]
  },
  {
   "cell_type": "code",
   "execution_count": 2,
   "metadata": {},
   "outputs": [
    {
     "name": "stdout",
     "output_type": "stream",
     "text": [
      "b\n"
     ]
    }
   ],
   "source": [
    "d={1:{'a':1},2:'b',3:{'b':2,'a':1}}\n",
    "\n",
    "print(d[d[3][d[2]]])"
   ]
  },
  {
   "cell_type": "code",
   "execution_count": 6,
   "metadata": {},
   "outputs": [
    {
     "name": "stdout",
     "output_type": "stream",
     "text": [
      "{'ABC': 'A', 'BAC': 'A', 'CBA': 'A'}\n"
     ]
    }
   ],
   "source": [
    "karakterer = {\n",
    "    \"ABC\": \"A\",\n",
    "    \"BAC\": \"B\",\n",
    "    \"CBA\": \"C\"\n",
    "}\n",
    "\n",
    "nyefag = {\n",
    "    \"CBA\" : \"A\",\n",
    "    \"BAC\" : \"A\"\n",
    "}\n",
    "\n",
    "karakterer |= nyefag\n",
    "\n",
    "print(karakterer)"
   ]
  },
  {
   "cell_type": "markdown",
   "metadata": {},
   "source": [
    "Sorter dict"
   ]
  },
  {
   "cell_type": "code",
   "execution_count": 25,
   "metadata": {},
   "outputs": [
    {
     "name": "stdout",
     "output_type": "stream",
     "text": [
      "{'ABC': 'A', 'BAC': 'A', 'CBA': 'B'}\n"
     ]
    },
    {
     "ename": "ValueError",
     "evalue": "dictionary update sequence element #0 has length 3; 2 is required",
     "output_type": "error",
     "traceback": [
      "\u001b[0;31m---------------------------------------------------------------------------\u001b[0m",
      "\u001b[0;31mValueError\u001b[0m                                Traceback (most recent call last)",
      "Cell \u001b[0;32mIn[25], line 9\u001b[0m\n\u001b[1;32m      1\u001b[0m karakterer \u001b[38;5;241m=\u001b[39m {\n\u001b[1;32m      2\u001b[0m     \u001b[38;5;124m\"\u001b[39m\u001b[38;5;124mBAC\u001b[39m\u001b[38;5;124m\"\u001b[39m: \u001b[38;5;124m\"\u001b[39m\u001b[38;5;124mC\u001b[39m\u001b[38;5;124m\"\u001b[39m,\n\u001b[1;32m      3\u001b[0m     \u001b[38;5;124m\"\u001b[39m\u001b[38;5;124mABC\u001b[39m\u001b[38;5;124m\"\u001b[39m: \u001b[38;5;124m\"\u001b[39m\u001b[38;5;124mA\u001b[39m\u001b[38;5;124m\"\u001b[39m,\n\u001b[1;32m      4\u001b[0m     \u001b[38;5;124m\"\u001b[39m\u001b[38;5;124mCBA\u001b[39m\u001b[38;5;124m\"\u001b[39m: \u001b[38;5;124m\"\u001b[39m\u001b[38;5;124mB\u001b[39m\u001b[38;5;124m\"\u001b[39m,\n\u001b[1;32m      5\u001b[0m     \u001b[38;5;124m\"\u001b[39m\u001b[38;5;124mBAC\u001b[39m\u001b[38;5;124m\"\u001b[39m: \u001b[38;5;124m\"\u001b[39m\u001b[38;5;124mA\u001b[39m\u001b[38;5;124m\"\u001b[39m\n\u001b[1;32m      6\u001b[0m }\n\u001b[1;32m      8\u001b[0m \u001b[38;5;28mprint\u001b[39m(\u001b[38;5;28mdict\u001b[39m(\u001b[38;5;28msorted\u001b[39m(karakterer\u001b[38;5;241m.\u001b[39mitems(),key\u001b[38;5;241m=\u001b[39m\u001b[38;5;28;01mlambda\u001b[39;00m x: (x[\u001b[38;5;241m1\u001b[39m], x[\u001b[38;5;241m0\u001b[39m]))))\n\u001b[0;32m----> 9\u001b[0m \u001b[38;5;28mprint\u001b[39m(\u001b[38;5;28;43mdict\u001b[39;49m\u001b[43m(\u001b[49m\u001b[38;5;28;43msorted\u001b[39;49m\u001b[43m(\u001b[49m\u001b[43mkarakterer\u001b[49m\u001b[38;5;241;43m.\u001b[39;49m\u001b[43mkeys\u001b[49m\u001b[43m(\u001b[49m\u001b[43m)\u001b[49m\u001b[43m)\u001b[49m\u001b[43m)\u001b[49m)\n",
      "\u001b[0;31mValueError\u001b[0m: dictionary update sequence element #0 has length 3; 2 is required"
     ]
    }
   ],
   "source": [
    "karakterer = {\n",
    "    \"BAC\": \"C\",\n",
    "    \"ABC\": \"A\",\n",
    "    \"CBA\": \"B\",\n",
    "    \"BAC\": \"A\"\n",
    "}\n",
    "\n",
    "print(dict(sorted(karakterer.items(),key=lambda x: (x[1], x[0]))))"
   ]
  },
  {
   "cell_type": "code",
   "execution_count": 20,
   "metadata": {},
   "outputs": [
    {
     "name": "stdout",
     "output_type": "stream",
     "text": [
      "['åtte']\n"
     ]
    }
   ],
   "source": [
    "s='en to tre fire fem seks sju åtte ni ti'\n",
    "def f(t,b):\n",
    "    r=[]\n",
    "    for o in t.split():\n",
    "        if o.find(b)>0: r.append(o)\n",
    "    return r\n",
    "\n",
    "print(f(s,'t'))"
   ]
  },
  {
   "cell_type": "code",
   "execution_count": 22,
   "metadata": {},
   "outputs": [
    {
     "name": "stdout",
     "output_type": "stream",
     "text": [
      "[1, 3, 4]\n"
     ]
    }
   ],
   "source": [
    "liste = [1,2,3,4]\n",
    "\n",
    "liste.remove(2)\n",
    "print(liste)"
   ]
  },
  {
   "cell_type": "code",
   "execution_count": 1,
   "metadata": {},
   "outputs": [
    {
     "name": "stdout",
     "output_type": "stream",
     "text": [
      "None\n"
     ]
    }
   ],
   "source": [
    "def funksjon(x):\n",
    "    if x > 0:\n",
    "        return x\n",
    "    \n",
    "\n",
    "print(funksjon(-1))"
   ]
  },
  {
   "cell_type": "code",
   "execution_count": 4,
   "metadata": {},
   "outputs": [
    {
     "name": "stdout",
     "output_type": "stream",
     "text": [
      "False\n"
     ]
    }
   ],
   "source": [
    "a = \"aced\"\n",
    "b = \"acd\"\n",
    "\n",
    "print(a < b)"
   ]
  }
 ],
 "metadata": {
  "kernelspec": {
   "display_name": "Python 3",
   "language": "python",
   "name": "python3"
  },
  "language_info": {
   "codemirror_mode": {
    "name": "ipython",
    "version": 3
   },
   "file_extension": ".py",
   "mimetype": "text/x-python",
   "name": "python",
   "nbconvert_exporter": "python",
   "pygments_lexer": "ipython3",
   "version": "3.12.7"
  }
 },
 "nbformat": 4,
 "nbformat_minor": 2
}
