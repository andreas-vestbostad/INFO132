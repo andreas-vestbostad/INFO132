{
 "cells": [
  {
   "cell_type": "markdown",
   "metadata": {},
   "source": [
    "## Forelesning 10.10"
   ]
  },
  {
   "cell_type": "code",
   "execution_count": 1,
   "metadata": {},
   "outputs": [
    {
     "name": "stdout",
     "output_type": "stream",
     "text": [
      "t\n",
      "r\n",
      "e\n",
      "er\n",
      "a + b = 5\n"
     ]
    }
   ],
   "source": [
    "string = \"tekster\"\n",
    "\n",
    "print(string[0])\n",
    "print(string[-1])\n",
    "print(string[-2])\n",
    "print(string[-2:])\n",
    "\n",
    "a = 2\n",
    "b = 3\n",
    "print(f\"{a + b = }\")"
   ]
  },
  {
   "cell_type": "code",
   "execution_count": 13,
   "metadata": {},
   "outputs": [
    {
     "name": "stdout",
     "output_type": "stream",
     "text": [
      "96732649\n"
     ]
    }
   ],
   "source": [
    "kari = \"Kari Nordmann tlf:96732649 adr:Tullevei 9\"\n",
    "\n",
    "kariTlf = kari[kari.find(\"tlf:\")+4:kari.find(\"tlf:\")+12]\n",
    "kariTlf = kari[kari.find(\"tlf:\")+4:kari.find(\"adr:\")-1]\n",
    "\n",
    "print(kariTlf)"
   ]
  },
  {
   "cell_type": "code",
   "execution_count": 5,
   "metadata": {},
   "outputs": [
    {
     "data": {
      "text/plain": [
       "'555'"
      ]
     },
     "execution_count": 5,
     "metadata": {},
     "output_type": "execute_result"
    }
   ],
   "source": [
    "saldoer=\\\n",
    "'''\n",
    "Arne 1111\n",
    "Berit 22222\n",
    "Claus 3333\n",
    "Dina 44444\n",
    "Erik 555\n",
    "Fia 666666\n",
    "Geir 77\n",
    "'''\n",
    "def finnSaldo(navn):\n",
    "    navnIdx=saldoer.find(navn)\n",
    "    if navnIdx==-1: return navn+' finnes ikke'\n",
    "    start=navnIdx+len(navn)+1\n",
    "    slutt=saldoer.find('\\n',start)\n",
    "    return saldoer[start:slutt]\n",
    "\n",
    "finnSaldo(\"Erik\")"
   ]
  },
  {
   "cell_type": "markdown",
   "metadata": {},
   "source": [
    "Lag en funksjon finnAlle(tekst, delstreng) som finner\n",
    "startposisjonene til alle forekomster av delstrengen og returnerer\n",
    "disse i en liste"
   ]
  },
  {
   "cell_type": "code",
   "execution_count": 18,
   "metadata": {},
   "outputs": [
    {
     "data": {
      "text/plain": [
       "[5, 5]"
      ]
     },
     "execution_count": 18,
     "metadata": {},
     "output_type": "execute_result"
    }
   ],
   "source": [
    "def finnAlle(tekst, delstreng):\n",
    "    funn = []\n",
    "    for ord in tekst.split():\n",
    "        if ord == delstreng:\n",
    "            funn.append(tekst.find(ord))\n",
    "    return funn \n",
    "\n",
    "finnAlle('Vått og kaldt og breiflabb overalt','og')"
   ]
  },
  {
   "cell_type": "code",
   "execution_count": 19,
   "metadata": {},
   "outputs": [
    {
     "name": "stdout",
     "output_type": "stream",
     "text": [
      "[5, 14]\n"
     ]
    }
   ],
   "source": [
    "def finnAlle(tekst, delstreng):\n",
    "    funn = []\n",
    "    start = 0\n",
    "    while True:\n",
    "        start = tekst.find(delstreng, start)\n",
    "        if start == -1:\n",
    "            break\n",
    "        funn.append(start)\n",
    "        start += 1\n",
    "    return funn\n",
    "\n",
    "# Test\n",
    "print(finnAlle('Vått og kaldt og breiflabb overalt', 'og'))\n"
   ]
  },
  {
   "cell_type": "markdown",
   "metadata": {},
   "source": [
    "Store bokstaver kommer før små i den alfabetiske\n",
    "rekkefølgen\n",
    "Konverter til små bokstaver før du sammenligner tekster."
   ]
  },
  {
   "cell_type": "code",
   "execution_count": 32,
   "metadata": {},
   "outputs": [
    {
     "name": "stdout",
     "output_type": "stream",
     "text": [
      "True\n",
      "False\n"
     ]
    }
   ],
   "source": [
    "print('Berit'<'anna')\n",
    "\n",
    "print('Berit'.lower()<'anna'.lower())"
   ]
  },
  {
   "cell_type": "code",
   "execution_count": 35,
   "metadata": {},
   "outputs": [
    {
     "data": {
      "text/plain": [
       "120"
      ]
     },
     "execution_count": 35,
     "metadata": {},
     "output_type": "execute_result"
    }
   ],
   "source": [
    "def test(arg, *argument):\n",
    "\n",
    "    a = 1\n",
    "    b = [*argument]\n",
    "    for arg in b:\n",
    "        a *= arg\n",
    "\n",
    "    return a\n",
    "\n",
    "test(1,2,3,4,5)"
   ]
  },
  {
   "cell_type": "code",
   "execution_count": 39,
   "metadata": {},
   "outputs": [
    {
     "name": "stdout",
     "output_type": "stream",
     "text": [
      "9\n"
     ]
    }
   ],
   "source": [
    "from dev3 import f\n",
    "\n",
    "print(f(3))"
   ]
  }
 ],
 "metadata": {
  "kernelspec": {
   "display_name": "Python 3",
   "language": "python",
   "name": "python3"
  },
  "language_info": {
   "codemirror_mode": {
    "name": "ipython",
    "version": 3
   },
   "file_extension": ".py",
   "mimetype": "text/x-python",
   "name": "python",
   "nbconvert_exporter": "python",
   "pygments_lexer": "ipython3",
   "version": "3.9.6"
  }
 },
 "nbformat": 4,
 "nbformat_minor": 2
}
