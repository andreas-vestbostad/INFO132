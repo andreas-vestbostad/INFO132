{
 "cells": [
  {
   "cell_type": "code",
   "execution_count": 13,
   "metadata": {},
   "outputs": [
    {
     "name": "stdout",
     "output_type": "stream",
     "text": [
      "[1, 2, 3]\n",
      "[3, 2, 1]\n",
      "[3, 2, 1]\n"
     ]
    }
   ],
   "source": [
    "liste = [1, 2, 3]\n",
    "\n",
    "print(liste)\n",
    "print(liste[::-1])\n",
    "liste.reverse()\n",
    "print(liste)"
   ]
  },
  {
   "cell_type": "code",
   "execution_count": 17,
   "metadata": {},
   "outputs": [
    {
     "name": "stdout",
     "output_type": "stream",
     "text": [
      "['Kari', 'Liv', 'Ole', 'Jon', 'Espen']\n",
      "['Kari', 'Jon']\n",
      "['Kari', 'Liv', 'Ole', 'Jon']\n"
     ]
    }
   ],
   "source": [
    "# Bruk [:] for å kopiere lister. Slik kan man endre kopi uten å endre originalen\n",
    "FasteAnsatte=['Kari', 'Liv', 'Ole','Jon']\n",
    "\n",
    "stabDesember=FasteAnsatte[:]\n",
    "stabDesember.append('Espen')\n",
    "\n",
    "stabJuli=FasteAnsatte[:]\n",
    "\n",
    "stabJuli.remove('Liv')\n",
    "stabJuli.remove('Ole')\n",
    "\n",
    "print(stabDesember)\n",
    "print(stabJuli)\n",
    "print(FasteAnsatte)"
   ]
  },
  {
   "cell_type": "code",
   "execution_count": 19,
   "metadata": {},
   "outputs": [
    {
     "name": "stdout",
     "output_type": "stream",
     "text": [
      "4319729296\n",
      "4319729296\n",
      "4400739648\n",
      "4400756736\n"
     ]
    }
   ],
   "source": [
    "#Tall og str\n",
    "print(id(5))\n",
    "print(id(2+3))\n",
    "\n",
    "print(id([1,2,3]))\n",
    "print(id([1,2,3]))\n"
   ]
  },
  {
   "cell_type": "markdown",
   "metadata": {},
   "source": [
    "funksjon som tar inn liste -> ta kopi, lokalt kan påvirke global!"
   ]
  },
  {
   "cell_type": "markdown",
   "metadata": {},
   "source": [
    "Ved kopi av lister som inneholder lister, kan man fremdeles påvirke original ved å endre den inters nestede listen. Unngås ved å:"
   ]
  },
  {
   "cell_type": "code",
   "execution_count": 22,
   "metadata": {},
   "outputs": [
    {
     "name": "stdout",
     "output_type": "stream",
     "text": [
      "[[1], [2]]\n",
      "[[1], [2]]\n",
      "[[99], [2]]\n",
      "[[99], [2]]\n"
     ]
    }
   ],
   "source": [
    "L = [[1],[2]]\n",
    "LL = L[:]\n",
    "\n",
    "print(L, LL, sep=\"\\n\")\n",
    "\n",
    "LL[0][0] = 99\n",
    "\n",
    "print(L, LL, sep=\"\\n\")"
   ]
  },
  {
   "cell_type": "code",
   "execution_count": 21,
   "metadata": {},
   "outputs": [
    {
     "name": "stdout",
     "output_type": "stream",
     "text": [
      "[[1], [2]]\n",
      "[[1], [2]]\n",
      "[[1], [2]]\n",
      "[[99], [2]]\n"
     ]
    }
   ],
   "source": [
    "import copy\n",
    "\n",
    "L = [[1],[2]]\n",
    "LL = copy.deepcopy(L)\n",
    "\n",
    "print(L, LL, sep=\"\\n\")\n",
    "\n",
    "LL[0][0] = 99\n",
    "\n",
    "print(L, LL, sep=\"\\n\")"
   ]
  },
  {
   "cell_type": "code",
   "execution_count": 24,
   "metadata": {},
   "outputs": [
    {
     "name": "stdout",
     "output_type": "stream",
     "text": [
      "{1: 'Therese', 2: 'Charlotte', 3: 'Krista', 4: 'ABC'}\n"
     ]
    },
    {
     "ename": "KeyError",
     "evalue": "5",
     "output_type": "error",
     "traceback": [
      "\u001b[0;31m---------------------------------------------------------------------------\u001b[0m",
      "\u001b[0;31mKeyError\u001b[0m                                  Traceback (most recent call last)",
      "Cell \u001b[0;32mIn[24], line 8\u001b[0m\n\u001b[1;32m      5\u001b[0m Resultatliste[\u001b[38;5;241m4\u001b[39m] \u001b[38;5;241m=\u001b[39m \u001b[38;5;124m\"\u001b[39m\u001b[38;5;124mABC\u001b[39m\u001b[38;5;124m\"\u001b[39m\n\u001b[1;32m      6\u001b[0m \u001b[38;5;28mprint\u001b[39m(Resultatliste)\n\u001b[0;32m----> 8\u001b[0m \u001b[38;5;28mprint\u001b[39m(\u001b[43mResultatliste\u001b[49m\u001b[43m[\u001b[49m\u001b[38;5;241;43m5\u001b[39;49m\u001b[43m]\u001b[49m)\n",
      "\u001b[0;31mKeyError\u001b[0m: 5"
     ]
    }
   ],
   "source": [
    "Resultatliste= {1:'Therese', 2:'Charlotte', 3:'Krista'}\n",
    "x={} \n",
    "y=dict() \n",
    "\n",
    "Resultatliste[4] = \"ABC\"\n",
    "print(Resultatliste)\n",
    "\n",
    "print(Resultatliste[5])"
   ]
  },
  {
   "cell_type": "code",
   "execution_count": 27,
   "metadata": {},
   "outputs": [
    {
     "name": "stdout",
     "output_type": "stream",
     "text": [
      "Therese 1\n",
      "Charlotte 2\n",
      "Krista 3\n",
      "1\n",
      "2\n",
      "3\n"
     ]
    }
   ],
   "source": [
    "Resultatliste= {1:'Therese', 2:'Charlotte', 3:'Krista'}\n",
    "\n",
    "for x, y in Resultatliste.items():\n",
    "    print(y, x)\n",
    "\n",
    "for x in Resultatliste:\n",
    "    print(x)"
   ]
  },
  {
   "cell_type": "code",
   "execution_count": 51,
   "metadata": {},
   "outputs": [
    {
     "name": "stdout",
     "output_type": "stream",
     "text": [
      "1. plass: Therese\n",
      "2. plass: Krista\n",
      "3. plass: Frida\n",
      "4. plass: Heidi\n",
      "5. plass: Charlotte\n"
     ]
    }
   ],
   "source": [
    "Startnumre={11:'Therese', 22:'Charlotte', 33:'Krista', 44:'Heidi', 55:'Frida'}\n",
    "Resultatliste={1:11, 2:33, 3:55, 4:44, 5:22}\n",
    "\n",
    "for plassering,nummer in sorted(Resultatliste.items()):\n",
    "    i = 0\n",
    "    if i < 2:\n",
    "        print(f\"{plassering}. plass: {Startnumre[nummer]}\")\n",
    "        i += 1\n"
   ]
  },
  {
   "cell_type": "code",
   "execution_count": 58,
   "metadata": {},
   "outputs": [
    {
     "name": "stdout",
     "output_type": "stream",
     "text": [
      "1. plass: Therese\n",
      "2. plass: Krista\n",
      "3. plass: Frida\n"
     ]
    }
   ],
   "source": [
    "Startnumre = {11: 'Therese', 22: 'Charlotte', 33: 'Krista', 44: 'Heidi', 55: 'Frida'}\n",
    "Resultatliste = {1: 11, 2: 33, 3: 55, 4: 44, 5: 22}\n",
    "\n",
    "for i, (plassering, nummer) in enumerate(sorted(Resultatliste.items()), start=1):\n",
    "    if i > 3: break\n",
    "    print(f\"{plassering}. plass: {Startnumre[nummer]}\")\n"
   ]
  },
  {
   "cell_type": "code",
   "execution_count": 67,
   "metadata": {},
   "outputs": [
    {
     "name": "stdout",
     "output_type": "stream",
     "text": [
      "[10, 9]\n"
     ]
    }
   ],
   "source": [
    "nedbørMai={1:2, 2:5, 3:6, 4:4, 5:2, 6:0, 7:0, 8:1,9:2,10:9,11:5, 12:5, 13:0, 14:0, 15:2, 16:3, 17:0, 18:4, 19:5, 20:9, 21:1, 22:4, 23:0, 24:0, 25:0, 26:2, 27:5, 28:4, 29:0, 30:2, 31:1}\n",
    "\n",
    "dato = 0\n",
    "nedbørsmengde = 0\n",
    "\n",
    "for d, n in nedbørMai.items():\n",
    "    if nedbørsmengde < n: \n",
    "        dato = d\n",
    "        nedbørsmengde = n\n",
    "\n",
    "print([dato, nedbørsmengde])\n",
    "\n"
   ]
  }
 ],
 "metadata": {
  "kernelspec": {
   "display_name": "Python 3",
   "language": "python",
   "name": "python3"
  },
  "language_info": {
   "codemirror_mode": {
    "name": "ipython",
    "version": 3
   },
   "file_extension": ".py",
   "mimetype": "text/x-python",
   "name": "python",
   "nbconvert_exporter": "python",
   "pygments_lexer": "ipython3",
   "version": "3.12.7"
  }
 },
 "nbformat": 4,
 "nbformat_minor": 2
}
