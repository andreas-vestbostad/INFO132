{
 "cells": [
  {
   "cell_type": "markdown",
   "id": "bf6d42c1",
   "metadata": {},
   "source": [
    "\n",
    "# Forelesningsnotater om Mengder i Python\n",
    "\n",
    "---\n",
    "\n",
    "## Innholdsfortegnelse\n",
    "1. [Introduksjon til Mengder](#1)\n",
    "2. [Forskjeller fra Lister](#2)\n",
    "3. [Opprette Mengder](#3)\n",
    "4. [Mengdeoperasjoner](#4)\n",
    "5. [Sammenligning av Mengder](#5)\n",
    "6. [Delmengder og Disjunkte Mengder](#6)\n",
    "7. [Mengdebygger](#7)\n",
    "8. [Uforanderlige Mengder (frozenset)](#8)\n",
    "9. [Hashable Objekter](#9)\n"
   ]
  },
  {
   "cell_type": "markdown",
   "id": "36f65f2d",
   "metadata": {},
   "source": [
    "\n",
    "## 1. Introduksjon til Mengder\n",
    "\n",
    "En **mengde** er en samling unike elementer i Python. Eksempler:\n"
   ]
  },
  {
   "cell_type": "code",
   "execution_count": null,
   "id": "b8478940",
   "metadata": {},
   "outputs": [],
   "source": [
    "\n",
    "# Eksempel på en mengde\n",
    "eksempel_mengde = {1, 2, 3}\n",
    "print(\"Innhold i mengden:\", eksempel_mengde)\n"
   ]
  },
  {
   "cell_type": "markdown",
   "id": "415c2197",
   "metadata": {},
   "source": [
    "\n",
    "## 2. Forskjeller fra Lister\n",
    "\n",
    "Mengder skiller seg fra lister på flere måter:\n",
    "- **Ingen duplikater**: Mengder lagrer bare unike elementer.\n",
    "- **Ingen rekkefølge**: Elementene har ingen bestemt rekkefølge.\n",
    "- **Elementene må være 'hashable'**: Elementer i en mengde må kunne hashes, og mutable objekter som lister kan ikke brukes.\n",
    "\n",
    "Eksempel:\n"
   ]
  },
  {
   "cell_type": "code",
   "execution_count": 1,
   "id": "837079c7",
   "metadata": {},
   "outputs": [
    {
     "name": "stdout",
     "output_type": "stream",
     "text": [
      "Ingen duplikater: {1, 2, 3, 4}\n",
      "Feil: unhashable type: 'list'\n"
     ]
    }
   ],
   "source": [
    "\n",
    "# Demonstrasjon av unike elementer og mangel på rekkefølge\n",
    "mengde = {1, 2, 2, 3, 4}\n",
    "print(\"Ingen duplikater:\", mengde)\n",
    "\n",
    "# Forsøk på å legge til en liste som element (vil gi feil)\n",
    "try:\n",
    "    mengde = {[1, 2], [3, 4]}\n",
    "except TypeError as e:\n",
    "    print(\"Feil:\", e)\n"
   ]
  },
  {
   "cell_type": "markdown",
   "id": "79806775",
   "metadata": {},
   "source": [
    "\n",
    "## 3. Opprette Mengder\n",
    "\n",
    "Mengder kan opprettes fra lister, strenger, eller andre iterables. Eksempel:\n"
   ]
  },
  {
   "cell_type": "code",
   "execution_count": 8,
   "id": "fa569aaa",
   "metadata": {},
   "outputs": [
    {
     "name": "stdout",
     "output_type": "stream",
     "text": [
      "Fra liste: {1, 2, 3}\n",
      "Fra streng: {'b', 'c', 'a'}\n",
      "Tom mengde: set()\n"
     ]
    }
   ],
   "source": [
    "\n",
    "# Opprettelse av mengder fra ulike typer\n",
    "mengde_fra_liste = set([1, 2, 3])\n",
    "mengde_fra_streng = set(\"abc\")\n",
    "mengde_tom = set()\n",
    "\n",
    "print(\"Fra liste:\", mengde_fra_liste)\n",
    "print(\"Fra streng:\", mengde_fra_streng)\n",
    "print(\"Tom mengde:\", mengde_tom)\n"
   ]
  },
  {
   "cell_type": "markdown",
   "id": "e61dae41",
   "metadata": {},
   "source": [
    "\n",
    "## 4. Mengdeoperasjoner\n",
    "\n",
    "### Union og Snitt\n",
    "- **Union** (`|`): Kombinerer alle elementer fra begge mengdene.\n",
    "- **Snitt** (`&`): Finner felles elementer mellom mengdene.\n",
    "\n",
    "Eksempler:\n"
   ]
  },
  {
   "cell_type": "code",
   "execution_count": 10,
   "id": "8a744f57",
   "metadata": {},
   "outputs": [
    {
     "name": "stdout",
     "output_type": "stream",
     "text": [
      "Union: {1, 2, 3, 4, 5}\n",
      "Snitt: {3}\n"
     ]
    }
   ],
   "source": [
    "\n",
    "# Eksempel på union og snitt\n",
    "A = {1, 2, 3}\n",
    "B = {3, 4, 5}\n",
    "print(\"Union:\", A | B)\n",
    "print(\"Snitt:\", A & B)\n"
   ]
  },
  {
   "cell_type": "markdown",
   "id": "94807ba1",
   "metadata": {},
   "source": [
    "\n",
    "## 5. Sammenligning av Mengder\n",
    "\n",
    "- `in` og `not in` sjekker om et element er i mengden.\n",
    "- `==` sjekker om to mengder er like.\n",
    "\n",
    "Eksempler:\n"
   ]
  },
  {
   "cell_type": "code",
   "execution_count": 9,
   "id": "6e798849",
   "metadata": {},
   "outputs": [
    {
     "name": "stdout",
     "output_type": "stream",
     "text": [
      "Er 'ost' i mengden? True\n",
      "Er 'eple' i mengden? False\n"
     ]
    }
   ],
   "source": [
    "\n",
    "# Eksempler på sammenligning\n",
    "A = {'ost', 'melk', 'kaffe'}\n",
    "print(\"Er 'ost' i mengden?\", 'ost' in A)\n",
    "print(\"Er 'eple' i mengden?\", 'eple' in A)\n"
   ]
  }
 ],
 "metadata": {
  "kernelspec": {
   "display_name": "Python 3",
   "language": "python",
   "name": "python3"
  },
  "language_info": {
   "codemirror_mode": {
    "name": "ipython",
    "version": 3
   },
   "file_extension": ".py",
   "mimetype": "text/x-python",
   "name": "python",
   "nbconvert_exporter": "python",
   "pygments_lexer": "ipython3",
   "version": "3.12.7"
  }
 },
 "nbformat": 4,
 "nbformat_minor": 5
}
