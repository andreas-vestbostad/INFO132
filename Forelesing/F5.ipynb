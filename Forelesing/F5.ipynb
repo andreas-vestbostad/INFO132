{
 "cells": [
  {
   "cell_type": "markdown",
   "metadata": {},
   "source": [
    "## Forelesning 26.09"
   ]
  },
  {
   "cell_type": "code",
   "execution_count": 1,
   "metadata": {},
   "outputs": [
    {
     "name": "stdout",
     "output_type": "stream",
     "text": [
      "[1, 2, 3, 4, 5, 6, 7, 8, 9]\n"
     ]
    },
    {
     "data": {
      "text/plain": [
       "['P', 'y', 't', 'h', 'o', 'n']"
      ]
     },
     "execution_count": 1,
     "metadata": {},
     "output_type": "execute_result"
    }
   ],
   "source": [
    "print(list(range(1,10)))\n",
    "\n",
    "list('Python')"
   ]
  },
  {
   "cell_type": "markdown",
   "metadata": {},
   "source": [
    "Operatorene + og * fungerer som konkatenering og kopiering\n",
    "på noen sekvenstyper"
   ]
  },
  {
   "cell_type": "code",
   "execution_count": 3,
   "metadata": {},
   "outputs": [
    {
     "name": "stdout",
     "output_type": "stream",
     "text": [
      "[1, 2, 3, 1, 2, 3, 1, 2, 3]\n"
     ]
    },
    {
     "data": {
      "text/plain": [
       "[1, 2, 3, 4, 5, 6]"
      ]
     },
     "execution_count": 3,
     "metadata": {},
     "output_type": "execute_result"
    }
   ],
   "source": [
    "print([1, 2, 3]*3)\n",
    "\n",
    "[1, 2, 3]+[4, 5, 6]"
   ]
  },
  {
   "cell_type": "code",
   "execution_count": 9,
   "metadata": {},
   "outputs": [],
   "source": [
    "def leserHeltallFraIntervall(melding, fra, til, antallForsøk):\n",
    "    Ferdig = False\n",
    "    while not Ferdig and antallForsøk > 0:\n",
    "        tall = int(input(melding))\n",
    "        if fra<=tall and tall <= til:\n",
    "            Ferdig = True\n",
    "        else:\n",
    "            antallForsøk -= 1\n",
    "            tall = None\n",
    "    \n",
    "    return tall\n",
    "\n",
    "leserHeltallFraIntervall(\"Alder\", 0, 110, 3)"
   ]
  },
  {
   "cell_type": "code",
   "execution_count": 10,
   "metadata": {},
   "outputs": [
    {
     "name": "stdout",
     "output_type": "stream",
     "text": [
      "4.0\n"
     ]
    }
   ],
   "source": [
    "tall_1 = 12\n",
    "tall_2 = 3\n",
    "\n",
    "\n",
    "tall_1 /= tall_2\n",
    "\n",
    "print(tall_1)"
   ]
  },
  {
   "cell_type": "code",
   "execution_count": 23,
   "metadata": {},
   "outputs": [
    {
     "name": "stdout",
     "output_type": "stream",
     "text": [
      "år 1 : 1030.0\n",
      "år 2 : 1060.9\n",
      "år 3 : 1092.73\n",
      "år 4 : 1125.51\n",
      "år 5 : 1159.27\n"
     ]
    }
   ],
   "source": [
    "beløp = float(input(\"Beløp: \"))\n",
    "rentesats = float(input(\"Sats (%): \"))/100\n",
    "antall_år = int(input(\"Antall år: \"))\n",
    "\n",
    "beløp += beløp * rentesats\n",
    "\n",
    "for år in range(1, antall_år+1):\n",
    "    print(f\"år {år} : {round(beløp, 2)}\")\n",
    "    beløp += beløp * rentesats\n",
    "    år += 1\n"
   ]
  },
  {
   "cell_type": "code",
   "execution_count": 34,
   "metadata": {},
   "outputs": [
    {
     "name": "stdout",
     "output_type": "stream",
     "text": [
      "['kaffe', 'kjeks', 'såpe']\n",
      "['kaffe', 'såpe']\n"
     ]
    }
   ],
   "source": [
    "handleliste=['kaffe', 'kjeks', 'såpe']\n",
    "print(handleliste)\n",
    "\n",
    "vare=input('Hva vil du slette fra listen? ')\n",
    "handleliste.remove(vare)\n",
    "\n",
    "print(handleliste)"
   ]
  },
  {
   "cell_type": "code",
   "execution_count": 35,
   "metadata": {},
   "outputs": [
    {
     "name": "stdout",
     "output_type": "stream",
     "text": [
      "['kaffe', 'kjeks', 'såpe']\n",
      "['kaffe', 'såpe']\n"
     ]
    }
   ],
   "source": [
    "handleliste=['kaffe', 'kjeks', 'såpe']\n",
    "print(handleliste)\n",
    "\n",
    "vare=input('Hva vil du slette fra listen?')\n",
    "revidert_liste = []\n",
    "\n",
    "for v in handleliste:\n",
    "    if v == vare:\n",
    "        continue\n",
    "    revidert_liste += [v]\n",
    "\n",
    "handleliste = revidert_liste\n",
    "\n",
    "print(handleliste)"
   ]
  },
  {
   "cell_type": "code",
   "execution_count": 37,
   "metadata": {},
   "outputs": [
    {
     "data": {
      "text/plain": [
       "2.0"
      ]
     },
     "execution_count": 37,
     "metadata": {},
     "output_type": "execute_result"
    }
   ],
   "source": [
    "def snitt(*tall):\n",
    "    n=0\n",
    "    sum=0\n",
    "    for i in tall:\n",
    "        sum=sum+i\n",
    "        n=n+1\n",
    "    return sum/n\n",
    "\n",
    "snitt(1,2,3)"
   ]
  }
 ],
 "metadata": {
  "kernelspec": {
   "display_name": "Python 3",
   "language": "python",
   "name": "python3"
  },
  "language_info": {
   "codemirror_mode": {
    "name": "ipython",
    "version": 3
   },
   "file_extension": ".py",
   "mimetype": "text/x-python",
   "name": "python",
   "nbconvert_exporter": "python",
   "pygments_lexer": "ipython3",
   "version": "3.12.7"
  }
 },
 "nbformat": 4,
 "nbformat_minor": 2
}
