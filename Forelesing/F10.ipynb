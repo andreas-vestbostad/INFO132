{
 "cells": [
  {
   "cell_type": "markdown",
   "metadata": {},
   "source": [
    "Tupler -> uforanderlige lister. \"Sort\" og lignende vil heller ikke fungere. gjør om til liste og tilbake om ein vil sortere"
   ]
  },
  {
   "cell_type": "markdown",
   "metadata": {},
   "source": [
    "singel tuppel må skrives (5,) merk: ,"
   ]
  },
  {
   "cell_type": "markdown",
   "metadata": {},
   "source": [
    "Ikke aliaser"
   ]
  },
  {
   "cell_type": "code",
   "execution_count": 33,
   "metadata": {},
   "outputs": [
    {
     "name": "stdout",
     "output_type": "stream",
     "text": [
      "emne    A B C D E F\n",
      "INFO100 1 1 1 0 0 0\n",
      "INFO104 0 2 1 0 0 0\n",
      "INFO210 2 0 1 0 0 0\n"
     ]
    }
   ],
   "source": [
    "Karakterer =\\\n",
    "{('INFO100','Kari'):'C', ('INFO100','Liv'):'A', \\\n",
    "('INFO100','Per'):'B', ('INFO104','Kari'):'B', \\\n",
    "('INFO104','Liv'):'C', ('INFO104','Per'):'B', \\\n",
    "('INFO210','Kari'):'A', ('INFO210','Liv'):'C', \\\n",
    "('INFO210','Per'):'A'}\n",
    "\n",
    "def karakterprofiler(fortegnelse):\n",
    "    emner = {}\n",
    "    bokstaver = (\"A\", \"B\", \"C\", \"D\", \"E\", \"F\")\n",
    "\n",
    "    for (fag, student), karakter in fortegnelse.items():\n",
    "        if not fag in emner: emner[fag] = [0, 0, 0, 0, 0, 0]\n",
    "        bokstaver.index(karakter)\n",
    "        emner[fag][bokstaver.index(karakter)] += 1\n",
    "  \n",
    "    print(\"emne\",\" \"*(len(max(emner))-(len(\"emne\"))-1), *bokstaver)\n",
    "\n",
    "    for emne, karakter_liste in emner.items():\n",
    "        print(emne, *karakter_liste)\n",
    "\n",
    "karakterprofiler(Karakterer)"
   ]
  }
 ],
 "metadata": {
  "kernelspec": {
   "display_name": "Python 3",
   "language": "python",
   "name": "python3"
  },
  "language_info": {
   "codemirror_mode": {
    "name": "ipython",
    "version": 3
   },
   "file_extension": ".py",
   "mimetype": "text/x-python",
   "name": "python",
   "nbconvert_exporter": "python",
   "pygments_lexer": "ipython3",
   "version": "3.12.7"
  }
 },
 "nbformat": 4,
 "nbformat_minor": 2
}
