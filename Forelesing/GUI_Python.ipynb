{
 "cells": [
  {
   "cell_type": "markdown",
   "id": "25739b51",
   "metadata": {},
   "source": [
    "\n",
    "# Forelesningsnotater om Grafiske Brukergrensesnitt (GUI) i Python\n",
    "\n",
    "---\n"
   ]
  },
  {
   "cell_type": "markdown",
   "id": "c53f50fb",
   "metadata": {},
   "source": [
    "\n",
    "## 1. Introduksjon til Brukergrensesnitt\n",
    "\n",
    "### Viktige begreper\n",
    "- **Konsollprogram**: Et program som interagerer med brukeren via kommandolinjen.\n",
    "- **Grafisk brukergrensesnitt (GUI)**: Reagerer på hendelser som tastaturtrykk, musebevegelser og klikk.\n",
    "- **Hendelsesløkken (event loop)**: En kontinuerlig prosess som overvåker og responderer på hendelser i GUI.\n"
   ]
  },
  {
   "cell_type": "markdown",
   "id": "613d5b07",
   "metadata": {},
   "source": [
    "\n",
    "## 2. Grunnleggende om `tkinter`\n",
    "\n",
    "`tkinter` er en standardmodul i Python for å utvikle GUI-programmer som skal være kompatible med flere plattformer.\n",
    "\n",
    "### Eksempel på opprettelse av et rot-vindu og hendelsesløkke\n",
    "\n",
    "Nedenfor er et eksempel på opprettelse av et rot-vindu (`Tk`) og kjøring av hendelsesløkken (`mainloop()`).\n"
   ]
  },
  {
   "cell_type": "code",
   "execution_count": null,
   "id": "28a07c57",
   "metadata": {},
   "outputs": [],
   "source": [
    "\n",
    "from tkinter import *\n",
    "\n",
    "# Opprett rot-vinduet\n",
    "rotvindu = Tk()\n",
    "\n",
    "# Start hendelsesløkken\n",
    "rotvindu.mainloop()\n"
   ]
  },
  {
   "cell_type": "markdown",
   "id": "c4e568c4",
   "metadata": {},
   "source": [
    "\n",
    "## 3. Widgets\n",
    "\n",
    "Widgets er elementene i GUI som brukeren kan interagere med, som knapper, etiketter, tekstfelt, etc.\n",
    "\n",
    "### Eksempler på Widgets:\n",
    "\n",
    "- **Label**: Viser tekst.\n",
    "- **Button**: Brukes for å utløse handlinger.\n",
    "- **Entry**: Tar imot tekst-input fra brukeren.\n"
   ]
  },
  {
   "cell_type": "markdown",
   "id": "2caed707",
   "metadata": {},
   "source": [
    "\n",
    "### Eksempel: Label Widget\n",
    "\n",
    "En `Label` kan brukes til å vise tekst på et bestemt sted i GUI-vinduet.\n"
   ]
  },
  {
   "cell_type": "code",
   "execution_count": null,
   "id": "fef72039",
   "metadata": {},
   "outputs": [],
   "source": [
    "\n",
    "from tkinter import *\n",
    "\n",
    "rotvindu = Tk()\n",
    "label = Label(rotvindu, text=\"Hei\")\n",
    "label.grid(row=0, column=0)\n",
    "\n",
    "rotvindu.mainloop()\n"
   ]
  },
  {
   "cell_type": "markdown",
   "id": "3fb87ae6",
   "metadata": {},
   "source": [
    "\n",
    "### Eksempel: Button Widget\n",
    "\n",
    "En `Button` kan konfigureres til å utføre en kommando når den klikkes.\n"
   ]
  },
  {
   "cell_type": "code",
   "execution_count": null,
   "id": "ebe7b452",
   "metadata": {},
   "outputs": [],
   "source": [
    "\n",
    "from tkinter import *\n",
    "\n",
    "def lukk_vindu():\n",
    "    rotvindu.destroy()\n",
    "\n",
    "rotvindu = Tk()\n",
    "knapp = Button(rotvindu, text=\"Lukk\", command=lukk_vindu)\n",
    "knapp.grid(row=0, column=0)\n",
    "\n",
    "rotvindu.mainloop()\n"
   ]
  },
  {
   "cell_type": "markdown",
   "id": "23213052",
   "metadata": {},
   "source": [
    "\n",
    "## 4. Konfigurering av Widgets\n",
    "\n",
    "Widgets kan konfigureres med ulike opsjoner som bredde, høyde, farger, osv. Metoden `.config()` brukes for å oppdatere innstillinger dynamisk.\n",
    "\n",
    "### Eksempel: Oppdatere Label med `.config()`\n"
   ]
  },
  {
   "cell_type": "code",
   "execution_count": null,
   "id": "380ca209",
   "metadata": {},
   "outputs": [],
   "source": [
    "\n",
    "from tkinter import *\n",
    "\n",
    "rotvindu = Tk()\n",
    "label = Label(rotvindu, text=\"Hei\", fg=\"red\", bg=\"yellow\")\n",
    "label.grid(row=0, column=0)\n",
    "\n",
    "# Oppdaterer tekst og farge\n",
    "def endre_tekst():\n",
    "    label.config(text=\"Hallo\", fg=\"blue\")\n",
    "\n",
    "knapp = Button(rotvindu, text=\"Endre Tekst\", command=endre_tekst)\n",
    "knapp.grid(row=1, column=0)\n",
    "\n",
    "rotvindu.mainloop()\n"
   ]
  },
  {
   "cell_type": "markdown",
   "id": "5a5bcef0",
   "metadata": {},
   "source": [
    "\n",
    "## 5. Hendelsesdrevet Programmering\n",
    "\n",
    "GUI-programmer bruker hendelsesdrevet programmering, der widgets responderer på hendelser. `mainloop()` starter hendelsesløkken.\n",
    "\n",
    "### Eksempel på hendelsesløkken:\n"
   ]
  },
  {
   "cell_type": "code",
   "execution_count": null,
   "id": "751bbc3f",
   "metadata": {},
   "outputs": [],
   "source": [
    "\n",
    "from tkinter import *\n",
    "\n",
    "rotvindu = Tk()\n",
    "rotvindu.title(\"Eksempel med hendelsesløkke\")\n",
    "\n",
    "label = Label(rotvindu, text=\"Klikk knappen!\")\n",
    "label.pack()\n",
    "\n",
    "def endre_label():\n",
    "    label.config(text=\"Knapp klikket!\")\n",
    "\n",
    "knapp = Button(rotvindu, text=\"Klikk meg\", command=endre_label)\n",
    "knapp.pack()\n",
    "\n",
    "rotvindu.mainloop()\n"
   ]
  }
 ],
 "metadata": {
  "kernelspec": {
   "display_name": "Python 3",
   "language": "python",
   "name": "python3"
  },
  "language_info": {
   "name": "python",
   "version": "3.12.7"
  }
 },
 "nbformat": 4,
 "nbformat_minor": 5
}
