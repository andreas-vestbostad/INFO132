{
 "cells": [
  {
   "cell_type": "markdown",
   "id": "c7505cdf",
   "metadata": {},
   "source": [
    "# Forelesningsnotat: Introduksjon til programmering"
   ]
  },
  {
   "cell_type": "markdown",
   "id": "05aa3328",
   "metadata": {},
   "source": [
    "\n",
    "# Innholdsfortegnelse\n",
    "1. [Hva er programmering?](#Hva-er-programmering)\n",
    "2. [Hva er et program?](#Hva-er-et-program)\n",
    "3. [Syntaks og Semantikk](#Syntaks-og-Semantikk)\n",
    "4. [Språkbruk og Problemløsning](#Språkbruk-og-Problemløsning)\n",
    "5. [Python](#Python)\n",
    "6. [Print-funksjonen](#Print-funksjonen)\n",
    "7. [Konvertere tall til tekstverdier](#Konvertere-tall-til-tekstverdier)\n",
    "8. [Variable](#Variable)\n",
    "9. [Talloperatorer](#Talloperatorer)\n",
    "10. [Operator overlasting (polymorfi)](#Operator-overlasting-(polymorfi))\n",
    "11. [Husk: Tall- og bokstavrekkefølge](#Husk:-Tall--og-bokstavrekkefølge)\n",
    "12. [Ulike former for feil](#Ulike-former-for-feil)\n"
   ]
  },
  {
   "cell_type": "markdown",
   "id": "0931758c",
   "metadata": {},
   "source": [
    "## Hva er programmering?\n",
    "\n",
    "Programmering er å gi instruksjoner til ein datamaskin ved hjelp av eit programmeringsspråk."
   ]
  },
  {
   "cell_type": "markdown",
   "id": "be198482",
   "metadata": {},
   "source": [
    "## Hva er et program?\n",
    "\n",
    "Eit program er eit sett med instruksjoner som datamaskina utfører. Vanlegvis startar det som ein tekstfil med programkode som blir kompilert eller tolka til maskinkode."
   ]
  },
  {
   "cell_type": "markdown",
   "id": "58ff9cd8",
   "metadata": {},
   "source": [
    "## Syntaks og Semantikk\n",
    "\n",
    "### Syntaks\n",
    "- Gloser og grammatikk \"regler\" som må følgast i eit programmeringsspråk.\n",
    "\n",
    "### Semantikk\n",
    "- Meningsinnhaldet eller logikken i programmet."
   ]
  },
  {
   "cell_type": "markdown",
   "id": "9ba37f17",
   "metadata": {},
   "source": [
    "## Språkbruk og Problemløsning\n",
    "\n",
    "### Språkbruk\n",
    "- Formulere det ein ønskjer å uttrykke i kode.\n",
    "\n",
    "### Problemløsning\n",
    "- Bryte ned eit problem i stegvis instruksjoner."
   ]
  },
  {
   "cell_type": "markdown",
   "id": "252de8d7",
   "metadata": {},
   "source": [
    "## Python\n",
    "\n",
    "Python er gratis, populært og har eit rikt bibliotek. Det er kjent for å vere enkelt å bruke."
   ]
  },
  {
   "cell_type": "code",
   "execution_count": 5,
   "id": "08565882",
   "metadata": {},
   "outputs": [
    {
     "name": "stdout",
     "output_type": "stream",
     "text": [
      "Hei, verden!\n",
      "Tall: - 42."
     ]
    }
   ],
   "source": [
    "# Print-funksjonen\n",
    "# Eksempel på bruk av print-funksjonen\n",
    "print('Hei, verden!')\n",
    "print('Tall:', 42, sep=' - ', end='.')"
   ]
  },
  {
   "cell_type": "code",
   "execution_count": 4,
   "id": "f4bf1fc3",
   "metadata": {},
   "outputs": [
    {
     "name": "stdout",
     "output_type": "stream",
     "text": [
      "33.333\n"
     ]
    }
   ],
   "source": [
    "# Konvertere tall til tekstverdier\n",
    "# Avrunde tallet 100/3 til 3 desimaler som tekst\n",
    "tekst = '%.3f' % (100/3)\n",
    "print(tekst)  # Output: '33.333'"
   ]
  },
  {
   "cell_type": "markdown",
   "id": "290ec141",
   "metadata": {},
   "source": [
    "## Variable\n",
    "\n",
    "Ei variabel er ein plasshaldar for ein verdi, t.d. `x = 42`."
   ]
  },
  {
   "cell_type": "code",
   "execution_count": 3,
   "id": "4db4e100",
   "metadata": {},
   "outputs": [
    {
     "name": "stdout",
     "output_type": "stream",
     "text": [
      "Sum: 13\n",
      "Differanse: 7\n",
      "Produkt: 30\n",
      "Kvotient: 3.3333333333333335\n"
     ]
    }
   ],
   "source": [
    "# Talloperatorer\n",
    "# Eksempel på bruk av operatorer\n",
    "x = 10\n",
    "y = 3\n",
    "print('Sum:', x + y)\n",
    "print('Differanse:', x - y)\n",
    "print('Produkt:', x * y)\n",
    "print('Kvotient:', x / y)"
   ]
  },
  {
   "cell_type": "code",
   "execution_count": 2,
   "id": "19456a3c",
   "metadata": {},
   "outputs": [
    {
     "name": "stdout",
     "output_type": "stream",
     "text": [
      "11\n",
      "2\n"
     ]
    }
   ],
   "source": [
    "# Operator overlasting (polymorfi)\n",
    "# Eksempel på operator overlasting\n",
    "print('1' + '1')  # Output: '11'\n",
    "print(1 + 1)      # Output: 2"
   ]
  },
  {
   "cell_type": "code",
   "execution_count": 1,
   "id": "c36f6f28",
   "metadata": {},
   "outputs": [
    {
     "name": "stdout",
     "output_type": "stream",
     "text": [
      "False\n",
      "True\n",
      "Ola\n"
     ]
    }
   ],
   "source": [
    "# Husk: Tall- og bokstavrekkefølge\n",
    "# Eksempel på rekkefølge\n",
    "print('99' < '100')  # Output: False\n",
    "print(99 < 100)      # Output: True\n",
    "print(max('Kari', 'Liv', 'Ola'))  # Output: 'Ola'"
   ]
  },
  {
   "cell_type": "markdown",
   "id": "bb4dc119",
   "metadata": {},
   "source": [
    "## Ulike former for feil\n",
    "\n",
    "- **Syntaksfeil**: Ulovleg formatering, fører til feilmelding.\n",
    "- **Logisk feil**: Programmet kjører, men resultatet er feil.\n",
    "- **Semantisk feil**: Programmet kjører utan feil, men oppfører seg ikkje som forventa."
   ]
  }
 ],
 "metadata": {
  "kernelspec": {
   "display_name": "Python 3",
   "language": "python",
   "name": "python3"
  },
  "language_info": {
   "codemirror_mode": {
    "name": "ipython",
    "version": 3
   },
   "file_extension": ".py",
   "mimetype": "text/x-python",
   "name": "python",
   "nbconvert_exporter": "python",
   "pygments_lexer": "ipython3",
   "version": "3.12.7"
  }
 },
 "nbformat": 4,
 "nbformat_minor": 5
}
