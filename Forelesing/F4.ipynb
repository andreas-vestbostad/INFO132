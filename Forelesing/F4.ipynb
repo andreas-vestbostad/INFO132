{
 "cells": [
  {
   "cell_type": "code",
   "execution_count": 7,
   "metadata": {},
   "outputs": [
    {
     "name": "stdout",
     "output_type": "stream",
     "text": [
      "hei\n",
      "hei\n",
      "hei\n",
      "\n"
     ]
    }
   ],
   "source": [
    "def ekko(tekst, antall, linjeskift):\n",
    "    if linjeskift: tekst+=\"\\n\"\n",
    "    return tekst*antall\n",
    "\n",
    "ord = input(\"Hva vil du si? \")\n",
    "antall = int(input(\"Hvor mange ganger vil du si det? \"))\n",
    "linjeskift = input(\"Vil du ha linjeskif? (ja/nei) \")\n",
    "\n",
    "print(ekko(ord, antall, linjeskift == \"ja\"))"
   ]
  },
  {
   "cell_type": "markdown",
   "metadata": {},
   "source": [
    "generisk funksjon; \"universal\""
   ]
  },
  {
   "cell_type": "code",
   "execution_count": 7,
   "metadata": {},
   "outputs": [
    {
     "data": {
      "text/plain": [
       "98.42"
      ]
     },
     "execution_count": 7,
     "metadata": {},
     "output_type": "execute_result"
    }
   ],
   "source": [
    "kursSEK=0.9842 #svenske kroner \n",
    "kursDKK=0.7166 #danske kroner\n",
    "\n",
    "def tilNorsk(beløp, valuta):\n",
    "    if valuta=='svensk': kurs=kursSEK\n",
    "    elif valuta=='dansk': kurs=kursDKK\n",
    "    else:return 'ukjent valuta'\n",
    "    return beløp/kurs\n",
    "\n",
    "def fraNorsk(beløp, valuta):\n",
    "    if valuta=='svensk': kurs=kursSEK\n",
    "    elif valuta=='dansk': kurs=kursDKK\n",
    "    else:return 'ukjent valuta'\n",
    "    return beløp*kurs\n",
    "\n",
    "def omregning(beløp, fra, til):\n",
    "    if fra==til:\n",
    "        return beløp\n",
    "    elif fra=='norsk':\n",
    "        return fraNorsk(beløp, til)\n",
    "    elif til=='norsk':\n",
    "        return tilNorsk(beløp, fra)\n",
    "    else:\n",
    "        nok=tilNorsk(beløp,fra)\n",
    "        if nok=='ukjent valuta':\n",
    "            return nok\n",
    "        return fraNorsk(nok,til)\n",
    "    \n",
    "omregning(100, \"norsk\", \"svensk\")"
   ]
  },
  {
   "cell_type": "markdown",
   "metadata": {},
   "source": [
    "Programflyt (flow of execution)\n",
    "\n",
    "Eksekvering av et program er prosessen der programsetningene utføres ovenfra og ned, i henhold til eventuelle betingelser i programsetningene\n",
    "\n",
    "Programflyten er sekvensen av instruksjoner som blir utført.\n",
    "\n",
    "Når programflyten kommer til et funksjonskall<br>\n",
    "• Suspendereseksekveringen.<br>\n",
    "• Funksjonenskroppeksekveresienegenprosess.<br>\n",
    "• Parametereblirtillokalevariableidennyeprosessen,<br>\n",
    "og tilordnes argumentverdiene i funksjonskallet. (Argumentverdiene regnes ut, om nødvendig, før tilordning)<br>\n",
    "• Den opprinnelige eksekveringen gjenopptas når funksjonskallet er ferdig.<br>"
   ]
  },
  {
   "cell_type": "markdown",
   "metadata": {},
   "source": [
    "Skop – en variabels rekkevidde"
   ]
  },
  {
   "cell_type": "markdown",
   "metadata": {},
   "source": [
    "En lokal variabel tar presedens over eventuelle variable med samme navn i andre skop"
   ]
  },
  {
   "cell_type": "code",
   "execution_count": 11,
   "metadata": {},
   "outputs": [
    {
     "name": "stdout",
     "output_type": "stream",
     "text": [
      "global\n",
      "lokal\n",
      "lokal\n"
     ]
    }
   ],
   "source": [
    "def f():\n",
    "    global x\n",
    "    x = 'lokal'\n",
    "    print(x)\n",
    "\n",
    "x = 'global'\n",
    "\n",
    "print(x)\n",
    "f()\n",
    "print(x)"
   ]
  },
  {
   "cell_type": "markdown",
   "metadata": {},
   "source": [
    "Oppdatering i omsluttende skop (II) – nonlocal\n",
    "En funksjon står fritt til å lese variable i omsluttende skop, men et forsøk på å oppdatere en ikke-lokal variabel vil tolkes som et forsøk på å opprette en lokal variabel med samme navn\n",
    "nonlocal spesifiserer at funksjonen oppdaterer utenfor eget skop (‘nærmeste’ forekomst, dog ikke globalt)."
   ]
  }
 ],
 "metadata": {
  "kernelspec": {
   "display_name": "Python 3",
   "language": "python",
   "name": "python3"
  },
  "language_info": {
   "codemirror_mode": {
    "name": "ipython",
    "version": 3
   },
   "file_extension": ".py",
   "mimetype": "text/x-python",
   "name": "python",
   "nbconvert_exporter": "python",
   "pygments_lexer": "ipython3",
   "version": "3.9.6"
  }
 },
 "nbformat": 4,
 "nbformat_minor": 2
}
