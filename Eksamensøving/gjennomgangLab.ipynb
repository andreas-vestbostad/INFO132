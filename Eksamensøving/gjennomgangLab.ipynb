{
 "cells": [
  {
   "cell_type": "markdown",
   "metadata": {},
   "source": [
    "**1.3**"
   ]
  },
  {
   "cell_type": "markdown",
   "metadata": {},
   "source": [
    "Skriv et program som oppretter en variabel kalt antallStudenter som står for det totale antallet\n",
    "studenter på et kurs, samt en variabel antallKvinner som står for antallet kvinner. Programmet\n",
    "skal skrive ut antallet studenter og kvinneandelen på skjermen. Kjør programmet med ulike verdier\n",
    "for antall studenter totalt og kvinner blant dem."
   ]
  },
  {
   "cell_type": "code",
   "execution_count": 38,
   "metadata": {},
   "outputs": [
    {
     "name": "stdout",
     "output_type": "stream",
     "text": [
      "Totalt antall studenter: 100 , kvinneandel: 0.75\n"
     ]
    }
   ],
   "source": [
    "antallStudenter = 100\n",
    "antallKvinner = 75\n",
    "\n",
    "kvinneAndel = antallKvinner / antallStudenter\n",
    "\n",
    "print(f\"Totalt antall studenter: {antallStudenter} , kvinneandel: {kvinneAndel:.2f}\")"
   ]
  },
  {
   "cell_type": "markdown",
   "metadata": {},
   "source": [
    "**1.4** "
   ]
  },
  {
   "cell_type": "markdown",
   "metadata": {},
   "source": [
    "Lag et program som konverterer fra Fahrenheit til Celsius."
   ]
  },
  {
   "cell_type": "code",
   "execution_count": 39,
   "metadata": {},
   "outputs": [
    {
     "name": "stdout",
     "output_type": "stream",
     "text": [
      "60 grader Fahrenheit tilsvarer 15.555555555555555 grader Celsius\n"
     ]
    }
   ],
   "source": [
    "graderFahrenheit = 60\n",
    "graderCelsius = (graderFahrenheit - 32) * 5/9\n",
    "\n",
    "print(f\"{graderFahrenheit} grader Fahrenheit tilsvarer {graderCelsius} grader Celsius\")"
   ]
  },
  {
   "cell_type": "markdown",
   "metadata": {},
   "source": [
    "Modifiser programmene slik at gradene angis med to desimaler."
   ]
  },
  {
   "cell_type": "code",
   "execution_count": 40,
   "metadata": {},
   "outputs": [
    {
     "name": "stdout",
     "output_type": "stream",
     "text": [
      "60 grader Fahrenheit tilsvarer 15.56 grader Celsius\n"
     ]
    }
   ],
   "source": [
    "graderFahrenheit = 60\n",
    "graderCelsius = (graderFahrenheit - 32) * 5/9\n",
    "\n",
    "print(f\"{graderFahrenheit} grader Fahrenheit tilsvarer {graderCelsius:.2f} grader Celsius\")"
   ]
  },
  {
   "cell_type": "markdown",
   "metadata": {},
   "source": [
    "Spesialtegn for Celsius- og Fahrenheit-grader kan skrives med tegnkoder, henholdsvis\n",
    "u\"\\N{degree celsius}\" og u\"\\N{degree fahrenheit}\"."
   ]
  },
  {
   "cell_type": "code",
   "execution_count": 41,
   "metadata": {},
   "outputs": [
    {
     "name": "stdout",
     "output_type": "stream",
     "text": [
      "60℉ = 15.56℃\n"
     ]
    }
   ],
   "source": [
    "graderFahrenheit = 60\n",
    "graderCelsius = (graderFahrenheit - 32) * 5/9\n",
    "\n",
    "print(f\"{graderFahrenheit}\\N{degree fahrenheit} = {graderCelsius:.2f}\\N{degree celsius}\")"
   ]
  },
  {
   "cell_type": "markdown",
   "metadata": {},
   "source": [
    "**1.5**"
   ]
  },
  {
   "cell_type": "markdown",
   "metadata": {},
   "source": [
    "Her ser du tilordninger til 15 variable som holder hhv temperatur, nedbørsmengde og vindstyrke for\n",
    "mandag til fredag i en uke. Koden er vedlagt i filen værdata.py."
   ]
  },
  {
   "cell_type": "code",
   "execution_count": 42,
   "metadata": {},
   "outputs": [
    {
     "name": "stdout",
     "output_type": "stream",
     "text": [
      "Man  10.1   3.5   8.1\n",
      "Tir  12.1  10.5  12.9\n",
      "Ons    13   3.9  12.1\n",
      "Tor  12.9     0   5.4\n",
      "Fre  11.2   0.1   5.2\n"
     ]
    }
   ],
   "source": [
    "import værdata\n",
    "\n",
    "ManTemp=10.1\n",
    "ManNedbør=3.5\n",
    "ManVind=8.1\n",
    "TirTemp=12.1\n",
    "TirNedbør=10.5\n",
    "TirVind=12.9\n",
    "OnsTemp=13\n",
    "OnsNedbør=3.9\n",
    "OnsVind=12.1\n",
    "TorTemp=12.9\n",
    "TorNedbør=0\n",
    "TorVind=5.4\n",
    "FreTemp=11.2\n",
    "FreNedbør=0.1\n",
    "FreVind=5.2\n",
    "\n",
    "vekedagar = [\"Man\", \"Tir\", \"Ons\", \"Tor\", \"Fre\"]\n",
    "\n",
    "for dag in vekedagar:\n",
    "    temp = globals()[dag +'Temp']\n",
    "    nedbør = globals()[dag +'Nedbør']\n",
    "    vind = globals()[dag +'Vind']\n",
    "    print(f\"{dag} {temp:>5} {nedbør:>5} {vind:>5}\")\n"
   ]
  },
  {
   "cell_type": "markdown",
   "metadata": {},
   "source": [
    "Endre programmet ved å legge til en variabel kalt bredde som står for kolonnebredde i\n",
    "utskriften, dvs hvor mange plasser som brukes på hvert tall. Programmet skal først skrive ut\n",
    "kolonnebredden og så skrive verdiene som i punkt a) men der bredde-variabelen bestemmer\n",
    "avstanden mellom kolonnene."
   ]
  },
  {
   "cell_type": "code",
   "execution_count": 43,
   "metadata": {},
   "outputs": [
    {
     "name": "stdout",
     "output_type": "stream",
     "text": [
      "kolonnebredde = 5\n",
      "Man  10.1   3.5   8.1\n",
      "Tir  12.1  10.5  12.9\n",
      "Ons    13   3.9  12.1\n",
      "Tor  12.9     0   5.4\n",
      "Fre  11.2   0.1   5.2\n"
     ]
    }
   ],
   "source": [
    "import værdata\n",
    "\n",
    "ManTemp=10.1\n",
    "ManNedbør=3.5\n",
    "ManVind=8.1\n",
    "TirTemp=12.1\n",
    "TirNedbør=10.5\n",
    "TirVind=12.9\n",
    "OnsTemp=13\n",
    "OnsNedbør=3.9\n",
    "OnsVind=12.1\n",
    "TorTemp=12.9\n",
    "TorNedbør=0\n",
    "TorVind=5.4\n",
    "FreTemp=11.2\n",
    "FreNedbør=0.1\n",
    "FreVind=5.2\n",
    "\n",
    "vekedagar = [\"Man\", \"Tir\", \"Ons\", \"Tor\", \"Fre\"]\n",
    "\n",
    "kolonnebredde = 5\n",
    "print(f\"{kolonnebredde = }\")\n",
    "\n",
    "for dag in vekedagar:\n",
    "    temp = globals()[dag +'Temp']\n",
    "    nedbør = globals()[dag +'Nedbør']\n",
    "    vind = globals()[dag +'Vind']\n",
    "    print(f\"{dag} {temp:>{kolonnebredde}} {nedbør:>{kolonnebredde}} {vind:>{kolonnebredde}}\")\n"
   ]
  },
  {
   "cell_type": "markdown",
   "metadata": {},
   "source": [
    "**1.5** ALTERNATIV"
   ]
  },
  {
   "cell_type": "code",
   "execution_count": 44,
   "metadata": {},
   "outputs": [
    {
     "name": "stdout",
     "output_type": "stream",
     "text": [
      "kolonnebredde 9\n",
      "Man      10.1       3.5       8.1\n",
      "Tir      12.1      10.5      12.9\n",
      "Ons      13.0       3.9      12.1\n",
      "Tor      12.9       0.0       5.4\n",
      "Fre      11.2       0.1       5.2\n"
     ]
    }
   ],
   "source": [
    "import værdata\n",
    "\n",
    "bredde='9'\n",
    "mal='%'+bredde+'.1f'\n",
    "\n",
    "print('kolonnebredde', bredde)\n",
    "print('Man',mal%ManTemp,mal%ManNedbør,mal%ManVind)\n",
    "print('Tir',mal%TirTemp,mal%TirNedbør,mal%TirVind)\n",
    "print('Ons',mal%OnsTemp,mal%OnsNedbør,mal%OnsVind)\n",
    "print('Tor',mal%TorTemp,mal%TorNedbør,mal%TorVind)\n",
    "print('Fre',mal%FreTemp,mal%FreNedbør,mal%FreVind)"
   ]
  },
  {
   "cell_type": "markdown",
   "metadata": {},
   "source": [
    "**2.5**"
   ]
  },
  {
   "cell_type": "markdown",
   "metadata": {},
   "source": [
    "Lag et program som leser inn radiusen til en sirkel fra tastaturet og beregner arealet til sirkelen.\n",
    "Skriv ut med tre desimaler."
   ]
  },
  {
   "cell_type": "code",
   "execution_count": 45,
   "metadata": {},
   "outputs": [
    {
     "name": "stdout",
     "output_type": "stream",
     "text": [
      "Arealet til en sirkel med radius 2.0 er 12.566\n"
     ]
    }
   ],
   "source": [
    "from math import pi\n",
    "\n",
    "radius = float(input(\"Radius: \"))\n",
    "areal = pi*radius**2\n",
    "print(f\"Arealet til en sirkel med radius {radius} er {areal:.3f}\")"
   ]
  },
  {
   "cell_type": "markdown",
   "metadata": {},
   "source": [
    "**2.6**"
   ]
  },
  {
   "cell_type": "markdown",
   "metadata": {},
   "source": [
    "Les to siffer n og m fra tastaturet, sett de sammen til det tosifrede tallet mn\n",
    "(dvs tallet som starter på m og slutter på n - ikke produktet m*n) og omvendt nm.\n",
    "Beregn så kvadratroten av mn*nm. Skriv svaret med to desimaler."
   ]
  },
  {
   "cell_type": "code",
   "execution_count": 46,
   "metadata": {},
   "outputs": [
    {
     "name": "stdout",
     "output_type": "stream",
     "text": [
      "Kvardratroten av 12 * 21 = 15.87\n"
     ]
    }
   ],
   "source": [
    "from math import sqrt\n",
    "\n",
    "n = input(\"1. siffer: \")\n",
    "m = input(\"2. siffer: \")\n",
    "\n",
    "nm = int(n+m)\n",
    "mn = int(m+n)\n",
    "kvadratrot = sqrt(nm*mn)\n",
    "\n",
    "print(f\"Kvardratroten av {nm} * {mn} = {kvadratrot:.2f}\")"
   ]
  },
  {
   "cell_type": "markdown",
   "metadata": {},
   "source": [
    "**2.7**"
   ]
  },
  {
   "cell_type": "markdown",
   "metadata": {},
   "source": [
    "Sett inn parenteser tilsvarende PEMDAS-reglene i følgende uttrykk."
   ]
  },
  {
   "cell_type": "code",
   "execution_count": 47,
   "metadata": {},
   "outputs": [
    {
     "name": "stdout",
     "output_type": "stream",
     "text": [
      "1030\n",
      "1030\n",
      "7774.333333333333\n",
      "7774.333333333333\n",
      "-38.6\n",
      "-38.6\n"
     ]
    }
   ],
   "source": [
    "print(2*3+4**5)\n",
    "print((2*3)+(4**5))\n",
    "\n",
    "print(6**5-4/3*2+1)\n",
    "print(((6**5)-((4/3)*2))+1)\n",
    "\n",
    "print(1+2+3*4/5*6-7*8)\n",
    "print(((1+2)+(((3*4)/5)*6))-(7*8))"
   ]
  },
  {
   "cell_type": "markdown",
   "metadata": {},
   "source": [
    "Sett inn parenteser slik at uttrykkene nedenfor blir entydige (dvs at PEMDAS-reglene er\n",
    "unødvendige) og begge evalueres til samme tall (hint: 21)"
   ]
  },
  {
   "cell_type": "code",
   "execution_count": 48,
   "metadata": {},
   "outputs": [
    {
     "data": {
      "text/plain": [
       "True"
      ]
     },
     "execution_count": 48,
     "metadata": {},
     "output_type": "execute_result"
    }
   ],
   "source": [
    "(6+5)*4/2-1==((4*(2**2))-3**2)*(3**2-3*2)"
   ]
  },
  {
   "cell_type": "markdown",
   "metadata": {},
   "source": [
    "**2.8**"
   ]
  },
  {
   "cell_type": "markdown",
   "metadata": {},
   "source": [
    "Lag et program som skriver ut et tilfeldig antall spørsmåltegn på skjermen og ber brukeren gjette\n",
    "hvor mange det er. Programmet skal skrive ut True dersom gjetningen er riktig, False ellers.\n",
    "Eksempler (dialogen tar seg best ut på engelsk):"
   ]
  },
  {
   "cell_type": "code",
   "execution_count": 49,
   "metadata": {},
   "outputs": [
    {
     "name": "stdout",
     "output_type": "stream",
     "text": [
      "????????????????????????????\n",
      "That's False!\n",
      "28 is the right answer.\n"
     ]
    }
   ],
   "source": [
    "from random import randint\n",
    "\n",
    "tilfeldigTall = randint(0,30)\n",
    "print(\"?\"*tilfeldigTall)\n",
    "gjett = int(input(\"Guess the number of ?'s: \"))\n",
    "\n",
    "print(\"That's True!\" if gjett == tilfeldigTall else \"That's False!\")\n",
    "print(f\"{tilfeldigTall} is the right answer.\")"
   ]
  },
  {
   "cell_type": "markdown",
   "metadata": {},
   "source": [
    "**2.9**"
   ]
  },
  {
   "cell_type": "markdown",
   "metadata": {},
   "source": [
    "Lag et program som ber brukeren om et tre-sifret tall. Programmet skal skrive ut alle permutasjoner\n",
    "av sifrene i dette tallet. Dvs alle tall man kan få ved å stokke om på sifrene i tallet.\n",
    "For et tre-sifret tall vil det være totalt 6 permutasjoner, inkludert det opprinnelige tallet."
   ]
  },
  {
   "cell_type": "code",
   "execution_count": 50,
   "metadata": {},
   "outputs": [
    {
     "name": "stdout",
     "output_type": "stream",
     "text": [
      "Permutajoner: 123 132 213 231 312 321\n"
     ]
    }
   ],
   "source": [
    "tall = [*input(\"Oppgi et tresifret tall: \")]\n",
    "premutasjoner = []\n",
    "\n",
    "premutasjoner.append(tall[0]+tall[1]+tall[2])\n",
    "premutasjoner.append(tall[0]+tall[2]+tall[1])\n",
    "premutasjoner.append(tall[1]+tall[0]+tall[2])\n",
    "premutasjoner.append(tall[1]+tall[2]+tall[0])\n",
    "premutasjoner.append(tall[2]+tall[0]+tall[1])\n",
    "premutasjoner.append(tall[2]+tall[1]+tall[0])\n",
    "\n",
    "print(\"Permutajoner:\", *premutasjoner)"
   ]
  },
  {
   "cell_type": "markdown",
   "metadata": {},
   "source": [
    "**2.10**"
   ]
  },
  {
   "cell_type": "markdown",
   "metadata": {},
   "source": [
    "Lag et program der du spiller stein-saks-papir mot maskinen.\n",
    "• Du velger et tall, 1 (papir),2 (saks) eller 3(stein)\n",
    "• Maskinen velger tilsvarende tall, tilfeldig.\n",
    "• Bruk sannhetsverdiene True/False til å rapportere om utfallet ble seier, tap eller uavgjort"
   ]
  },
  {
   "cell_type": "code",
   "execution_count": 51,
   "metadata": {},
   "outputs": [
    {
     "name": "stdout",
     "output_type": "stream",
     "text": [
      "Maskinen velger: 3\n",
      "Jeg vant: True\n",
      "Uavgjort:  False\n",
      "Maskinen vant:  False\n"
     ]
    }
   ],
   "source": [
    "from random import randint\n",
    "\n",
    "valg = int(input(\"Velg (1=papir,2=saks eller 3=stein):\"))\n",
    "maskin = randint(1,3)\n",
    "\n",
    "seier = False\n",
    "uavgjort = False\n",
    "\n",
    "if valg == 1 and maskin == 3 or valg == 2 and maskin == 1 or valg == 3 and maskin == 2:\n",
    "    seier = True\n",
    "elif valg == maskin:\n",
    "    uavgjort = True\n",
    "\n",
    "print(\"Maskinen velger:\", maskin)\n",
    "print(\"Jeg vant:\", seier)\n",
    "print(\"Uavgjort: \", uavgjort)\n",
    "print(\"Maskinen vant: \", not(seier) if uavgjort == False else False)"
   ]
  },
  {
   "cell_type": "markdown",
   "metadata": {},
   "source": [
    "**2.11**"
   ]
  },
  {
   "cell_type": "markdown",
   "metadata": {},
   "source": [
    "Les inn et hel-tall fra tastaturet og avgjør om det er et oddetall. Svar True eller False"
   ]
  },
  {
   "cell_type": "code",
   "execution_count": 52,
   "metadata": {},
   "outputs": [
    {
     "name": "stdout",
     "output_type": "stream",
     "text": [
      "23 is an odd number: True\n"
     ]
    }
   ],
   "source": [
    "tall = int(input(\"tall: \"))\n",
    "\n",
    "print(f\"{tall} is an odd number:\", True if tall%2!=0 else False)"
   ]
  },
  {
   "cell_type": "markdown",
   "metadata": {},
   "source": [
    "**2.12**"
   ]
  },
  {
   "cell_type": "markdown",
   "metadata": {},
   "source": [
    "Les inn to tall n og m (der n£m) fra tastaturet, beregn n+...+m og skriv ut svaret. "
   ]
  },
  {
   "cell_type": "code",
   "execution_count": 53,
   "metadata": {},
   "outputs": [
    {
     "name": "stdout",
     "output_type": "stream",
     "text": [
      "3 + ... + 2 = 0\n"
     ]
    }
   ],
   "source": [
    "fra = int(input(\"Fra: \"))\n",
    "til = int(input(\"Til: \"))\n",
    "\n",
    "sum = 0\n",
    "i = fra\n",
    "\n",
    "while i <= til:\n",
    "    sum += i\n",
    "    i += 1\n",
    "\n",
    "print(f\"{fra} + ... + {til} = {sum}\")"
   ]
  },
  {
   "cell_type": "markdown",
   "metadata": {},
   "source": [
    "**2.13**"
   ]
  },
  {
   "cell_type": "markdown",
   "metadata": {},
   "source": [
    "Eksperimenter deg fram til hvilken presedens % har i PEMDAS-hierarkiet"
   ]
  },
  {
   "cell_type": "markdown",
   "metadata": {},
   "source": [
    "% har samme presedens som /, *, //"
   ]
  },
  {
   "cell_type": "markdown",
   "metadata": {},
   "source": [
    "**3.5**"
   ]
  },
  {
   "cell_type": "markdown",
   "metadata": {},
   "source": [
    "Skuddår forekommer når årstallet er delelig med 4. Unntaket er det første året i århundrer som ikke\n",
    "er delelig med 400 (for eksempel år 1800 og 1900).\n",
    "Lag et program som leser inn et årstall og avgjør om det er et skuddår.\n",
    "(Hint: tallet N er delelig med tallet M dersom N%M==0)"
   ]
  },
  {
   "cell_type": "code",
   "execution_count": 54,
   "metadata": {},
   "outputs": [
    {
     "name": "stdout",
     "output_type": "stream",
     "text": [
      "skuddår\n"
     ]
    }
   ],
   "source": [
    "årstall = int(input(\"årstall: \"))\n",
    "\n",
    "skuddår = False\n",
    "\n",
    "if årstall % 400 == 0:\n",
    "    skuddår = True\n",
    "elif årstall % 4 == 0 and årstall % 100 != 0:\n",
    "    skuddår = True\n",
    "\n",
    "print(\"skuddår\" if skuddår == True else \"ikke skuddår\")"
   ]
  },
  {
   "cell_type": "markdown",
   "metadata": {},
   "source": [
    "**3.6**"
   ]
  },
  {
   "cell_type": "markdown",
   "metadata": {},
   "source": [
    "Lag et program som ber brukeren taste inn en timelønn og et antall arbeidstimer og skriver ut hvor\n",
    "mye hen har tjent på arbeidet. Dersom arbeidstimene overstiger 40 skal man få 10%\n",
    "overtidsbetaling. Dersom brukeren taster inn negative tall, eller verdier som ikke er tall, skal\n",
    "programmet gi melding om feilen og gi brukeren en sjanse til å oppgi et gyldig tall i stedet"
   ]
  },
  {
   "cell_type": "code",
   "execution_count": 55,
   "metadata": {},
   "outputs": [
    {
     "name": "stdout",
     "output_type": "stream",
     "text": [
      "Feil: Vennligst angi tall\n",
      "Feil: Vennligst angi tall\n",
      "Feil: Vennligst angi tall\n",
      "Feil: Vennligst angi tall\n",
      "Feil: Vennligst angi tall\n",
      "Feil: Vennligst angi tall\n",
      "Feil: Vennligst angi tall\n",
      "Feil: Vennligst angi tall\n",
      "Feil: Vennligst angi tall\n",
      "Du har tjent 1.0 kroner.\n"
     ]
    }
   ],
   "source": [
    "timelønn = None\n",
    "arbeidstimer = None\n",
    "\n",
    "while True:\n",
    "    timelønn = input(\"Timelønn: \")\n",
    "    arbeidstimer = input(\"Arbeidstimer: \")\n",
    "\n",
    "    try:\n",
    "        timelønn = float(timelønn)\n",
    "        arbeidstimer = float(arbeidstimer)\n",
    "\n",
    "        if timelønn < 0:\n",
    "            print(\"Vennligst oppgi positiv timelønn, prøv igjen\")\n",
    "        elif arbeidstimer < 0:\n",
    "            print(\"Vennligst oppgi positiv antall arbeidstimer, prøv igjen\")\n",
    "        else:\n",
    "            break\n",
    "\n",
    "    except ValueError:\n",
    "        print(\"Feil: Vennligst angi tall\")\n",
    "\n",
    "inntekt = arbeidstimer * timelønn\n",
    "\n",
    "if arbeidstimer > 40:\n",
    "    inntekt += (arbeidstimer - 40) * 0.1\n",
    "\n",
    "print(f\"Du har tjent {inntekt:.1f} kroner.\")\n"
   ]
  },
  {
   "cell_type": "markdown",
   "metadata": {},
   "source": [
    "**3.7**"
   ]
  },
  {
   "cell_type": "markdown",
   "metadata": {},
   "source": [
    "Lag et program som gitt en bokstav (a-h) og et tall (1-8) avgjør hvilken farge den tilsvarende ruten\n",
    "har på et sjakkbrett."
   ]
  },
  {
   "cell_type": "code",
   "execution_count": 1,
   "metadata": {},
   "outputs": [
    {
     "name": "stdout",
     "output_type": "stream",
     "text": [
      "Ruten er hvit\n"
     ]
    }
   ],
   "source": [
    "bokstaver = \"ABCDEFGH\"\n",
    "\n",
    "bokstav = input(\"bokstav: \").upper()\n",
    "tall = int(input(\"tall: \"))\n",
    "\n",
    "if (bokstaver.find(bokstav) % 2 == 0) == (tall % 2 == 0):\n",
    "    farge = \"hvit\"\n",
    "else: farge = \"sort\"\n",
    "\n",
    "print(\"Ruten er\", farge)"
   ]
  },
  {
   "cell_type": "markdown",
   "metadata": {},
   "source": [
    "**3.10**"
   ]
  },
  {
   "cell_type": "markdown",
   "metadata": {},
   "source": [
    "FrueMafiaen er en kriminell organisasjon der kun kvinner kan være medlemmer. Mafiaen er strengt\n",
    "hierarkisk med Presidenten som øverste leder. På neste nivå finner vi Kommandanter, deretter\n",
    "Kapteiner så Sersjanter og nederst finner vi Soldatene. De som ikke er kvalifiserte til opptak, kan\n",
    "melde seg som Støttemedlem. Man kan stige i gradene, etter søknad, basert på ansiennitet og\n",
    "meritter. Vedtektene spesifiserer kvalifikasjonskravene til de ulike gradene:\n",
    "\n",
    "• Minstekrav for alle grader, inkludert støttemedlem, er å være Kvinne, minst 20 år gammel og\n",
    "ha middels dårlig vandel.\n",
    "\n",
    "• Soldater må være under 30 år og ikke ha barn\n",
    "\n",
    "• Det samme gjelder for Sersjanter, som i tillegg må ha minst 4 års ansiennitet og ikke rent\n",
    "rulleblad.\n",
    "\n",
    "• Kapteiner må være yngre enn 40 år, ha minst 6 års ansiennitet og ha tiltale eller straffedom\n",
    "på rullebladet.\n",
    "\n",
    "• Kommandanter må også være yngre enn 40 år med minst 6 års ansiennitet, men må ha en\n",
    "straffedom på rullebladet samt ha temmelig dårlig vandel.\n",
    "\n",
    "• Presidenten må oppfylle samme krav som kommandanter, men i tillegg ha minst 8 års\n",
    "ansiennitet. Dessuten kan ikke presidenten ha et fornavn som kan forveksles med et "
   ]
  },
  {
   "cell_type": "code",
   "execution_count": null,
   "metadata": {},
   "outputs": [
    {
     "name": "stdout",
     "output_type": "stream",
     "text": [
      "Kim er kvalifisert for:\n",
      "Kommandant\n",
      "Kaptein\n",
      "Støttemedlem\n"
     ]
    }
   ],
   "source": [
    "class Person:\n",
    "    def __init__(self, navn, alder, kjønn, antall_barn, vandel, rulleblad, ansiennitet):\n",
    "        self.navn = navn\n",
    "        self.alder = alder\n",
    "        self.kjønn = kjønn\n",
    "        self.antall_barn = antall_barn\n",
    "        self.vandel = vandel\n",
    "        self.rulleblad = rulleblad\n",
    "        self.ansiennitet = ansiennitet\n",
    "        self.stillinger = []\n",
    "    \n",
    "    def kjønnsnøytraltNavn(self):\n",
    "        kjønnsnøytrale_navn = [\"Kristen\", \"Kim\", \"Janne\", \"Tony\"]\n",
    "        if self.navn in kjønnsnøytrale_navn:\n",
    "            return True\n",
    "        return False\n",
    "\n",
    "    def minstekrav(self):\n",
    "        if self.kjønn == \"K\" and self.alder >= 20 and self.vandel < 7:\n",
    "            self.stillinger.append(\"Støttemedlem\")\n",
    "            return True\n",
    "        return False\n",
    "    \n",
    "    def soldat(self):\n",
    "        if self.alder < 30 and self.antall_barn == 0:\n",
    "            self.stillinger.append(\"Soldat\")\n",
    "            return True\n",
    "        return False\n",
    "    \n",
    "    def sersjant(self):\n",
    "        if self.soldat() and self.ansiennitet >= 4 and self.rulleblad != \"rent\":\n",
    "            self.stillinger.append(\"Sersjant\")\n",
    "    \n",
    "    def kaptein(self):\n",
    "        if self.alder < 40 and self.ansiennitet > 6 and (self.rulleblad == \"tiltalt\" or self.rulleblad == \"straffet\"):\n",
    "            self.stillinger.append(\"Kaptein\")\n",
    "            return True\n",
    "        return False\n",
    "    \n",
    "    def kommandant(self):\n",
    "        if self.kaptein() and self.rulleblad == \"straffet\" and self.vandel < 4:\n",
    "            self.stillinger.append(\"Kommandant\")\n",
    "            return True\n",
    "        return False\n",
    "    \n",
    "    def president(self):\n",
    "        if self.kommandant() and self.ansiennitet > 8 and not(self.kjønnsnøytraltNavn()):\n",
    "            self.stillinger.append(\"President\")\n",
    "            return True\n",
    "        return False\n",
    "    \n",
    "    def sjekk_stillinger(self):\n",
    "        if self.minstekrav():\n",
    "            print(f\"{self.navn} er kvalifisert for:\")\n",
    "\n",
    "            self.soldat()\n",
    "            self.sersjant()\n",
    "            self.kaptein()\n",
    "            self.kommandant()\n",
    "            self.president()\n",
    "            \n",
    "            for stilling in list(set(self.stillinger)):\n",
    "                print(stilling)\n",
    "        else:\n",
    "            print(f\"{self.navn} kvalifiserer ikke for noen stillinger.\")\n",
    "\n",
    "navn = input(\"Navn: \")\n",
    "alder = int(input(\"Alder: \"))\n",
    "\n",
    "kjønn = input(\"Kjønn (M/K): \").strip().upper()\n",
    "while kjønn not in [\"M\", \"K\"]:\n",
    "    print(\"Ugyldig kjønn. Skriv 'M' eller 'K'.\")\n",
    "    kjønn = input(\"Kjønn (M/K): \").strip().upper()\n",
    "\n",
    "antall_barn = int(input(\"Antall barn: \"))\n",
    "vandel = int(input(\"Vandel, på skala fra 1(dårlig) til 9(plettfri):\"))\n",
    "\n",
    "rulleblad = input(\"Rulleblad (straffet/tiltalt/mistenkt/rent):\").strip().lower()\n",
    "while rulleblad not in [\"straffet\", \"tiltalt\", \"mistenkt\", \"rent\"]:\n",
    "    print(\"Ugyldig verdi for rulleblad. Velg mellom 'straffet', 'tiltalt', 'mistenkt' eller 'rent'.\")\n",
    "    rulleblad = input(\"Rulleblad (straffet/tiltalt/mistenkt/rent):\").strip().lower()\n",
    "\n",
    "ansiennitet = int(input(\"Ansiennitet (år): \"))\n",
    "\n",
    "\n",
    "Person(navn, alder, kjønn, antall_barn, vandel, rulleblad, ansiennitet).sjekk_stillinger()"
   ]
  },
  {
   "cell_type": "markdown",
   "metadata": {},
   "source": [
    "**4.6**"
   ]
  },
  {
   "cell_type": "markdown",
   "metadata": {},
   "source": [
    "Skuddår forekommer når årstallet er delelig med 4. Unntaket er det første året i århundrer som ikke\n",
    "er delelig med 400 (for eksempel år 1800 og 1900).\n",
    "Lag en funksjon som gitt et årstall avgjør om det er et skuddår. "
   ]
  },
  {
   "cell_type": "code",
   "execution_count": null,
   "metadata": {},
   "outputs": [
    {
     "data": {
      "text/plain": [
       "False"
      ]
     },
     "execution_count": 98,
     "metadata": {},
     "output_type": "execute_result"
    }
   ],
   "source": [
    "def sjekkSkuddår(år):\n",
    "    if år % 400 == 0:\n",
    "        return True\n",
    "    if år % 4 == 0 and år % 100 != 0:\n",
    "        return True\n",
    "    return False\n",
    "    \n",
    "sjekkSkuddår(1800)"
   ]
  },
  {
   "cell_type": "markdown",
   "metadata": {},
   "source": [
    "**4.7**"
   ]
  },
  {
   "cell_type": "markdown",
   "metadata": {},
   "source": [
    "I math-modulen finnes tallet p (math.pi) definert med et visst antall desimaler.\n",
    "\n",
    "Lag en funksjon pi(d) som returnerer p med d desimaler. Modifiser slik at standardverdi for antallet desimaler være 2, dvs at returverdien blir 3.14 når man kaller pi()"
   ]
  },
  {
   "cell_type": "code",
   "execution_count": null,
   "metadata": {},
   "outputs": [
    {
     "name": "stdout",
     "output_type": "stream",
     "text": [
      "3.14\n"
     ]
    }
   ],
   "source": [
    "import math #ville brukt 'from math import pi' om funksjonen ikke skulle hete pi()'\n",
    "\n",
    "def pi(antall_desimaler=2):\n",
    "    maks_desimaler = len(str(math.pi))\n",
    "    mal = '%.' + str(antall_desimaler) + 'f'\n",
    "\n",
    "    if antall_desimaler > maks_desimaler:\n",
    "        print(\"For mange desimaler\")\n",
    "        print(math.pi)\n",
    "    else:\n",
    "        print(mal % math.pi)\n",
    "\n",
    "pi()"
   ]
  },
  {
   "cell_type": "markdown",
   "metadata": {},
   "source": [
    "**4.8**"
   ]
  },
  {
   "cell_type": "markdown",
   "metadata": {},
   "source": [
    "Fullfør funksjonene nyObservasjon som gitt en observert verdi registrerer observasjoner samt\n",
    "snitt som returnerer snitt-verdien av observasjonene som er registrert"
   ]
  },
  {
   "cell_type": "code",
   "execution_count": null,
   "metadata": {},
   "outputs": [
    {
     "name": "stdout",
     "output_type": "stream",
     "text": [
      "Har ingen observasjoner\n",
      "12.333333333333334\n"
     ]
    }
   ],
   "source": [
    "antallObservasjoner=0\n",
    "akkumulerteObservasjoner=0\n",
    "\n",
    "def nyObservasjon(obs):\n",
    "    global akkumulerteObservasjoner, antallObservasjoner\n",
    "    akkumulerteObservasjoner += obs\n",
    "    antallObservasjoner += 1\n",
    "\n",
    "def snitt():\n",
    "    if antallObservasjoner == 0:\n",
    "        return 'Har ingen observasjoner'\n",
    "    return akkumulerteObservasjoner/antallObservasjoner\n",
    "\n",
    "print(snitt())\n",
    "nyObservasjon(10)\n",
    "nyObservasjon(15)\n",
    "nyObservasjon(12)\n",
    "print(snitt())"
   ]
  },
  {
   "cell_type": "markdown",
   "metadata": {},
   "source": [
    "**4.9**"
   ]
  },
  {
   "cell_type": "markdown",
   "metadata": {},
   "source": [
    "Lag en funksjon som trekker et tilfeldig spillkort. Det skal være valgfritt å angi hvilken farge (Spar, Ruter, Kløver eller Hjerter) det skal trekkes fra, ellers skal også fargen trekkes tilfeldig. "
   ]
  },
  {
   "cell_type": "code",
   "execution_count": null,
   "metadata": {},
   "outputs": [
    {
     "name": "stdout",
     "output_type": "stream",
     "text": [
      "♦5\n"
     ]
    }
   ],
   "source": [
    "from random import randint\n",
    "\n",
    "def tilfeldigKort(type = None):\n",
    "    verdier = list(\"23456789JQKA\")+[\"10\"]\n",
    "    typer = [\"Spar\", \"Kløver\", \"Ruter\", \"Hjerte\"]\n",
    "    symbol = {\"Spar\": '\\u2660', \"Ruter\": '\\u2666', \"Kløver\": '\\u2663', \"Hjerte\": '\\u2665'}\n",
    "\n",
    "    tilfeldigType = typer[randint(0,3)] if type == None else type\n",
    "    tilfeldigVerdi = verdier[randint(0,12)]\n",
    "\n",
    "    print(symbol[tilfeldigType] + tilfeldigVerdi)\n",
    "\n",
    "tilfeldigKort(\"Ruter\")\n"
   ]
  },
  {
   "cell_type": "markdown",
   "metadata": {},
   "source": [
    "**4.10**"
   ]
  },
  {
   "cell_type": "markdown",
   "metadata": {},
   "source": [
    "Lag en funksjon som sorterer tre tall og skriver ut resultate"
   ]
  },
  {
   "cell_type": "code",
   "execution_count": null,
   "metadata": {},
   "outputs": [
    {
     "name": "stdout",
     "output_type": "stream",
     "text": [
      "2 5 9\n"
     ]
    }
   ],
   "source": [
    "def sorter3(tall1,tall2,tall3):\n",
    "    print(*sorted([tall1, tall2, tall3]))\n",
    "\n",
    "sorter3(5,9,2)"
   ]
  },
  {
   "cell_type": "markdown",
   "metadata": {},
   "source": [
    "**4.11**"
   ]
  },
  {
   "cell_type": "markdown",
   "metadata": {},
   "source": [
    "Lag et program der brukeren kan taste inn ønsket rett (pizza eller calzone) og så skriver ut\n",
    "instruksjonene for retten. Oppskriftene har fellestrekk, unngå å gjenta disse i programkoden. Lag\n",
    "egne funksjoner for del-oppgaver i prosessene, som å lage deig og steke osv"
   ]
  },
  {
   "cell_type": "code",
   "execution_count": null,
   "metadata": {},
   "outputs": [
    {
     "name": "stdout",
     "output_type": "stream",
     "text": [
      "bland mel, gjær og vann kna grundig og la heve i 1 time\n",
      "brun kjøttdeig på middels varme\n",
      "hell over tomatsaus og la det koke opp\n",
      "kjevle ut deigen i en sirkel\n",
      "fordel fyllet på halve deigen brett over den andre halvparten og klem kantene sammen\n",
      "stek i 20 minutter ved 220 grader\n"
     ]
    }
   ],
   "source": [
    "def lag_deig():\n",
    "    print(\"bland mel, gjær og vann kna grundig og la heve i 1 time\")\n",
    "\n",
    "def stek(minutter):\n",
    "    print(f\"stek i {minutter} minutter ved 220 grader\")\n",
    "\n",
    "def tilbred_kjøtdeig():\n",
    "    print(\"brun kjøttdeig på middels varme\")\n",
    "\n",
    "def tilbred_tomatsaus():\n",
    "    print(\"hell over tomatsaus og la det koke opp\")\n",
    "\n",
    "def kjevle_deig():\n",
    "    print(\"kjevle ut deigen i en sirkel\")\n",
    "\n",
    "def pizza():\n",
    "    lag_deig()\n",
    "    tilbred_kjøtdeig()\n",
    "    tilbred_tomatsaus()\n",
    "    kjevle_deig()\n",
    "    print(\"fordel fyllet utover hele deigen strø på revet ost\")\n",
    "    stek(15)\n",
    "\n",
    "def calzone():\n",
    "    lag_deig()\n",
    "    tilbred_kjøtdeig()\n",
    "    tilbred_tomatsaus()\n",
    "    kjevle_deig()\n",
    "    print(\"fordel fyllet på halve deigen brett over den andre halvparten og klem kantene sammen\")\n",
    "    stek(20)\n",
    "\n",
    "\n",
    "rett = input(\"Hva vil du ha til middag? \").lower()\n",
    "if rett == \"pizza\": pizza()\n",
    "if rett == \"calzone\": calzone()\n",
    "\n"
   ]
  },
  {
   "cell_type": "markdown",
   "metadata": {},
   "source": [
    "**4.12**"
   ]
  },
  {
   "cell_type": "markdown",
   "metadata": {},
   "source": [
    "Her ser du en funksjon som beregner karaktersnitt for et semester som består av 3 emner à 10\n",
    "studiepoeng.\n",
    "\n",
    "def semesterSnitt(karakter1,karakter2,karakter3):\n",
    " samlet=tilTall(karakter1)+tilTall(karakter2)+tilTall(karakter3)\n",
    " snitt=samlet/3\n",
    " return tilBokstav(snitt)\n",
    " \n",
    "a) Fullfør funksjonsdefinisjonen ved å lage funksjonene tilTall(bokstav) og tilBokstav(tall)\n",
    "som hhv regner om fra en bokstav-karakter til et tall og omvendt fra et tall til en bokstav-karakter.\n",
    "Omregningsregler\n",
    "\n",
    "• A=5, B=4, C=3, D=2, E=1, F=0\n",
    "\n",
    "• Tall-karakteren rundes opp til nærmeste bokstav"
   ]
  },
  {
   "cell_type": "code",
   "execution_count": null,
   "metadata": {},
   "outputs": [
    {
     "data": {
      "text/plain": [
       "'B'"
      ]
     },
     "execution_count": 160,
     "metadata": {},
     "output_type": "execute_result"
    }
   ],
   "source": [
    "from math import ceil\n",
    "\n",
    "def semesterSnitt(*karakterer):\n",
    "    samlet = 0\n",
    "    for karakter in karakterer:\n",
    "        samlet += tilTall(karakter)\n",
    "    snitt=samlet/len(karakterer)\n",
    "    return tilBokstav(snitt)\n",
    "\n",
    "def tilTall(bokstav):\n",
    "    bokstav = bokstav.upper()\n",
    "    return karakter_skala.index(bokstav)\n",
    "\n",
    "def tilBokstav(tall):\n",
    "    tall = ceil(tall)\n",
    "    return karakter_skala[tall]\n",
    "\n",
    "#lager en liste med karakterer. \n",
    "# kunne alternativt: reversed(list(\"ABCDEF\")), men her er det snakk om få elementer\n",
    "karakter_skala = [\"F\", \"E\", \"D\", \"C\", \"B\", \"A\"]\n",
    "\n",
    "semesterSnitt('A','C','D','B')"
   ]
  },
  {
   "cell_type": "markdown",
   "metadata": {},
   "source": [
    "**4.15**"
   ]
  },
  {
   "cell_type": "code",
   "execution_count": null,
   "metadata": {},
   "outputs": [
    {
     "data": {
      "text/plain": [
       "'0 time(r), 8 minutt(er) og 20 sekund(er)'"
      ]
     },
     "execution_count": 168,
     "metadata": {},
     "output_type": "execute_result"
    }
   ],
   "source": [
    "def sekundKonvertering(sekunder):\n",
    "    timer = sekunder // 3600\n",
    "    minutter = sekunder % 3600 // 60\n",
    "    sekunder = sekunder % 60\n",
    "\n",
    "    return f\"{timer} time(r), {minutter} minutt(er) og {sekunder} sekund(er)\"\n",
    "\n",
    "sekundKonvertering(500)"
   ]
  },
  {
   "cell_type": "markdown",
   "metadata": {},
   "source": [
    "**4.16**"
   ]
  },
  {
   "cell_type": "code",
   "execution_count": 2,
   "metadata": {},
   "outputs": [
    {
     "name": "stdout",
     "output_type": "stream",
     "text": [
      "tjueen\n"
     ]
    }
   ],
   "source": [
    "def ord99(tall):\n",
    "    enkeltSiffer = [\"\", \"en\", \"to\", \"tre\", \"fire\", \"fem\", \"seks\", \"sju\", \"åtte\", \"ni\", \"ti\"]\n",
    "    dobbeltSiffer = [\"\", \"\", \"tjue\", \"tretti\", \"førti\", \"femti\", \"seksti\", \"sytti\", \"åtti\", \"nitti\"]\n",
    "\n",
    "    if tall < 10:\n",
    "        print(enkeltSiffer[tall])\n",
    "    else:\n",
    "        tall = str(tall)\n",
    "        tall_delt = list(tall)\n",
    "        print(dobbeltSiffer[int(tall_delt[0])]+enkeltSiffer[int(tall_delt[1])])\n",
    "\n",
    "ord99(21)\n"
   ]
  },
  {
   "cell_type": "markdown",
   "metadata": {},
   "source": [
    "**4.17**"
   ]
  },
  {
   "cell_type": "markdown",
   "metadata": {},
   "source": [
    "Lag en funksjon som velger 3 tilfeldige sifre mellom 1 og 9 og\n",
    "returnerer tallet som består av de tre sifrene i stigende rekkefølge"
   ]
  },
  {
   "cell_type": "code",
   "execution_count": null,
   "metadata": {},
   "outputs": [
    {
     "name": "stdout",
     "output_type": "stream",
     "text": [
      "178\n"
     ]
    }
   ],
   "source": [
    "from random import randint\n",
    "\n",
    "def tilfeldig3():\n",
    "    print(*sorted([randint(1,9) for i in range(3)]),sep=\"\")\n",
    "\n",
    "tilfeldig3()"
   ]
  },
  {
   "cell_type": "markdown",
   "metadata": {},
   "source": [
    "**5.2**"
   ]
  },
  {
   "cell_type": "markdown",
   "metadata": {},
   "source": [
    "Lag en funksjon skrivSekvens(sekvens) som skriver ut elementene i en\n",
    "sekvens på en linje, adskilt av mellomrom."
   ]
  },
  {
   "cell_type": "code",
   "execution_count": null,
   "metadata": {},
   "outputs": [
    {
     "name": "stdout",
     "output_type": "stream",
     "text": [
      "P y t h o n 90 91 92 93 94 95 96 97 98 99 "
     ]
    }
   ],
   "source": [
    "def skrivSekvens(input):\n",
    "    for i in input:\n",
    "        print(i, end=\" \")\n",
    "\n",
    "skrivSekvens('Python')\n",
    "skrivSekvens(range(90,100))"
   ]
  },
  {
   "cell_type": "markdown",
   "metadata": {},
   "source": [
    "**5.10**"
   ]
  },
  {
   "cell_type": "markdown",
   "metadata": {},
   "source": [
    "En ekvipasje består av en hest og en rytter. Tenk deg startlister for\n",
    "ridekonkurranse der de to første elementene utgjør den første ekvipasjen, de to\n",
    "neste er den 2. ekvipasjen og så videre"
   ]
  },
  {
   "cell_type": "code",
   "execution_count": null,
   "metadata": {},
   "outputs": [
    {
     "data": {
      "text/plain": [
       "['Blakken', 'Dølaprinsen', 'Sofus', 'Blåne']"
      ]
     },
     "execution_count": 251,
     "metadata": {},
     "output_type": "execute_result"
    }
   ],
   "source": [
    "startliste = ['Kari','Blakken','Liv','Dølaprinsen','Eli','Sofus','Gro','Blåne']\n",
    "\n",
    "def hester(liste):\n",
    "    return liste[1::2]\n",
    "\n",
    "def ryttere(liste):\n",
    "    return liste[::2]\n",
    "\n",
    "hester(startliste)\n",
    "ryttere(startliste)"
   ]
  },
  {
   "cell_type": "markdown",
   "metadata": {},
   "source": [
    "**5.11**"
   ]
  },
  {
   "cell_type": "markdown",
   "metadata": {},
   "source": [
    "Lag en funksjon pyramide(høyde) som gitt et tall tegner en pyramidefigur av\n",
    "*-tegn med gitt høyde (høyde= antall *'er i midten av figuren)"
   ]
  },
  {
   "cell_type": "code",
   "execution_count": null,
   "metadata": {},
   "outputs": [
    {
     "name": "stdout",
     "output_type": "stream",
     "text": [
      "*\n",
      "**\n",
      "***\n",
      "****\n",
      "***\n",
      "**\n"
     ]
    }
   ],
   "source": [
    "def pyramide(høyde):\n",
    "    #øvre del & midten\n",
    "    for i in range(1,høyde):\n",
    "        print('*'*i)\n",
    "\n",
    "    #nedre del\n",
    "    for i in range(høyde,1,-1):\n",
    "        print('*'*i)\n",
    "\n",
    "pyramide(4)\n"
   ]
  },
  {
   "cell_type": "markdown",
   "metadata": {},
   "source": [
    "**5.12**"
   ]
  },
  {
   "cell_type": "markdown",
   "metadata": {},
   "source": [
    "Lag et program som skriver ut renteutviklingen av et beløp, år for år, inntil det samlede beløpet overstiger en gitt sum"
   ]
  },
  {
   "cell_type": "code",
   "execution_count": null,
   "metadata": {},
   "outputs": [
    {
     "name": "stdout",
     "output_type": "stream",
     "text": [
      "År 1 : 1030.00\n",
      "År 2 : 1060.90\n",
      "År 3 : 1092.73\n",
      "År 4 : 1125.51\n",
      "År 5 : 1159.27\n",
      "År 6 : 1194.05\n",
      "År 7 : 1229.87\n"
     ]
    }
   ],
   "source": [
    "startbelop = float(input(\"Startbeløp: \"))\n",
    "rentesats = float(input(\"Rentesats (%): \"))/100\n",
    "onsketBelop = float(input(\"Ønsker beløp: \"))\n",
    "\n",
    "belop = startbelop\n",
    "år = 0\n",
    "\n",
    "while belop < onsketBelop:\n",
    "    år += 1\n",
    "    belop += belop*rentesats\n",
    "\n",
    "    print(f\"År {år} : {belop:.2f}\")"
   ]
  },
  {
   "cell_type": "markdown",
   "metadata": {},
   "source": [
    "**5.12**"
   ]
  },
  {
   "cell_type": "markdown",
   "metadata": {},
   "source": [
    "Lag en funksjon som kan hjelpe dørvakten på et utested å holde styr på hvor\n",
    "mange gjester som er sluppet inn og sikre at antallet ikke overstiger kapasiteten i\n",
    "lokalet. Kapasiteten skal være parameter til funksjonen, og vakten skal kunne angi\n",
    "antall personer i hver gruppe som ankommer eller forlater lokalet."
   ]
  },
  {
   "cell_type": "code",
   "execution_count": null,
   "metadata": {},
   "outputs": [
    {
     "name": "stdout",
     "output_type": "stream",
     "text": [
      "-- Bruksanvisning --\n",
      "Noen ankommer - tast 1\n",
      "Noen går - tast 2\n",
      "Avslutt - 0\n",
      "--------------------\n",
      "Ledig kapasitet: 10\n",
      "Ledig kapasitet: 8\n",
      "Ledig kapasitet: 10\n",
      "Ledig kapasitet: 5\n",
      "Ledig kapasitet: 4\n",
      "Ledig kapasitet: 0\n",
      "For mange! Slipp inn 0\n",
      "Ledig kapasitet: 0\n",
      "Ugyldig antall! Skriv inn et tall.\n",
      "Ledig kapasitet: 0\n",
      "Ugyldig valg! Skriv inn et tall.\n",
      "Ledig kapasitet: 0\n",
      "Ugyldig valg! Skriv inn et tall.\n",
      "Ledig kapasitet: 0\n",
      "Takk for nå\n"
     ]
    }
   ],
   "source": [
    "def kapasitetVakt(kapasitet):\n",
    "    print(\"-- Bruksanvisning --\")\n",
    "    print(\"Noen ankommer - tast 1\")\n",
    "    print(\"Noen går - tast 2\")\n",
    "    print(\"Avslutt - 0\")\n",
    "    print(\"--------------------\")\n",
    "\n",
    "    ledigKapasitet = kapasitet\n",
    "\n",
    "    while True:\n",
    "        print(\"Ledig kapasitet:\", ledigKapasitet)\n",
    "        valg = int(input(\"Hva skjer? \"))\n",
    "\n",
    "        if valg == 1:\n",
    "            antallPersoner = int(input(\"Hvor mange kommer? \"))\n",
    "            \n",
    "            if antallPersoner > ledigKapasitet:\n",
    "                print(\"For mange! Slipp inn\", ledigKapasitet)\n",
    "                ledigKapasitet = 0\n",
    "                \n",
    "            else: ledigKapasitet -= antallPersoner\n",
    "            \n",
    "        if valg == 2:\n",
    "            antallPersoner = int(input(\"Hvor mange går? \"))\n",
    "            ledigKapasitet += antallPersoner\n",
    "\n",
    "        if valg == 0:\n",
    "            print(\"Takk for nå\")\n",
    "            break\n",
    "    \n",
    "kapasitetVakt(10)"
   ]
  },
  {
   "cell_type": "markdown",
   "metadata": {},
   "source": [
    "**5.14**"
   ]
  },
  {
   "cell_type": "markdown",
   "metadata": {},
   "source": [
    "I denne oppgaven skal du lage programmer for å spille Stein-Saks-Papir mot\n",
    "maskinen over flere runder. To varianter: ‘Best av N runder‘ og ‘Førstemann til N\n",
    "seiere’ Brukeren skal oppgi et antall runder som skal spilles. Den som vinner flest runder,\n",
    "vinner sammenlagt."
   ]
  },
  {
   "cell_type": "code",
   "execution_count": null,
   "metadata": {},
   "outputs": [
    {
     "name": "stdout",
     "output_type": "stream",
     "text": [
      "Maskinen velger 2\n",
      "Det ble tap\n",
      "Maskinen velger 3\n",
      "Det ble tap\n",
      "--- Sammenlagt --------------\n",
      "Du tapte 0 - 2 (0 uavgjort)\n"
     ]
    }
   ],
   "source": [
    "from random import randint\n",
    "\n",
    "runder = int(input(\"Hvor mange runder? \"))\n",
    "\n",
    "seier = 0\n",
    "uavgjort = 0\n",
    "tap = 0\n",
    "\n",
    "for i in range(runder):\n",
    "    valg = int(input(f\"Runde {i+1} - Velg (1=papir,2=saks eller 3=stein): \"))\n",
    "    maskin = randint(1,3)\n",
    "    print(f\"Maskinen velger {maskin}\")\n",
    "\n",
    "    if valg == maskin:\n",
    "        print(\"Det ble uavgjort\")\n",
    "        uavgjort += 1\n",
    "\n",
    "    elif valg == 1 and maskin == 3 or valg == 2 and maskin == 1 or valg == 3 and maskin == 2:\n",
    "        print(\"Det ble seier\")\n",
    "        seier += 1\n",
    "    \n",
    "    else:\n",
    "        print(\"Det ble tap\")\n",
    "        tap += 1\n",
    "\n",
    "print(\"--- Sammenlagt --------------\")\n",
    "print(\"Du vant\" if seier > tap else \"Du tapte\" if seier < tap else \"uavgjort\", f\"{seier} - {tap} ({uavgjort} uavgjort)\")\n"
   ]
  },
  {
   "cell_type": "markdown",
   "metadata": {},
   "source": [
    "**5.15**"
   ]
  },
  {
   "cell_type": "markdown",
   "metadata": {},
   "source": [
    "Lag en funksjon gangetabell som gitt et tall n skriver ut gangetabellen for\n",
    "tallene fra 1 til n, altså en tabell på formen"
   ]
  },
  {
   "cell_type": "code",
   "execution_count": null,
   "metadata": {},
   "outputs": [
    {
     "name": "stdout",
     "output_type": "stream",
     "text": [
      " 1  2  3  4  5 \n",
      " 2  4  6  8 10 \n",
      " 3  6  9 12 15 \n",
      " 4  8 12 16 20 \n",
      " 5 10 15 20 25 \n"
     ]
    }
   ],
   "source": [
    "def gangetabell(tall, plasser=3):\n",
    "    for i in range(1,tall+1):\n",
    "        for j in range(1,tall+1):\n",
    "            print(f\"{i*j:>{plasser}}\", end=\" \")\n",
    "        print()\n",
    "\n",
    "gangetabell(5,2)"
   ]
  },
  {
   "cell_type": "markdown",
   "metadata": {},
   "source": [
    "**5.16**"
   ]
  },
  {
   "cell_type": "markdown",
   "metadata": {},
   "source": [
    "Skriv om histogram-funksjonen fra oppgave 2 slik at histogrammet skrives ut\n",
    "stående i stedet for liggende."
   ]
  },
  {
   "cell_type": "code",
   "execution_count": null,
   "metadata": {},
   "outputs": [
    {
     "name": "stdout",
     "output_type": "stream",
     "text": [
      "    *     \n",
      "    **    \n",
      "  * **   *\n",
      "  * **   *\n",
      " ** ** * *\n",
      " ** ** * *\n",
      "*** ** * *\n",
      "****** * *\n",
      "******** *\n"
     ]
    }
   ],
   "source": [
    "def histogram(input):\n",
    "    for i in range(max(input),0,-1):\n",
    "        tekst = \"\"\n",
    "        for j in range(len(input)):\n",
    "            if input[j] >= i:\n",
    "                tekst += \"*\"\n",
    "            else: \n",
    "                tekst += \" \"\n",
    "        print(tekst)\n",
    "\n",
    "histogram([3,5,7,2,9,8,1,5,0,7])"
   ]
  },
  {
   "cell_type": "markdown",
   "metadata": {},
   "source": [
    "**5.17**"
   ]
  },
  {
   "cell_type": "markdown",
   "metadata": {},
   "source": [
    "Lag en funksjon for et gjette-spill. Gitt et tall N skal det generere et tilfeldig tall\n",
    "mellom 1 og N og så la brukeren gjette hvilket tall det er. Hvis brukeren gjetter riktig,\n",
    "skal funksjonen skrive ut \"Gratulerer, du gjettet riktig!\" og antall forsøk det tok. Hvis\n",
    "brukeren gjetter feil, skal funksjonen gi hint om tallet er høyere eller lavere, og la\n",
    "brukeren gjette på nytt. Programmet skal avsluttes når brukeren treffer riktig tall."
   ]
  },
  {
   "cell_type": "code",
   "execution_count": null,
   "metadata": {},
   "outputs": [
    {
     "name": "stdout",
     "output_type": "stream",
     "text": [
      "Gjett et tall mellom 1 og 100\n",
      "Tallet er lavere\n",
      "Gjett et tall mellom 1 og 100\n",
      "Tallet er høyere\n",
      "Gjett et tall mellom 1 og 100\n",
      "Tallet er høyere\n",
      "Gjett et tall mellom 1 og 100\n",
      "Tallet er lavere\n",
      "Gjett et tall mellom 1 og 100\n",
      "Tallet er lavere\n",
      "Gjett et tall mellom 1 og 100\n",
      "Gratulerer, du gjettet riktig! Du trengte 6 forsøk.\n"
     ]
    }
   ],
   "source": [
    "from random import randint\n",
    "\n",
    "def gjette_spill(maks_verdi):\n",
    "    mål = randint(1,maks_verdi)\n",
    "    forsok = 0\n",
    "\n",
    "    while True:\n",
    "        print(f\"Gjett et tall mellom {1} og {maks_verdi}\")\n",
    "        gjett = int(input(\"Gjett tallet: \"))\n",
    "        forsok += 1\n",
    "\n",
    "        if gjett == mål:\n",
    "            print(f\"Gratulerer, du gjettet riktig! Du trengte {forsok} forsøk.\")\n",
    "            break\n",
    "        \n",
    "        print(\"Tallet er\", \"høyere\" if gjett < mål else \"lavere\")\n",
    "\n",
    "gjette_spill(100)"
   ]
  },
  {
   "cell_type": "markdown",
   "metadata": {},
   "source": [
    "**5.18**"
   ]
  },
  {
   "cell_type": "markdown",
   "metadata": {},
   "source": [
    "Lag et program som skriver ut alle permutasjonene av bokstavene a,b og c. Dvs\n",
    "alle måter å stokke om ‘abc’ (inkludert ‘abc’ selv). Bruk for-løkker til å generere\n",
    "permutasjonene."
   ]
  },
  {
   "cell_type": "code",
   "execution_count": null,
   "metadata": {},
   "outputs": [
    {
     "name": "stdout",
     "output_type": "stream",
     "text": [
      "abc\n",
      "acb\n",
      "bac\n",
      "bca\n",
      "cab\n",
      "cba\n"
     ]
    }
   ],
   "source": [
    "from itertools import permutations\n",
    "\n",
    "ord = 'abc'\n",
    "\n",
    "for perm in permutations(ord, len(ord)):\n",
    "    print(''.join(perm))"
   ]
  },
  {
   "cell_type": "code",
   "execution_count": null,
   "metadata": {},
   "outputs": [
    {
     "name": "stdout",
     "output_type": "stream",
     "text": [
      "abc\n",
      "bac\n",
      "cab\n"
     ]
    }
   ],
   "source": [
    "def permutasjoner(ord):\n",
    "    for i in range(len(ord)):\n",
    "        premutasjon = ord[i]\n",
    "        \n",
    "        for j in range(len(ord)):\n",
    "            if j != i:\n",
    "                for k in range(len(ord)):\n",
    "                    if k != i and k != j:\n",
    "                        premutasjon = ord[i] + ord[j] + ord[k]\n",
    "                        print(premutasjon)\n",
    "\n",
    "ord = 'abc'\n",
    "permutasjoner(ord)\n"
   ]
  },
  {
   "cell_type": "markdown",
   "metadata": {},
   "source": [
    "**5.21**"
   ]
  },
  {
   "cell_type": "markdown",
   "metadata": {},
   "source": [
    "Lag funksjoner som gitt et siffer n (heltall mellom 1 og 9) skriver ut et kvadrat med\n",
    "sifrene opp til n."
   ]
  },
  {
   "cell_type": "code",
   "execution_count": null,
   "metadata": {},
   "outputs": [
    {
     "name": "stdout",
     "output_type": "stream",
     "text": [
      "1 1 1 1 1 \n",
      "2 2 2 2 2 \n",
      "3 3 3 3 3 \n",
      "4 4 4 4 4 \n",
      "5 5 5 5 5 \n",
      "\n",
      "1 2 3 4 5\n",
      "1 2 3 4 5\n",
      "1 2 3 4 5\n",
      "1 2 3 4 5\n",
      "1 2 3 4 5\n"
     ]
    }
   ],
   "source": [
    "def tegnKvardrat(tall):\n",
    "    for i in range(1,tall+1):\n",
    "        print(f\"{i} \"*tall)\n",
    "\n",
    "tegnKvardrat(5)\n",
    "\n",
    "print()\n",
    "\n",
    "def tegnKvardrat(tall):\n",
    "    for i in range(1,tall+1):\n",
    "        print(*range(1,tall+1))\n",
    "\n",
    "tegnKvardrat(5)\n"
   ]
  },
  {
   "cell_type": "markdown",
   "metadata": {},
   "source": [
    "**5.22**"
   ]
  },
  {
   "cell_type": "markdown",
   "metadata": {},
   "source": [
    "Lag et program som skriver ut fargene til alle rutene på sjakk-brettet"
   ]
  },
  {
   "cell_type": "code",
   "execution_count": null,
   "metadata": {},
   "outputs": [
    {
     "name": "stdout",
     "output_type": "stream",
     "text": [
      "A1 : sort\n",
      "A2 : hvit\n",
      "A3 : sort\n",
      "A4 : hvit\n",
      "A5 : sort\n",
      "A6 : hvit\n",
      "A7 : sort\n",
      "A8 : hvit\n",
      "B1 : hvit\n",
      "B2 : sort\n",
      "B3 : hvit\n",
      "B4 : sort\n",
      "B5 : hvit\n",
      "B6 : sort\n",
      "B7 : hvit\n",
      "B8 : sort\n",
      "C1 : sort\n",
      "C2 : hvit\n",
      "C3 : sort\n",
      "C4 : hvit\n",
      "C5 : sort\n",
      "C6 : hvit\n",
      "C7 : sort\n",
      "C8 : hvit\n",
      "D1 : hvit\n",
      "D2 : sort\n",
      "D3 : hvit\n",
      "D4 : sort\n",
      "D5 : hvit\n",
      "D6 : sort\n",
      "D7 : hvit\n",
      "D8 : sort\n",
      "E1 : sort\n",
      "E2 : hvit\n",
      "E3 : sort\n",
      "E4 : hvit\n",
      "E5 : sort\n",
      "E6 : hvit\n",
      "E7 : sort\n",
      "E8 : hvit\n",
      "F1 : hvit\n",
      "F2 : sort\n",
      "F3 : hvit\n",
      "F4 : sort\n",
      "F5 : hvit\n",
      "F6 : sort\n",
      "F7 : hvit\n",
      "F8 : sort\n",
      "G1 : sort\n",
      "G2 : hvit\n",
      "G3 : sort\n",
      "G4 : hvit\n",
      "G5 : sort\n",
      "G6 : hvit\n",
      "G7 : sort\n",
      "G8 : hvit\n",
      "H1 : hvit\n",
      "H2 : sort\n",
      "H3 : hvit\n",
      "H4 : sort\n",
      "H5 : hvit\n",
      "H6 : sort\n",
      "H7 : hvit\n",
      "H8 : sort\n"
     ]
    }
   ],
   "source": [
    "rad = [x+1 for x in range(8)]\n",
    "kolonne = list(\"ABCDEFGH\")\n",
    "\n",
    "for k in kolonne:\n",
    "    for r in rad:\n",
    "        farge = \"hvit\" if (r % 2 == 0) == (kolonne.index(k) % 2 == 0) else \"sort\"\n",
    "        print(k+str(r), \":\", farge)"
   ]
  },
  {
   "cell_type": "markdown",
   "metadata": {},
   "source": [
    "Definer en klasse kalt Person som har attributter for personens navn og alder. "
   ]
  },
  {
   "cell_type": "code",
   "execution_count": null,
   "metadata": {},
   "outputs": [
    {
     "data": {
      "text/plain": [
       "'Volvo, EX90, eier: Kari Normann'"
      ]
     },
     "execution_count": 346,
     "metadata": {},
     "output_type": "execute_result"
    }
   ],
   "source": [
    "class Person:\n",
    "    def __init__(self, navn, alder):\n",
    "        self.navn = navn\n",
    "        self.alder = alder\n",
    "\n",
    "class Bil:\n",
    "    def __init__(self, merke, modell, eier):\n",
    "        self.merke = merke\n",
    "        self.modell = modell\n",
    "        self.eier = eier\n",
    "\n",
    "    def skriv(self):\n",
    "        return f'{self.merke}, {self.modell}, eier: {self.eier.navn}'\n",
    "\n",
    "kari=Person('Kari Normann',35)\n",
    "per=Person('Per Spellmann',67)\n",
    "bil1=Bil('Volvo','EX90',kari)\n",
    "bil2=Bil('Toyota','Yaris',per)\n",
    "\n",
    "bil1.skriv()\n"
   ]
  },
  {
   "cell_type": "code",
   "execution_count": null,
   "metadata": {},
   "outputs": [
    {
     "data": {
      "text/plain": [
       "29"
      ]
     },
     "execution_count": 349,
     "metadata": {},
     "output_type": "execute_result"
    }
   ],
   "source": [
    "class Person:\n",
    "    def __init__(self, navn, alder):\n",
    "        self.navn = navn\n",
    "        self.alder = alder\n",
    "\n",
    "class Bil:\n",
    "    def __init__(self, merke, modell, navn, alder):\n",
    "        self.merke = merke\n",
    "        self.modell = modell\n",
    "        self.eier = Person(navn, alder)\n",
    "\n",
    "    def skriv(self):\n",
    "        return f'{self.merke}, {self.modell}, eier: {self.eier.navn}'\n",
    "\n",
    "bil3=Bil('Kia','E-Soul','Ola Normann',29)\n",
    "bil3.skriv()\n",
    "bil3.eier.alder"
   ]
  },
  {
   "cell_type": "markdown",
   "metadata": {},
   "source": [
    "**6.7**"
   ]
  },
  {
   "cell_type": "markdown",
   "metadata": {},
   "source": [
    "Dørvakten til et selskapslokale skal holde styr på hvor mange gjester som er sluppet inn og sikre at\n",
    "antallet ikke overstiger kapasiteten i lokalet. Lag en klasse kapasitetVakt for å holde telling med\n",
    "antall personer i et lokale, med metoder for å angi antall personer som kommer og går, samt for å\n",
    "hente ledig kapasitet i lokalet. Vakten skal potensielt vokte flere lokaler, av varierende størrelse,\n",
    "samtidig. "
   ]
  },
  {
   "cell_type": "code",
   "execution_count": null,
   "metadata": {},
   "outputs": [
    {
     "name": "stdout",
     "output_type": "stream",
     "text": [
      "6\n",
      "8\n",
      "Slipp inn 6\n",
      "0\n",
      "5\n"
     ]
    }
   ],
   "source": [
    "class kapasitetVakt:\n",
    "    def __init__(self, kapasitet):\n",
    "        self.kapasitet = kapasitet\n",
    "\n",
    "    def ledig(self):\n",
    "        return self.kapasitet\n",
    "\n",
    "    def kommer(self, antall):\n",
    "        if antall > self.kapasitet:\n",
    "            print(\"Slipp inn\", self.kapasitet)\n",
    "            self.kapasitet = 0\n",
    "        else: self.kapasitet -= antall\n",
    "\n",
    "    def går(self, antall):\n",
    "        self.kapasitet += antall\n",
    "\n",
    "lokale1=kapasitetVakt(10)\n",
    "lokale2=kapasitetVakt(15)\n",
    "lokale1.kommer(4)\n",
    "lokale2.kommer(5)\n",
    "lokale2.kommer(2)\n",
    "print(lokale1.ledig())\n",
    "print(lokale2.ledig())\n",
    "lokale1.kommer(9)\n",
    "print(lokale1.ledig())\n",
    "lokale1.går(5)\n",
    "print(lokale1.ledig())"
   ]
  },
  {
   "cell_type": "markdown",
   "metadata": {},
   "source": [
    "**6.10**"
   ]
  },
  {
   "cell_type": "markdown",
   "metadata": {},
   "source": [
    "Fibonacci-serien er en tallrekke der de to første tallene i serien er 1’ere og deretter er det neste\n",
    "tallet summen av de to forrige: 1, 1, 2, 3, 5, 8, 13, 21, … osv.\n",
    "En fibonacci-generator er et objekt x som holder et tall i fibonacci-serien og med en metode\n",
    "x.neste() som oppdaterer til det neste tallet i serien og returnerer det"
   ]
  },
  {
   "cell_type": "code",
   "execution_count": null,
   "metadata": {},
   "outputs": [
    {
     "name": "stdout",
     "output_type": "stream",
     "text": [
      "2\n",
      "3\n",
      "5\n",
      "8\n"
     ]
    }
   ],
   "source": [
    "class Fibonacci:\n",
    "    def __init__(self):\n",
    "        self.neste_tall = 1\n",
    "        self.tall = 1\n",
    "        self.siste = 1\n",
    "    \n",
    "    def neste(self):\n",
    "        self.neste_tall = self.siste + self.tall \n",
    "        self.siste = self.tall\n",
    "        self.tall = self.neste_tall\n",
    "        return self.neste_tall\n",
    "\n",
    "# Eksempel på bruk\n",
    "g = Fibonacci()\n",
    "print(g.neste()) \n",
    "print(g.neste()) \n",
    "print(g.neste()) \n",
    "print(g.neste()) \n"
   ]
  },
  {
   "cell_type": "markdown",
   "metadata": {},
   "source": [
    "**6.12**"
   ]
  },
  {
   "cell_type": "markdown",
   "metadata": {},
   "source": [
    "Lag et program som kan skrive ut en kjede av forgjengere til en gitt person. (foreldre, besteforeldre,\n",
    "oldeforeldre, osv i vilkårlig mange generasjoner). Kjeden skal spesifiseres ved en sekvens som består\n",
    "av F’er og M’er, dvs en tekst som dette: ‘FMMF’. I dette tilfellet skal programmet skrive ut personens\n",
    "far (F), så hans mor (M) etterfulgt av hennes mor (M) og til slutt hennes far (F). Hint: lag en person-\n",
    "klasse som registrerer navn samt far og mor - som også er personer!. På den måten kan du lage en\n",
    "struktur av nestede objekter som representerer stamtreet bakover fra en person."
   ]
  },
  {
   "cell_type": "code",
   "execution_count": null,
   "metadata": {},
   "outputs": [
    {
     "name": "stdout",
     "output_type": "stream",
     "text": [
      "Kari\n",
      "Sara\n",
      "Arne\n"
     ]
    }
   ],
   "source": [
    "class Person:\n",
    "    def __init__(self, navn, far = None, mor=None):\n",
    "        self.navn = navn\n",
    "        self.far = far\n",
    "        self.mor = mor\n",
    "\n",
    "def forgjengere(person, sekvens):\n",
    "    for i in sekvens:\n",
    "        if i == \"M\":\n",
    "            if person.mor:\n",
    "                person = person.mor\n",
    "                print(person.navn)\n",
    "            else:\n",
    "                print(\"Kjeden er for lang\")\n",
    "        if i == \"F\":\n",
    "            if person.far:\n",
    "                person = person.far\n",
    "                print(person.navn)\n",
    "            else:\n",
    "                print(\"Kjeden er for lang\")\n",
    "\n",
    "anders = Person(\"Anders\")\n",
    "anna = Person(\"Anna\")\n",
    "tor = Person(\"Tor\")\n",
    "guri = Person(\"Guri\")\n",
    "kjell = Person(\"Kjell\")\n",
    "olaug = Person(\"Olaug\")\n",
    "arne = Person(\"Arne\")\n",
    "solveig = Person(\"Solveig\")\n",
    "jens = Person(\"Jens\", anders, anna)\n",
    "liv = Person(\"Liv\", tor, guri)\n",
    "petter = Person(\"Petter\", kjell, olaug)\n",
    "sara = Person(\"Sara\", arne, solveig)\n",
    "ola = Person(\"Ola\", jens, liv)\n",
    "kari = Person(\"Kari\", petter, sara)\n",
    "per = Person(\"Per\", ola, kari)\n",
    "        \n",
    "forgjengere(per,'MMF')\n"
   ]
  },
  {
   "cell_type": "markdown",
   "metadata": {},
   "source": [
    "**7.5**"
   ]
  },
  {
   "cell_type": "markdown",
   "metadata": {},
   "source": [
    "Lag en funksjon som gitt et fullt navn vil skrive det ut med etternavnet\n",
    "først, deretter fornavnet, evt etterfulgt av forbokstaven i alle mellomnavn"
   ]
  },
  {
   "cell_type": "code",
   "execution_count": null,
   "metadata": {},
   "outputs": [
    {
     "data": {
      "text/plain": [
       "'Olsen, Ole M. E.'"
      ]
     },
     "execution_count": 419,
     "metadata": {},
     "output_type": "execute_result"
    }
   ],
   "source": [
    "def skrivNavn(navn):\n",
    "    navn = navn.split()\n",
    "    fornavn = navn[0]\n",
    "    etternavn = navn[-1]\n",
    "    mellomnavn = navn[1:-1]\n",
    "    mellomnavn_formatert = [x[0] + '.' for x in mellomnavn]\n",
    "\n",
    "    return f\"{etternavn}, {fornavn} {\" \".join(mellomnavn_formatert)}\"\n",
    "\n",
    "skrivNavn('Ole Martin Eek Olsen')"
   ]
  },
  {
   "cell_type": "markdown",
   "metadata": {},
   "source": [
    "**7.6**"
   ]
  },
  {
   "cell_type": "markdown",
   "metadata": {},
   "source": [
    "Lag en funksjon som tar inn en liste av tekststrenger samt et heltall N som argumenter og\n",
    "returnerer en ny liste med de av tekststrengene som har en lengde på minst N tegn."
   ]
  },
  {
   "cell_type": "code",
   "execution_count": null,
   "metadata": {},
   "outputs": [
    {
     "data": {
      "text/plain": [
       "['breiflabb', 'overalt']"
      ]
     },
     "execution_count": 421,
     "metadata": {},
     "output_type": "execute_result"
    }
   ],
   "source": [
    "def lengre_enn(liste,lengde):\n",
    "    return [ord for ord in liste if len(ord)>=lengde]\n",
    "\n",
    "liste = ['Vått', 'og', 'kaldt', 'og', 'breiflabb', 'overalt']\n",
    "lengre_enn(liste,7)"
   ]
  },
  {
   "cell_type": "markdown",
   "metadata": {},
   "source": [
    "**7.7**"
   ]
  },
  {
   "cell_type": "markdown",
   "metadata": {},
   "source": [
    "Lag en funksjon som skriver ut teksten til sangen 'Tre små musikanter'\n",
    "der man kan velge å erstatte vokalene i teksten med en oppgitt vokal som opsjon"
   ]
  },
  {
   "cell_type": "code",
   "execution_count": null,
   "metadata": {},
   "outputs": [
    {
     "data": {
      "text/plain": [
       "'tri smi misikintir pi hiibri pliss sti \\n    ig spilti pi in kintribiss \\n    si kim in kinstibil, spirti hvi vir hindt \\n    tri smi misikintir pi hiibri pliss'"
      ]
     },
     "execution_count": 1,
     "metadata": {},
     "output_type": "execute_result"
    }
   ],
   "source": [
    "sang = \"\"\"tre små musikanter på høybro plass\\n\n",
    "sto og spilte på en kontrabass\\n\n",
    "så kom en konstabel, spurte hva var hendt\\n\n",
    "tre små musikanter på høybro plass\"\"\"\n",
    "\n",
    "def treSmåMusikanter(vokal = None):\n",
    "\n",
    "    vokaler = list(\"aeiouyøæå\")\n",
    "    revidert_sang = \"\"\n",
    "    sang = \"\"\"tre små musikanter på høybro plass sto \n",
    "    og spilte på en kontrabass \n",
    "    så kom en konstabel, spurte hva var hendt \n",
    "    tre små musikanter på høybro plass\"\"\"\n",
    "\n",
    "    if not(vokal): return sang\n",
    "\n",
    "    for bokstav in sang:\n",
    "        if bokstav in vokaler:\n",
    "            revidert_sang += vokal\n",
    "        else:\n",
    "            revidert_sang += bokstav\n",
    "    \n",
    "    return revidert_sang\n",
    "\n",
    "treSmåMusikanter(\"i\")"
   ]
  },
  {
   "cell_type": "markdown",
   "metadata": {},
   "source": [
    "**7.8**"
   ]
  },
  {
   "cell_type": "markdown",
   "metadata": {},
   "source": [
    "Lag en funksjon som, gitt en liste av kongelige på formen 'Tittel Navn',\n",
    "skriver ut navnet (uten tittel) til alle prinser og prinsesser.\n",
    "Ta høyde for at titlene kan skrives med stor eller liten stor forbokstav."
   ]
  },
  {
   "cell_type": "code",
   "execution_count": null,
   "metadata": {},
   "outputs": [
    {
     "name": "stdout",
     "output_type": "stream",
     "text": [
      "Angela\n",
      "Peter\n",
      "Petra\n",
      "Ingolf\n"
     ]
    }
   ],
   "source": [
    "kongefamilie = ['Kong Otto', 'dronning Magda', 'Kronprins Ulf',\n",
    "'kronprinsesse Frida', 'prinsesse Angela', 'Prins Peter',\n",
    "'prinsesse Petra', 'grevinne Gunda', 'Grev Wilhelm',\n",
    "'Prins Ingolf']\n",
    "\n",
    "def prinserOgPrinsesser(liste):\n",
    "    prinserOgPrinsesser_liste = [person.split(maxsplit=1)[1] for person in liste if person.lower().startswith(\"prinsesse\") or person.lower().startswith(\"prins\")]\n",
    "   \n",
    "    for person in prinserOgPrinsesser_liste:\n",
    "        print(person)\n",
    "\n",
    "prinserOgPrinsesser(kongefamilie)"
   ]
  },
  {
   "cell_type": "markdown",
   "metadata": {},
   "source": [
    "**7.9**"
   ]
  },
  {
   "cell_type": "markdown",
   "metadata": {},
   "source": [
    "Lag en funksjon som gitt en tekst returnerer teksten reversert"
   ]
  },
  {
   "cell_type": "code",
   "execution_count": null,
   "metadata": {},
   "outputs": [
    {
     "data": {
      "text/plain": [
       "'nohtyP'"
      ]
     },
     "execution_count": 14,
     "metadata": {},
     "output_type": "execute_result"
    }
   ],
   "source": [
    "def snu(ord):\n",
    "    return ord[::-1]\n",
    "\n",
    "snu('Python')"
   ]
  },
  {
   "cell_type": "markdown",
   "metadata": {},
   "source": [
    "**7.10**"
   ]
  },
  {
   "cell_type": "markdown",
   "metadata": {},
   "source": [
    "Lag en funksjon som sjekker om et ord er et palindrom. Dvs at det leses likt forlengs og\n",
    "baklengs"
   ]
  },
  {
   "cell_type": "code",
   "execution_count": null,
   "metadata": {},
   "outputs": [
    {
     "data": {
      "text/plain": [
       "False"
      ]
     },
     "execution_count": 17,
     "metadata": {},
     "output_type": "execute_result"
    }
   ],
   "source": [
    "def palindrom(ord):\n",
    "    return ord == ord[::-1]\n",
    "\n",
    "palindrom('regning')"
   ]
  },
  {
   "cell_type": "markdown",
   "metadata": {},
   "source": [
    "**7.11**"
   ]
  },
  {
   "cell_type": "markdown",
   "metadata": {},
   "source": [
    "Lag en funksjon som tar inn en tekststreng og sjekker hvor mange ganger hvert tegn\n",
    "forekommer i strengen. For hvert tegn skal funksjonen skrive ut antallet ganger det\n",
    "forekommer i teksten."
   ]
  },
  {
   "cell_type": "code",
   "execution_count": null,
   "metadata": {},
   "outputs": [
    {
     "name": "stdout",
     "output_type": "stream",
     "text": [
      "p : 1\n",
      "r : 3\n",
      "o : 1\n",
      "g : 2\n",
      "a : 1\n",
      "m : 2\n",
      "e : 1\n",
      "i : 1\n",
      "n : 1\n"
     ]
    }
   ],
   "source": [
    "def tell_tegn(ord):\n",
    "    tegn_fortegnelse = {}\n",
    "\n",
    "    for tegn in ord:\n",
    "        if tegn not in tegn_fortegnelse:\n",
    "            tegn_fortegnelse[tegn] = 0\n",
    "        tegn_fortegnelse[tegn] += 1\n",
    "    \n",
    "    for tegn, antall in tegn_fortegnelse.items():\n",
    "        print(f\"{tegn} : {antall}\")\n",
    "\n",
    "tell_tegn('programmering')"
   ]
  },
  {
   "cell_type": "markdown",
   "metadata": {},
   "source": [
    "**7.12**"
   ]
  },
  {
   "cell_type": "markdown",
   "metadata": {},
   "source": [
    "Lag en funksjon mest_brukte_ord som tar en setning/streng og returnerer det mest\n",
    "brukte ordet i den setningen. Hvis det er flere ord som forekommer flest ganger er det\n",
    "vilkårlig hvilket som blir returnert."
   ]
  },
  {
   "cell_type": "code",
   "execution_count": null,
   "metadata": {},
   "outputs": [
    {
     "data": {
      "text/plain": [
       "'er'"
      ]
     },
     "execution_count": 22,
     "metadata": {},
     "output_type": "execute_result"
    }
   ],
   "source": [
    "def mest_brukte_ord(streng):\n",
    "    mest_brukt = \"\"\n",
    "    antall_ganger_brukt = 0\n",
    "\n",
    "    for ord in streng.split():\n",
    "        if streng.count(ord) > antall_ganger_brukt:\n",
    "            mest_brukt = ord\n",
    "            antall_ganger_brukt = streng.count(ord)\n",
    "    \n",
    "    return mest_brukt\n",
    "\n",
    "mest_brukte_ord('Dette er en test som er enkel og grei')"
   ]
  },
  {
   "cell_type": "markdown",
   "metadata": {},
   "source": [
    "**7.13**"
   ]
  },
  {
   "cell_type": "markdown",
   "metadata": {},
   "source": [
    "Lag en funksjon som gitt en tekststreng og et tall N returnerer listen med alle delstrenger\n",
    "(utsnitt) av lengde N."
   ]
  },
  {
   "cell_type": "code",
   "execution_count": null,
   "metadata": {},
   "outputs": [
    {
     "data": {
      "text/plain": [
       "['Vått',\n",
       " 'ått ',\n",
       " 'tt o',\n",
       " 't og',\n",
       " ' og ',\n",
       " 'og k',\n",
       " 'g ka',\n",
       " ' kal',\n",
       " 'kald',\n",
       " 'aldt']"
      ]
     },
     "execution_count": 24,
     "metadata": {},
     "output_type": "execute_result"
    }
   ],
   "source": [
    "def delstrenger(streng, lengde):\n",
    "    liste = []\n",
    "\n",
    "    for i in range(len(streng)-(lengde-1)):\n",
    "        liste.append(streng[i:i+lengde])\n",
    "    \n",
    "    return liste\n",
    "\n",
    "delstrenger('Vått og kaldt',4)"
   ]
  },
  {
   "cell_type": "markdown",
   "metadata": {},
   "source": [
    "**7.15**"
   ]
  },
  {
   "cell_type": "markdown",
   "metadata": {},
   "source": [
    "Lag en funksjon flett(t1,t2) som fletter tekstene t1 og t2 sammen til 1 tekst\n",
    "Dvs den skal returnere en tekst som starter med det 1.tegnet i t1 etterfulgt av 1. tegnet i t2.\n",
    "Så kommer 2.tegn i t1, så 2. tegn i t2 og så videre. Dersom t1 og t2 ikke er like lange skal\n",
    "resten fra den lengste legges til slutt i resultatet"
   ]
  },
  {
   "cell_type": "code",
   "execution_count": null,
   "metadata": {},
   "outputs": [
    {
     "data": {
      "text/plain": [
       "'a1b2c3d4e5fgh'"
      ]
     },
     "execution_count": 29,
     "metadata": {},
     "output_type": "execute_result"
    }
   ],
   "source": [
    "def flett(t1, t2):\n",
    "    min_lengde = min(len(t1), len(t2))\n",
    "    i = 0\n",
    "    string = \"\"\n",
    "\n",
    "    while i < min_lengde:\n",
    "        string += t1[i]+t2[i]\n",
    "        i += 1\n",
    "\n",
    "    if len(t1) > len(t2): string += t1[i:]\n",
    "    if len(t1) < len(t2): string += t2[i:]\n",
    "\n",
    "    return string\n",
    "\n",
    "flett('abcdefgh', '12345')"
   ]
  },
  {
   "cell_type": "markdown",
   "metadata": {},
   "source": [
    "**7.16**"
   ]
  },
  {
   "cell_type": "markdown",
   "metadata": {},
   "source": [
    "Cæsar skift er en enkel form for kryptering av ord der hver bokstav erstattes av bokstaven\n",
    "som ligger N plasser lengre ut i alfabetet. Hvis det ikke er nok bokstaver lengre utover\n",
    "fortsetter man fra begynnelsen av alfabetet.\n",
    "Nå skal du lage funksjoner for kryptering med N=1, altså at hver bokstav erstattes med den\n",
    "neste i alfabetet, og at 'å' erstattes med 'a'.\n",
    "Du kan ta for gitt at input-ordet ikke inneholder tall, mellomrom eller andre tegn enn de\n",
    "norske bokstavene fra a-å."
   ]
  },
  {
   "cell_type": "code",
   "execution_count": null,
   "metadata": {},
   "outputs": [
    {
     "data": {
      "text/plain": [
       "'bcdùçæ'"
      ]
     },
     "execution_count": 34,
     "metadata": {},
     "output_type": "execute_result"
    }
   ],
   "source": [
    "def krypter(tekst, n):\n",
    "    kryptert_ord = \"\"\n",
    "    for bokstav in tekst:\n",
    "        kryptert_ord += chr(ord(bokstav)+n).lower()\n",
    "\n",
    "    return kryptert_ord\n",
    "\n",
    "krypter('abcøæå', 1)"
   ]
  },
  {
   "cell_type": "code",
   "execution_count": null,
   "metadata": {},
   "outputs": [
    {
     "data": {
      "text/plain": [
       "'qsphsbnnfsjoh'"
      ]
     },
     "execution_count": 1,
     "metadata": {},
     "output_type": "execute_result"
    }
   ],
   "source": [
    "def krypter(tekst, n=1):\n",
    "    alfabet = list(\"abcdefghijklmnopqrstuvwxyzæøå\")\n",
    "    kryptert_ord = \"\"\n",
    "\n",
    "    for bokstav in tekst:\n",
    "        plassering = alfabet.index(bokstav)+n if alfabet.index(bokstav)+n < len(alfabet) else alfabet.index(bokstav)+n-len(alfabet)\n",
    "        kryptert_ord += alfabet[plassering]\n",
    "\n",
    "    return kryptert_ord\n",
    "\n",
    "krypter('programmering')"
   ]
  },
  {
   "cell_type": "code",
   "execution_count": null,
   "metadata": {},
   "outputs": [
    {
     "data": {
      "text/plain": [
       "'programmering'"
      ]
     },
     "execution_count": 6,
     "metadata": {},
     "output_type": "execute_result"
    }
   ],
   "source": [
    "def dekrypter(tekst, n):\n",
    "    alfabet = list(\"abcdefghijklmnopqrstuvwxyzæøå\")\n",
    "    dekryptert_ord = \"\"\n",
    "\n",
    "    for bokstav in tekst:\n",
    "        plassering = alfabet.index(bokstav)-n if alfabet.index(bokstav)-n > 0 else alfabet.index(alfabet[alfabet.index(bokstav)-n])\n",
    "        dekryptert_ord += alfabet[plassering]\n",
    "\n",
    "    return dekryptert_ord\n",
    "\n",
    "dekrypter('qsphsbnnfsjoh', 1)"
   ]
  },
  {
   "cell_type": "markdown",
   "metadata": {},
   "source": [
    "**7.17**"
   ]
  },
  {
   "cell_type": "markdown",
   "metadata": {},
   "source": [
    "Bytt tekstverdier i to variable uten å innføre en ekstra helpevariabel."
   ]
  },
  {
   "cell_type": "code",
   "execution_count": null,
   "metadata": {},
   "outputs": [
    {
     "name": "stdout",
     "output_type": "stream",
     "text": [
      "hei hopp\n",
      "hopp hei\n"
     ]
    }
   ],
   "source": [
    "a='hei'\n",
    "b='hopp'\n",
    "print(a,b)\n",
    "a= a+b\n",
    "b= a[0:a.index(b)]\n",
    "a= a[len(b):]\n",
    "print(a,b)"
   ]
  },
  {
   "cell_type": "code",
   "execution_count": null,
   "metadata": {},
   "outputs": [
    {
     "name": "stdout",
     "output_type": "stream",
     "text": [
      "hei hopp\n",
      "hopp hei\n"
     ]
    }
   ],
   "source": [
    "a='hei'\n",
    "b='hopp'\n",
    "print(a,b)\n",
    "a, b = b, a\n",
    "print(a,b)"
   ]
  },
  {
   "cell_type": "code",
   "execution_count": null,
   "metadata": {},
   "outputs": [
    {
     "data": {
      "text/plain": [
       "False"
      ]
     },
     "execution_count": 10,
     "metadata": {},
     "output_type": "execute_result"
    }
   ],
   "source": [
    "def subliste(sub, liste):\n",
    "    for i in liste:\n",
    "        if liste[i:i+len(sub)] == sub:\n",
    "            return True\n",
    "    return False\n",
    "\n",
    "subliste([3,4,5], [1,2,3,4,5,6,7])\n",
    "subliste([3,4,5], [7,6,5,4,3,2,1])\n"
   ]
  },
  {
   "cell_type": "markdown",
   "metadata": {},
   "source": [
    "**8.3**"
   ]
  },
  {
   "cell_type": "markdown",
   "metadata": {},
   "source": [
    "Last ned ordlistefilen 'ordliste.txt' fra kursets hjemmeside på MittUib og lagre den der du lagrer\n",
    "python-programmene dine. Lag et program som leser inn ordlisten og lar brukeren taste inn norske\n",
    "søkeord og svarer med den engelske oversettelsen. Prøv å finne alle oppslag i ordlisten som starter\n",
    "på brukerens søkeord."
   ]
  },
  {
   "cell_type": "code",
   "execution_count": null,
   "metadata": {},
   "outputs": [
    {
     "name": "stdout",
     "output_type": "stream",
     "text": [
      "Oppgi søkeord (avslutt med 'slutt')\n",
      "tilkobling (filer) =  file handle\n",
      "tekstsegment =  slice\n",
      "tekstverdi =  string\n",
      "tilordning =  assignment\n",
      "tolk =  interpreter\n",
      "tom funksjon =  void function\n",
      "tom streng =  empty string\n",
      "traversering =  traversal\n",
      "tuppel =  tuple\n",
      "tilkobling (filer) =  file handle\n",
      "tilordning =  assignment\n"
     ]
    }
   ],
   "source": [
    "print(\"Oppgi søkeord (avslutt med 'slutt')\")\n",
    "\n",
    "while True:\n",
    "    søkeord = input(\"Søkeord: \").strip()\n",
    "    if søkeord.lower() == \"slutt\": break\n",
    "\n",
    "    try:\n",
    "        with open('ordliste.txt', 'r') as fil:\n",
    "            funnet = False\n",
    "            for ord in fil:\n",
    "                ord = ord.strip()\n",
    "                \n",
    "                if ',' in ord:\n",
    "                    try:\n",
    "                        norsk, engelsk = ord.split(',', maxsplit=1)\n",
    "                        if norsk.startswith(søkeord):\n",
    "                            print(f\"{norsk} = {engelsk}\")\n",
    "                            funnet = True\n",
    "                    except ValueError:\n",
    "                        pass \n",
    "            if not funnet:\n",
    "                print(\"Ingen treff funnet.\")\n",
    "    except FileNotFoundError:\n",
    "        print(\"Filen 'ordliste.txt' ble ikke funnet. Sørg for at den eksisterer.\")\n"
   ]
  },
  {
   "cell_type": "markdown",
   "metadata": {},
   "source": [
    "**8.4**"
   ]
  },
  {
   "cell_type": "markdown",
   "metadata": {},
   "source": [
    "Lag en funksjon erstattOrd(filnavn, gammeltOrd, nyttOrd) som erstatter alle forekomster\n",
    "av ordet gammeltOrd med nyttOrd i filen."
   ]
  },
  {
   "cell_type": "code",
   "execution_count": null,
   "metadata": {},
   "outputs": [],
   "source": [
    "def erstattOrd(filnavn, gammeltOrd, nyttOrd):\n",
    "    tekst = \"\"\n",
    "    with open(filnavn, 'r') as fil:\n",
    "        for linje in fil:\n",
    "            if gammeltOrd in linje:\n",
    "                linje = linje.replace(gammeltOrd, nyttOrd)\n",
    "            tekst += linje\n",
    "\n",
    "    with open(filnavn, 'w') as fil:\n",
    "        fil.write(tekst)\n",
    "\n",
    "erstattOrd('treSmåMusikanter.txt','høybro', 'danmarks')"
   ]
  },
  {
   "cell_type": "markdown",
   "metadata": {},
   "source": [
    "**8.5**"
   ]
  },
  {
   "cell_type": "markdown",
   "metadata": {},
   "source": [
    "- telefon.txt der personer er registrert med navn og telefonnummer, i tilfeldig rekkefølge.\n",
    "\n",
    "- adresse.txt der personer er registrert med navn og adresse. Denne filen er sortert alfabetisk\n",
    "\n",
    "Adresse- og telefonlistene inneholder ikke nødvendigvis de samme personene.\n",
    "Lag et program som tar utgangspunkt i personene i telefonlisten og lager en ny fil med\n",
    "kontaktinformasjon for disse. Alle skal være registrert med telefon samt adresse der den er kjent"
   ]
  },
  {
   "cell_type": "code",
   "execution_count": null,
   "metadata": {},
   "outputs": [],
   "source": [
    "telefon_liste = {}\n",
    "\n",
    "with open('telefon.txt', 'r') as fil:\n",
    "    for linje in fil:\n",
    "        linje = linje.strip()\n",
    "        navn, nummer = linje.split()\n",
    "        telefon_liste[navn] = nummer\n",
    "\n",
    "adresse_liste = {}\n",
    "with open('adresse.txt', 'r') as fil:\n",
    "    for linje in fil:\n",
    "        linje = linje.strip()\n",
    "        navn, adresse = linje.split(maxsplit=1)\n",
    "        adresse_liste[navn] = adresse\n",
    "\n",
    "with open('kontaktinfo.txt', 'w') as fil:\n",
    "    for navn, nummer in telefon_liste.items():\n",
    "        if navn in adresse_liste:\n",
    "            fil.write(f\"{navn} {nummer} {adresse_liste[navn]}\\n\")\n",
    "        else:\n",
    "            fil.write(f\"{navn} {nummer}\\n\")"
   ]
  },
  {
   "cell_type": "markdown",
   "metadata": {},
   "source": [
    "**8.6**"
   ]
  },
  {
   "cell_type": "markdown",
   "metadata": {},
   "source": [
    "Vi ser videre på den sorterte adresselisten adresse.txt\n",
    "Lag en funksjon settinn(person, fil)som kan sette inn en ny person/adresse, på riktig sted i\n",
    "filen så den forblir sortert."
   ]
  },
  {
   "cell_type": "code",
   "execution_count": null,
   "metadata": {},
   "outputs": [],
   "source": [
    "def settinn(data, filnavn):\n",
    "    ny_fil = \"\"\n",
    "    plassert = False\n",
    "\n",
    "    with open(filnavn, 'r') as fil:\n",
    "        for linje in fil:\n",
    "            if linje > data and plassert == False: \n",
    "                ny_fil += data + \"\\n\"\n",
    "                plassert = True\n",
    "            ny_fil += linje\n",
    "\n",
    "        if plassert == False:\n",
    "            ny_fil += data\n",
    "\n",
    "    with open(filnavn, 'w') as fil:\n",
    "        fil.write(ny_fil)\n",
    "\n",
    "settinn('Siv Kirkegata 1', 'adresse.txt')"
   ]
  },
  {
   "cell_type": "markdown",
   "metadata": {},
   "source": [
    "**8.10**"
   ]
  },
  {
   "cell_type": "markdown",
   "metadata": {},
   "source": [
    "Lag en funksjon som erstatter alle sifre i en fil med tilsvarende tallord, resultatet legges i en ny fil."
   ]
  },
  {
   "cell_type": "code",
   "execution_count": null,
   "metadata": {},
   "outputs": [],
   "source": [
    "def erstattSifre(filnavn):\n",
    "    tall_i_bokstaver = [\"null\", \"en\", \"to\", \"tre\", \"fire\", \"fem\", \"seks\", \"sju\", \"åtte\", \"ni\"]\n",
    "    ny_fil = \"\"\n",
    "\n",
    "    with open(filnavn, 'r') as fil:\n",
    "        for person in fil:\n",
    "            person = person.strip()\n",
    "            navn, nummer = person.split()\n",
    "            nummer_til_bokstaver = [tall_i_bokstaver[int(siffer)] for siffer in nummer]\n",
    "            ny_fil += f'{navn}   {\"-\".join(nummer_til_bokstaver)}\\n'\n",
    "\n",
    "    with open('NYTTtelefon.txt', 'w') as fil:\n",
    "        fil.write(ny_fil)\n",
    "\n",
    "erstattSifre('telefon.txt')"
   ]
  },
  {
   "cell_type": "markdown",
   "metadata": {},
   "source": [
    "**9.1.5**"
   ]
  },
  {
   "cell_type": "markdown",
   "metadata": {},
   "source": [
    "Liste-metoden L.remove(e) fjerner kun 1 forekomst av e fra listen L.\n",
    "Lag en funksjon fjernAlle(Liste, e) som fjerner alle forekomster av e slik at\n",
    "\n",
    "a) funksjonen endrer listen permanent.\n",
    "\n",
    "b) funksjonen returnerer en resultat-liste mens originalen forblir uendret."
   ]
  },
  {
   "cell_type": "code",
   "execution_count": null,
   "metadata": {},
   "outputs": [
    {
     "data": {
      "text/plain": [
       "[1, 2, 3, 5, 6, 5, 3, 2, 1]"
      ]
     },
     "execution_count": 48,
     "metadata": {},
     "output_type": "execute_result"
    }
   ],
   "source": [
    "def fjernAlle(liste, element):\n",
    "    antall = liste.count(element)\n",
    "    for i in range(antall):\n",
    "        liste.remove(element)\n",
    "    return liste\n",
    "\n",
    "L=[1,2,3,4,5,6,5,4,3,2,1]\n",
    "fjernAlle(L,4)"
   ]
  },
  {
   "cell_type": "code",
   "execution_count": null,
   "metadata": {},
   "outputs": [
    {
     "name": "stdout",
     "output_type": "stream",
     "text": [
      "[1, 2, 3, 4, 5, 6, 5, 4, 3, 2, 1]\n",
      "[1, 2, 3, 5, 6, 5, 3, 2, 1]\n"
     ]
    }
   ],
   "source": [
    "def fjernAlle(liste, element):\n",
    "    antall = liste.count(element)\n",
    "    liste = liste[:]\n",
    "    for i in range(antall):\n",
    "        liste.remove(element)\n",
    "    return liste\n",
    "\n",
    "L=[1,2,3,4,5,6,5,4,3,2,1]\n",
    "fjernAlle(L,4)\n",
    "print(L)\n",
    "print(fjernAlle(L,4))"
   ]
  },
  {
   "cell_type": "markdown",
   "metadata": {},
   "source": [
    "**9.1.6**"
   ]
  },
  {
   "cell_type": "markdown",
   "metadata": {},
   "source": [
    "Lag en funksjon som tar inn to lister som argumenter. Den skal returnere en ny liste som\n",
    "inneholder elementene som er felles for begge listene, uten duplikater."
   ]
  },
  {
   "cell_type": "code",
   "execution_count": null,
   "metadata": {},
   "outputs": [
    {
     "data": {
      "text/plain": [
       "[4, 5]"
      ]
     },
     "execution_count": 62,
     "metadata": {},
     "output_type": "execute_result"
    }
   ],
   "source": [
    "def felles_elementer(l1, l2):\n",
    "    l3 = []\n",
    "    for element in l1:\n",
    "        if element in l2 and element not in l3:\n",
    "            l3.append(element)\n",
    "    return l3\n",
    "\n",
    "felles_elementer([1, 2, 3, 4, 3, 5], [4, 5, 5, 6, 7, 8])"
   ]
  },
  {
   "cell_type": "markdown",
   "metadata": {},
   "source": [
    "**9.1.8**"
   ]
  },
  {
   "cell_type": "markdown",
   "metadata": {},
   "source": [
    "L1 er en sub-liste av L2 dersom L1 er et segment i L2. Dvs at elementene fra L1 forekommer i L2,\n",
    "uavbrutt og i samme rekkefølge.\n",
    "\n",
    "a) Lag en funksjon som sjekker om en liste er subliste av en annen liste\n",
    "\n",
    "b) Lag en funksjon som finner alle posisjonene til en subliste i en større liste"
   ]
  },
  {
   "cell_type": "code",
   "execution_count": null,
   "metadata": {},
   "outputs": [
    {
     "data": {
      "text/plain": [
       "False"
      ]
     },
     "execution_count": 4,
     "metadata": {},
     "output_type": "execute_result"
    }
   ],
   "source": [
    "def subliste(sub, liste):\n",
    "    for i in range(len(liste)):\n",
    "        if i+len(sub) <= len(liste) and liste[i:i+len(sub)] == sub:\n",
    "            return True\n",
    "        elif i+len(sub) > len(liste) and liste[i:] == sub:\n",
    "            return True\n",
    "    return False\n",
    "\n",
    "subliste([3,4,6], [1,2,3,4,5,6,7])"
   ]
  },
  {
   "cell_type": "code",
   "execution_count": null,
   "metadata": {},
   "outputs": [
    {
     "data": {
      "text/plain": [
       "[3, 9, 11, 15]"
      ]
     },
     "execution_count": 6,
     "metadata": {},
     "output_type": "execute_result"
    }
   ],
   "source": [
    "def sublistePos(sub, liste):\n",
    "    pos = []\n",
    "    for i in range(len(liste)):\n",
    "        if i+len(sub) <= len(liste) and liste[i:i+len(sub)] == sub:\n",
    "            pos.append(i)\n",
    "        elif i+len(sub) > len(liste) and liste[i:] == sub:\n",
    "            pos.append(i)\n",
    "    return pos\n",
    "\n",
    "sublistePos([4,5], [1,2,3,4,5,6,5,4,3,4,5,4,5,6,3,4,5,6,7])"
   ]
  },
  {
   "cell_type": "markdown",
   "metadata": {},
   "source": [
    "**9.1.9**"
   ]
  },
  {
   "cell_type": "markdown",
   "metadata": {},
   "source": [
    " Lag funksjoner for å håndtere 2-dimensjonale tabeller med tall, representert som lister\n",
    "\n",
    "Funksjonen lagTabell(antallKolonner, antallRader) skal opprette en tabell med de gitte\n",
    "dimensjonene. Initielt kan alle celler inneholde verdien 0."
   ]
  },
  {
   "cell_type": "code",
   "execution_count": null,
   "metadata": {},
   "outputs": [
    {
     "name": "stdout",
     "output_type": "stream",
     "text": [
      "11 12 13\n",
      "21 22 23\n",
      "31 32 33\n",
      "41 42 43\n",
      "\n",
      "11 12 13\n",
      "21 22 23\n",
      "1 1 1\n",
      "31 32 33\n",
      "41 42 43\n",
      "\n"
     ]
    }
   ],
   "source": [
    "def lagTabell(antallKolonner, antallRader):\n",
    "    tabell = []\n",
    "    for i in range(antallRader):\n",
    "        tabell.append([])\n",
    "        for j in range(antallKolonner):\n",
    "            tabell[i].append(\"0\")\n",
    "    return tabell\n",
    "\n",
    "def skrivTabell(tabell):\n",
    "    rader = len(tabell)\n",
    "    for rad in range(rader):\n",
    "        print(*tabell[rad]) #evt \" \".join(rad)\n",
    "    print()\n",
    "\n",
    "def fyllTabell(tabell, liste):\n",
    "    i = 0\n",
    "    rader = len(tabell)\n",
    "    for rad in range(rader):\n",
    "        kolonner = len(tabell[rad])\n",
    "        for kolonne in range(kolonner):\n",
    "            tabell[rad][kolonne] = liste[i]\n",
    "            i += 1\n",
    "    \n",
    "def hentVerdi(tabell, rad, kolonne):\n",
    "    return tabell[rad-1][kolonne-1]\n",
    "\n",
    "def settVerdi(tabell, rad, kolonne, verdi):\n",
    "    tabell[rad-1][kolonne-1] = verdi\n",
    "\n",
    "def leggTilRad(tabell, liste, pos):\n",
    "    tabell.insert(pos-1, liste)\n",
    "\n",
    "t=lagTabell(3,4)\n",
    "fyllTabell(t, [11,12,13,21,22,23,31,32,33,41,42,43])\n",
    "skrivTabell(t)\n",
    "leggTilRad(t, [1,1,1], 3)\n",
    "skrivTabell(t)"
   ]
  },
  {
   "cell_type": "markdown",
   "metadata": {},
   "source": [
    "**9.1.10**"
   ]
  },
  {
   "cell_type": "markdown",
   "metadata": {},
   "source": [
    "Lag en funksjon som tar inn en liste av strenger og returnerer en ny liste der strengene er sortert\n",
    "alfabetisk, uten å bruke en innebygget Python-funksjon (som sort() eller sorted())."
   ]
  },
  {
   "cell_type": "code",
   "execution_count": null,
   "metadata": {},
   "outputs": [
    {
     "data": {
      "text/plain": [
       "['C++', 'Java', 'Python', 'Ruby']"
      ]
     },
     "execution_count": 20,
     "metadata": {},
     "output_type": "execute_result"
    }
   ],
   "source": [
    "def sorter_strenger(liste):\n",
    "    sortertliste = liste[:]\n",
    "\n",
    "    for i in range(len(liste)):\n",
    "        antall_større = 0\n",
    "        for j in range(len(liste)):\n",
    "            if liste[i] > liste[j]:\n",
    "                antall_større += 1\n",
    "        sortertliste[antall_større] = liste[i]\n",
    "    \n",
    "    return sortertliste\n",
    "\n",
    "\n",
    "strenger = [\"Python\", \"Java\", \"C++\", \"Ruby\"]\n",
    "sorter_strenger(strenger)"
   ]
  },
  {
   "cell_type": "markdown",
   "metadata": {},
   "source": [
    "**9.2.6**"
   ]
  },
  {
   "cell_type": "markdown",
   "metadata": {},
   "source": [
    "Lag en funksjon FibonacciFortegnelse(n) som returnerer fortegnelsen med de n første\n",
    "Fibonacci-tallene. (Husk: Fibonacci-serien starter slik: 1, 1, 2, 3, 5, 8…. og generelt er hvert tall\n",
    "summen av de to foregående)."
   ]
  },
  {
   "cell_type": "code",
   "execution_count": null,
   "metadata": {},
   "outputs": [
    {
     "name": "stdout",
     "output_type": "stream",
     "text": [
      "1\n",
      "1\n",
      "2\n",
      "3\n",
      "5\n",
      "8\n",
      "13\n",
      "21\n",
      "34\n"
     ]
    }
   ],
   "source": [
    "def FibonacciFortegnelse(lengde):\n",
    "    fortegnelse = {0: 1}\n",
    "    for i in range(lengde):\n",
    "        if i > 1:\n",
    "            fortegnelse[i+1] = fortegnelse[i] + fortegnelse[i-1]\n",
    "        elif i > 0:\n",
    "            fortegnelse[i+1] = fortegnelse[i] + 1\n",
    "        else:\n",
    "            fortegnelse[i+1] = 1\n",
    "\n",
    "    return fortegnelse\n",
    "\n",
    "FibonacciFortegnelse(5)\n",
    "for x in FibonacciFortegnelse(8).values():print(x)"
   ]
  },
  {
   "cell_type": "markdown",
   "metadata": {},
   "source": [
    "**9.2.7**"
   ]
  },
  {
   "cell_type": "markdown",
   "metadata": {},
   "source": [
    "Du har to fortegnelser A og B der verdiene i A er av samme type som nøklene i B."
   ]
  },
  {
   "cell_type": "code",
   "execution_count": null,
   "metadata": {},
   "outputs": [
    {
     "data": {
      "text/plain": [
       "{'ons': 'søn'}"
      ]
     },
     "execution_count": 33,
     "metadata": {},
     "output_type": "execute_result"
    }
   ],
   "source": [
    "dager={1:'man',2:'tir', 3:'ons', 4:'tor', 5:'fre',6:'lør', 7:'søn'}\n",
    "temperaturer={'man':11, 'tir':9, 'ons':7, 'tor':12, 'fre':11, 'lør':9, 'søn':8}\n",
    "\n",
    "def koble(f1, f2):\n",
    "    f3 = {}\n",
    "    for x, y in f1.items():\n",
    "        if y in f2:\n",
    "            f3[x] = f2[y]\n",
    "    return f3\n",
    "\n",
    "koble(temperaturer, dager)"
   ]
  },
  {
   "cell_type": "markdown",
   "metadata": {},
   "source": [
    "**9.2.8**"
   ]
  },
  {
   "cell_type": "markdown",
   "metadata": {},
   "source": [
    "I et sosialt nettverk kan en person følge andre personer. Dette er ikke nødvendigvis gjensidig.\n",
    "En følge-fortegnelse har personers navn som nøkler knyttet til lister av navn på personene de følger."
   ]
  },
  {
   "cell_type": "code",
   "execution_count": null,
   "metadata": {},
   "outputs": [
    {
     "data": {
      "text/plain": [
       "'ukjent person: Jens'"
      ]
     },
     "execution_count": 36,
     "metadata": {},
     "output_type": "execute_result"
    }
   ],
   "source": [
    "følgere = {'Anne':['Berit','Karl','Dag'], 'Berit':['Karl','Ina'], 'Karl':['Anne'], 'Dag':['Anne', 'Ina','Berit'], 'Ina':['Karl','Berit','Dag']}\n",
    "\n",
    "def gjensidige_følgere(følgefortegnelse, navn):\n",
    "    gjensidig_liste = []\n",
    "\n",
    "    if navn in følgefortegnelse: følger = følgefortegnelse[navn]\n",
    "    else: return f'ukjent person: {navn}'\n",
    "\n",
    "    for person in følger:\n",
    "        if person in følgere and navn in følgefortegnelse[person]:\n",
    "            gjensidig_liste.append(person)\n",
    "\n",
    "    return gjensidig_liste if gjensidig_liste else \"ingen gjensidige følgere\"\n",
    "\n",
    "gjensidige_følgere(følgere, 'Anne')\n",
    "gjensidige_følgere(følgere, 'Berit')\n",
    "gjensidige_følgere(følgere, 'Jens')"
   ]
  },
  {
   "cell_type": "markdown",
   "metadata": {},
   "source": [
    "**9.2.9**"
   ]
  },
  {
   "cell_type": "markdown",
   "metadata": {},
   "source": [
    "Filen vær.txt inneholder vær-data for en uke.\n",
    "\n",
    "Lag en funksjon som leser en slik fil og returnerer en nestet fortegnelse"
   ]
  },
  {
   "cell_type": "code",
   "execution_count": null,
   "metadata": {},
   "outputs": [
    {
     "name": "stdout",
     "output_type": "stream",
     "text": [
      "Tor\n",
      "Fre\n",
      "Lør\n"
     ]
    }
   ],
   "source": [
    "def lesVær(filnavn):\n",
    "    f_vær = {}\n",
    "\n",
    "    with open(filnavn, 'r') as fil:\n",
    "        overskrift = fil.readline()\n",
    "\n",
    "        for linje in fil:\n",
    "            linje = linje.strip()\n",
    "            dag, temp, nedbør, vind = linje.split()\n",
    "            f_vær[dag] = {'Temp':temp,'Nedbør':nedbør,'Vind':vind}\n",
    "\n",
    "    return f_vær\n",
    "\n",
    "vær=lesVær('vær.txt')\n",
    "\n",
    "vær['Tir']['Temp']\n",
    "vær['Fre']['Vind']\n",
    "\n",
    "for dag, vær_data in vær.items():\n",
    "    if float(vær_data[\"Nedbør\"]) < 0.3:\n",
    "        print(dag)"
   ]
  },
  {
   "cell_type": "markdown",
   "metadata": {},
   "source": [
    "**9.2.10**"
   ]
  },
  {
   "cell_type": "markdown",
   "metadata": {},
   "source": [
    "Tenk deg nå en nestet fortegnelse der ulike sosiale nettverk er knyttet til sine respektive følge-\n",
    "fortegnelser\n",
    "\n",
    "Lag en funksjon følgere(nettverksfortegnelse, sosialt_nettverk,person)som returnerer listen\n",
    "med de som personen følger i det gitte sosiale nettverket. Ta høyde for at ikke alle personer deltar i\n",
    "alle sosiale nettverk. Ta høyde for at ikke alle personer deltar i alle sosiale nettverk."
   ]
  },
  {
   "cell_type": "code",
   "execution_count": null,
   "metadata": {},
   "outputs": [
    {
     "data": {
      "text/plain": [
       "['Anne', 'Ina', 'Berit']"
      ]
     },
     "execution_count": 68,
     "metadata": {},
     "output_type": "execute_result"
    }
   ],
   "source": [
    "nettverk=\\\n",
    "{'Facebook':{'Anne':['Berit','Karl','Dag'],'Berit':['Karl','Ina'],'Karl':['Anne'],\n",
    "'Dag':['Anne', 'Ina','Berit'], 'Ina':['Karl','Berit','Dag']},\n",
    "'Instagram':{'Anne':['Ina','Eva','Dag'], 'Berit':['Dag'], 'Gro':['Ina'],\n",
    "'Eva':['Anne','Dag'], 'Dag':['Anne', 'Ina','Berit'],\n",
    "'Ina':['Anne','Berit','Dag']},\n",
    "'Threads':{'Jon':['Berit','Karl','Dag'], 'Berit':['Karl','Ina'],\n",
    "'Åse':['Dag','Jon'],'Karl':['Anne'], 'Dag':['Jon', 'Ina','Berit'],\n",
    "'Ina':['Karl','Berit','Dag']} }\n",
    "\n",
    "def følgere(nettverksfortegnelse, sosialt_nettverk, person):\n",
    "    if person not in nettverksfortegnelse[sosialt_nettverk]: return f'ukjent person: {person}'\n",
    "    \n",
    "    return nettverksfortegnelse[sosialt_nettverk][person] if nettverksfortegnelse[sosialt_nettverk][person] else f\"{person} følger ingen\"\n",
    "\n",
    "følgere(nettverk,'Facebook','Dag')"
   ]
  },
  {
   "cell_type": "markdown",
   "metadata": {},
   "source": [
    "Lag en funksjon alle_fulgte(nettverksfortegnelse, person) som skriver ut navn på alle\n",
    "sosiale nettverk som personen er på, samt navn på alle hen følger på minst ett av nettverkene.\n",
    "Unngå duplikater."
   ]
  },
  {
   "cell_type": "code",
   "execution_count": null,
   "metadata": {},
   "outputs": [
    {
     "data": {
      "text/plain": [
       "'Jon er på disse nettverkene: Threads\\n og følger disse personene: Berit, Dag, Karl'"
      ]
     },
     "execution_count": 73,
     "metadata": {},
     "output_type": "execute_result"
    }
   ],
   "source": [
    "def alle_fulgte(nettverk, navn):\n",
    "    person_nettverk = []\n",
    "    person_følger = set()\n",
    "\n",
    "    for platform, brukere in nettverk.items():\n",
    "        if navn in brukere: \n",
    "            person_nettverk.append(platform)\n",
    "            for følger in brukere[navn]:\n",
    "                person_følger.add(følger)\n",
    "\n",
    "    if person_nettverk:\n",
    "        return f\"{navn} er på disse nettverkene: {\", \".join(person_nettverk)} og følger disse personene: {\", \".join(person_følger)}\"\n",
    "\n",
    "alle_fulgte(nettverk, 'Anne')\n",
    "alle_fulgte(nettverk, 'Jon')"
   ]
  },
  {
   "cell_type": "markdown",
   "metadata": {},
   "source": [
    "**9.2.12**"
   ]
  },
  {
   "cell_type": "markdown",
   "metadata": {},
   "source": [
    "Lag en funksjon som skriver ut en fortegnelse sortert med hensyn på nøkkelverdien."
   ]
  },
  {
   "cell_type": "code",
   "execution_count": null,
   "metadata": {},
   "outputs": [
    {
     "data": {
      "text/plain": [
       "[(0, 'zero'),\n",
       " (1, 'one'),\n",
       " (2, 'two'),\n",
       " (3, 'three'),\n",
       " (4, 'four'),\n",
       " (5, 'five'),\n",
       " (6, 'six'),\n",
       " (7, 'seven'),\n",
       " (8, 'eight'),\n",
       " (9, 'nine')]"
      ]
     },
     "execution_count": 76,
     "metadata": {},
     "output_type": "execute_result"
    }
   ],
   "source": [
    "def sorter(fortegnelse):\n",
    "    return sorted(fortegnelse.items())\n",
    "\n",
    "engelskeSiffer={3:'three', 4:'four', 5:'five',\n",
    "0:'zero',1:'one', 2:'two',\n",
    "6:'six', 7:'seven',8:'eight',9:'nine'}\n",
    "\n",
    "sorter(engelskeSiffer)"
   ]
  },
  {
   "cell_type": "code",
   "execution_count": null,
   "metadata": {},
   "outputs": [
    {
     "data": {
      "text/plain": [
       "[(9, ['three', 'ab']),\n",
       " (1, ['three', 'abc']),\n",
       " (3, ['three', 'abc']),\n",
       " (5, ['three', 'abc']),\n",
       " (4, ['three', 'bcd']),\n",
       " (0, ['three', 'ghb']),\n",
       " (7, ['three', 'hjk']),\n",
       " (8, ['three', 'oiu']),\n",
       " (2, ['acd', 'three']),\n",
       " (6, ['three', 'øæå'])]"
      ]
     },
     "execution_count": 83,
     "metadata": {},
     "output_type": "execute_result"
    }
   ],
   "source": [
    "def sorter(fortegnelse):\n",
    "    return sorted(fortegnelse.items(), key=lambda x: (x[1][1], x[0]))\n",
    "\n",
    "engelskeSiffer={3:[\"three\", \"abc\"], 4:[\"three\", \"bcd\"], 5:[\"three\", \"abc\"],\n",
    "0:[\"three\", \"ghb\"],1:[\"three\", \"abc\"], 2:['acd', 'three'],\n",
    "6:[\"three\", \"øæå\"], 7:[\"three\", \"hjk\"],8:[\"three\", \"oiu\"],9:[\"three\", \"ab\"]}\n",
    "\n",
    "sorter(engelskeSiffer)"
   ]
  },
  {
   "cell_type": "markdown",
   "metadata": {},
   "source": [
    "Lag en funksjon som gitt en en-til-en-fortegnelse, oppretter den inverse fortegnelsen der nøklene\n",
    "har blitt verdier, og omvendt."
   ]
  },
  {
   "cell_type": "code",
   "execution_count": null,
   "metadata": {},
   "outputs": [
    {
     "data": {
      "text/plain": [
       "{'three': 3,\n",
       " 'four': 4,\n",
       " 'five': 5,\n",
       " 'zero': 0,\n",
       " 'one': 1,\n",
       " 'two': 2,\n",
       " 'six': 6,\n",
       " 'seven': 7,\n",
       " 'eight': 8,\n",
       " 'nine': 9}"
      ]
     },
     "execution_count": 93,
     "metadata": {},
     "output_type": "execute_result"
    }
   ],
   "source": [
    "engelskeSiffer={3:'three', 4:'four', 5:'five',\n",
    "0:'zero',1:'one', 2:'two',\n",
    "6:'six', 7:'seven',8:'eight',9:'nine'}\n",
    "\n",
    "def invers(fortegnelse):\n",
    "    invers_fortegnelse = {}\n",
    "\n",
    "    for nøkkel, verdi in fortegnelse.items():\n",
    "        invers_fortegnelse[verdi] = nøkkel\n",
    "\n",
    "    return invers_fortegnelse\n",
    "\n",
    "invers(engelskeSiffer)"
   ]
  },
  {
   "cell_type": "markdown",
   "metadata": {},
   "source": [
    "Anta nå at du kun har den inverse fortegnelsen, og ikke originalen. Skriv ut den inverse\n",
    "fortegnelsen sortert med hensyn på verdien, dvs skriv ut zero 0 først osv."
   ]
  },
  {
   "cell_type": "code",
   "execution_count": null,
   "metadata": {},
   "outputs": [
    {
     "name": "stdout",
     "output_type": "stream",
     "text": [
      "zero 0\n",
      "one 1\n",
      "two 2\n",
      "three 3\n",
      "four 4\n",
      "five 5\n",
      "six 6\n",
      "seven 7\n",
      "eight 8\n",
      "nine 9\n"
     ]
    }
   ],
   "source": [
    "def skrivSortert(fortegnelse):\n",
    "    for nøkkel, verdi in sorted(fortegnelse.items(), key=lambda x:x[1]):\n",
    "        print(nøkkel, verdi)\n",
    "\n",
    "engelskeSiffer = {'three': 3,'four': 4,'five': 5,'zero': 0,'one': 1,'two': 2,'six': 6,'seven': 7,'eight': 8,'nine': 9}\n",
    "skrivSortert(engelskeSiffer)"
   ]
  },
  {
   "cell_type": "markdown",
   "metadata": {},
   "source": [
    "**10.1.3**"
   ]
  },
  {
   "cell_type": "markdown",
   "metadata": {},
   "source": [
    "En bedrift har registrert sine ansatte og hvilke kompetanser de har i følgende mengder"
   ]
  },
  {
   "cell_type": "code",
   "execution_count": null,
   "metadata": {},
   "outputs": [
    {
     "name": "stdout",
     "output_type": "stream",
     "text": [
      "4\n",
      "{'Tor', 'Per', 'Åse', 'Ine', 'Jan', 'Liv'}\n",
      "{'Gro', 'Jan'}\n",
      "{'Ida', 'Dag', 'Åse'}\n",
      "{'Tor', 'Per', 'Ole', 'Liv'}\n",
      "{'Dag', 'Jan', 'Åse', 'Ine'}\n",
      "False\n",
      "True\n"
     ]
    }
   ],
   "source": [
    "personer={'Liv','Jan','Ida','Gro','Per',\n",
    "'Dag','Ole','Ine','Tor','Åse'}\n",
    "programmering={'Per','Åse','Gro','Ida','Dag','Tor'}\n",
    "matematikk={'Gro','Dag'}\n",
    "databaser={'Liv','Per','Dag','Ine'}\n",
    "KI={'Åse','Dag','Ida','Gro','Jan'}\n",
    "logikk={'Jan', 'Gro', 'Ine'}\n",
    "UX={'Ine','Tor','Liv'}\n",
    "systemutvikling={'Åse','Liv','Per','Jan'}\n",
    "filosofi={'Ole'}\n",
    "\n",
    "\n",
    "#hvor mange som har kompetanse i systemutvikling\n",
    "print(len(systemutvikling))\n",
    "\n",
    "#hvem som har kompetanse i UX eller systemutvikling\n",
    "print(UX | systemutvikling)\n",
    "\n",
    "#hvem som har kompetanse i KI og logikk\n",
    "print(KI & logikk)\n",
    "\n",
    "#hvem som har kompetanse i KI, men ikke i logikk\n",
    "print(KI - logikk)\n",
    "\n",
    "#hvem som har kompetanse i verken KI eller logikk\n",
    "print(personer - KI - logikk)\n",
    "\n",
    "#hvem som har kompetanse i databaser eller systemutvikling, men ikke i begge\n",
    "print((databaser | systemutvikling) - (databaser & systemutvikling))\n",
    "\n",
    "#om alle som kan logikk også kan programmering (True eller False)\n",
    "print(logikk in programmering)\n",
    "\n",
    "#om noen kan både logikk og UX (True eller False)\n",
    "print(len(UX & logikk) > 0)"
   ]
  },
  {
   "cell_type": "markdown",
   "metadata": {},
   "source": [
    "Lag en funksjon som gitt et personnavn returnerer mengden av kompetanser som personen har og\n",
    "bruk funksjonen til å skrive ut kompetansene til hver person"
   ]
  },
  {
   "cell_type": "code",
   "execution_count": null,
   "metadata": {},
   "outputs": [
    {
     "name": "stdout",
     "output_type": "stream",
     "text": [
      "Tor: programmering, UX\n",
      "Per: programmering, databaser, systemutvikling\n",
      "Ida: programmering, KI\n",
      "Ine: databaser, logikk, UX\n",
      "Åse: programmering, KI, systemutvikling\n",
      "Gro: programmering, matematikk, KI, logikk\n",
      "Ole: filosofi\n",
      "Dag: programmering, matematikk, databaser, KI\n",
      "Jan: KI, logikk, systemutvikling\n",
      "Liv: databaser, UX, systemutvikling\n"
     ]
    }
   ],
   "source": [
    "personer={'Liv','Jan','Ida','Gro','Per',\n",
    "'Dag','Ole','Ine','Tor','Åse'}\n",
    "programmering={'Per','Åse','Gro','Ida','Dag','Tor'}\n",
    "matematikk={'Gro','Dag'}\n",
    "databaser={'Liv','Per','Dag','Ine'}\n",
    "KI={'Åse','Dag','Ida','Gro','Jan'}\n",
    "logikk={'Jan', 'Gro', 'Ine'}\n",
    "UX={'Ine','Tor','Liv'}\n",
    "systemutvikling={'Åse','Liv','Per','Jan'}\n",
    "filosofi={'Ole'}\n",
    "\n",
    "kompetanser = {'programmering':programmering,\n",
    "'matematikk':matematikk,\n",
    "'databaser':databaser,\n",
    "'KI':KI,\n",
    "'logikk':logikk,\n",
    "'UX':UX,\n",
    "'systemutvikling':systemutvikling,\n",
    "'filosofi':filosofi}\n",
    "\n",
    "for person in personer:\n",
    "    person_kompetanser = []\n",
    "    for tittel, kompetanse in kompetanser.items():\n",
    "        if person in kompetanse:\n",
    "            person_kompetanser.append(tittel)\n",
    "    print(f\"{person}: {\", \".join(person_kompetanser)}\")"
   ]
  },
  {
   "cell_type": "markdown",
   "metadata": {},
   "source": [
    "Lag en funksjon som gitt et team, i form av en mengde av personer, returnerer mengden av\n",
    "kompetanser som teamet mangler."
   ]
  },
  {
   "cell_type": "code",
   "execution_count": null,
   "metadata": {},
   "outputs": [
    {
     "data": {
      "text/plain": [
       "{'filosofi', 'matematikk', 'programmering'}"
      ]
     },
     "execution_count": 3,
     "metadata": {},
     "output_type": "execute_result"
    }
   ],
   "source": [
    "personer={'Liv','Jan','Ida','Gro','Per',\n",
    "'Dag','Ole','Ine','Tor','Åse'}\n",
    "programmering={'Per','Åse','Gro','Ida','Dag','Tor'}\n",
    "matematikk={'Gro','Dag'}\n",
    "databaser={'Liv','Per','Dag','Ine'}\n",
    "KI={'Åse','Dag','Ida','Gro','Jan'}\n",
    "logikk={'Jan', 'Gro', 'Ine'}\n",
    "UX={'Ine','Tor','Liv'}\n",
    "systemutvikling={'Åse','Liv','Per','Jan'}\n",
    "filosofi={'Ole'}\n",
    "\n",
    "kompetanser = {'programmering':programmering,\n",
    "'matematikk':matematikk,\n",
    "'databaser':databaser,\n",
    "'KI':KI,\n",
    "'logikk':logikk,\n",
    "'UX':UX,\n",
    "'systemutvikling':systemutvikling,\n",
    "'filosofi':filosofi}\n",
    "\n",
    "def manglerKompetanse(team):\n",
    "    manglende_kompetanse = set()\n",
    "    \n",
    "    for tittel, kompetanse in kompetanser.items():\n",
    "        if len(team & kompetanse) == 0:\n",
    "            manglende_kompetanse.add(tittel)\n",
    "    \n",
    "    return manglende_kompetanse\n",
    "\n",
    "manglerKompetanse({'Liv','Jan'})"
   ]
  },
  {
   "cell_type": "markdown",
   "metadata": {},
   "source": [
    "**10.1.5**"
   ]
  },
  {
   "cell_type": "markdown",
   "metadata": {},
   "source": [
    "Lag en funksjon som kan koble to mengder med tupler. Det vil si at du har to mengder A og B der\n",
    "andre-komponentene A er av samme type som første-komponentene i B."
   ]
  },
  {
   "cell_type": "code",
   "execution_count": null,
   "metadata": {},
   "outputs": [
    {
     "data": {
      "text/plain": [
       "{('ons', 'søn')}"
      ]
     },
     "execution_count": 5,
     "metadata": {},
     "output_type": "execute_result"
    }
   ],
   "source": [
    "dager={(1,'man'),(2,'tir'),(3,'ons'),(4,'tor'),\n",
    "(5,'fre'),(6,'lør'),(7,'søn')}\n",
    "\n",
    "temperaturer={('man',11),('tir',9),('ons',7),('tor',12),\n",
    "('fre',11),('lør',9),('søn',8)}\n",
    "\n",
    "def koble(m1, m2):\n",
    "    m3 = set()\n",
    "    for (x1, z1) in m1:\n",
    "        for (z2, x2) in m2:\n",
    "            if z1 == z2:\n",
    "                m3.add((x1, x2))\n",
    "    return m3\n",
    "\n",
    "koble(dager,temperaturer)\n",
    "koble(temperaturer,dager)"
   ]
  },
  {
   "cell_type": "code",
   "execution_count": null,
   "metadata": {},
   "outputs": [
    {
     "name": "stdout",
     "output_type": "stream",
     "text": [
      "[4, 2, 3, 1]\n"
     ]
    }
   ],
   "source": [
    "l = [1,2,3,4]\n",
    "\n",
    "siste = l.pop()\n",
    "første = l.pop(0)\n",
    "\n",
    "l.insert(0, siste)\n",
    "l.insert(len(l), første)\n",
    "\n",
    "print(l)"
   ]
  },
  {
   "cell_type": "code",
   "execution_count": null,
   "metadata": {},
   "outputs": [],
   "source": [
    "liste = [1, 2, 3, 4, 5]\n",
    "\n",
    "if len(liste) >= 2:\n",
    "    liste[0], liste[-1] = liste[-1], liste[0]\n",
    "print(liste)"
   ]
  },
  {
   "cell_type": "markdown",
   "metadata": {},
   "source": [
    "**10.2.4**"
   ]
  },
  {
   "cell_type": "markdown",
   "metadata": {},
   "source": [
    "Lag en funksjon som gitt en liste returnerer listen av alle par som kan dannes fra elementene i\n",
    "listen."
   ]
  },
  {
   "cell_type": "code",
   "execution_count": null,
   "metadata": {},
   "outputs": [
    {
     "data": {
      "text/plain": [
       "[(1, 1),\n",
       " (1, 2),\n",
       " (1, 3),\n",
       " (1, 4),\n",
       " (2, 1),\n",
       " (2, 2),\n",
       " (2, 3),\n",
       " (2, 4),\n",
       " (3, 1),\n",
       " (3, 2),\n",
       " (3, 3),\n",
       " (3, 4),\n",
       " (4, 1),\n",
       " (4, 2),\n",
       " (4, 3),\n",
       " (4, 4)]"
      ]
     },
     "execution_count": 14,
     "metadata": {},
     "output_type": "execute_result"
    }
   ],
   "source": [
    "def alleKombinasjoner(liste):\n",
    "    kombinasjoner = []\n",
    "    for i in liste:\n",
    "        for j in liste:\n",
    "            kombinasjoner.append((i, j))\n",
    "\n",
    "    return kombinasjoner\n",
    "\n",
    "alleKombinasjoner([1,2,3,4])"
   ]
  },
  {
   "cell_type": "markdown",
   "metadata": {},
   "source": [
    "**10.2.5**"
   ]
  },
  {
   "cell_type": "markdown",
   "metadata": {},
   "source": [
    "Gjensyn med kobling av data (jfr. oppgave 7 i lab-oppgavene om fortegnelser)\n",
    "\n",
    "Du har to lister av par, kalt A og B. Disse kan kobles til en ny liste av par C.\n",
    "Spesifikt: hvis (x,y) er i A og (y,z) er i B så skal (x,z) være i C."
   ]
  },
  {
   "cell_type": "code",
   "execution_count": null,
   "metadata": {},
   "outputs": [
    {
     "data": {
      "text/plain": [
       "[('ons', 'søn')]"
      ]
     },
     "execution_count": 16,
     "metadata": {},
     "output_type": "execute_result"
    }
   ],
   "source": [
    "dager=[(1,'man'),(2,'tir'),(3,'ons'),(4,'tor'),(5,'fre'),\n",
    "(6,'lør'),(7,'søn')]\n",
    "temperaturer=[('man',11),('tir',9),('ons',7),('tor',12),\n",
    "('fre',11),('lør',9),('søn',8)]\n",
    "\n",
    "def koble(l1, l2):\n",
    "    l3 = []\n",
    "    for x,y1 in l1:\n",
    "        for y2,z in l2:\n",
    "            if y1 == y2:\n",
    "                l3.append((x,z))\n",
    "    return l3\n",
    "\n",
    "\n",
    "koble(dager, temperaturer)\n",
    "koble(temperaturer, dager)"
   ]
  },
  {
   "cell_type": "markdown",
   "metadata": {},
   "source": [
    "**10.2.6**"
   ]
  },
  {
   "cell_type": "markdown",
   "metadata": {},
   "source": [
    "Ta utgangspunkt i filer med temperaturdata.\n",
    "\n",
    "Lag en funksjon som kan lese inn temperaturdata fra en fil og lagre dem som tripler (3-tupler)\n",
    "i en global liste tempData."
   ]
  },
  {
   "cell_type": "code",
   "execution_count": null,
   "metadata": {},
   "outputs": [
    {
     "data": {
      "text/plain": [
       "[('Bergen', 'man', '7.0'),\n",
       " ('Bergen', 'ons', '10.0'),\n",
       " ('Bergen', 'tir', '9.0'),\n",
       " ('Bodø', 'man', '2.0'),\n",
       " ('Bodø', 'ons', '5.0'),\n",
       " ('Bodø', 'tir', '5.0'),\n",
       " ('Kristiansand', 'man', '16.0'),\n",
       " ('Kristiansand', 'ons', '13.0'),\n",
       " ('Kristiansand', 'tir', '15.0'),\n",
       " ('Oslo', 'man', '8.0'),\n",
       " ('Oslo', 'ons', '8.0'),\n",
       " ('Oslo', 'tir', '5.0'),\n",
       " ('Stavanger', 'man', '9.0'),\n",
       " ('Stavanger', 'ons', '7.0'),\n",
       " ('Stavanger', 'tir', '11.0'),\n",
       " ('Tromsø', 'man', '3.0'),\n",
       " ('Tromsø', 'ons', '2.0'),\n",
       " ('Tromsø', 'tir', '5.0'),\n",
       " ('Trondheim', 'man', '8.0'),\n",
       " ('Trondheim', 'ons', '8.0'),\n",
       " ('Trondheim', 'tir', '9.0')]"
      ]
     },
     "execution_count": 20,
     "metadata": {},
     "output_type": "execute_result"
    }
   ],
   "source": [
    "def lesFil(filnavn):\n",
    "    global tempData\n",
    "    tempData = []\n",
    "\n",
    "    with open(filnavn, 'r') as fil:\n",
    "        for linje in fil:\n",
    "            linje = linje.strip()\n",
    "            sted, dag, temp = linje.split()\n",
    "            tempData.append((sted, dag, temp))\n",
    "\n",
    "lesFil('tempFil.txt')\n",
    "tempData"
   ]
  },
  {
   "cell_type": "markdown",
   "metadata": {},
   "source": [
    "Lag en funksjon som lar en bruker taste inn temperaturdata"
   ]
  },
  {
   "cell_type": "code",
   "execution_count": null,
   "metadata": {},
   "outputs": [
    {
     "name": "stdout",
     "output_type": "stream",
     "text": [
      "Ugyldig input, prøv på nytt\n"
     ]
    },
    {
     "data": {
      "text/plain": [
       "[('Bergen', 'man', '7.0'),\n",
       " ('Bergen', 'ons', '10.0'),\n",
       " ('Bergen', 'tir', '9.0'),\n",
       " ('Bodø', 'man', '2.0'),\n",
       " ('Bodø', 'ons', '5.0'),\n",
       " ('Bodø', 'tir', '5.0'),\n",
       " ('Kristiansand', 'man', '16.0'),\n",
       " ('Kristiansand', 'ons', '13.0'),\n",
       " ('Kristiansand', 'tir', '15.0'),\n",
       " ('Oslo', 'man', '8.0'),\n",
       " ('Oslo', 'ons', '8.0'),\n",
       " ('Oslo', 'tir', '5.0'),\n",
       " ('Stavanger', 'man', '9.0'),\n",
       " ('Stavanger', 'ons', '7.0'),\n",
       " ('Stavanger', 'tir', '11.0'),\n",
       " ('Tromsø', 'man', '3.0'),\n",
       " ('Tromsø', 'ons', '2.0'),\n",
       " ('Tromsø', 'tir', '5.0'),\n",
       " ('Trondheim', 'man', '8.0'),\n",
       " ('Trondheim', 'ons', '8.0'),\n",
       " ('Trondheim', 'tir', '9.0'),\n",
       " ('1', '1', 1.0)]"
      ]
     },
     "execution_count": 25,
     "metadata": {},
     "output_type": "execute_result"
    }
   ],
   "source": [
    "def lesFil(filnavn):\n",
    "    global tempData\n",
    "    tempData = []\n",
    "\n",
    "    with open(filnavn, 'r') as fil:\n",
    "        for linje in fil:\n",
    "            linje = linje.strip()\n",
    "            sted, dag, temp = linje.split()\n",
    "            tempData.append((sted, dag, temp))\n",
    "\n",
    "def settTemperatur():\n",
    "    global tempData\n",
    "\n",
    "    while True:\n",
    "        try:\n",
    "            sted = input(\"Sted: \")\n",
    "            dag = input(\"Dag: \")\n",
    "            temp = float(input(\"Temperatur: \"))\n",
    "            tempData.append((sted, dag, temp))\n",
    "            break\n",
    "\n",
    "        except ValueError:\n",
    "            print(\"Ugyldig input, prøv på nytt\")\n",
    "\n",
    "lesFil('tempFil.txt')\n",
    "tempData\n",
    "settTemperatur()\n",
    "tempData\n"
   ]
  },
  {
   "cell_type": "markdown",
   "metadata": {},
   "source": [
    "lag en funksjon som skriver ut snitt-temperaturen for hvert sted"
   ]
  },
  {
   "cell_type": "code",
   "execution_count": null,
   "metadata": {},
   "outputs": [
    {
     "name": "stdout",
     "output_type": "stream",
     "text": [
      "Bergen 8.67\n",
      "Stavanger 9.00\n",
      "Kristiansand 14.67\n",
      "Bodø 4.00\n",
      "Tromsø 3.33\n",
      "Trondheim 8.33\n",
      "Oslo 7.00\n"
     ]
    }
   ],
   "source": [
    "def lesFil(filnavn):\n",
    "    global tempData\n",
    "    tempData = []\n",
    "\n",
    "    with open(filnavn, 'r') as fil:\n",
    "        for linje in fil:\n",
    "            linje = linje.strip()\n",
    "            sted, dag, temp = linje.split()\n",
    "            tempData.append((sted, dag, temp))\n",
    "\n",
    "\n",
    "def snittSteder():\n",
    "    steder = set([x for (x,y,z) in tempData])\n",
    "    for sted_1 in steder:\n",
    "        temp_liste = []\n",
    "        for (sted, dag, temp) in tempData:\n",
    "            if sted_1 == sted: temp_liste.append(float(temp))\n",
    "        snitt_temperatur = sum(temp_liste)/len(temp_liste)\n",
    "        print(f\"{sted_1} {snitt_temperatur:.2f}\")\n",
    "\n",
    "lesFil('tempFil.txt')\n",
    "tempData\n",
    "snittSteder()"
   ]
  },
  {
   "cell_type": "code",
   "execution_count": null,
   "metadata": {},
   "outputs": [
    {
     "data": {
      "text/plain": [
       "{('Bergen', 'man'): '7.0',\n",
       " ('Bergen', 'ons'): '10.0',\n",
       " ('Bergen', 'tir'): '9.0',\n",
       " ('Bodø', 'man'): '2.0',\n",
       " ('Bodø', 'ons'): '5.0',\n",
       " ('Bodø', 'tir'): '5.0',\n",
       " ('Kristiansand', 'man'): '16.0',\n",
       " ('Kristiansand', 'ons'): '13.0',\n",
       " ('Kristiansand', 'tir'): '15.0',\n",
       " ('Oslo', 'man'): '8.0',\n",
       " ('Oslo', 'ons'): '8.0',\n",
       " ('Oslo', 'tir'): '5.0',\n",
       " ('Stavanger', 'man'): '9.0',\n",
       " ('Stavanger', 'ons'): '7.0',\n",
       " ('Stavanger', 'tir'): '11.0',\n",
       " ('Tromsø', 'man'): '3.0',\n",
       " ('Tromsø', 'ons'): '2.0',\n",
       " ('Tromsø', 'tir'): '5.0',\n",
       " ('Trondheim', 'man'): '8.0',\n",
       " ('Trondheim', 'ons'): '8.0',\n",
       " ('Trondheim', 'tir'): '9.0'}"
      ]
     },
     "execution_count": 36,
     "metadata": {},
     "output_type": "execute_result"
    }
   ],
   "source": [
    "def lesFil(filnavn):\n",
    "    global tempData\n",
    "    tempData = {}\n",
    "\n",
    "    with open(filnavn, 'r') as fil:\n",
    "        for linje in fil:\n",
    "            linje = linje.strip()\n",
    "            sted, dag, temp = linje.split()\n",
    "            tempData[(sted, dag)] = temp\n",
    "\n",
    "lesFil('tempFil.txt')\n",
    "tempData"
   ]
  },
  {
   "cell_type": "markdown",
   "metadata": {},
   "source": [
    "**10.2.7**"
   ]
  },
  {
   "cell_type": "markdown",
   "metadata": {},
   "source": [
    "En ekvipasje består av en hest og en rytter. Tenk deg startlister for ridekonkurranse der de to\n",
    "første elementene utgjør den første ekvipasjen, de to neste er den 2. ekvipasjen og så videre, dvs\n",
    "lister på formen\n",
    "[ rytter1, hest1, rytter2, hest2, ..., rytterN,hestN ]\n",
    "Lag funksjonen deltakere(startliste) som returnerer et par med listene som består av hhv\n",
    "hesten og rytterne i startlisten,."
   ]
  },
  {
   "cell_type": "code",
   "execution_count": 60,
   "metadata": {},
   "outputs": [
    {
     "name": "stdout",
     "output_type": "stream",
     "text": [
      "Ryttere: ['Kari', 'Liv', 'Eli', 'Gro']\n",
      "Hester: ['Blakken', 'Dølaprinsen', 'Sofus', 'Blåne']\n"
     ]
    }
   ],
   "source": [
    "startliste = ['Kari', 'Blakken', 'Liv', 'Dølaprinsen', 'Eli', 'Sofus', 'Gro',\n",
    "'Blåne']\n",
    "\n",
    "def deltakere(startliste):\n",
    "    ryttere = startliste[::2] \n",
    "    hester = startliste[1::2]\n",
    "    return (ryttere, hester)\n",
    "\n",
    "resultat = deltakere(startliste)\n",
    "print(\"Ryttere:\", resultat[0])\n",
    "print(\"Hester:\", resultat[1])\n"
   ]
  },
  {
   "cell_type": "code",
   "execution_count": 62,
   "metadata": {},
   "outputs": [
    {
     "data": {
      "text/plain": [
       "['Blakken', 'Dølaprinsen', 'Sofus', 'Blåne']"
      ]
     },
     "execution_count": 62,
     "metadata": {},
     "output_type": "execute_result"
    }
   ],
   "source": [
    "startliste = ['Kari', 'Blakken', 'Liv', 'Dølaprinsen', 'Eli', 'Sofus', 'Gro', 'Blåne']\n",
    "\n",
    "def deltakere(liste):\n",
    "    ryttere = liste[::2]\n",
    "    hester = liste[1::2]\n",
    "\n",
    "    return (hester, ryttere)\n",
    "\n",
    "(hester,ryttere)=deltakere(startliste)\n",
    "hester"
   ]
  },
  {
   "cell_type": "markdown",
   "metadata": {},
   "source": [
    "**10.2.9**"
   ]
  },
  {
   "cell_type": "markdown",
   "metadata": {},
   "source": [
    "Skriv en funksjon sorter_produkter(produkter) som tar inn en liste med produkter i form av\n",
    "par, der hvert parinneholder produktnavn og pris."
   ]
  },
  {
   "cell_type": "markdown",
   "metadata": {},
   "source": [
    "Funksjonen skal sortere produktene basert på pris, fra lavest til høyest, og returnere den sorterte\n",
    "listen. Hvis to varer har samme pris, skal de sorteres etter navn."
   ]
  },
  {
   "cell_type": "code",
   "execution_count": 63,
   "metadata": {},
   "outputs": [
    {
     "data": {
      "text/plain": [
       "[('Druer', 8), ('Eple', 8), ('Banan', 10), ('Pære', 10), ('Appelsin', 15)]"
      ]
     },
     "execution_count": 63,
     "metadata": {},
     "output_type": "execute_result"
    }
   ],
   "source": [
    "produkter=[('Banan', 10), ('Eple', 8), ('Appelsin', 15), ('Druer',8), ('Pære',10)]\n",
    "\n",
    "def sorter_produkter(liste):\n",
    "    return sorted(liste, key=lambda x: (x[1], x[0]))\n",
    "\n",
    "sorter_produkter(produkter)"
   ]
  },
  {
   "cell_type": "markdown",
   "metadata": {},
   "source": [
    "**10.2.11**"
   ]
  },
  {
   "cell_type": "markdown",
   "metadata": {},
   "source": [
    "Lag en funksjon som tar inn to tupler og returnerer et nytt tuppel som fletter de to tuplene. Det vil si\n",
    "at resultat-tuppelet skal ha verdier som er hentet vekselsvis fra de to argument-tuplene. Dersom det\n",
    "ene tuppelet er lengre enn det andre, legges de resterende elementene til slutten."
   ]
  },
  {
   "cell_type": "code",
   "execution_count": 68,
   "metadata": {},
   "outputs": [
    {
     "data": {
      "text/plain": [
       "(1, 'a', 2, 'b', 3, 'c', 'd', 'e')"
      ]
     },
     "execution_count": 68,
     "metadata": {},
     "output_type": "execute_result"
    }
   ],
   "source": [
    "def flett(t1, t2):\n",
    "    min_len = min(len(t1), len(t2))\n",
    "    liste = []\n",
    "\n",
    "    for i in range(min_len):\n",
    "        liste.append(t1[i])\n",
    "        liste.append(t2[i])\n",
    "\n",
    "    flettet = tuple(liste)\n",
    "    return flettet + t1[min_len:] + t2[min_len:]\n",
    "\n",
    "flett((1, 2, 3), ('a', 'b', 'c', 'd', 'e'))"
   ]
  },
  {
   "cell_type": "markdown",
   "metadata": {},
   "source": [
    "**11.1**"
   ]
  },
  {
   "cell_type": "markdown",
   "metadata": {},
   "source": [
    "Lag en applikasjon (et brukerorientert program) med et grafisk brukergrensesnitt (GUI).\n",
    "Brukergrensesnittet skal ha en knapp merket 'Farvel' ."
   ]
  },
  {
   "cell_type": "code",
   "execution_count": 1,
   "metadata": {},
   "outputs": [
    {
     "name": "stderr",
     "output_type": "stream",
     "text": [
      "2024-11-28 14:37:25.481 Python[35681:10185241] +[IMKClient subclass]: chose IMKClient_Modern\n",
      "2024-11-28 14:37:25.481 Python[35681:10185241] +[IMKInputSession subclass]: chose IMKInputSession_Modern\n"
     ]
    },
    {
     "ename": "",
     "evalue": "",
     "output_type": "error",
     "traceback": [
      "\u001b[1;31mThe Kernel crashed while executing code in the current cell or a previous cell. \n",
      "\u001b[1;31mPlease review the code in the cell(s) to identify a possible cause of the failure. \n",
      "\u001b[1;31mClick <a href='https://aka.ms/vscodeJupyterKernelCrash'>here</a> for more info. \n",
      "\u001b[1;31mView Jupyter <a href='command:jupyter.viewOutput'>log</a> for further details."
     ]
    }
   ],
   "source": [
    "from tkinter import *\n",
    "\n",
    "\n",
    "vindu = Tk()\n",
    "knapp = Button(vindu, text=\"Farvel\", command=vindu.destroy)\n",
    "knapp.grid(row=0, column=0)\n",
    "\n",
    "vindu.mainloop()"
   ]
  },
  {
   "cell_type": "markdown",
   "metadata": {},
   "source": [
    "**10.2**"
   ]
  },
  {
   "cell_type": "markdown",
   "metadata": {},
   "source": [
    "Lag en applikasjon med et grafisk brukergrensesnitt (GUI) som har én enkelt knapp. Til å begynne\n",
    "med er knappen merket 0, men hver gang knappen trykkes skal verdien økes med 1."
   ]
  },
  {
   "cell_type": "code",
   "execution_count": 4,
   "metadata": {},
   "outputs": [],
   "source": [
    "from tkinter import *\n",
    "\n",
    "vindu = Tk()\n",
    "\n",
    "n = IntVar()\n",
    "n.set(0)\n",
    "\n",
    "def øk():\n",
    "    n.set(n.get()+1)\n",
    "    knapp.config(text=str(n.get()))\n",
    "\n",
    "knapp = Button(vindu, text=str(n.get()), command=øk, width=15)\n",
    "knapp.grid(column=0, row=0)\n",
    "\n",
    "vindu.mainloop()"
   ]
  },
  {
   "cell_type": "markdown",
   "metadata": {},
   "source": [
    "**10.3**"
   ]
  },
  {
   "cell_type": "markdown",
   "metadata": {},
   "source": [
    "Lag et GUI-program som har et tekstfelt og en knapp. Når brukeren skriver inn tekst i tekstfeltet og\n",
    "trykker på knappen, skal programmet vise teksten i et etikettfelt (Label)."
   ]
  },
  {
   "cell_type": "code",
   "execution_count": 1,
   "metadata": {},
   "outputs": [
    {
     "name": "stderr",
     "output_type": "stream",
     "text": [
      "2024-11-28 14:57:04.569 Python[35936:10202781] +[IMKClient subclass]: chose IMKClient_Modern\n",
      "2024-11-28 14:57:04.569 Python[35936:10202781] +[IMKInputSession subclass]: chose IMKInputSession_Modern\n"
     ]
    }
   ],
   "source": [
    "from tkinter import *\n",
    "\n",
    "vindu = Tk()\n",
    "\n",
    "def vis_tekst():\n",
    "    resultat.config(text=inntastingsfelt.get())\n",
    "\n",
    "inntastingsfelt = Entry(vindu, width=15)\n",
    "vis_tekst_knapp = Button(vindu, text=\"Vis tekst\", command=vis_tekst)\n",
    "resultat = Label(vindu, text=\"\")\n",
    "\n",
    "inntastingsfelt.grid(column=0, row=0)\n",
    "vis_tekst_knapp.grid(column=0, row=1)\n",
    "resultat.grid(column=0, row=2)\n",
    "\n",
    "vindu.mainloop()"
   ]
  },
  {
   "cell_type": "markdown",
   "metadata": {},
   "source": [
    "**10.4**"
   ]
  },
  {
   "cell_type": "markdown",
   "metadata": {},
   "source": [
    "Lag et GUI-program som teller antall avgitte stemmer en avstemning. Programmet skal ha en knapp for hvert alternativ, og en 'Resultat'\n",
    "-etikett som viser hvor mange stemmer hvert alternativ\n",
    "har. Programmet skal lagre antall stemmer for hvert alternativ i en liste."
   ]
  },
  {
   "cell_type": "code",
   "execution_count": 3,
   "metadata": {},
   "outputs": [
    {
     "ename": "",
     "evalue": "",
     "output_type": "error",
     "traceback": [
      "\u001b[1;31mThe Kernel crashed while executing code in the current cell or a previous cell. \n",
      "\u001b[1;31mPlease review the code in the cell(s) to identify a possible cause of the failure. \n",
      "\u001b[1;31mClick <a href='https://aka.ms/vscodeJupyterKernelCrash'>here</a> for more info. \n",
      "\u001b[1;31mView Jupyter <a href='command:jupyter.viewOutput'>log</a> for further details."
     ]
    }
   ],
   "source": [
    "from tkinter import *\n",
    "\n",
    "stemmer = [0,0,0]\n",
    "\n",
    "def stemme(alt):\n",
    "    stemmer[alt] += 1\n",
    "    resultat.config(text=f\"Resultat: 1:{stemmer[0]}, 2:{stemmer[1]}, 3:{stemmer[2]}\")\n",
    "    \n",
    "vindu = Tk()\n",
    "\n",
    "for i in range(3):\n",
    "    Button(vindu, text=f\"Alternativ {i+1}\", command=lambda i=i:stemme(i)).grid(column=0, row=i)\n",
    "\n",
    "resultat = Label(vindu, text=\"Resultat: 1:0, 2:0, 3:0\")\n",
    "resultat.grid(column=0, row=3)\n",
    "\n",
    "vindu.mainloop()"
   ]
  },
  {
   "cell_type": "code",
   "execution_count": 10,
   "metadata": {},
   "outputs": [
    {
     "name": "stdout",
     "output_type": "stream",
     "text": [
      "Ault'Kelly\n",
      "<class 'int'>\n"
     ]
    }
   ],
   "source": [
    "str1 = 'Ault\\'Kelly'\n",
    "print(str1)\n",
    "\n",
    "print(type(0xFF))"
   ]
  },
  {
   "cell_type": "code",
   "execution_count": 17,
   "metadata": {},
   "outputs": [
    {
     "data": {
      "text/plain": [
       "int"
      ]
     },
     "execution_count": 17,
     "metadata": {},
     "output_type": "execute_result"
    }
   ],
   "source": [
    "type(0x10)"
   ]
  },
  {
   "cell_type": "code",
   "execution_count": 18,
   "metadata": {},
   "outputs": [
    {
     "ename": "UnboundLocalError",
     "evalue": "cannot access local variable 'x' where it is not associated with a value",
     "output_type": "error",
     "traceback": [
      "\u001b[0;31m---------------------------------------------------------------------------\u001b[0m",
      "\u001b[0;31mUnboundLocalError\u001b[0m                         Traceback (most recent call last)",
      "Cell \u001b[0;32mIn[18], line 6\u001b[0m\n\u001b[1;32m      3\u001b[0m     x \u001b[38;5;241m=\u001b[39m x \u001b[38;5;241m+\u001b[39m \u001b[38;5;241m1\u001b[39m\n\u001b[1;32m      4\u001b[0m     \u001b[38;5;28mprint\u001b[39m(x)\n\u001b[0;32m----> 6\u001b[0m \u001b[43mmyfunc\u001b[49m\u001b[43m(\u001b[49m\u001b[43m)\u001b[49m\n\u001b[1;32m      7\u001b[0m \u001b[38;5;28mprint\u001b[39m(x)\n",
      "Cell \u001b[0;32mIn[18], line 3\u001b[0m, in \u001b[0;36mmyfunc\u001b[0;34m()\u001b[0m\n\u001b[1;32m      2\u001b[0m \u001b[38;5;28;01mdef\u001b[39;00m \u001b[38;5;21mmyfunc\u001b[39m():\n\u001b[0;32m----> 3\u001b[0m     x \u001b[38;5;241m=\u001b[39m \u001b[43mx\u001b[49m \u001b[38;5;241m+\u001b[39m \u001b[38;5;241m1\u001b[39m\n\u001b[1;32m      4\u001b[0m     \u001b[38;5;28mprint\u001b[39m(x)\n",
      "\u001b[0;31mUnboundLocalError\u001b[0m: cannot access local variable 'x' where it is not associated with a value"
     ]
    }
   ],
   "source": [
    "x = 75\n",
    "def myfunc():\n",
    "    x = x + 1\n",
    "    print(x)\n",
    "\n",
    "myfunc()\n",
    "print(x)"
   ]
  },
  {
   "cell_type": "code",
   "execution_count": 43,
   "metadata": {},
   "outputs": [
    {
     "name": "stdout",
     "output_type": "stream",
     "text": [
      "bok 1 1903\n",
      "bok 2000\n",
      "bok 3 2102\n",
      "bok 3 1234\n"
     ]
    }
   ],
   "source": [
    "with open('test.txt', 'r') as fil:\n",
    "    for linje in fil:\n",
    "        linje = linje.strip()\n",
    "        *a, b = linje.split()\n",
    "        print(' '.join(a),b)"
   ]
  },
  {
   "cell_type": "code",
   "execution_count": 48,
   "metadata": {},
   "outputs": [
    {
     "data": {
      "text/plain": [
       "'Welcome to the beautiful world of python'"
      ]
     },
     "execution_count": 48,
     "metadata": {},
     "output_type": "execute_result"
    }
   ],
   "source": [
    "\"welcome to the beautiful world of python\".capitalize()"
   ]
  },
  {
   "cell_type": "code",
   "execution_count": 51,
   "metadata": {},
   "outputs": [
    {
     "name": "stdout",
     "output_type": "stream",
     "text": [
      "[]\n"
     ]
    }
   ],
   "source": [
    "sampleList = [10, 20, 30, 40]\n",
    "del sampleList[0:6]\n",
    "print(sampleList)"
   ]
  },
  {
   "cell_type": "code",
   "execution_count": 56,
   "metadata": {},
   "outputs": [
    {
     "name": "stdout",
     "output_type": "stream",
     "text": [
      "[1, 2, 2]\n"
     ]
    }
   ],
   "source": [
    "l1 = [1, 2, 2]\n",
    "l2 = [1, 2]\n",
    "print(max(l1,l2))"
   ]
  },
  {
   "cell_type": "code",
   "execution_count": 58,
   "metadata": {},
   "outputs": [
    {
     "data": {
      "text/plain": [
       "[None, None, None]"
      ]
     },
     "execution_count": 58,
     "metadata": {},
     "output_type": "execute_result"
    }
   ],
   "source": [
    "[None] * 3"
   ]
  },
  {
   "cell_type": "code",
   "execution_count": 64,
   "metadata": {},
   "outputs": [
    {
     "name": "stdout",
     "output_type": "stream",
     "text": [
      "{'Ten': 10, 'Twenty': 20, 'Thirty': 30}\n"
     ]
    }
   ],
   "source": [
    "keys = ['Ten', 'Twenty', 'Thirty']\n",
    "values = [10, 20, 30]\n",
    "\n",
    "fortegnelse = {}\n",
    "for (x,y) in zip(keys, values):\n",
    "    fortegnelse[x] = y\n",
    "\n",
    "print(fortegnelse)"
   ]
  },
  {
   "cell_type": "code",
   "execution_count": 1,
   "metadata": {},
   "outputs": [
    {
     "name": "stdout",
     "output_type": "stream",
     "text": [
      "{'Ten': 10, 'Twenty': 20, 'Thirty': 30, 'Fourty': 40, 'Fifty': 50}\n"
     ]
    }
   ],
   "source": [
    "dict1 = {'Ten': 10, 'Twenty': 20, 'Thirty': 30}\n",
    "dict2 = {'Thirty': 30, 'Fourty': 40, 'Fifty': 50}\n",
    "\n",
    "dict1 = {**dict1, **dict2}\n",
    "\n",
    "print(dict1)"
   ]
  },
  {
   "cell_type": "code",
   "execution_count": 2,
   "metadata": {},
   "outputs": [
    {
     "name": "stdout",
     "output_type": "stream",
     "text": [
      "{'Ten': 10, 'Twenty': 20, 'Thirty': 30, 'Fourty': 40, 'Fifty': 50}\n"
     ]
    }
   ],
   "source": [
    "dict1 = {'Ten': 10, 'Twenty': 20, 'Thirty': 30}\n",
    "dict2 = {'Thirty': 30, 'Fourty': 40, 'Fifty': 50}\n",
    "\n",
    "dict1.update(dict2)\n",
    "\n",
    "print(dict1)"
   ]
  },
  {
   "cell_type": "code",
   "execution_count": 7,
   "metadata": {},
   "outputs": [
    {
     "name": "stdout",
     "output_type": "stream",
     "text": [
      "1 \n",
      "2 2 \n",
      "3 3 3 \n",
      "4 4 4 4 \n",
      "5 5 5 5 5 \n"
     ]
    }
   ],
   "source": [
    "for i in range(5):\n",
    "    print((str(i+1) + \" \") * (i+1))"
   ]
  },
  {
   "cell_type": "code",
   "execution_count": 15,
   "metadata": {},
   "outputs": [
    {
     "data": {
      "text/plain": [
       "'  123'"
      ]
     },
     "execution_count": 15,
     "metadata": {},
     "output_type": "execute_result"
    }
   ],
   "source": [
    "'%5d'%123\n",
    "#5 er plasser totalt"
   ]
  },
  {
   "cell_type": "code",
   "execution_count": 16,
   "metadata": {},
   "outputs": [
    {
     "data": {
      "text/plain": [
       "'123.00'"
      ]
     },
     "execution_count": 16,
     "metadata": {},
     "output_type": "execute_result"
    }
   ],
   "source": [
    "'%.2f'%123 \n",
    "#2 er desimaler"
   ]
  },
  {
   "cell_type": "code",
   "execution_count": 17,
   "metadata": {},
   "outputs": [
    {
     "data": {
      "text/plain": [
       "' 123.00'"
      ]
     },
     "execution_count": 17,
     "metadata": {},
     "output_type": "execute_result"
    }
   ],
   "source": [
    "'%7.2f'%123 \n",
    "#7 er antall plasser totalt\n",
    "#2 er desimaler"
   ]
  },
  {
   "cell_type": "code",
   "execution_count": 18,
   "metadata": {},
   "outputs": [
    {
     "name": "stdout",
     "output_type": "stream",
     "text": [
      "2\n",
      "4\n",
      "6\n",
      "8\n",
      "10\n",
      "12\n",
      "14\n",
      "16\n",
      "18\n",
      "20\n"
     ]
    }
   ],
   "source": [
    "num = 2\n",
    "\n",
    "for x in [num*x for x in range(1,11)]:\n",
    "    print(x)"
   ]
  },
  {
   "cell_type": "code",
   "execution_count": 25,
   "metadata": {},
   "outputs": [
    {
     "name": "stdout",
     "output_type": "stream",
     "text": [
      "75\n",
      "150\n",
      "145\n"
     ]
    }
   ],
   "source": [
    "numbers = [12, 75, 150, 180, 145, 525, 50]\n",
    "\n",
    "for num in numbers:\n",
    "    if num > 500:\n",
    "        break\n",
    "    if num > 150:\n",
    "        continue\n",
    "    if num % 5 == 0:\n",
    "        print(num)"
   ]
  },
  {
   "cell_type": "code",
   "execution_count": 26,
   "metadata": {},
   "outputs": [
    {
     "name": "stdout",
     "output_type": "stream",
     "text": [
      "50\n",
      "40\n",
      "30\n",
      "20\n",
      "10\n"
     ]
    }
   ],
   "source": [
    "list1 = [10, 20, 30, 40, 50]\n",
    "\n",
    "for x in list1[::-1]:\n",
    "    print(x)"
   ]
  },
  {
   "cell_type": "code",
   "execution_count": 30,
   "metadata": {},
   "outputs": [
    {
     "name": "stdout",
     "output_type": "stream",
     "text": [
      "50\n",
      "40\n",
      "30\n",
      "20\n",
      "10\n"
     ]
    }
   ],
   "source": [
    "list1 = [10, 20, 30, 40, 50]\n",
    "\n",
    "for x in reversed(list1):\n",
    "    print(x)"
   ]
  },
  {
   "cell_type": "code",
   "execution_count": 32,
   "metadata": {},
   "outputs": [
    {
     "name": "stdout",
     "output_type": "stream",
     "text": [
      "-10\n",
      "-9\n",
      "-8\n",
      "-7\n",
      "-6\n",
      "-5\n",
      "-4\n",
      "-3\n",
      "-2\n",
      "-1\n"
     ]
    }
   ],
   "source": [
    "for i in range(-10,0):\n",
    "    print(i)"
   ]
  },
  {
   "cell_type": "code",
   "execution_count": 33,
   "metadata": {},
   "outputs": [
    {
     "name": "stdout",
     "output_type": "stream",
     "text": [
      "0\n",
      "1\n",
      "2\n",
      "3\n",
      "4\n",
      "Done!\n"
     ]
    }
   ],
   "source": [
    "for i in range(5):\n",
    "    print(i)\n",
    "else:\n",
    "    print(\"Done!\")"
   ]
  },
  {
   "cell_type": "code",
   "execution_count": null,
   "metadata": {},
   "outputs": [],
   "source": [
    "num1, num2 = 0, 1\n",
    "\n",
    "#loop 10 ganger\n",
    "for i in range(10):\n",
    "    #print neste tal i serien\n",
    "    print(num1, end=\" \")\n",
    "    #legg saman siste to verdier til neste tall\n",
    "    res = num1 + num2\n",
    "    #oppdater verdier\n",
    "    num1 = num2\n",
    "    num2 = res"
   ]
  },
  {
   "cell_type": "code",
   "execution_count": 48,
   "metadata": {},
   "outputs": [
    {
     "data": {
      "text/plain": [
       "3"
      ]
     },
     "execution_count": 48,
     "metadata": {},
     "output_type": "execute_result"
    }
   ],
   "source": [
    "a = (3,)\n",
    "\n",
    "a[0]"
   ]
  },
  {
   "cell_type": "code",
   "execution_count": 52,
   "metadata": {},
   "outputs": [
    {
     "name": "stdout",
     "output_type": "stream",
     "text": [
      "[1, 2, 3, 4, 5]\n"
     ]
    }
   ],
   "source": [
    "liste = [1,2,3,4,5]\n",
    "\n",
    "liste.remove(6) if 6 in liste else None\n",
    "print(liste)"
   ]
  },
  {
   "cell_type": "code",
   "execution_count": 60,
   "metadata": {},
   "outputs": [
    {
     "name": "stdout",
     "output_type": "stream",
     "text": [
      "{'Ten': 10, 'Twenty': 20, 'Thirty': 30, 'Fourty': 40, 'Fifty': 50}\n"
     ]
    }
   ],
   "source": [
    "dict1 = {'Ten': 10, 'Twenty': 20, 'Thirty': 30}\n",
    "dict2 = {'Thirty': 30, 'Fourty': 40, 'Fifty': 50}\n",
    "\n",
    "dict1 = {**dict1, **dict2}\n",
    "\n",
    "print(dict1)"
   ]
  },
  {
   "cell_type": "code",
   "execution_count": 66,
   "metadata": {},
   "outputs": [
    {
     "name": "stdout",
     "output_type": "stream",
     "text": [
      "{'Ten': 10, 'Twenty': 20, 'Thirty': 20, 'Fourty': 40, 'Fifty': 50}\n"
     ]
    }
   ],
   "source": [
    "dict1 = {'Ten': 10, 'Twenty': 20, 'Thirty': 30}\n",
    "dict2 = {'Thirty': 30, 'Fourty': 40, 'Fifty': 50}\n",
    "\n",
    "dict1.update(dict2)\n",
    "dict3 = dict1\n",
    "\n",
    "print(dict3)"
   ]
  },
  {
   "cell_type": "code",
   "execution_count": 68,
   "metadata": {},
   "outputs": [
    {
     "name": "stdout",
     "output_type": "stream",
     "text": [
      "1\n",
      "2\n",
      "3\n",
      "4\n",
      "5\n",
      "6\n",
      "7\n",
      "8\n",
      "9\n"
     ]
    }
   ],
   "source": [
    "s = set((1,2,3,4,5,6,7,8,9))\n",
    "for x in s:\n",
    "    print(x)"
   ]
  },
  {
   "cell_type": "markdown",
   "metadata": {},
   "source": [
    "**11.5**"
   ]
  },
  {
   "cell_type": "markdown",
   "metadata": {},
   "source": [
    "Lag en GUI for å skrive verset Tre Små Musikanter der alle vokaler er skiftet ut med en valgt vokal."
   ]
  },
  {
   "cell_type": "code",
   "execution_count": 1,
   "metadata": {},
   "outputs": [
    {
     "name": "stderr",
     "output_type": "stream",
     "text": [
      "2024-11-29 17:43:21.756 Python[46434:10892863] +[IMKClient subclass]: chose IMKClient_Modern\n",
      "2024-11-29 17:43:21.756 Python[46434:10892863] +[IMKInputSession subclass]: chose IMKInputSession_Modern\n"
     ]
    }
   ],
   "source": [
    "from tkinter import *\n",
    "\n",
    "valg = list(\"aeiouyæøå\")\n",
    "\n",
    "def sang(vokal=None):\n",
    "    sang_tekst = \"\"\n",
    "    with open('treSmåMusikanter.txt', 'r') as fil:\n",
    "        for linje in fil:\n",
    "            for v in valg:\n",
    "                if vokal:\n",
    "                    linje = linje.replace(v, vokal)\n",
    "            sang_tekst += linje\n",
    "    return sang_tekst\n",
    "\n",
    "def bytt():\n",
    "    if vokal.get() == \"n\":\n",
    "        sangtekst.set(sang())\n",
    "    else:\n",
    "        sangtekst.set(sang(vokal.get()))\n",
    "vindu = Tk()\n",
    "\n",
    "valg_panel = Frame(vindu)\n",
    "valg_panel.grid(column=0, row=0)\n",
    "\n",
    "vokal=StringVar()\n",
    "vokal.set(\"n\")\n",
    "\n",
    "sangtekst = StringVar()\n",
    "sangtekst.set(sang())\n",
    "\n",
    "normal = Radiobutton(valg_panel, text= \"normal\", value=\"n\", variable=vokal)\n",
    "normal.grid(column=0, row=0)\n",
    "\n",
    "for i in range(len(valg)):\n",
    "    Radiobutton(valg_panel, text=valg[i], value=valg[i], variable= vokal, command=bytt).grid(column=i+1, row=0)\n",
    "\n",
    "etikett = Label(vindu, textvariable=sangtekst)\n",
    "etikett.grid(column=0, row = 1)\n",
    "\n",
    "avslutt = Button(vindu, text=\"Avslutt\", command=vindu.destroy)\n",
    "avslutt.grid(column=0, row=2)\n",
    "\n",
    "vindu.mainloop()"
   ]
  },
  {
   "cell_type": "code",
   "execution_count": 1,
   "metadata": {},
   "outputs": [
    {
     "name": "stderr",
     "output_type": "stream",
     "text": [
      "2024-11-29 18:05:16.392 Python[46708:10912362] +[IMKClient subclass]: chose IMKClient_Modern\n",
      "2024-11-29 18:05:16.392 Python[46708:10912362] +[IMKInputSession subclass]: chose IMKInputSession_Modern\n"
     ]
    },
    {
     "ename": "",
     "evalue": "",
     "output_type": "error",
     "traceback": [
      "\u001b[1;31mThe Kernel crashed while executing code in the current cell or a previous cell. \n",
      "\u001b[1;31mPlease review the code in the cell(s) to identify a possible cause of the failure. \n",
      "\u001b[1;31mClick <a href='https://aka.ms/vscodeJupyterKernelCrash'>here</a> for more info. \n",
      "\u001b[1;31mView Jupyter <a href='command:jupyter.viewOutput'>log</a> for further details."
     ]
    }
   ],
   "source": [
    "from tkinter import *\n",
    "\n",
    "vokaler = list(\"aeiouyøæå\")\n",
    "\n",
    "def sang(vokal=None):\n",
    "    sangtekst = \"\"\n",
    "    with open(\"treSmåMusikanter.txt\", \"r\") as fil:\n",
    "        for linje in fil:\n",
    "            if vokal:\n",
    "                for v in vokaler:\n",
    "                    linje = linje.replace(v, vokal)\n",
    "            sangtekst += linje\n",
    "    return sangtekst\n",
    "\n",
    "def bytt():\n",
    "    if vokal.get() == \"n\":\n",
    "        tekst.set(sang())\n",
    "    else:\n",
    "        tekst.set(sang(vokal.get()))\n",
    "\n",
    "vindu = Tk()\n",
    "\n",
    "tekst = StringVar()\n",
    "tekst.set(sang())\n",
    "\n",
    "vokal = StringVar()\n",
    "vokal.set(\"n\")\n",
    "\n",
    "ramme = Frame(vindu)\n",
    "ramme.grid(column=0, row=0)\n",
    "\n",
    "normal = Radiobutton(ramme, text=\"Normal\", value=\"n\", variable=vokal, command=bytt)\n",
    "normal.grid(column=0, row=0)\n",
    "\n",
    "for i in range(len(vokaler)):\n",
    "    Radiobutton(ramme, text=vokaler[i], value=vokaler[i], variable=vokal, command=bytt).grid(column=i+1, row=0)\n",
    "\n",
    "etikett = Label(vindu, textvariable=tekst)\n",
    "etikett.grid(column=0, row=1)\n",
    "\n",
    "avslutt = Button(vindu, text=\"Avslutt\", command=vindu.destroy)\n",
    "avslutt.grid(column=0, row=2)\n",
    "\n",
    "vindu.mainloop()"
   ]
  },
  {
   "cell_type": "code",
   "execution_count": 24,
   "metadata": {},
   "outputs": [
    {
     "name": "stdout",
     "output_type": "stream",
     "text": [
      "Nei\n"
     ]
    }
   ],
   "source": [
    "x = 10\n",
    "\n",
    "if x > 9 and x > 8 and x < 5:\n",
    "    print(\"Ja\")\n",
    "else:\n",
    "    print(\"Nei\")"
   ]
  },
  {
   "cell_type": "code",
   "execution_count": 25,
   "metadata": {},
   "outputs": [
    {
     "data": {
      "text/plain": [
       "NoneType"
      ]
     },
     "execution_count": 25,
     "metadata": {},
     "output_type": "execute_result"
    }
   ],
   "source": [
    "type(None)"
   ]
  },
  {
   "cell_type": "code",
   "execution_count": 29,
   "metadata": {},
   "outputs": [
    {
     "data": {
      "text/plain": [
       "2"
      ]
     },
     "execution_count": 29,
     "metadata": {},
     "output_type": "execute_result"
    }
   ],
   "source": [
    "x = 1\n",
    "\n",
    "def f():\n",
    "    global x\n",
    "    x += 1\n",
    "    return x\n",
    "\n",
    "f()"
   ]
  },
  {
   "cell_type": "code",
   "execution_count": 30,
   "metadata": {},
   "outputs": [
    {
     "name": "stdout",
     "output_type": "stream",
     "text": [
      "1 2\n",
      "1 22\n",
      "3 222 1\n",
      "4 2\n",
      "11 22\n",
      "3 222 4\n"
     ]
    }
   ],
   "source": [
    "class A:\n",
    "    en=1\n",
    "    to=None\n",
    "    def __init__(self,to): self.to=to\n",
    "    def skriv(self): print(self.en, self.to)\n",
    "\n",
    "class B(A):\n",
    "    tre=3\n",
    "    def __init__(self):self.to=222\n",
    "    def skriv(self):print(self.tre, self.to, self.en)\n",
    "    \n",
    "a1=A(2)\n",
    "a2=A(22)\n",
    "b1=B()\n",
    "b1.tre=3\n",
    "L=[a1,a2,b1]\n",
    "for o in L: o.skriv()\n",
    "a2.en=11\n",
    "A.en=4\n",
    "L=[a1,a2,b1]\n",
    "for o in L: o.skriv()"
   ]
  },
  {
   "cell_type": "code",
   "execution_count": 32,
   "metadata": {},
   "outputs": [
    {
     "name": "stdout",
     "output_type": "stream",
     "text": [
      "3\n",
      "4\n"
     ]
    }
   ],
   "source": [
    "x = 1\n",
    "\n",
    "def test():\n",
    "    global x\n",
    "    x += 1\n",
    "    return x\n",
    "\n",
    "test()\n",
    "x +=1\n",
    "\n",
    "def test2():\n",
    "    print(x)\n",
    "    x += 1\n",
    "\n",
    "test2()\n",
    "\n",
    "print(x)"
   ]
  },
  {
   "cell_type": "code",
   "execution_count": 33,
   "metadata": {},
   "outputs": [
    {
     "ename": "NameError",
     "evalue": "name 'temaer' is not defined",
     "output_type": "error",
     "traceback": [
      "\u001b[0;31m---------------------------------------------------------------------------\u001b[0m",
      "\u001b[0;31mNameError\u001b[0m                                 Traceback (most recent call last)",
      "Cell \u001b[0;32mIn[33], line 3\u001b[0m\n\u001b[1;32m      1\u001b[0m fortegnelse_temaer \u001b[38;5;241m=\u001b[39m {}\n\u001b[0;32m----> 3\u001b[0m \u001b[38;5;28;01mfor\u001b[39;00m \u001b[38;5;28mid\u001b[39m, tema_liste \u001b[38;5;129;01min\u001b[39;00m \u001b[43mtemaer\u001b[49m\u001b[38;5;241m.\u001b[39mitems():\n\u001b[1;32m      4\u001b[0m     \u001b[38;5;28;01mfor\u001b[39;00m tema \u001b[38;5;129;01min\u001b[39;00m tema_liste:\n\u001b[1;32m      5\u001b[0m         \u001b[38;5;28;01mif\u001b[39;00m tema \u001b[38;5;129;01mnot\u001b[39;00m \u001b[38;5;129;01min\u001b[39;00m fortegnelse_temaer:\n",
      "\u001b[0;31mNameError\u001b[0m: name 'temaer' is not defined"
     ]
    }
   ],
   "source": [
    "fortegnelse_temaer = {}\n",
    "\n",
    "for id, tema_liste in temaer.items():\n",
    "    for tema in tema_liste:\n",
    "        if tema not in fortegnelse_temaer:\n",
    "            fortegnelse_temaer[tema] = {}\n",
    "        if bøker[id]['utgitt'] not in fortegnelse_temaer[tema]:\n",
    "            fortegnelse_temaer[tema][bøker[id]['utgitt']] = 0 #kan ikkje være liste\n",
    "        fortegnelse_temaer[tema][bøker[id]['utgitt']] += 1\n",
    "\n",
    "sorterte_temaer = dict(sorted(fortegnelse_temaer.items()))\n",
    "for tema, årstall_dict in sorterte_temaer.items():\n",
    "    for årstall in årstall_dict:\n",
    "        print(f\"{tema}, {årstall}: {årstall_dict[årstall]}\")"
   ]
  },
  {
   "cell_type": "code",
   "execution_count": 42,
   "metadata": {},
   "outputs": [
    {
     "name": "stdout",
     "output_type": "stream",
     "text": [
      "ba123 år1 1\n",
      "bbsefdefdawda år2 2\n"
     ]
    }
   ],
   "source": [
    "fortegnelse = {(\"ba123\", \"år1\"):1, (\"bbsefdefdawda\", \"år2\"):2}\n",
    "\n",
    "for x,y in fortegnelse:\n",
    "    #print(x,y, fortegnelse[(x,y)])\n",
    "    pass\n",
    "\n",
    "liste = []\n",
    "\n",
    "for x in fortegnelse:\n",
    "    liste.append(x)\n",
    "\n",
    "liste = sorted(liste)\n",
    "\n",
    "for x,y in liste:\n",
    "    print(x,y, fortegnelse[(x,y)])\n"
   ]
  },
  {
   "cell_type": "code",
   "execution_count": 3,
   "metadata": {},
   "outputs": [
    {
     "data": {
      "text/plain": [
       "'T E St '"
      ]
     },
     "execution_count": 3,
     "metadata": {},
     "output_type": "execute_result"
    }
   ],
   "source": [
    "\"t e st \".capitalize()\n",
    "\"t e st \".title()"
   ]
  },
  {
   "cell_type": "markdown",
   "metadata": {},
   "source": [
    "**11.9**"
   ]
  },
  {
   "cell_type": "markdown",
   "metadata": {},
   "source": [
    "En DNA-sekvens er en streng med forekomster av bokstavene A, T, C og G. Lag en GUI der brukeren\n",
    "skriver inn en DNA-sekvens og når hen trykker på en knapp merket 'Tell' skal antallet forekomster av\n",
    "hver bokstav vises i vinduet."
   ]
  },
  {
   "cell_type": "code",
   "execution_count": null,
   "metadata": {},
   "outputs": [
    {
     "name": "stderr",
     "output_type": "stream",
     "text": [
      "2024-12-01 09:49:53.286 Python[2224:58359] +[IMKClient subclass]: chose IMKClient_Modern\n",
      "2024-12-01 09:49:53.286 Python[2224:58359] +[IMKInputSession subclass]: chose IMKInputSession_Modern\n"
     ]
    },
    {
     "ename": "",
     "evalue": "",
     "output_type": "error",
     "traceback": [
      "\u001b[1;31mThe Kernel crashed while executing code in the current cell or a previous cell. \n",
      "\u001b[1;31mPlease review the code in the cell(s) to identify a possible cause of the failure. \n",
      "\u001b[1;31mClick <a href='https://aka.ms/vscodeJupyterKernelCrash'>here</a> for more info. \n",
      "\u001b[1;31mView Jupyter <a href='command:jupyter.viewOutput'>log</a> for further details."
     ]
    }
   ],
   "source": [
    "from tkinter import *\n",
    "\n",
    "def tell():\n",
    "    innhold = tekst.get().strip()\n",
    "    unike_tegn = list(set(innhold))\n",
    "    data = \"\"\n",
    "\n",
    "    for tegn in sorted(unike_tegn):\n",
    "        antall = innhold.count(tegn)\n",
    "        data += f\"{tegn}:{antall} \"\n",
    "    \n",
    "    label.config(text=data)\n",
    "\n",
    "Main = Tk()\n",
    "\n",
    "tekst = StringVar()\n",
    "\n",
    "entry = Entry(Main, textvariable=tekst, width = 15)\n",
    "entry.grid(column=0, row=0)\n",
    "\n",
    "button = Button(Main, text=\"Tell\", command=tell)\n",
    "button.grid(column=0, row=1)\n",
    "\n",
    "label = Label(Main)\n",
    "label.grid(column=0, row=2)\n",
    "\n",
    "Main.mainloop()"
   ]
  },
  {
   "cell_type": "markdown",
   "metadata": {},
   "source": [
    "**12.1**"
   ]
  },
  {
   "cell_type": "markdown",
   "metadata": {},
   "source": [
    "Filen representanter.json (vedlagt) inneholder opplysninger om stortingsrepresentanter\n",
    "(2021), komiteer på stortinget og hvilke representanter som er medlemmer i komiteen"
   ]
  },
  {
   "cell_type": "code",
   "execution_count": 8,
   "metadata": {},
   "outputs": [
    {
     "name": "stdout",
     "output_type": "stream",
     "text": [
      "Cecilie Myrseth (Arbeiderpartiet)\n",
      "Kent Gudmundsen (Høyre)\n",
      "Per-Willy Amundsen (Fremskrittspartiet)\n",
      "Sandra Borch (Senterpartiet)\n",
      "Martin Henriksen (Arbeiderpartiet)\n",
      "Torgeir Knag Fylkesnes (Sosialistisk Venstreparti)\n"
     ]
    }
   ],
   "source": [
    "import json\n",
    "\n",
    "def representanter(fylke):\n",
    "    with open(\"representanter.json\", 'r') as fil:\n",
    "        fil = json.load(fil)\n",
    "        for representant_data in fil[\"representanter\"].values():\n",
    "            if representant_data[\"fylke\"] == fylke:\n",
    "                print(f\"{representant_data[\"fornavn\"]} {representant_data[\"etternavn\"]} ({representant_data[\"parti\"]})\")\n",
    "\n",
    "representanter(\"Troms\")"
   ]
  },
  {
   "cell_type": "code",
   "execution_count": 1,
   "metadata": {},
   "outputs": [
    {
     "data": {
      "text/plain": [
       "False"
      ]
     },
     "execution_count": 1,
     "metadata": {},
     "output_type": "execute_result"
    }
   ],
   "source": [
    "[2,3,4] in [1,2,3,4,5] "
   ]
  },
  {
   "cell_type": "code",
   "execution_count": 2,
   "metadata": {},
   "outputs": [
    {
     "data": {
      "text/plain": [
       "True"
      ]
     },
     "execution_count": 2,
     "metadata": {},
     "output_type": "execute_result"
    }
   ],
   "source": [
    "[0][0] == 0 "
   ]
  },
  {
   "cell_type": "code",
   "execution_count": 4,
   "metadata": {},
   "outputs": [
    {
     "data": {
      "text/plain": [
       "False"
      ]
     },
     "execution_count": 4,
     "metadata": {},
     "output_type": "execute_result"
    }
   ],
   "source": [
    "len(range(1,10)) == 10 "
   ]
  },
  {
   "cell_type": "code",
   "execution_count": 5,
   "metadata": {},
   "outputs": [
    {
     "data": {
      "text/plain": [
       "False"
      ]
     },
     "execution_count": 5,
     "metadata": {},
     "output_type": "execute_result"
    }
   ],
   "source": [
    "[1,2,3]*2 == [2,4,6] "
   ]
  },
  {
   "cell_type": "code",
   "execution_count": 6,
   "metadata": {},
   "outputs": [
    {
     "name": "stdout",
     "output_type": "stream",
     "text": [
      "jubajubajubajuba\n"
     ]
    }
   ],
   "source": [
    "juba='juba'*2\n",
    "print(juba+juba)\n"
   ]
  },
  {
   "cell_type": "code",
   "execution_count": 7,
   "metadata": {},
   "outputs": [
    {
     "name": "stdout",
     "output_type": "stream",
     "text": [
      "jubajubajuba\n"
     ]
    }
   ],
   "source": [
    "juba='juba juba'.split()\n",
    "print('juba'.join(juba))\n"
   ]
  },
  {
   "cell_type": "code",
   "execution_count": 8,
   "metadata": {},
   "outputs": [
    {
     "name": "stdout",
     "output_type": "stream",
     "text": [
      "breiflabb\n"
     ]
    }
   ],
   "source": [
    "juba={'juba':'jubajuba', 'jubajuba':'breiflabb', 'breiflabb':'overalt'}\n",
    "print(juba['jubajuba'])\n"
   ]
  },
  {
   "cell_type": "code",
   "execution_count": 9,
   "metadata": {},
   "outputs": [
    {
     "name": "stdout",
     "output_type": "stream",
     "text": [
      "B C B A "
     ]
    }
   ],
   "source": [
    "karakterer={'Erik':'C','Ida':'B','Anne':'B','Ola':'A'}\n",
    "for (x,y) in sorted(karakterer.items()): print(y, end=' ')\n"
   ]
  },
  {
   "cell_type": "code",
   "execution_count": 11,
   "metadata": {},
   "outputs": [
    {
     "name": "stdout",
     "output_type": "stream",
     "text": [
      "False\n"
     ]
    }
   ],
   "source": [
    "slår={'stein':'saks','saks':'papir','papir':'stein'}\n",
    "Ola=['saks','stein','saks','papir','stein','stein']\n",
    "Liv=['stein','saks','papir','papir','stein','saks']\n",
    "print(slår[Ola[3]]==Liv[3])\n"
   ]
  },
  {
   "cell_type": "code",
   "execution_count": 13,
   "metadata": {},
   "outputs": [
    {
     "name": "stdout",
     "output_type": "stream",
     "text": [
      "125"
     ]
    }
   ],
   "source": [
    "slår={'stein':'saks','saks':'papir','papir':'stein'}\n",
    "Ola=['saks','stein','saks','papir','stein','stein']\n",
    "Liv=['stein','saks','papir','papir','stein','saks']\n",
    "i=0\n",
    "for o in Ola:\n",
    "    if slår[o]== Liv[i]: print(i, end='')\n",
    "    i=i+1\n"
   ]
  },
  {
   "cell_type": "code",
   "execution_count": 15,
   "metadata": {},
   "outputs": [
    {
     "name": "stdout",
     "output_type": "stream",
     "text": [
      "2+11+22+1111+"
     ]
    }
   ],
   "source": [
    "def f(x):\n",
    "    y=x+x\n",
    "    return y\n",
    "x=[1,'1',11,'11']\n",
    "for y in x: print(f(y), end='+')\n"
   ]
  },
  {
   "cell_type": "code",
   "execution_count": 16,
   "metadata": {},
   "outputs": [
    {
     "name": "stdout",
     "output_type": "stream",
     "text": [
      "cb+"
     ]
    }
   ],
   "source": [
    "for x in 'abc':\n",
    "    for y in 'dcb':\n",
    "        if x>y:print(x+y,end='+')\n"
   ]
  },
  {
   "cell_type": "code",
   "execution_count": 17,
   "metadata": {},
   "outputs": [
    {
     "name": "stdout",
     "output_type": "stream",
     "text": [
      "{1, 2, 3, 4, 5, 6, 7} {4, 5} {1, 2, 3}\n"
     ]
    }
   ],
   "source": [
    "A={1,2,3,4,5}\n",
    "B={4,5,6,7}\n",
    "print(A|B, A&B, A-B)\n"
   ]
  },
  {
   "cell_type": "code",
   "execution_count": 7,
   "metadata": {},
   "outputs": [
    {
     "name": "stdout",
     "output_type": "stream",
     "text": [
      "{6, 7}\n"
     ]
    }
   ],
   "source": [
    "A={1,2,3,4,5}\n",
    "B={4,5,6,7}\n",
    "print( (B&(A-B)) | (B-(A&B)) )\n"
   ]
  },
  {
   "cell_type": "code",
   "execution_count": 5,
   "metadata": {},
   "outputs": [
    {
     "data": {
      "text/plain": [
       "'brød'"
      ]
     },
     "execution_count": 5,
     "metadata": {},
     "output_type": "execute_result"
    }
   ],
   "source": [
    "def siste(liste):\n",
    "    return liste[-1] #-1 vil være det siste elementet i listen\n",
    "\n",
    "siste(['kaffe','sukker','ost','brød'])"
   ]
  },
  {
   "cell_type": "code",
   "execution_count": 6,
   "metadata": {},
   "outputs": [
    {
     "data": {
      "text/plain": [
       "['a', 'i', 'e', 'm']"
      ]
     },
     "execution_count": 6,
     "metadata": {},
     "output_type": "execute_result"
    }
   ],
   "source": [
    "def felles(ord1, ord2):\n",
    "#bruker mengdebygger til å lage en mengde av\n",
    "#bokstavene som fremgår i begge og unngå duplikater.\n",
    "    felles_bokstaver = {bokstav for bokstav in ord1 if bokstav in ord2}\n",
    "    return list(felles_bokstaver) #omgjør til liste\n",
    "\n",
    "\n",
    "felles('programmering', 'matematikk')"
   ]
  },
  {
   "cell_type": "code",
   "execution_count": 22,
   "metadata": {},
   "outputs": [
    {
     "name": "stdout",
     "output_type": "stream",
     "text": [
      "Venstre (V) valgår:[]\n",
      "Venstre (V) valgår:[2013, 2017]\n"
     ]
    }
   ],
   "source": [
    "class Parti:\n",
    "    def __init__(self, parti_kode, parti_navn):\n",
    "        self.parti_kode = parti_kode.upper() #sikrer at parti_koden er i store bokstaver\n",
    "        self.parti_navn = parti_navn.capitalize() #sikrer at første bokstav erstor og resten små\n",
    "        self.valgår = []\n",
    "    \n",
    "    def leggTilÅr(self, årstall):\n",
    "        if årstall not in self.valgår: #sjekker om valgår allerede er registert\n",
    "            self.valgår.append(årstall)\n",
    "\n",
    "    def skriv(self):\n",
    "        print(f'{self.parti_navn} ({self.parti_kode}) valgår:{self.valgår}')\n",
    "        \n",
    "venstre=Parti('V','Venstre')\n",
    "venstre.skriv()\n",
    "venstre.leggTilÅr(2013)\n",
    "venstre.leggTilÅr(2017)\n",
    "venstre.skriv()"
   ]
  },
  {
   "cell_type": "code",
   "execution_count": 3,
   "metadata": {},
   "outputs": [
    {
     "name": "stdout",
     "output_type": "stream",
     "text": [
      "Venstre (V) valgår:[]\n",
      "Venstre (V) valgår:[2013, 2017]\n"
     ]
    },
    {
     "data": {
      "text/plain": [
       "'{\"partikode\": \"V\", \"partinavn\": \"Venstre\", \"valg\\\\u00e5r\": [2013, 2017]}'"
      ]
     },
     "execution_count": 3,
     "metadata": {},
     "output_type": "execute_result"
    }
   ],
   "source": [
    "import json\n",
    "\n",
    "class Parti:\n",
    "    def __init__(self, parti_kode, parti_navn):\n",
    "        self.parti_kode = parti_kode.upper() #sikrer at parti_koden er i store bokstaver\n",
    "        self.parti_navn = parti_navn.capitalize() #sikrer at første bokstav erstor og resten små\n",
    "        self.valgår = []\n",
    "    \n",
    "    def leggTilÅr(self, årstall):\n",
    "        if årstall not in self.valgår: #sjekker om valgår allerede er registert\n",
    "            self.valgår.append(årstall)\n",
    "\n",
    "    def skriv(self):\n",
    "        print(f'{self.parti_navn} ({self.parti_kode}) valgår:{self.valgår}')\n",
    "    \n",
    "    def json(self):\n",
    "        fortegnelse = {'partikode': self.parti_kode, 'partinavn':self.parti_navn, 'valgår': self.valgår}\n",
    "        data = json.dumps(fortegnelse)\n",
    "        return json.loads(fortegnelse)\n",
    "\n",
    "venstre=Parti('V','Venstre')\n",
    "venstre.skriv()\n",
    "venstre.leggTilÅr(2013)\n",
    "venstre.leggTilÅr(2017)\n",
    "venstre.skriv()\n",
    "venstre.json()\n"
   ]
  },
  {
   "cell_type": "code",
   "execution_count": 27,
   "metadata": {},
   "outputs": [
    {
     "data": {
      "text/plain": [
       "'DATA3'"
      ]
     },
     "execution_count": 27,
     "metadata": {},
     "output_type": "execute_result"
    }
   ],
   "source": [
    "def emnekode(søk_tittel):\n",
    "    for (emne_kode, studiepoeng, emnetittel, forkunnskaper) in emner:\n",
    "        if søk_tittel == emnetittel:\n",
    "            return emne_kode\n",
    "    return 'ukjent emne'\n",
    "\n",
    "emner = [('INFO132', 10, 'Innføring i programmering', []), ('DATA3', 5, 'Algoritmer og datastrukturer', ['INFO132'])]\n",
    "emnekode('Algoritmer og datastrukturer')\n"
   ]
  },
  {
   "cell_type": "code",
   "execution_count": null,
   "metadata": {},
   "outputs": [],
   "source": [
    "eksamener = {\n",
    "    'Liv': {('DATA1', 'B'), ('KI1', 'C'), ('MAT1', 'C'), ('DATA3', 'C'), ('MAT5', 'B')},\n",
    "    'Per': {('MAT1', 'C'), ('ØKO1', 'A'), ('KI1', 'A'), ('MAT4', 'C'), ('MAT2', 'B')},\n",
    "    'Gro': {('ØKO1', 'B'), ('MAT1', 'A'), ('ØKO2', 'A'), ('MAT2', 'A'), ('MAT4', 'A')},\n",
    "    'Jan': {('DATA1', 'B'), ('MAT1', 'B'), ('MAT5', 'D'), ('DATA3', 'A'), ('KI1', 'B')},\n",
    "    'Ida': {('MAT5', 'C'), ('MAT1', 'A'), ('DATA1', 'D'), ('KI1', 'B'), ('MAT10', 'B')},\n",
    "    'Dag': {('DATA2', 'A'), ('MAT1', 'B'), ('DATA3', 'C'), ('MAT5', 'A'), ('KI1', 'D')},\n",
    "    'Ine': {('ØKO1', 'C'), ('KI1', 'C'), ('DATA1', 'A'), ('MAT1', 'D')},\n",
    "    'Jonas': {('KI1', 'C')}\n",
    "}\n",
    "emner = [('INFO132', 10, 'Innføring i programmering', []), ('DATA3', 5, 'Algoritmer og datastrukturer', ['INFO132'])]\n",
    "\n",
    "\n"
   ]
  },
  {
   "cell_type": "code",
   "execution_count": 30,
   "metadata": {},
   "outputs": [
    {
     "name": "stdout",
     "output_type": "stream",
     "text": [
      "{'Liv': {('MAT5', 'B'), ('DATA1', 'B'), ('MAT1', 'C'), ('KI1', 'C'), ('DATA3', 'C')}, 'Per': {('ØKO1', 'A'), ('MAT2', 'B'), ('MAT1', 'C'), ('KI1', 'A'), ('MAT4', 'C')}, 'Gro': {('ØKO1', 'B'), ('ØKO2', 'A'), ('MAT2', 'A'), ('MAT4', 'A'), ('MAT1', 'A')}, 'Jan': {('KI1', 'B'), ('DATA3', 'A'), ('MAT1', 'B'), ('DATA1', 'B'), ('MAT5', 'D')}, 'Ida': {('MAT10', 'B'), ('KI1', 'B'), ('MAT1', 'A'), ('DATA1', 'D'), ('MAT5', 'C')}, 'Dag': {('MAT1', 'B'), ('KI1', 'D'), ('DATA2', 'A'), ('MAT5', 'A'), ('DATA3', 'C')}, 'Ine': {('ØKO1', 'C'), ('MAT1', 'D'), ('KI1', 'C'), ('DATA1', 'A')}, 'Jonas': {('KI1', 'C')}}\n"
     ]
    }
   ],
   "source": [
    "eksamener = {\n",
    "    'Liv': {('DATA1', 'B'), ('KI1', 'C'), ('MAT1', 'C'), ('DATA3', 'C'), ('MAT5', 'B')},\n",
    "    'Per': {('MAT1', 'C'), ('ØKO1', 'A'), ('KI1', 'A'), ('MAT4', 'C'), ('MAT2', 'B')},\n",
    "    'Gro': {('ØKO1', 'B'), ('MAT1', 'A'), ('ØKO2', 'A'), ('MAT2', 'A'), ('MAT4', 'A')},\n",
    "    'Jan': {('DATA1', 'B'), ('MAT1', 'B'), ('MAT5', 'D'), ('DATA3', 'A'), ('KI1', 'B')},\n",
    "    'Ida': {('MAT5', 'C'), ('MAT1', 'A'), ('DATA1', 'D'), ('KI1', 'B'), ('MAT10', 'B')},\n",
    "    'Dag': {('DATA2', 'A'), ('MAT1', 'B'), ('DATA3', 'C'), ('MAT5', 'A'), ('KI1', 'D')},\n",
    "    'Ine': {('ØKO1', 'C'), ('KI1', 'C'), ('DATA1', 'A'), ('MAT1', 'D')},\n",
    "    'Jonas': {('KI1', 'C')}\n",
    "}\n",
    "emner = [('INFO132', 10, 'Innføring i programmering', []), ('DATA3', 5, 'Algoritmer og datastrukturer', ['INFO132'])]\n",
    "\n",
    "\n",
    "def nyEksamen(person, emne, karakter):\n",
    "    #legger til evt. ny person i eksamener-fortegnelsen\n",
    "    if person not in eksamener:\n",
    "        eksamener[person] = set((emne, karakter))\n",
    "        return None #retunerer None siden det er unødvendige at resten av funksjonen utføres.\n",
    "   \n",
    "   #fjerner evt. gammel karakter, discard for å unngå havari\n",
    "    eksamener[person].discard((emne, karakter))\n",
    "    eksamener[person].add((emne, karakter)) #legger til ny karakter\n",
    "\n",
    "nyEksamen('Per','MAT2','B') \n",
    "nyEksamen('Gro', 'MAT1', 'A') \n",
    "nyEksamen('Jonas', 'KI1', 'C')\n",
    "        \n",
    "print(eksamener)\n"
   ]
  },
  {
   "cell_type": "code",
   "execution_count": 8,
   "metadata": {},
   "outputs": [
    {
     "data": {
      "text/plain": [
       "'B'"
      ]
     },
     "execution_count": 8,
     "metadata": {},
     "output_type": "execute_result"
    }
   ],
   "source": [
    "#bruker emnekode-funksjonen fra oppg.3a, men fjerner siste programsetning\n",
    "#for at funksjonen skal retunere 'None' om emnekode ikke finnes.\n",
    "def emnekode(søk_tittel):\n",
    "    for (emne_kode, studiepoeng, emnetittel, forkunnskaper) in emner:\n",
    "        if søk_tittel == emnetittel:\n",
    "            return emne_kode\n",
    "        \n",
    "def karakterer(person, emnetittel):\n",
    "    #retunerer melding dersom emnekode ikke finnes.\n",
    "    emne_kode = emnekode(emnetittel)\n",
    "    for (emne, karakter) in eksamener[person]:\n",
    "        if emne == emne_kode:\n",
    "            return karakter\n",
    "    return f'{person} har ikke tatt {emnetittel}'\n",
    "\n",
    "eksamener = {\n",
    "    'Liv': {('DATA1', 'B'), ('KI1', 'C'), ('MAT1', 'C'), ('DATA3', 'C'), ('MAT5', 'B')},\n",
    "    'Per': {('MAT1', 'C'), ('ØKO1', 'A'), ('KI1', 'A'), ('MAT4', 'C'), ('MAT2', 'B')},\n",
    "    'Gro': {('ØKO1', 'B'), ('MAT1', 'A'), ('ØKO2', 'A'), ('MAT2', 'A'), ('MAT4', 'A')},\n",
    "    'Jan': {('DATA1', 'B'), ('MAT1', 'B'), ('MAT5', 'D'), ('DATA3', 'A'), ('KI1', 'B')},\n",
    "    'Ida': {('MAT5', 'C'), ('MAT1', 'A'), ('DATA1', 'D'), ('KI1', 'B'), ('MAT10', 'B')},\n",
    "    'Dag': {('DATA2', 'A'), ('MAT1', 'B'), ('DATA3', 'C'), ('MAT5', 'A'), ('KI1', 'D')},\n",
    "    'Ine': {('ØKO1', 'C'), ('KI1', 'C'), ('DATA1', 'A'), ('MAT1', 'D')},\n",
    "    'Jonas': {('KI1', 'C')}\n",
    "}\n",
    "emner = [('DATA1', 10, 'Innføring i programmering', []), ('DATA3', 5, 'Algoritmer og datastrukturer', ['INFO132'])]\n",
    "\n",
    "karakterer('Liv','Innføring i programmering')"
   ]
  },
  {
   "cell_type": "markdown",
   "metadata": {},
   "source": [
    "1a) forklaring konkatenering -> lister med multiplikasjon er ikke konkatinering\n",
    "1c) 3 feil: [2,3,4] in [1,2,3,4,5], er json-filer er tekst-filer, 'requests er en modul for serialisering av objekter'\n",
    "2d) blant annet feil med dumps og loads\n",
    "3c) feil med return i betinget utførelse"
   ]
  },
  {
   "cell_type": "markdown",
   "metadata": {},
   "source": [
    "Oppgave 1\n",
    "a)  \n",
    "    1.  ?/1.5  upresist i setninger: ...bruke konkatenering til å plusse (+) eller gange(*) blant annet lister.\n",
    "    2.  1.5/1.5     \n",
    "    3.  1.5/1.5  \n",
    "    4.  1.5/1.5   \n",
    "\n",
    "b)\n",
    "    4/4\n",
    "\n",
    "c) \n",
    "    1/1\n",
    "    1/1\n",
    "    0/1 feil i spørsmål:[2,3,4] in [1,2,3,4,5]\n",
    "    0/1 feil i spørsmål er json-filer er tekst-filer\n",
    "    1/1\n",
    "    0/1 feil i spørsmål: 'requests er en modul for serialisering av objekter'\n",
    "    1/1\n",
    "    1/1\n",
    "    1/1\n",
    "\n",
    "d)\n",
    "    1/1\n",
    "    1/1\n",
    "    1/1\n",
    "    1/1\n",
    "    1/1\n",
    "    1/1\n",
    "    1/1\n",
    "    1/1\n",
    "    1/1\n",
    "    1/1\n",
    "\n",
    "e)\n",
    "    ?/10 mulig feil: (mengde -> set), (fil->open), (.get->stream), (.remove->.pop), (JSON->.dump), (while->continue), (klasse->.__init__), (GUI->.mainloop), (API->endepunkt), (fortegnelse->.items)\n",
    "\n",
    "\n",
    "Oppgave 2\n",
    "a)\n",
    "    6/6 \n",
    "\n",
    "b)\n",
    "    10/10\n",
    "\n",
    "c)\n",
    "    10/10\n",
    "\n",
    "d)\n",
    "    ?/10 feil med dump og load i json metoden.\n",
    "\n",
    "Oppgave 3\n",
    "a)\n",
    "    6/6\n",
    "\n",
    "b)\n",
    "    10/10\n",
    "\n",
    "c)\n",
    "    ?/10 feil i programsetning: emne_kode = emnekode(emnetittel) if emnekode(emnetittel) else return 'Emnetittel ikke funnet'\n",
    "\n",
    "d)\n",
    "    12/12\n"
   ]
  },
  {
   "cell_type": "code",
   "execution_count": null,
   "metadata": {},
   "outputs": [],
   "source": [
    "er det ein feil i koden her? \n",
    "Beskrivelse F:  f(x) returnerer den fullstendige listen av forkunnskaper man må ha for å ta emnet x.  \n",
    "(Merk at forkunnskapene som er registrert i emner-listen kan selv ha forkunnskaper som også skal med i resultatet her)\n",
    "\n",
    "Eksempel\n",
    ">>>f('ØKO2')\n",
    "['MAT4', 'MAT2', 'MAT1', 'ØKO1'] \n",
    "def f2(a):\n",
    "    for (b,c,d,e) in emner:\n",
    "        if b==a:\n",
    "            h=set(e)\n",
    "            break\n",
    "    i=set(e)\n",
    "    while i != set():\n",
    "         j=i.pop()\n",
    "         for (k,l,m,n) in emner:\n",
    "            if k==j:\n",
    "                i.update(set(n))\n",
    "                h.add(j)\n",
    "    return list(h)"
   ]
  }
 ],
 "metadata": {
  "kernelspec": {
   "display_name": "Python 3",
   "language": "python",
   "name": "python3"
  },
  "language_info": {
   "codemirror_mode": {
    "name": "ipython",
    "version": 3
   },
   "file_extension": ".py",
   "mimetype": "text/x-python",
   "name": "python",
   "nbconvert_exporter": "python",
   "pygments_lexer": "ipython3",
   "version": "3.13.3"
  }
 },
 "nbformat": 4,
 "nbformat_minor": 2
}
